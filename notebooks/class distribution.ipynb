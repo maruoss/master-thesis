{
 "cells": [
  {
   "cell_type": "code",
   "execution_count": 2,
   "id": "ae56dcb3",
   "metadata": {},
   "outputs": [],
   "source": [
    "import pandas as pd\n",
    "import numpy as np\n",
    "from pathlib import Path\n",
    "import matplotlib.pyplot as plt\n",
    "import seaborn as sns"
   ]
  },
  {
   "cell_type": "code",
   "execution_count": 5,
   "id": "a754cf15",
   "metadata": {},
   "outputs": [],
   "source": [
    "# Multiclass y label generator.\n",
    "def multi_categorize(y: float, classes: int):\n",
    "    \"\"\"\n",
    "    Creates categorical labels from continuous values.\n",
    "\n",
    "        Args:\n",
    "            y (float):      continuous target variable (option return)\n",
    "            classes (int):  number of classes to create\n",
    "        Returns:\n",
    "            (int):          class assignment\n",
    "        CAREFUL: classes have to be between [0, C) for F.crossentropyloss.\n",
    "    \"\"\"\n",
    "    if classes == 3:\n",
    "        # thresholds: +/- 5%\n",
    "        if y > 0.05:\n",
    "            return 2\n",
    "        elif y < -0.05:\n",
    "            return 0\n",
    "        else:\n",
    "            return 1\n",
    "    elif classes == 5:\n",
    "        # thresholds: +/- 2.5% and +/- 5%\n",
    "        if y > 0.05:\n",
    "            return 4\n",
    "        elif (y > 0.025 and y <= 0.05):\n",
    "            return 3\n",
    "        elif (y >= -0.05 and y < -0.025):\n",
    "            return 1\n",
    "        elif (y < -0.05):\n",
    "            return 0\n",
    "        else:\n",
    "            return 2 # all returns \\elin [-0.025, 0.025]\n",
    "    else:\n",
    "        raise ValueError(\"Only multi for 3 or 5 classes implemented right now.\")"
   ]
  },
  {
   "cell_type": "code",
   "execution_count": 7,
   "id": "9eacbcc9",
   "metadata": {},
   "outputs": [],
   "source": [
    "data = pd.read_parquet(Path(r\"C:\\Users\\Mathiass\\Documents\\Projects\\master-thesis\\data\")/\"sp500_op_ret.parquet\")"
   ]
  },
  {
   "cell_type": "markdown",
   "id": "32f581c8",
   "metadata": {},
   "source": [
    "### WHOLE DATASET"
   ]
  },
  {
   "cell_type": "code",
   "execution_count": 12,
   "id": "f7d2c019",
   "metadata": {},
   "outputs": [],
   "source": [
    "y = data[\"option_ret\"].apply(multi_categorize, classes=5)"
   ]
  },
  {
   "cell_type": "code",
   "execution_count": 17,
   "id": "439d4bab",
   "metadata": {},
   "outputs": [
    {
     "data": {
      "text/plain": [
       "<AxesSubplot:ylabel='Frequency'>"
      ]
     },
     "execution_count": 17,
     "metadata": {},
     "output_type": "execute_result"
    },
    {
     "data": {
      "image/png": "[encoded data removed]",
      "text/plain": [
       "<Figure size 432x288 with 1 Axes>"
      ]
     },
     "metadata": {
      "needs_background": "light"
     },
     "output_type": "display_data"
    }
   ],
   "source": [
    "y.plot(kind=\"hist\")"
   ]
  },
  {
   "cell_type": "code",
   "execution_count": 21,
   "id": "8133060b",
   "metadata": {},
   "outputs": [
    {
     "data": {
      "text/plain": [
       "2    46.070807\n",
       "0    19.543483\n",
       "1    14.512208\n",
       "4    13.392154\n",
       "3     6.481349\n",
       "Name: option_ret, dtype: float64"
      ]
     },
     "execution_count": 21,
     "metadata": {},
     "output_type": "execute_result"
    }
   ],
   "source": [
    "y.value_counts() / len(y) * 100"
   ]
  },
  {
   "cell_type": "markdown",
   "id": "18430e17",
   "metadata": {},
   "source": [
    "### ONLY TEST DATASET"
   ]
  },
  {
   "cell_type": "code",
   "execution_count": 28,
   "id": "153f5a8e",
   "metadata": {},
   "outputs": [],
   "source": [
    "y_testperiod = data[data[\"date\"]>\"2008\"][\"option_ret\"].apply(multi_categorize, classes=5)"
   ]
  },
  {
   "cell_type": "code",
   "execution_count": 29,
   "id": "ba4b1d58",
   "metadata": {},
   "outputs": [
    {
     "data": {
      "text/plain": [
       "<AxesSubplot:ylabel='Frequency'>"
      ]
     },
     "execution_count": 29,
     "metadata": {},
     "output_type": "execute_result"
    },
    {
     "data": {
      "image/png": "[encoded data removed]",
      "text/plain": [
       "<Figure size 432x288 with 1 Axes>"
      ]
     },
     "metadata": {
      "needs_background": "light"
     },
     "output_type": "display_data"
    }
   ],
   "source": [
    "y_testperiod.plot(kind=\"hist\")"
   ]
  },
  {
   "cell_type": "code",
   "execution_count": 32,
   "id": "14863c2f",
   "metadata": {},
   "outputs": [
    {
     "data": {
      "text/plain": [
       "2    48.482231\n",
       "0    17.440872\n",
       "1    15.063467\n",
       "4    12.215017\n",
       "3     6.798413\n",
       "Name: option_ret, dtype: float64"
      ]
     },
     "execution_count": 32,
     "metadata": {},
     "output_type": "execute_result"
    }
   ],
   "source": [
    "y_testperiod.value_counts() / len(y_testperiod) * 100"
   ]
  },
  {
   "cell_type": "code",
   "execution_count": null,
   "id": "0615508d",
   "metadata": {},
   "outputs": [],
   "source": []
  }
 ],
 "metadata": {
  "kernelspec": {
   "display_name": "Python 3 (ipykernel)",
   "language": "python",
   "name": "python3"
  },
  "language_info": {
   "codemirror_mode": {
    "name": "ipython",
    "version": 3
   },
   "file_extension": ".py",
   "mimetype": "text/x-python",
   "name": "python",
   "nbconvert_exporter": "python",
   "pygments_lexer": "ipython3",
   "version": "3.8.5"
  }
 },
 "nbformat": 4,
 "nbformat_minor": 5
}
