{
 "cells": [
  {
   "cell_type": "code",
   "execution_count": 1,
   "id": "082587ae",
   "metadata": {},
   "outputs": [],
   "source": [
    "from pathlib import Path\n",
    "import pandas as pd\n",
    "import numpy as np\n",
    "from datetime import datetime\n",
    "import json\n",
    "import time"
   ]
  },
  {
   "cell_type": "code",
   "execution_count": 2,
   "id": "3e00daea",
   "metadata": {},
   "outputs": [],
   "source": [
    "# Keep this here for https://github.com/ray-project/ray/issues/11547\n",
    "from sklearn.model_selection import GridSearchCV\n",
    "\n",
    "# Replace above line with:\n",
    "from ray.tune.sklearn import TuneGridSearchCV"
   ]
  },
  {
   "cell_type": "code",
   "execution_count": 3,
   "id": "ff29d44a",
   "metadata": {},
   "outputs": [],
   "source": [
    "from sklearn.linear_model import SGDClassifier\n",
    "from sklearn.preprocessing import StandardScaler\n",
    "from sklearn.pipeline import make_pipeline\n",
    "from sklearn.metrics import accuracy_score\n",
    "from sklearn.metrics import balanced_accuracy_score\n",
    "\n",
    "from sklearn.pipeline import Pipeline\n",
    "from sklearn.model_selection import PredefinedSplit\n",
    "from sklearn.linear_model import LogisticRegression\n",
    "from sklearn.decomposition import PCA\n",
    "from sklearn.svm import LinearSVC\n",
    "from sklearn.svm import SVC\n",
    "from sklearn.kernel_approximation import Nystroem"
   ]
  },
  {
   "cell_type": "code",
   "execution_count": 4,
   "id": "a3c36154",
   "metadata": {},
   "outputs": [],
   "source": [
    "# import numpy as np\n",
    "# from sklearn.model_selection import PredefinedSplit\n",
    "# X = np.array([[1, 2], [3, 4], [1, 2], [3, 4]])\n",
    "# y = np.array([0, 0, 1, 1])\n",
    "# test_fold = [-1, -1, -1, 1]\n",
    "# ps = PredefinedSplit(test_fold)\n",
    "# ps.get_n_splits()\n",
    "\n",
    "# print(ps)\n",
    "\n",
    "# for train_index, test_index in ps.split():\n",
    "#     print(\"TRAIN:\", train_index, \"TEST:\", test_index)\n",
    "#     X_train, X_test = X[train_index], X[test_index]\n",
    "#     y_train, y_test = y[train_index], y[test_index]\n"
   ]
  },
  {
   "cell_type": "code",
   "execution_count": 5,
   "id": "3151c880",
   "metadata": {},
   "outputs": [],
   "source": [
    "def feature_engineer(data):\n",
    "    \"\"\"\n",
    "    Arguments:\n",
    "    data: pandas.DataFrame that must have specific columns.\n",
    "\n",
    "    \"\"\"\n",
    "    # Bid-Ask spread: (Ask - Bid) / Ask\n",
    "    data[\"best_bid\"] = (data[\"best_offer\"] - data[\"best_bid\"]) / (data[\"best_offer\"])\n",
    "    data = data.rename(columns={\"best_bid\": \"ba_spread_option\"}).drop([\"best_offer\"], axis=1)\n",
    "\n",
    "    # Gamma: multiply by spotprice and divide by 100\n",
    "    data[\"gamma\"] = data[\"gamma\"] * data[\"spotprice\"] / 100 #following Bali et al. (2021)\n",
    "\n",
    "    # Theta: scale by spotprice\n",
    "    data[\"theta\"] = data[\"theta\"] / data[\"spotprice\"] #following Bali et al. (2021)\n",
    "\n",
    "    # Vega: scale by spotprice\n",
    "    data[\"vega\"] = data[\"vega\"] / data[\"spotprice\"] #following Bali et al. (2021)\n",
    "\n",
    "    # Time to Maturity: cale by number of days in year: 365\n",
    "    data[\"days_to_exp\"] = data[\"days_to_exp\"] / 365\n",
    "\n",
    "    # Moneyness: Strike / Spot (K / S)\n",
    "    data[\"strike_price\"] = data[\"strike_price\"] / data[\"spotprice\"] # K / S\n",
    "    data = data.rename(columns={\"strike_price\": \"moneyness\"})\n",
    "\n",
    "    # Forward Price ratio: Forward / Spot\n",
    "    data[\"forwardprice\"] = data[\"forwardprice\"] / data[\"spotprice\"]\n",
    "\n",
    "    # Drop redundant/ unimportant columns\n",
    "    data = data.drop([\"cfadj\", \"days_no_trading\", \"spotprice\", \"adj_spot\"], axis=1)\n",
    "\n",
    "    return data"
   ]
  },
  {
   "cell_type": "code",
   "execution_count": 6,
   "id": "ebd83d6b",
   "metadata": {},
   "outputs": [],
   "source": [
    "# binary y label generator\n",
    "def binary_categorize(y):\n",
    "    \"\"\"\n",
    "    Input: continuous target variable \n",
    "\n",
    "    Output: 1 for positive returns, \n",
    "            0 for negative returns\n",
    "    \"\"\"\n",
    "    if y > 0:\n",
    "        return 1\n",
    "    else:\n",
    "        return 0\n",
    "\n",
    "\n",
    "# multiclass y label generator\n",
    "def multi_categorize(y):\n",
    "    \"\"\"\n",
    "    Input: continuous target variable\n",
    "    CAREFUL: classes have to be between [0, C) for F.crossentropyloss.\n",
    "    \n",
    "    Output: multi class\n",
    "    \"\"\"\n",
    "    if y > 0.05:\n",
    "        return 2\n",
    "    elif y < -0.05:\n",
    "        return 0\n",
    "    else:\n",
    "        return 1"
   ]
  },
  {
   "cell_type": "code",
   "execution_count": 7,
   "id": "4eaea3ee",
   "metadata": {},
   "outputs": [],
   "source": [
    "class CVSplitter:\n",
    "    \"\"\" Generator for data splits\n",
    "    Args:\n",
    "    dates: pandas.Series of datetime,\n",
    "    init_train_length: int,\n",
    "    val_length: int\n",
    "    \"\"\"\n",
    "    def __init__(self, dates, init_train_length=1, val_length=2, test_length=1):\n",
    "        # find indeces where years change (will ignore last year end in dates)\n",
    "        self.val_length = val_length\n",
    "        self.test_length = test_length\n",
    "        self.eoy_idx =  np.where((dates.dt.year.diff() == 1))[0]\n",
    "        self.eoy_idx = np.append(self.eoy_idx, len(dates)) #append end of year of last year in dates\n",
    "\n",
    "        assert init_train_length + val_length + test_length <= len(self.eoy_idx) + 1, \\\n",
    "        \"defined train and val are larger than number of years in dataset\"\n",
    "        assert init_train_length > 0, \"init_train_length must be strictly greater than 0\"\n",
    "\n",
    "        # align the 4th idx to be the end of the 5th year...\n",
    "        self.train_start_idx = init_train_length - 1\n",
    "\n",
    "        self.train_eoy = self.eoy_idx[self.train_start_idx:-(val_length+test_length)]\n",
    "        self.val_eoy = self.eoy_idx[self.train_start_idx + val_length:-test_length]\n",
    "        # For generate_idx():\n",
    "        self.test_eoy = self.eoy_idx[self.train_start_idx + val_length + test_length:]\n",
    "\n",
    "    def generate(self):\n",
    "        for i in range(len(self.eoy_idx) - (self.train_start_idx + self.val_length)):\n",
    "            yield (list(range(self.train_eoy[i])),\n",
    "                   list(range(self.train_eoy[i], self.val_eoy[i])))\n",
    "\n",
    "    def generate_idx(self):\n",
    "        for i in range(len(self.eoy_idx) - (self.train_start_idx + self.val_length \n",
    "                        + self.test_length)):\n",
    "            yield ({\"train\": self.train_eoy[i], \n",
    "                    \"val\": self.val_eoy[i], \n",
    "                    \"test\": self.test_eoy[i]}\n",
    "                )"
   ]
  },
  {
   "cell_type": "code",
   "execution_count": 8,
   "id": "787b79c1",
   "metadata": {},
   "outputs": [],
   "source": [
    "# read data from disk\n",
    "path = Path(r\"C:\\Users\\Mathiass\\OneDrive - Universität Zürich UZH\\Documents\\mt_literature\\data\")\n",
    "\n",
    "class Dataset():\n",
    "    def __init__(self, path=path, year_idx=0, dataset=\"small\", init_train_length=20, val_length=2, label_fn=\"multi\"):\n",
    "        if dataset == \"small\":\n",
    "            self.data = pd.read_parquet(path/\"final_df_small.parquet\")\n",
    "        elif dataset == \"big\":\n",
    "            self.data = pd.read_parquet(path/\"final_df_big_fillmean.parquet\")\n",
    "        else:\n",
    "            raise ValueError(\"Specify dataset as either 'small' or 'big'\")\n",
    "\n",
    "        # get splits\n",
    "        splitter = CVSplitter(self.data[\"date\"], init_train_length=init_train_length, \n",
    "                                val_length=val_length, test_length=1)\n",
    "        eoy_indeces = list(splitter.generate_idx())\n",
    "        self.eoy_train = eoy_indeces[year_idx][\"train\"]\n",
    "        self.eoy_val = eoy_indeces[year_idx][\"val\"]\n",
    "        self.eoy_test = eoy_indeces[year_idx][\"test\"]\n",
    "        \n",
    "        # Truncate data\n",
    "        self.data = self.data.iloc[:self.eoy_test]\n",
    "        assert len(self.data) == self.eoy_test, \"length of data is not equal to eoy_test\"\n",
    "            \n",
    "        # feature engineer data\n",
    "        self.data = feature_engineer(self.data)\n",
    "        \n",
    "        # create y\n",
    "        self.y = self.data[\"option_ret\"]\n",
    "        # make classification problem\n",
    "        if label_fn == \"binary\":\n",
    "            self.y = self.y.apply(binary_categorize)\n",
    "        elif label_fn == \"multi\":\n",
    "            self.y = self.y.apply(multi_categorize)\n",
    "        else:\n",
    "            raise ValueError(\"Specify label_fn as either 'binary' or 'multi'\")\n",
    "        # create X\n",
    "        self.X = self.data.drop([\"option_ret\"], axis=1)\n",
    "        \n",
    "        # save dates and drop\n",
    "        self.dates = self.X[\"date\"]\n",
    "        self.X = self.X.drop([\"date\"], axis=1)\n",
    "        \n",
    "#         # to torch Tensor\n",
    "#         self.X = torch.from_numpy(self.X.values).float() #-> will be standardized in setup, so do it there.\n",
    "#         self.y = torch.from_numpy(self.y.values)\n",
    "\n",
    "        # to numpy\n",
    "        self.X = self.X.values #-> will be standardized in setup, so do it there.\n",
    "        self.y = self.y.values\n",
    "    \n",
    "        ############################### setup #########################################################\n",
    "        # train\n",
    "        self.X_train = self.X[:self.eoy_train]\n",
    "        self.y_train = self.y[:len(self.X_train)]\n",
    "        \n",
    "        #val\n",
    "        self.X_val = self.X[self.eoy_train:self.eoy_val]\n",
    "        self.y_val = self.y[len(self.X_train):len(self.X_train)+len(self.X_val)]\n",
    "        \n",
    "        # test\n",
    "        self.X_test = self.X[self.eoy_val:self.eoy_test]\n",
    "        self.y_test = self.y[-len(self.X_test):]\n",
    "        \n",
    "        assert (len(self.X_train)+len(self.X_val)+len(self.X_test)) == len(self.data), \\\n",
    "            \"sum of X train, val, test is not equal length of dataset\"\n",
    "        assert (len(self.y_train)+len(self.y_val)+len(self.y_test) == len(self.data)), \\\n",
    "        \"sum of y train, val, test is not equal to length of dataset\"\n",
    "        \n",
    "#         #standardize X_train\n",
    "#         mean = torch.mean(self.X_train, axis=0)\n",
    "#         std = torch.std(self.X_train, axis=0)\n",
    "        \n",
    "#         # Standardize X_train, X_val and X_test with mean/std from X_train\n",
    "#         self.X_train = (self.X_train - mean) / std\n",
    "#         self.X_val = (self.X_val - mean) / std\n",
    "#         self.X_test = (self.X_test - mean) / std\n",
    "\n",
    "        # Save variables\n",
    "        # input dim\n",
    "        self.input_dim = self.X_train.shape[1]\n",
    "        # number of classes\n",
    "        self.num_classes = len(np.unique(self.y_train))\n",
    "#         class weights\n",
    "        self.class_weights = len(self.y_train) / np.unique(self.y_train, return_counts=True)[1]\n",
    "        \n",
    "        print(\"*****************************************************************************************\")\n",
    "        print(\"Current dataset information:\")\n",
    "        print(\"---\")\n",
    "        print(\"class_weights:\", self.class_weights)\n",
    "        print(\"---\")\n",
    "        print(f\"# of input data: {len(self.data)} with shape: {self.data.shape}\")\n",
    "        print(f\"# of training samples: {len(self.y_train)} with X_train of shape: {self.X_train.shape}\")\n",
    "        print(f\"# of validation samples: {len(self.y_val)} with X_val of shape: {self.X_val.shape}\")\n",
    "        print(f\"# of test samples: {len(self.y_test)} with X_test of shape: {self.X_test.shape}\")\n",
    "        print(\"---\")\n",
    "        print(f\"train start date: \", self.dates.iloc[0].strftime(\"%Y-%m-%d\"), \n",
    "              \", train end date: \", self.dates.iloc[:self.eoy_train].iloc[-1].strftime(\"%Y-%m-%d\"))\n",
    "        print(f\"val start date: \", self.dates.iloc[self.eoy_train:self.eoy_val].iloc[0].strftime(\"%Y-%m-%d\"), \n",
    "              \", val end date: \", self.dates.iloc[self.eoy_train:self.eoy_val].iloc[-1].strftime(\"%Y-%m-%d\"))\n",
    "        print(f\"test start date: \", self.dates.iloc[self.eoy_val:self.eoy_test].iloc[0].strftime(\"%Y-%m-%d\"), \n",
    "              \", test end date: \", self.dates.iloc[self.eoy_val:self.eoy_test].iloc[-1].strftime(\"%Y-%m-%d\"))\n",
    "        print(\"*****************************************************************************************\")\n",
    "        \n",
    "    def get_datasets(self):\n",
    "        return self.X_train, self.X_val, self.X_test\n",
    "    \n",
    "    def get_cv_data(self):\n",
    "        # careful: if predicting on X_val later... -> cheating\n",
    "        X = np.concatenate((self.X_train, self.X_val))\n",
    "        y = np.concatenate((self.y_train, self.y_val))\n",
    "        ps = PredefinedSplit(np.concatenate((np.zeros(len(self.X_train)) - 1, np.ones(len(self.X_val)))))\n",
    "        \n",
    "        assert (self.X_train.shape[0] + self.X_val.shape[0] == X.shape[0] and (self.X_train.shape[1] == self.X_val.shape[1] == X.shape[1]))\n",
    "        assert ps.get_n_splits() == 1, \"more than one train/ val split in PredefinedSplit\"\n",
    "        \n",
    "        return X, y, ps"
   ]
  },
  {
   "cell_type": "code",
   "execution_count": 9,
   "id": "47345518",
   "metadata": {},
   "outputs": [
    {
     "name": "stdout",
     "output_type": "stream",
     "text": [
      "*****************************************************************************************\n",
      "Current dataset information:\n",
      "---\n",
      "class_weights: [4.57813142 1.5704328  6.90592795]\n",
      "---\n",
      "# of input data: 2780818 with shape: (2780818, 17)\n",
      "# of training samples: 2138317 with X_train of shape: (2138317, 15)\n",
      "# of validation samples: 390337 with X_val of shape: (390337, 15)\n",
      "# of test samples: 252164 with X_test of shape: (252164, 15)\n",
      "---\n",
      "train start date:  1996-01-31 , train end date:  2015-12-31\n",
      "val start date:  2016-01-31 , val end date:  2017-12-31\n",
      "test start date:  2018-01-31 , test end date:  2018-12-31\n",
      "*****************************************************************************************\n"
     ]
    }
   ],
   "source": [
    "# get data instance\n",
    "data = Dataset()\n",
    "# get X, y and train val split\n",
    "X_train_val, y_train_val, train_val_split = data.get_cv_data()\n"
   ]
  },
  {
   "cell_type": "code",
   "execution_count": 10,
   "id": "4ce64cb3",
   "metadata": {},
   "outputs": [
    {
     "data": {
      "text/plain": [
       "2528654"
      ]
     },
     "execution_count": 10,
     "metadata": {},
     "output_type": "execute_result"
    }
   ],
   "source": [
    "len(X_train_val)"
   ]
  },
  {
   "cell_type": "code",
   "execution_count": 11,
   "id": "0aabeedf",
   "metadata": {},
   "outputs": [
    {
     "data": {
      "text/plain": [
       "1.0"
      ]
     },
     "execution_count": 11,
     "metadata": {},
     "output_type": "execute_result"
    }
   ],
   "source": [
    "np.ceil(10**6 / 3428810)"
   ]
  },
  {
   "cell_type": "code",
   "execution_count": 12,
   "id": "3af23735",
   "metadata": {},
   "outputs": [],
   "source": [
    "scaler = StandardScaler()"
   ]
  },
  {
   "cell_type": "code",
   "execution_count": 13,
   "id": "d9879047",
   "metadata": {},
   "outputs": [],
   "source": [
    "pca = PCA(n_components=20, random_state=42)"
   ]
  },
  {
   "cell_type": "code",
   "execution_count": 14,
   "id": "20c15e46",
   "metadata": {},
   "outputs": [],
   "source": [
    "# pca = \"passthrough\""
   ]
  },
  {
   "cell_type": "code",
   "execution_count": 15,
   "id": "17b3835f",
   "metadata": {},
   "outputs": [],
   "source": [
    "from sklearn.utils.class_weight import compute_class_weight\n",
    "weights = compute_class_weight('balanced', classes=np.unique(data.y_train), y=data.y_train)"
   ]
  },
  {
   "cell_type": "code",
   "execution_count": 16,
   "id": "39d2a250",
   "metadata": {},
   "outputs": [],
   "source": [
    "labels = np.unique(data.y_train)"
   ]
  },
  {
   "cell_type": "code",
   "execution_count": 17,
   "id": "fb3fd67f",
   "metadata": {},
   "outputs": [
    {
     "name": "stdout",
     "output_type": "stream",
     "text": [
      "{0: 1.5260438076642002, 1: 0.5234775988229621, 2: 2.301975982473988}\n"
     ]
    }
   ],
   "source": [
    "# calculate \"balanced\" class weights manually (class_weight=\"balanced\" not possible for TuneSearch)\n",
    "class_weights = {}\n",
    "for i in range(len(labels)):\n",
    "    class_weights[labels[i]] = weights[i] \n",
    "\n",
    "print(class_weights)"
   ]
  },
  {
   "cell_type": "code",
   "execution_count": 18,
   "id": "be008387",
   "metadata": {},
   "outputs": [],
   "source": [
    "# # class CustomSGDClassifier(SGDClassifier):\n",
    "# #     def __init__(self, *args, **kwargs):\n",
    "#         super().__init__(*args, **kwargs)"
   ]
  },
  {
   "cell_type": "code",
   "execution_count": 19,
   "id": "42723d37",
   "metadata": {},
   "outputs": [],
   "source": [
    "clf = SGDClassifier(\n",
    "    random_state=42,\n",
    "#     class_weight=\"balanced\", #string method not implemented in ray tune\n",
    "    class_weight=class_weights,\n",
    "    max_iter=1, # ignored as well?\n",
    "#     tol=10000000000000000,\n",
    "#     n_iter_no_change=1,\n",
    "    )"
   ]
  },
  {
   "cell_type": "code",
   "execution_count": 20,
   "id": "b48e3517",
   "metadata": {},
   "outputs": [],
   "source": [
    "nystroem = Nystroem(gamma=0.2, random_state=1, n_components=100, \n",
    "#                     n_jobs=-1\n",
    "                   )"
   ]
  },
  {
   "cell_type": "code",
   "execution_count": 21,
   "id": "d70873e7",
   "metadata": {},
   "outputs": [],
   "source": [
    "# clf = LogisticRegression(random_state=0, \n",
    "#                          class_weight=\"balanced\",\n",
    "#                            max_iter=1000,\n",
    "# #                          n_jobs=-1,\n",
    "# #                          C=0.0001,\n",
    "#                         )\n",
    "\n",
    "# clf = SVC(random_state=0,\n",
    "#          class_weight=\"balanced\",\n",
    "#          cache_size=2000,\n",
    "#          )"
   ]
  },
  {
   "cell_type": "code",
   "execution_count": 22,
   "id": "83a60c75",
   "metadata": {},
   "outputs": [],
   "source": [
    "import time"
   ]
  },
  {
   "cell_type": "code",
   "execution_count": 23,
   "id": "32d1ed89",
   "metadata": {},
   "outputs": [],
   "source": [
    "starttime = datetime.now().strftime(\"%Y%m%d%H%M%S\")\n",
    "log_dir = \"./logs/tune/lr_loops\"\n",
    "train_year_end = 1996 + 10 + 0 - 1\n",
    "val_year_end = train_year_end + 2\n",
    "years = f\"train{train_year_end}_val{val_year_end}\"\n",
    "name = starttime+\"\\\\\"+ years"
   ]
  },
  {
   "cell_type": "code",
   "execution_count": 24,
   "id": "56a6075b",
   "metadata": {},
   "outputs": [],
   "source": [
    "from tempfile import mkdtemp\n",
    "from shutil import rmtree\n",
    "from joblib import Memory"
   ]
  },
  {
   "cell_type": "code",
   "execution_count": 25,
   "id": "1b51bae0",
   "metadata": {},
   "outputs": [],
   "source": [
    "# cachedir = mkdtemp()\n",
    "# location = \"cachedir\"\n",
    "# memory = Memory(location=location, \n",
    "# #                 verbose=10\n",
    "#                )"
   ]
  },
  {
   "cell_type": "code",
   "execution_count": 26,
   "id": "7e9d31f8",
   "metadata": {
    "scrolled": true
   },
   "outputs": [
    {
     "name": "stderr",
     "output_type": "stream",
     "text": [
      "2022-08-03 11:14:43,547\tWARNING tune.py:668 -- Tune detects GPUs, but no trials are using GPUs. To enable trials to use GPUs, set tune.run(resources_per_trial={'gpu': 1}...) which allows Tune to expose 1 GPU to each trial. You can also override `Trainable.default_resource_request` if using the Trainable API.\n",
      "2022-08-03 11:14:43,721\tERROR syncer.py:147 -- Log sync requires rsync to be installed.\n",
      "2022-08-03 11:14:44,016\tWARNING suggestion.py:376 -- save not implemented for Searcher. Skipping save.\n"
     ]
    },
    {
     "data": {
      "text/html": [
       "== Status ==<br>Current time: 2022-08-03 11:14:47 (running for 00:00:04.43)<br>Memory usage on this node: 9.7/15.9 GiB<br>Using AsyncHyperBand: num_stopped=0\n",
       "Bracket: Iter 4.000: None | Iter 1.000: None<br>Resources requested: 4.0/8 CPUs, 0/1 GPUs, 0.0/4.62 GiB heap, 0.0/2.31 GiB objects<br>Result logdir: C:\\Users\\Mathiass\\Documents\\Projects\\master-thesis\\notebooks\\logs\\tune\\lr_loops\\20220803111436\\train2005_val2007<br>Number of trials: 1/1 (1 RUNNING)<br><br>"
      ],
      "text/plain": [
       "<IPython.core.display.HTML object>"
      ]
     },
     "metadata": {},
     "output_type": "display_data"
    },
    {
     "name": "stdout",
     "output_type": "stream",
     "text": [
      "Trial _PipelineTrainable_b6307c34 reported average_test_balanced_accuracy=0.34 with parameters={'early_stopping': True, 'early_stop_type': <EarlyStopping.PARTIAL_FIT: 1>, 'groups': None, 'cv': PredefinedSplit(test_fold=array([-1, -1, ...,  1,  1])), 'fit_params': {}, 'scoring': {'accuracy': make_scorer(accuracy_score), 'balanced_accuracy': make_scorer(balanced_accuracy_score)}, 'max_iters': 10, 'return_train_score': True, 'n_jobs': 1, 'metric_name': 'average_test_balanced_accuracy', 'clf__alpha': 1, 'clf__loss': 'hinge'}.\n"
     ]
    },
    {
     "data": {
      "text/html": [
       "== Status ==<br>Current time: 2022-08-03 11:14:51 (running for 00:00:07.94)<br>Memory usage on this node: 9.7/15.9 GiB<br>Using AsyncHyperBand: num_stopped=0\n",
       "Bracket: Iter 4.000: None | Iter 1.000: 0.3375838491482337<br>Resources requested: 4.0/8 CPUs, 0/1 GPUs, 0.0/4.62 GiB heap, 0.0/2.31 GiB objects<br>Current best trial: b6307c34 with average_test_balanced_accuracy=0.3375838491482337 and parameters={'early_stopping': True, 'early_stop_type': <EarlyStopping.PARTIAL_FIT: 1>, 'groups': None, 'cv': PredefinedSplit(test_fold=array([-1, -1, ...,  1,  1])), 'fit_params': {}, 'scoring': {'accuracy': make_scorer(accuracy_score), 'balanced_accuracy': make_scorer(balanced_accuracy_score)}, 'max_iters': 10, 'return_train_score': True, 'n_jobs': 1, 'metric_name': 'average_test_balanced_accuracy', 'clf__alpha': 1, 'clf__loss': 'hinge'}<br>Result logdir: C:\\Users\\Mathiass\\Documents\\Projects\\master-thesis\\notebooks\\logs\\tune\\lr_loops\\20220803111436\\train2005_val2007<br>Number of trials: 1/1 (1 RUNNING)<br><br>"
      ],
      "text/plain": [
       "<IPython.core.display.HTML object>"
      ]
     },
     "metadata": {},
     "output_type": "display_data"
    },
    {
     "name": "stdout",
     "output_type": "stream",
     "text": [
      "Trial _PipelineTrainable_b6307c34 reported average_test_balanced_accuracy=0.34 with parameters={'early_stopping': True, 'early_stop_type': <EarlyStopping.PARTIAL_FIT: 1>, 'groups': None, 'cv': PredefinedSplit(test_fold=array([-1, -1, ...,  1,  1])), 'fit_params': {}, 'scoring': {'accuracy': make_scorer(accuracy_score), 'balanced_accuracy': make_scorer(balanced_accuracy_score)}, 'max_iters': 10, 'return_train_score': True, 'n_jobs': 1, 'metric_name': 'average_test_balanced_accuracy', 'clf__alpha': 1, 'clf__loss': 'hinge'}.\n"
     ]
    },
    {
     "data": {
      "text/html": [
       "== Status ==<br>Current time: 2022-08-03 11:14:58 (running for 00:00:14.85)<br>Memory usage on this node: 9.7/15.9 GiB<br>Using AsyncHyperBand: num_stopped=0\n",
       "Bracket: Iter 4.000: None | Iter 1.000: 0.3375838491482337<br>Resources requested: 4.0/8 CPUs, 0/1 GPUs, 0.0/4.62 GiB heap, 0.0/2.31 GiB objects<br>Current best trial: b6307c34 with average_test_balanced_accuracy=0.33763231903332874 and parameters={'early_stopping': True, 'early_stop_type': <EarlyStopping.PARTIAL_FIT: 1>, 'groups': None, 'cv': PredefinedSplit(test_fold=array([-1, -1, ...,  1,  1])), 'fit_params': {}, 'scoring': {'accuracy': make_scorer(accuracy_score), 'balanced_accuracy': make_scorer(balanced_accuracy_score)}, 'max_iters': 10, 'return_train_score': True, 'n_jobs': 1, 'metric_name': 'average_test_balanced_accuracy', 'clf__alpha': 1, 'clf__loss': 'hinge'}<br>Result logdir: C:\\Users\\Mathiass\\Documents\\Projects\\master-thesis\\notebooks\\logs\\tune\\lr_loops\\20220803111436\\train2005_val2007<br>Number of trials: 1/1 (1 RUNNING)<br><br>"
      ],
      "text/plain": [
       "<IPython.core.display.HTML object>"
      ]
     },
     "metadata": {},
     "output_type": "display_data"
    },
    {
     "name": "stdout",
     "output_type": "stream",
     "text": [
      "Trial _PipelineTrainable_b6307c34 reported average_test_balanced_accuracy=0.34 with parameters={'early_stopping': True, 'early_stop_type': <EarlyStopping.PARTIAL_FIT: 1>, 'groups': None, 'cv': PredefinedSplit(test_fold=array([-1, -1, ...,  1,  1])), 'fit_params': {}, 'scoring': {'accuracy': make_scorer(accuracy_score), 'balanced_accuracy': make_scorer(balanced_accuracy_score)}, 'max_iters': 10, 'return_train_score': True, 'n_jobs': 1, 'metric_name': 'average_test_balanced_accuracy', 'clf__alpha': 1, 'clf__loss': 'hinge'}.\n"
     ]
    },
    {
     "data": {
      "text/html": [
       "== Status ==<br>Current time: 2022-08-03 11:15:05 (running for 00:00:22.16)<br>Memory usage on this node: 9.7/15.9 GiB<br>Using AsyncHyperBand: num_stopped=0\n",
       "Bracket: Iter 4.000: 0.33766078575910746 | Iter 1.000: 0.3375838491482337<br>Resources requested: 4.0/8 CPUs, 0/1 GPUs, 0.0/4.62 GiB heap, 0.0/2.31 GiB objects<br>Current best trial: b6307c34 with average_test_balanced_accuracy=0.3376834582357012 and parameters={'early_stopping': True, 'early_stop_type': <EarlyStopping.PARTIAL_FIT: 1>, 'groups': None, 'cv': PredefinedSplit(test_fold=array([-1, -1, ...,  1,  1])), 'fit_params': {}, 'scoring': {'accuracy': make_scorer(accuracy_score), 'balanced_accuracy': make_scorer(balanced_accuracy_score)}, 'max_iters': 10, 'return_train_score': True, 'n_jobs': 1, 'metric_name': 'average_test_balanced_accuracy', 'clf__alpha': 1, 'clf__loss': 'hinge'}<br>Result logdir: C:\\Users\\Mathiass\\Documents\\Projects\\master-thesis\\notebooks\\logs\\tune\\lr_loops\\20220803111436\\train2005_val2007<br>Number of trials: 1/1 (1 RUNNING)<br><br>"
      ],
      "text/plain": [
       "<IPython.core.display.HTML object>"
      ]
     },
     "metadata": {},
     "output_type": "display_data"
    },
    {
     "name": "stdout",
     "output_type": "stream",
     "text": [
      "Trial _PipelineTrainable_b6307c34 reported average_test_balanced_accuracy=0.34 with parameters={'early_stopping': True, 'early_stop_type': <EarlyStopping.PARTIAL_FIT: 1>, 'groups': None, 'cv': PredefinedSplit(test_fold=array([-1, -1, ...,  1,  1])), 'fit_params': {}, 'scoring': {'accuracy': make_scorer(accuracy_score), 'balanced_accuracy': make_scorer(balanced_accuracy_score)}, 'max_iters': 10, 'return_train_score': True, 'n_jobs': 1, 'metric_name': 'average_test_balanced_accuracy', 'clf__alpha': 1, 'clf__loss': 'hinge'}.\n"
     ]
    },
    {
     "data": {
      "text/html": [
       "== Status ==<br>Current time: 2022-08-03 11:15:12 (running for 00:00:29.12)<br>Memory usage on this node: 9.6/15.9 GiB<br>Using AsyncHyperBand: num_stopped=0\n",
       "Bracket: Iter 4.000: 0.33766078575910746 | Iter 1.000: 0.3375838491482337<br>Resources requested: 4.0/8 CPUs, 0/1 GPUs, 0.0/4.62 GiB heap, 0.0/2.31 GiB objects<br>Current best trial: b6307c34 with average_test_balanced_accuracy=0.33770295687487156 and parameters={'early_stopping': True, 'early_stop_type': <EarlyStopping.PARTIAL_FIT: 1>, 'groups': None, 'cv': PredefinedSplit(test_fold=array([-1, -1, ...,  1,  1])), 'fit_params': {}, 'scoring': {'accuracy': make_scorer(accuracy_score), 'balanced_accuracy': make_scorer(balanced_accuracy_score)}, 'max_iters': 10, 'return_train_score': True, 'n_jobs': 1, 'metric_name': 'average_test_balanced_accuracy', 'clf__alpha': 1, 'clf__loss': 'hinge'}<br>Result logdir: C:\\Users\\Mathiass\\Documents\\Projects\\master-thesis\\notebooks\\logs\\tune\\lr_loops\\20220803111436\\train2005_val2007<br>Number of trials: 1/1 (1 RUNNING)<br><br>"
      ],
      "text/plain": [
       "<IPython.core.display.HTML object>"
      ]
     },
     "metadata": {},
     "output_type": "display_data"
    },
    {
     "name": "stdout",
     "output_type": "stream",
     "text": [
      "Trial _PipelineTrainable_b6307c34 reported average_test_balanced_accuracy=0.34 with parameters={'early_stopping': True, 'early_stop_type': <EarlyStopping.PARTIAL_FIT: 1>, 'groups': None, 'cv': PredefinedSplit(test_fold=array([-1, -1, ...,  1,  1])), 'fit_params': {}, 'scoring': {'accuracy': make_scorer(accuracy_score), 'balanced_accuracy': make_scorer(balanced_accuracy_score)}, 'max_iters': 10, 'return_train_score': True, 'n_jobs': 1, 'metric_name': 'average_test_balanced_accuracy', 'clf__alpha': 1, 'clf__loss': 'hinge'}.\n"
     ]
    },
    {
     "data": {
      "text/html": [
       "== Status ==<br>Current time: 2022-08-03 11:15:20 (running for 00:00:36.48)<br>Memory usage on this node: 9.7/15.9 GiB<br>Using AsyncHyperBand: num_stopped=0\n",
       "Bracket: Iter 4.000: 0.33766078575910746 | Iter 1.000: 0.3375838491482337<br>Resources requested: 4.0/8 CPUs, 0/1 GPUs, 0.0/4.62 GiB heap, 0.0/2.31 GiB objects<br>Current best trial: b6307c34 with average_test_balanced_accuracy=0.33770295687487156 and parameters={'early_stopping': True, 'early_stop_type': <EarlyStopping.PARTIAL_FIT: 1>, 'groups': None, 'cv': PredefinedSplit(test_fold=array([-1, -1, ...,  1,  1])), 'fit_params': {}, 'scoring': {'accuracy': make_scorer(accuracy_score), 'balanced_accuracy': make_scorer(balanced_accuracy_score)}, 'max_iters': 10, 'return_train_score': True, 'n_jobs': 1, 'metric_name': 'average_test_balanced_accuracy', 'clf__alpha': 1, 'clf__loss': 'hinge'}<br>Result logdir: C:\\Users\\Mathiass\\Documents\\Projects\\master-thesis\\notebooks\\logs\\tune\\lr_loops\\20220803111436\\train2005_val2007<br>Number of trials: 1/1 (1 RUNNING)<br><br>"
      ],
      "text/plain": [
       "<IPython.core.display.HTML object>"
      ]
     },
     "metadata": {},
     "output_type": "display_data"
    },
    {
     "name": "stdout",
     "output_type": "stream",
     "text": [
      "Trial _PipelineTrainable_b6307c34 reported average_test_balanced_accuracy=0.34 with parameters={'early_stopping': True, 'early_stop_type': <EarlyStopping.PARTIAL_FIT: 1>, 'groups': None, 'cv': PredefinedSplit(test_fold=array([-1, -1, ...,  1,  1])), 'fit_params': {}, 'scoring': {'accuracy': make_scorer(accuracy_score), 'balanced_accuracy': make_scorer(balanced_accuracy_score)}, 'max_iters': 10, 'return_train_score': True, 'n_jobs': 1, 'metric_name': 'average_test_balanced_accuracy', 'clf__alpha': 1, 'clf__loss': 'hinge'}. This trial completed.\n"
     ]
    },
    {
     "name": "stderr",
     "output_type": "stream",
     "text": [
      "\u001b[2m\u001b[36m(pid=)\u001b[0m 2022-08-03 11:15:23,605\tINFO context.py:67 -- Exec'ing worker with command: \"C:\\Users\\Mathiass\\Anaconda3\\envs\\masterthesis\\python.exe\" C:\\Users\\Mathiass\\Anaconda3\\envs\\masterthesis\\lib\\site-packages\\ray\\workers/default_worker.py --node-ip-address=127.0.0.1 --node-manager-port=57821 --object-store-name=tcp://127.0.0.1:59169 --raylet-name=tcp://127.0.0.1:61626 --redis-address=None --storage=None --temp-dir=C:\\Users\\Mathiass\\AppData\\Local\\Temp\\ray --metrics-agent-port=59838 --logging-rotate-bytes=536870912 --logging-rotate-backup-count=5 --gcs-address=127.0.0.1:58633 --redis-password=5241590000000000 --startup-token=8 --runtime-env-hash=137120697\n"
     ]
    },
    {
     "data": {
      "text/html": [
       "== Status ==<br>Current time: 2022-08-03 11:15:24 (running for 00:00:40.98)<br>Memory usage on this node: 9.5/15.9 GiB<br>Using AsyncHyperBand: num_stopped=0\n",
       "Bracket: Iter 4.000: 0.33766078575910746 | Iter 1.000: 0.3375838491482337<br>Resources requested: 0/8 CPUs, 0/1 GPUs, 0.0/4.62 GiB heap, 0.0/2.31 GiB objects<br>Current best trial: b6307c34 with average_test_balanced_accuracy=0.33770084098325603 and parameters={'early_stopping': True, 'early_stop_type': <EarlyStopping.PARTIAL_FIT: 1>, 'groups': None, 'cv': PredefinedSplit(test_fold=array([-1, -1, ...,  1,  1])), 'fit_params': {}, 'scoring': {'accuracy': make_scorer(accuracy_score), 'balanced_accuracy': make_scorer(balanced_accuracy_score)}, 'max_iters': 10, 'return_train_score': True, 'n_jobs': 1, 'metric_name': 'average_test_balanced_accuracy', 'clf__alpha': 1, 'clf__loss': 'hinge'}<br>Result logdir: C:\\Users\\Mathiass\\Documents\\Projects\\master-thesis\\notebooks\\logs\\tune\\lr_loops\\20220803111436\\train2005_val2007<br>Number of trials: 1/1 (1 TERMINATED)<br><table>\n",
       "<thead>\n",
       "<tr><th>Trial name                 </th><th>status    </th><th>loc            </th><th style=\"text-align: right;\">  clf__alpha</th><th>clf__loss  </th><th style=\"text-align: right;\">  iter</th><th style=\"text-align: right;\">  total time (s)</th><th style=\"text-align: right;\">  split0_test_accuracy</th><th style=\"text-align: right;\">  average_test_accuracy</th><th style=\"text-align: right;\">  split0_test_balanced_accuracy</th></tr>\n",
       "</thead>\n",
       "<tbody>\n",
       "<tr><td>_PipelineTrainable_b6307c34</td><td>TERMINATED</td><td>127.0.0.1:13116</td><td style=\"text-align: right;\">           1</td><td>hinge      </td><td style=\"text-align: right;\">    10</td><td style=\"text-align: right;\">         35.4048</td><td style=\"text-align: right;\">              0.807441</td><td style=\"text-align: right;\">               0.807441</td><td style=\"text-align: right;\">                       0.337701</td></tr>\n",
       "</tbody>\n",
       "</table><br><br>"
      ],
      "text/plain": [
       "<IPython.core.display.HTML object>"
      ]
     },
     "metadata": {},
     "output_type": "display_data"
    },
    {
     "name": "stderr",
     "output_type": "stream",
     "text": [
      "2022-08-03 11:15:24,653\tINFO tune.py:747 -- Total run time: 41.83 seconds (40.57 seconds for the tuning loop).\n"
     ]
    },
    {
     "name": "stdout",
     "output_type": "stream",
     "text": [
      "Tune GridSearch Fit Time: 51.46617865562439\n"
     ]
    },
    {
     "name": "stderr",
     "output_type": "stream",
     "text": [
      "C:\\Users\\Mathiass\\Anaconda3\\envs\\masterthesis\\lib\\site-packages\\sklearn\\linear_model\\_stochastic_gradient.py:705: ConvergenceWarning: Maximum number of iteration reached before convergence. Consider increasing max_iter to improve the fit.\n",
      "  warnings.warn(\n"
     ]
    }
   ],
   "source": [
    "clf = Pipeline([\n",
    "    ('scaler', scaler),\n",
    "#     (\"nystroem\", nystroem),\n",
    "#     ('pca' , pca),\n",
    "    ('clf', clf),\n",
    "    ],\n",
    "#     memory=memory,\n",
    ")\n",
    "\n",
    "# Example parameters to tune from SGDClassifier\n",
    "parameter_grid = [{\n",
    "#     \"pca\": [\"passthrough\", PCA(), PCA(10)],\n",
    "    \"clf__loss\": [\"hinge\"],\n",
    "#     \"nystroem__n_components\": [100],\n",
    "    \"clf__alpha\": [1], \n",
    "#     \"pca__n_components\": [5, 10],\n",
    "#     \"clf__alpha\": [1e-6, 1e-3, 1, 100, 10000], \n",
    "#     \"clf__C\": np.logspace(-5, 5, 5),\n",
    "#     \"clf__epsilon\": [0.01, 0.1]\n",
    "}, \n",
    "# {\n",
    "#     \"clf__loss\": [\"hinge\"],\n",
    "#     \"nystroem__n_components\": [20],\n",
    "#     \"pca__n_components\": [5],\n",
    "# }\n",
    "]\n",
    "\n",
    "tune_search = TuneGridSearchCV(\n",
    "    clf,\n",
    "    parameter_grid,\n",
    "    cv=train_val_split,\n",
    "    early_stopping=True, # early stopping of ASHA\n",
    "    max_iters=10,\n",
    "    scoring=[\"accuracy\", \"balanced_accuracy\"],\n",
    "    refit=\"balanced_accuracy\",\n",
    "    n_jobs=2, #how many trials in parallel\n",
    "    verbose=2,\n",
    "    local_dir=log_dir,\n",
    "    name=name,\n",
    "    return_train_score=True # can be comp. expensive\n",
    ")\n",
    "\n",
    "start = time.time()\n",
    "tune_search.fit(X_train_val, y_train_val)\n",
    "end = time.time()\n",
    "print(\"Tune GridSearch Fit Time:\", end - start)"
   ]
  },
  {
   "cell_type": "code",
   "execution_count": 27,
   "id": "f89a3d26",
   "metadata": {},
   "outputs": [],
   "source": [
    "# ame\tstatus\tloc\tclf__alpha\tclf__loss\titer\ttotal time (s)\tsplit0_test_accuracy\taverage_test_accuracy\tsplit0_test_balanced_accuracy\n",
    "# _PipelineTrainable_f1479bfc\tTERMINATED\t127.0.0.1:20640\t1\thinge\t100\t360.993\t0.807461\t0.807461\t0.337826\n",
    "\n",
    "\n",
    "# 2022-08-03 11:08:13,739\tINFO tune.py:747 -- Total run time: 370.94 seconds (369.53 seconds for the tuning loop)."
   ]
  },
  {
   "cell_type": "code",
   "execution_count": 28,
   "id": "a873cd13",
   "metadata": {},
   "outputs": [],
   "source": [
    "# e_d3748721\tTERMINATED\t127.0.0.1:2100\t1\thinge\t1000\t3660.36\t0.807466\t0.807466\t0.337931\n",
    "\n",
    "\n",
    "# 2022-08-03 10:58:08,464\tINFO tune.py:747 -- Total run time: 3681.18 seconds (3679.56 seconds for the tuning loop)."
   ]
  },
  {
   "cell_type": "code",
   "execution_count": 29,
   "id": "2d5dc231",
   "metadata": {
    "scrolled": false
   },
   "outputs": [
    {
     "data": {
      "text/plain": [
       "{'params': [{'clf__alpha': 1, 'clf__loss': 'hinge'}],\n",
       " 'split0_test_accuracy': array([0.80744075]),\n",
       " 'mean_test_accuracy': array([0.80744075]),\n",
       " 'std_test_accuracy': array([0.]),\n",
       " 'rank_test_accuracy': array([1]),\n",
       " 'split0_test_balanced_accuracy': array([0.33770084]),\n",
       " 'mean_test_balanced_accuracy': array([0.33770084]),\n",
       " 'std_test_balanced_accuracy': array([0.]),\n",
       " 'rank_test_balanced_accuracy': array([1]),\n",
       " 'split0_train_accuracy': array([0.64480617]),\n",
       " 'mean_train_accuracy': array([0.64480617]),\n",
       " 'std_train_accuracy': array([0.]),\n",
       " 'rank_train_accuracy': array([1]),\n",
       " 'split0_train_balanced_accuracy': array([0.35249259]),\n",
       " 'mean_train_balanced_accuracy': array([0.35249259]),\n",
       " 'std_train_balanced_accuracy': array([0.]),\n",
       " 'rank_train_balanced_accuracy': array([1]),\n",
       " 'time_total_s': array([35.40482688]),\n",
       " 'training_iteration': array([10], dtype=int64),\n",
       " 'param_clf__alpha': masked_array(data=[1],\n",
       "              mask=[False],\n",
       "        fill_value='?',\n",
       "             dtype=object),\n",
       " 'param_clf__loss': masked_array(data=['hinge'],\n",
       "              mask=[False],\n",
       "        fill_value='?',\n",
       "             dtype=object)}"
      ]
     },
     "execution_count": 29,
     "metadata": {},
     "output_type": "execute_result"
    }
   ],
   "source": [
    "tune_search.cv_results_"
   ]
  },
  {
   "cell_type": "code",
   "execution_count": 30,
   "id": "df9c85e2",
   "metadata": {},
   "outputs": [],
   "source": [
    "# {'params': [{'clf__loss': 'hinge',\n",
    "#    'nystroem__n_components': 20,\n",
    "#    'pca__n_components': 10},\n",
    "#   {'clf__loss': 'hinge',\n",
    "#    'nystroem__n_components': 20,\n",
    "#    'pca__n_components': 5}],\n",
    "#  'split0_test_accuracy': array([0.45120242, 0.42342386]),\n",
    "#  'mean_test_accuracy': array([0.45120242, 0.42342386]),\n",
    "#  'std_test_accuracy': array([0., 0.]),\n",
    "#  'rank_test_accuracy': array([1, 2]),\n",
    "#  'split0_test_balanced_accuracy': array([0.52078709, 0.51714468]),\n",
    "#  'mean_test_balanced_accuracy': array([0.52078709, 0.51714468]),\n",
    "#  'std_test_balanced_accuracy': array([0., 0.]),\n",
    "#  'rank_test_balanced_accuracy': array([1, 2]),\n",
    "#  'split0_train_accuracy': array([0.44659375, 0.42329739]),\n",
    "#  'mean_train_accuracy': array([0.44659375, 0.42329739]),\n",
    "#  'std_train_accuracy': array([0., 0.]),\n",
    "#  'rank_train_accuracy': array([1, 2]),\n",
    "#  'split0_train_balanced_accuracy': array([0.52470044, 0.51906457]),\n",
    "#  'mean_train_balanced_accuracy': array([0.52470044, 0.51906457]),\n",
    "#  'std_train_balanced_accuracy': array([0., 0.]),\n",
    "#  'rank_train_balanced_accuracy': array([1, 2]),\n",
    "#  'time_total_s': array([23.16746497, 19.01607275]),\n",
    "#  'training_iteration': array([1, 1], dtype=int64),\n",
    "#  'param_clf__loss': masked_array(data=['hinge', 'hinge'],\n",
    "#               mask=[False, False],\n",
    "#         fill_value='?',\n",
    "#              dtype=object),\n",
    "#  'param_nystroem__n_components': masked_array(data=[20, 20],\n",
    "#               mask=[False, False],\n",
    "#         fill_value='?',\n",
    "#              dtype=object),\n",
    "#  'param_pca__n_components': masked_array(data=[10, 5],\n",
    "#               mask=[False, False],\n",
    "#         fill_value='?',\n",
    "#              dtype=object)}"
   ]
  },
  {
   "cell_type": "code",
   "execution_count": 31,
   "id": "3670b4f1",
   "metadata": {},
   "outputs": [
    {
     "data": {
      "text/plain": [
       "{'clf__alpha': 1, 'clf__loss': 'hinge'}"
      ]
     },
     "execution_count": 31,
     "metadata": {},
     "output_type": "execute_result"
    }
   ],
   "source": [
    "tune_search.best_params_"
   ]
  },
  {
   "cell_type": "code",
   "execution_count": 32,
   "id": "bf72f03a",
   "metadata": {},
   "outputs": [],
   "source": [
    "# def get_best_score(gs):\n",
    "#     \"\"\"returns best scores of gridsearch object in dictionary\"\"\"\n",
    "#     dic = {}\n",
    "#     dic[\"val_acc\"] = gs.cv_results_[\"mean_test_accuracy\"][gs.best_index_]\n",
    "#     dic[\"val_bal_acc\"] = gs.cv_results_[\"mean_test_balanced_accuracy\"][gs.best_index_]\n",
    "    \n",
    "#     if \"mean_train_accuracy\" in gs.cv_results_:\n",
    "#         dic[\"train_acc\"] = gs.cv_results_[\"mean_train_accuracy\"][gs.best_index_]\n",
    "#     if \"mean_train_balanced_accuracy\" in gs.cv_results_:\n",
    "#         dic[\"train_bal_acc\"] = gs.cv_results_[\"mean_train_balanced_accuracy\"][gs.best_index_]\n",
    "    \n",
    "#     return dic\n",
    "        \n",
    "\n",
    "# def get_metric_order(nested_dic):\n",
    "#     order = list(nested_dic[list(nested_dic.keys())[0]].keys())\n",
    "#     metric_order = [\"val_bal_acc\", \"train_bal_acc\", \"val_acc\", \"train_acc\", \"val_loss\", \"train_loss\"]\n",
    "#     for m in metric_order[::-1]:\n",
    "#         if m in order:\n",
    "#             order.remove(m)\n",
    "#             order.insert(0, m)\n",
    "#     return order\n",
    "\n",
    "# collect = {}\n",
    "\n",
    "# collect[\"lr_2008\"] = get_best_score(tune_search)\n",
    "\n",
    "# collect\n",
    "\n",
    "# order = get_metric_order(collect)\n",
    "\n",
    "# # collect = collections.OrderedDict(collect)\n",
    "\n",
    "# # val_summary = pd.DataFrame(collect)\n",
    "\n",
    "# val_summary = pd.DataFrame(collect, index=order)\n",
    "# val_summary_floats = val_summary.apply(pd.to_numeric, axis=0, errors=\"coerce\")\n",
    "# val_summary.insert(loc=0, column=\"std\", value=val_summary_floats.std(axis=1))\n",
    "# val_summary.insert(loc=0, column=\"mean\", value=val_summary_floats.mean(axis=1))\n",
    "\n",
    "# val_summary"
   ]
  },
  {
   "cell_type": "code",
   "execution_count": null,
   "id": "c343f530",
   "metadata": {},
   "outputs": [],
   "source": []
  },
  {
   "cell_type": "code",
   "execution_count": null,
   "id": "1365bbc5",
   "metadata": {},
   "outputs": [],
   "source": []
  },
  {
   "cell_type": "code",
   "execution_count": 33,
   "id": "331a4a19",
   "metadata": {},
   "outputs": [
    {
     "data": {
      "text/html": [
       "<style>#sk-container-id-1 {color: black;background-color: white;}#sk-container-id-1 pre{padding: 0;}#sk-container-id-1 div.sk-toggleable {background-color: white;}#sk-container-id-1 label.sk-toggleable__label {cursor: pointer;display: block;width: 100%;margin-bottom: 0;padding: 0.3em;box-sizing: border-box;text-align: center;}#sk-container-id-1 label.sk-toggleable__label-arrow:before {content: \"▸\";float: left;margin-right: 0.25em;color: #696969;}#sk-container-id-1 label.sk-toggleable__label-arrow:hover:before {color: black;}#sk-container-id-1 div.sk-estimator:hover label.sk-toggleable__label-arrow:before {color: black;}#sk-container-id-1 div.sk-toggleable__content {max-height: 0;max-width: 0;overflow: hidden;text-align: left;background-color: #f0f8ff;}#sk-container-id-1 div.sk-toggleable__content pre {margin: 0.2em;color: black;border-radius: 0.25em;background-color: #f0f8ff;}#sk-container-id-1 input.sk-toggleable__control:checked~div.sk-toggleable__content {max-height: 200px;max-width: 100%;overflow: auto;}#sk-container-id-1 input.sk-toggleable__control:checked~label.sk-toggleable__label-arrow:before {content: \"▾\";}#sk-container-id-1 div.sk-estimator input.sk-toggleable__control:checked~label.sk-toggleable__label {background-color: #d4ebff;}#sk-container-id-1 div.sk-label input.sk-toggleable__control:checked~label.sk-toggleable__label {background-color: #d4ebff;}#sk-container-id-1 input.sk-hidden--visually {border: 0;clip: rect(1px 1px 1px 1px);clip: rect(1px, 1px, 1px, 1px);height: 1px;margin: -1px;overflow: hidden;padding: 0;position: absolute;width: 1px;}#sk-container-id-1 div.sk-estimator {font-family: monospace;background-color: #f0f8ff;border: 1px dotted black;border-radius: 0.25em;box-sizing: border-box;margin-bottom: 0.5em;}#sk-container-id-1 div.sk-estimator:hover {background-color: #d4ebff;}#sk-container-id-1 div.sk-parallel-item::after {content: \"\";width: 100%;border-bottom: 1px solid gray;flex-grow: 1;}#sk-container-id-1 div.sk-label:hover label.sk-toggleable__label {background-color: #d4ebff;}#sk-container-id-1 div.sk-serial::before {content: \"\";position: absolute;border-left: 1px solid gray;box-sizing: border-box;top: 0;bottom: 0;left: 50%;z-index: 0;}#sk-container-id-1 div.sk-serial {display: flex;flex-direction: column;align-items: center;background-color: white;padding-right: 0.2em;padding-left: 0.2em;position: relative;}#sk-container-id-1 div.sk-item {position: relative;z-index: 1;}#sk-container-id-1 div.sk-parallel {display: flex;align-items: stretch;justify-content: center;background-color: white;position: relative;}#sk-container-id-1 div.sk-item::before, #sk-container-id-1 div.sk-parallel-item::before {content: \"\";position: absolute;border-left: 1px solid gray;box-sizing: border-box;top: 0;bottom: 0;left: 50%;z-index: -1;}#sk-container-id-1 div.sk-parallel-item {display: flex;flex-direction: column;z-index: 1;position: relative;background-color: white;}#sk-container-id-1 div.sk-parallel-item:first-child::after {align-self: flex-end;width: 50%;}#sk-container-id-1 div.sk-parallel-item:last-child::after {align-self: flex-start;width: 50%;}#sk-container-id-1 div.sk-parallel-item:only-child::after {width: 0;}#sk-container-id-1 div.sk-dashed-wrapped {border: 1px dashed gray;margin: 0 0.4em 0.5em 0.4em;box-sizing: border-box;padding-bottom: 0.4em;background-color: white;}#sk-container-id-1 div.sk-label label {font-family: monospace;font-weight: bold;display: inline-block;line-height: 1.2em;}#sk-container-id-1 div.sk-label-container {text-align: center;}#sk-container-id-1 div.sk-container {/* jupyter's `normalize.less` sets `[hidden] { display: none; }` but bootstrap.min.css set `[hidden] { display: none !important; }` so we also need the `!important` here to be able to override the default hidden behavior on the sphinx rendered scikit-learn.org. See: https://github.com/scikit-learn/scikit-learn/issues/21755 */display: inline-block !important;position: relative;}#sk-container-id-1 div.sk-text-repr-fallback {display: none;}</style><div id=\"sk-container-id-1\" class=\"sk-top-container\"><div class=\"sk-text-repr-fallback\"><pre>Pipeline(steps=[(&#x27;scaler&#x27;, StandardScaler()),\n",
       "                (&#x27;clf&#x27;,\n",
       "                 SGDClassifier(alpha=1,\n",
       "                               class_weight={0: 1.5260438076642002,\n",
       "                                             1: 0.5234775988229621,\n",
       "                                             2: 2.301975982473988},\n",
       "                               max_iter=1, random_state=42))])</pre><b>In a Jupyter environment, please rerun this cell to show the HTML representation or trust the notebook. <br />On GitHub, the HTML representation is unable to render, please try loading this page with nbviewer.org.</b></div><div class=\"sk-container\" hidden><div class=\"sk-item sk-dashed-wrapped\"><div class=\"sk-label-container\"><div class=\"sk-label sk-toggleable\"><input class=\"sk-toggleable__control sk-hidden--visually\" id=\"sk-estimator-id-1\" type=\"checkbox\" ><label for=\"sk-estimator-id-1\" class=\"sk-toggleable__label sk-toggleable__label-arrow\">Pipeline</label><div class=\"sk-toggleable__content\"><pre>Pipeline(steps=[(&#x27;scaler&#x27;, StandardScaler()),\n",
       "                (&#x27;clf&#x27;,\n",
       "                 SGDClassifier(alpha=1,\n",
       "                               class_weight={0: 1.5260438076642002,\n",
       "                                             1: 0.5234775988229621,\n",
       "                                             2: 2.301975982473988},\n",
       "                               max_iter=1, random_state=42))])</pre></div></div></div><div class=\"sk-serial\"><div class=\"sk-item\"><div class=\"sk-estimator sk-toggleable\"><input class=\"sk-toggleable__control sk-hidden--visually\" id=\"sk-estimator-id-2\" type=\"checkbox\" ><label for=\"sk-estimator-id-2\" class=\"sk-toggleable__label sk-toggleable__label-arrow\">StandardScaler</label><div class=\"sk-toggleable__content\"><pre>StandardScaler()</pre></div></div></div><div class=\"sk-item\"><div class=\"sk-estimator sk-toggleable\"><input class=\"sk-toggleable__control sk-hidden--visually\" id=\"sk-estimator-id-3\" type=\"checkbox\" ><label for=\"sk-estimator-id-3\" class=\"sk-toggleable__label sk-toggleable__label-arrow\">SGDClassifier</label><div class=\"sk-toggleable__content\"><pre>SGDClassifier(alpha=1,\n",
       "              class_weight={0: 1.5260438076642002, 1: 0.5234775988229621,\n",
       "                            2: 2.301975982473988},\n",
       "              max_iter=1, random_state=42)</pre></div></div></div></div></div></div></div>"
      ],
      "text/plain": [
       "Pipeline(steps=[('scaler', StandardScaler()),\n",
       "                ('clf',\n",
       "                 SGDClassifier(alpha=1,\n",
       "                               class_weight={0: 1.5260438076642002,\n",
       "                                             1: 0.5234775988229621,\n",
       "                                             2: 2.301975982473988},\n",
       "                               max_iter=1, random_state=42))])"
      ]
     },
     "execution_count": 33,
     "metadata": {},
     "output_type": "execute_result"
    }
   ],
   "source": [
    "tune_search.best_estimator_"
   ]
  },
  {
   "cell_type": "code",
   "execution_count": 34,
   "id": "206b35b9",
   "metadata": {},
   "outputs": [
    {
     "data": {
      "text/plain": [
       "{'clf__alpha': 1, 'clf__loss': 'hinge'}"
      ]
     },
     "execution_count": 34,
     "metadata": {},
     "output_type": "execute_result"
    }
   ],
   "source": [
    "tune_search.best_params_"
   ]
  },
  {
   "cell_type": "code",
   "execution_count": 35,
   "id": "1ae8eb82",
   "metadata": {},
   "outputs": [
    {
     "data": {
      "text/plain": [
       "0"
      ]
     },
     "execution_count": 35,
     "metadata": {},
     "output_type": "execute_result"
    }
   ],
   "source": [
    "tune_search.best_index_"
   ]
  },
  {
   "cell_type": "code",
   "execution_count": 36,
   "id": "4f09eb90",
   "metadata": {},
   "outputs": [
    {
     "data": {
      "text/plain": [
       "0.337700840983256"
      ]
     },
     "execution_count": 36,
     "metadata": {},
     "output_type": "execute_result"
    }
   ],
   "source": [
    "tune_search.best_score_"
   ]
  },
  {
   "cell_type": "code",
   "execution_count": null,
   "id": "2f31a9f3",
   "metadata": {},
   "outputs": [],
   "source": []
  },
  {
   "cell_type": "code",
   "execution_count": null,
   "id": "3dd11b09",
   "metadata": {},
   "outputs": [],
   "source": []
  },
  {
   "cell_type": "code",
   "execution_count": 37,
   "id": "1561b72c",
   "metadata": {},
   "outputs": [],
   "source": [
    "y_pred = tune_search.predict(data.X_val)"
   ]
  },
  {
   "cell_type": "code",
   "execution_count": 38,
   "id": "9e1ae123",
   "metadata": {},
   "outputs": [
    {
     "data": {
      "text/plain": [
       "array([1, 1, 1, ..., 1, 1, 1], dtype=int64)"
      ]
     },
     "execution_count": 38,
     "metadata": {},
     "output_type": "execute_result"
    }
   ],
   "source": [
    "y_pred"
   ]
  },
  {
   "cell_type": "code",
   "execution_count": 39,
   "id": "f7aa421f",
   "metadata": {},
   "outputs": [],
   "source": [
    "from sklearn.metrics import ConfusionMatrixDisplay"
   ]
  },
  {
   "cell_type": "code",
   "execution_count": 40,
   "id": "02de73b4",
   "metadata": {},
   "outputs": [
    {
     "data": {
      "text/plain": [
       "<sklearn.metrics._plot.confusion_matrix.ConfusionMatrixDisplay at 0x26891cfb250>"
      ]
     },
     "execution_count": 40,
     "metadata": {},
     "output_type": "execute_result"
    },
    {
     "data": {
      "image/png": "[encoded data removed]",
      "text/plain": [
       "<Figure size 432x288 with 2 Axes>"
      ]
     },
     "metadata": {
      "needs_background": "light"
     },
     "output_type": "display_data"
    }
   ],
   "source": [
    "ConfusionMatrixDisplay.from_predictions(data.y_val, y_pred)"
   ]
  },
  {
   "cell_type": "code",
   "execution_count": 41,
   "id": "c9e01eda",
   "metadata": {},
   "outputs": [
    {
     "data": {
      "text/plain": [
       "<sklearn.metrics._plot.confusion_matrix.ConfusionMatrixDisplay at 0x26891e3f3a0>"
      ]
     },
     "execution_count": 41,
     "metadata": {},
     "output_type": "execute_result"
    },
    {
     "data": {
      "image/png": "[encoded data removed]",
      "text/plain": [
       "<Figure size 432x288 with 2 Axes>"
      ]
     },
     "metadata": {
      "needs_background": "light"
     },
     "output_type": "display_data"
    }
   ],
   "source": [
    "ConfusionMatrixDisplay.from_predictions(data.y_val, y_pred, normalize=\"pred\")"
   ]
  },
  {
   "cell_type": "code",
   "execution_count": null,
   "id": "7a8b2d30",
   "metadata": {},
   "outputs": [],
   "source": []
  },
  {
   "cell_type": "code",
   "execution_count": 42,
   "id": "0ad63cd5",
   "metadata": {},
   "outputs": [
    {
     "data": {
      "text/plain": [
       "0.33520206229679395"
      ]
     },
     "execution_count": 42,
     "metadata": {},
     "output_type": "execute_result"
    }
   ],
   "source": [
    "balanced_accuracy_score(data.y_val, y_pred)"
   ]
  },
  {
   "cell_type": "code",
   "execution_count": 43,
   "id": "083a457c",
   "metadata": {},
   "outputs": [
    {
     "data": {
      "text/plain": [
       "0.9982809725954752"
      ]
     },
     "execution_count": 43,
     "metadata": {},
     "output_type": "execute_result"
    }
   ],
   "source": [
    "np.sum(y_pred) / len(y_pred)"
   ]
  },
  {
   "cell_type": "code",
   "execution_count": 44,
   "id": "c8250983",
   "metadata": {},
   "outputs": [],
   "source": [
    "y_trivial = np.ones_like(data.y_val)"
   ]
  },
  {
   "cell_type": "code",
   "execution_count": 45,
   "id": "447a2965",
   "metadata": {},
   "outputs": [
    {
     "data": {
      "text/plain": [
       "0.8071896848108173"
      ]
     },
     "execution_count": 45,
     "metadata": {},
     "output_type": "execute_result"
    }
   ],
   "source": [
    "accuracy_score(data.y_val, y_trivial)"
   ]
  },
  {
   "cell_type": "code",
   "execution_count": 46,
   "id": "e134475b",
   "metadata": {},
   "outputs": [
    {
     "data": {
      "text/plain": [
       "0.8073177792522871"
      ]
     },
     "execution_count": 46,
     "metadata": {},
     "output_type": "execute_result"
    }
   ],
   "source": [
    "accuracy_score(data.y_val, y_pred)"
   ]
  },
  {
   "cell_type": "code",
   "execution_count": 47,
   "id": "3ba82ae5",
   "metadata": {},
   "outputs": [],
   "source": [
    "# 0.8073177792522871"
   ]
  },
  {
   "cell_type": "code",
   "execution_count": 48,
   "id": "c3a6edb7",
   "metadata": {},
   "outputs": [
    {
     "data": {
      "text/plain": [
       "0.3333333333333333"
      ]
     },
     "execution_count": 48,
     "metadata": {},
     "output_type": "execute_result"
    }
   ],
   "source": [
    "balanced_accuracy_score(data.y_val, y_trivial)"
   ]
  },
  {
   "cell_type": "code",
   "execution_count": null,
   "id": "347192a3",
   "metadata": {},
   "outputs": [],
   "source": []
  },
  {
   "cell_type": "code",
   "execution_count": null,
   "id": "8de3eb82",
   "metadata": {},
   "outputs": [],
   "source": []
  },
  {
   "cell_type": "code",
   "execution_count": null,
   "id": "054bf8bd",
   "metadata": {},
   "outputs": [],
   "source": []
  },
  {
   "cell_type": "code",
   "execution_count": null,
   "id": "0d796fe9",
   "metadata": {},
   "outputs": [],
   "source": []
  },
  {
   "cell_type": "code",
   "execution_count": null,
   "id": "b7c2b1bb",
   "metadata": {},
   "outputs": [],
   "source": []
  },
  {
   "cell_type": "code",
   "execution_count": null,
   "id": "0f0e5bb4",
   "metadata": {},
   "outputs": [],
   "source": []
  },
  {
   "cell_type": "code",
   "execution_count": null,
   "id": "af3f277e",
   "metadata": {},
   "outputs": [],
   "source": []
  },
  {
   "cell_type": "code",
   "execution_count": null,
   "id": "07b55df1",
   "metadata": {},
   "outputs": [],
   "source": []
  }
 ],
 "metadata": {
  "kernelspec": {
   "display_name": "Python 3.8.5 ('masterthesis')",
   "language": "python",
   "name": "python3"
  },
  "language_info": {
   "codemirror_mode": {
    "name": "ipython",
    "version": 3
   },
   "file_extension": ".py",
   "mimetype": "text/x-python",
   "name": "python",
   "nbconvert_exporter": "python",
   "pygments_lexer": "ipython3",
   "version": "3.8.5"
  },
  "vscode": {
   "interpreter": {
    "hash": "137ad5de30c222602b906d427f317b23725154a9d2ac1dd9f95e9d3b5697fcc3"
   }
  }
 },
 "nbformat": 4,
 "nbformat_minor": 5
}
