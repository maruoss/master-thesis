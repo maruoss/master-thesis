{
 "cells": [
  {
   "cell_type": "code",
   "execution_count": 1,
   "id": "17fa32ff",
   "metadata": {},
   "outputs": [],
   "source": [
    "import numpy as np\n",
    "import pandas as pd\n",
    "from pathlib import Path\n",
    "import matplotlib.pyplot as plt"
   ]
  },
  {
   "cell_type": "code",
   "execution_count": 2,
   "id": "d924c1a1",
   "metadata": {},
   "outputs": [],
   "source": [
    "path = r\"C:\\Users\\Mathiass\\Documents\\Projects\\master-thesis\\data\"\n",
    "path = Path(path)"
   ]
  },
  {
   "cell_type": "code",
   "execution_count": 3,
   "id": "dc45297f",
   "metadata": {},
   "outputs": [],
   "source": [
    "# raw option return data\n",
    "raw = pd.read_parquet(path/\"sp500_op_ret.parquet\")"
   ]
  },
  {
   "cell_type": "code",
   "execution_count": 4,
   "id": "0d3df55d",
   "metadata": {
    "scrolled": true
   },
   "outputs": [
    {
     "data": {
      "text/plain": [
       "0          1996-01-31 00:00:00\n",
       "1          1996-01-31 00:00:00\n",
       "2          1996-01-31 00:00:00\n",
       "3          1996-01-31 00:00:00\n",
       "4          1996-01-31 00:00:00\n",
       "                  ...         \n",
       "3825526    2021-11-30 00:00:00\n",
       "3825527    2021-11-30 00:00:00\n",
       "3825528    2021-11-30 00:00:00\n",
       "3825529    2021-11-30 00:00:00\n",
       "3825530    2021-11-30 00:00:00\n",
       "Name: date, Length: 3825531, dtype: object"
      ]
     },
     "execution_count": 4,
     "metadata": {},
     "output_type": "execute_result"
    }
   ],
   "source": [
    "raw[\"date\"]"
   ]
  },
  {
   "cell_type": "code",
   "execution_count": 5,
   "id": "e3d60a55",
   "metadata": {},
   "outputs": [],
   "source": [
    "# small dataset (already cleaned has 2145 rows less)\n",
    "data = pd.read_parquet(path/\"final_df_small.parquet\")"
   ]
  },
  {
   "cell_type": "code",
   "execution_count": null,
   "id": "ccf67d31",
   "metadata": {},
   "outputs": [],
   "source": [
    "# Are lowest 50 option returns both contained in data and raw?\n",
    "data[\"option_ret\"].sort_values()[:50].values == raw[\"option_ret\"].sort_values()[:50].values"
   ]
  },
  {
   "cell_type": "code",
   "execution_count": null,
   "id": "5079e138",
   "metadata": {},
   "outputs": [],
   "source": [
    "# Are the highest 50 option returns both contained in data and raw?\n",
    "data[\"option_ret\"].sort_values(ascending=False)[:50].values == raw[\"option_ret\"].sort_values(ascending=False)[:50].values"
   ]
  },
  {
   "cell_type": "markdown",
   "id": "459fc289",
   "metadata": {},
   "source": [
    "## Top 10 worst returns"
   ]
  },
  {
   "cell_type": "code",
   "execution_count": 16,
   "id": "6496d047",
   "metadata": {
    "scrolled": true
   },
   "outputs": [
    {
     "data": {
      "text/html": [
       "<div>\n",
       "<style scoped>\n",
       "    .dataframe tbody tr th:only-of-type {\n",
       "        vertical-align: middle;\n",
       "    }\n",
       "\n",
       "    .dataframe tbody tr th {\n",
       "        vertical-align: top;\n",
       "    }\n",
       "\n",
       "    .dataframe thead th {\n",
       "        text-align: right;\n",
       "    }\n",
       "</style>\n",
       "<table border=\"1\" class=\"dataframe\">\n",
       "  <thead>\n",
       "    <tr style=\"text-align: right;\">\n",
       "      <th></th>\n",
       "      <th>date</th>\n",
       "      <th>option_ret</th>\n",
       "      <th>optionid</th>\n",
       "      <th>cp_flag</th>\n",
       "    </tr>\n",
       "  </thead>\n",
       "  <tbody>\n",
       "    <tr>\n",
       "      <th>3083837</th>\n",
       "      <td>2020-02-28 00:00:00</td>\n",
       "      <td>-16010.237592</td>\n",
       "      <td>132018313</td>\n",
       "      <td>C</td>\n",
       "    </tr>\n",
       "    <tr>\n",
       "      <th>1323718</th>\n",
       "      <td>2010-05-28 00:00:00</td>\n",
       "      <td>-15369.367007</td>\n",
       "      <td>45086372</td>\n",
       "      <td>C</td>\n",
       "    </tr>\n",
       "    <tr>\n",
       "      <th>356693</th>\n",
       "      <td>2001-05-31 00:00:00</td>\n",
       "      <td>-6969.419732</td>\n",
       "      <td>20165479</td>\n",
       "      <td>C</td>\n",
       "    </tr>\n",
       "    <tr>\n",
       "      <th>267405</th>\n",
       "      <td>2000-05-31 00:00:00</td>\n",
       "      <td>-6668.701864</td>\n",
       "      <td>10108221</td>\n",
       "      <td>C</td>\n",
       "    </tr>\n",
       "    <tr>\n",
       "      <th>1594729</th>\n",
       "      <td>2012-07-31 00:00:00</td>\n",
       "      <td>-4615.544248</td>\n",
       "      <td>81466755</td>\n",
       "      <td>C</td>\n",
       "    </tr>\n",
       "    <tr>\n",
       "      <th>1075759</th>\n",
       "      <td>2008-07-31 00:00:00</td>\n",
       "      <td>-4243.383543</td>\n",
       "      <td>33252741</td>\n",
       "      <td>C</td>\n",
       "    </tr>\n",
       "    <tr>\n",
       "      <th>1879296</th>\n",
       "      <td>2014-08-29 00:00:00</td>\n",
       "      <td>-3806.802488</td>\n",
       "      <td>83234280</td>\n",
       "      <td>C</td>\n",
       "    </tr>\n",
       "    <tr>\n",
       "      <th>475773</th>\n",
       "      <td>2003-02-28 00:00:00</td>\n",
       "      <td>-3134.307265</td>\n",
       "      <td>20962033</td>\n",
       "      <td>C</td>\n",
       "    </tr>\n",
       "    <tr>\n",
       "      <th>3152420</th>\n",
       "      <td>2020-04-30 00:00:00</td>\n",
       "      <td>-2665.715171</td>\n",
       "      <td>132343718</td>\n",
       "      <td>C</td>\n",
       "    </tr>\n",
       "    <tr>\n",
       "      <th>1883189</th>\n",
       "      <td>2014-08-29 00:00:00</td>\n",
       "      <td>-2648.007664</td>\n",
       "      <td>105080119</td>\n",
       "      <td>C</td>\n",
       "    </tr>\n",
       "  </tbody>\n",
       "</table>\n",
       "</div>"
      ],
      "text/plain": [
       "                        date    option_ret   optionid cp_flag\n",
       "3083837  2020-02-28 00:00:00 -16010.237592  132018313       C\n",
       "1323718  2010-05-28 00:00:00 -15369.367007   45086372       C\n",
       "356693   2001-05-31 00:00:00  -6969.419732   20165479       C\n",
       "267405   2000-05-31 00:00:00  -6668.701864   10108221       C\n",
       "1594729  2012-07-31 00:00:00  -4615.544248   81466755       C\n",
       "1075759  2008-07-31 00:00:00  -4243.383543   33252741       C\n",
       "1879296  2014-08-29 00:00:00  -3806.802488   83234280       C\n",
       "475773   2003-02-28 00:00:00  -3134.307265   20962033       C\n",
       "3152420  2020-04-30 00:00:00  -2665.715171  132343718       C\n",
       "1883189  2014-08-29 00:00:00  -2648.007664  105080119       C"
      ]
     },
     "execution_count": 16,
     "metadata": {},
     "output_type": "execute_result"
    }
   ],
   "source": [
    "#Top 10 worst returns\n",
    "raw.loc[raw[\"option_ret\"].sort_values()[:10].index, [\"date\", \"option_ret\", \"optionid\", \"cp_flag\"]]"
   ]
  },
  {
   "cell_type": "markdown",
   "id": "8ccaccb3",
   "metadata": {},
   "source": [
    "### Optiond Id 81466755"
   ]
  },
  {
   "cell_type": "code",
   "execution_count": null,
   "id": "dfe60ad4",
   "metadata": {},
   "outputs": [],
   "source": [
    "raw[raw[\"optionid\"]==81466755][\"delta\"]"
   ]
  },
  {
   "cell_type": "code",
   "execution_count": null,
   "id": "01d46192",
   "metadata": {},
   "outputs": [],
   "source": [
    "raw[raw[\"optionid\"]==81466755]"
   ]
  },
  {
   "cell_type": "code",
   "execution_count": null,
   "id": "c1e93785",
   "metadata": {},
   "outputs": [],
   "source": [
    "# -4615.544248 option return should be:\n",
    "(8.075 / 23.500 - 1) - 0.538360 * (422.90 / 436.627584 - 1)"
   ]
  },
  {
   "cell_type": "markdown",
   "id": "a1e65206",
   "metadata": {},
   "source": [
    "### Optiond Id 20165479"
   ]
  },
  {
   "cell_type": "code",
   "execution_count": null,
   "id": "95ff0fda",
   "metadata": {},
   "outputs": [],
   "source": [
    "raw[raw[\"optionid\"]==20165479][\"delta\"]"
   ]
  },
  {
   "cell_type": "code",
   "execution_count": null,
   "id": "110ede36",
   "metadata": {
    "scrolled": true
   },
   "outputs": [],
   "source": [
    "raw[raw[\"optionid\"]==20165479]"
   ]
  },
  {
   "cell_type": "code",
   "execution_count": null,
   "id": "c201ac14",
   "metadata": {},
   "outputs": [],
   "source": [
    "# 133.85 option return should be:\n",
    "(3.250 / 1.425 - 1) - 0.236497 * (57.27 / 48.60 - 1)"
   ]
  },
  {
   "cell_type": "markdown",
   "id": "ae8c4348",
   "metadata": {},
   "source": [
    "## Top 10 best returns"
   ]
  },
  {
   "cell_type": "code",
   "execution_count": 15,
   "id": "fa7c1d6b",
   "metadata": {
    "scrolled": true
   },
   "outputs": [
    {
     "data": {
      "text/html": [
       "<div>\n",
       "<style scoped>\n",
       "    .dataframe tbody tr th:only-of-type {\n",
       "        vertical-align: middle;\n",
       "    }\n",
       "\n",
       "    .dataframe tbody tr th {\n",
       "        vertical-align: top;\n",
       "    }\n",
       "\n",
       "    .dataframe thead th {\n",
       "        text-align: right;\n",
       "    }\n",
       "</style>\n",
       "<table border=\"1\" class=\"dataframe\">\n",
       "  <thead>\n",
       "    <tr style=\"text-align: right;\">\n",
       "      <th></th>\n",
       "      <th>date</th>\n",
       "      <th>option_ret</th>\n",
       "      <th>optionid</th>\n",
       "      <th>cp_flag</th>\n",
       "    </tr>\n",
       "  </thead>\n",
       "  <tbody>\n",
       "    <tr>\n",
       "      <th>2104225</th>\n",
       "      <td>2015-10-30 00:00:00</td>\n",
       "      <td>74252.888685</td>\n",
       "      <td>102054672</td>\n",
       "      <td>C</td>\n",
       "    </tr>\n",
       "    <tr>\n",
       "      <th>1615906</th>\n",
       "      <td>2012-09-28 00:00:00</td>\n",
       "      <td>27979.489254</td>\n",
       "      <td>66320130</td>\n",
       "      <td>C</td>\n",
       "    </tr>\n",
       "    <tr>\n",
       "      <th>3120356</th>\n",
       "      <td>2020-03-31 00:00:00</td>\n",
       "      <td>17452.485915</td>\n",
       "      <td>132343774</td>\n",
       "      <td>C</td>\n",
       "    </tr>\n",
       "    <tr>\n",
       "      <th>1620506</th>\n",
       "      <td>2012-10-31 00:00:00</td>\n",
       "      <td>12037.692991</td>\n",
       "      <td>74014415</td>\n",
       "      <td>C</td>\n",
       "    </tr>\n",
       "    <tr>\n",
       "      <th>1835567</th>\n",
       "      <td>2014-05-30 00:00:00</td>\n",
       "      <td>11947.797354</td>\n",
       "      <td>102819288</td>\n",
       "      <td>C</td>\n",
       "    </tr>\n",
       "    <tr>\n",
       "      <th>179984</th>\n",
       "      <td>1999-05-28 00:00:00</td>\n",
       "      <td>11925.666320</td>\n",
       "      <td>10189534</td>\n",
       "      <td>C</td>\n",
       "    </tr>\n",
       "    <tr>\n",
       "      <th>12757</th>\n",
       "      <td>1996-04-30 00:00:00</td>\n",
       "      <td>6953.112214</td>\n",
       "      <td>10425099</td>\n",
       "      <td>C</td>\n",
       "    </tr>\n",
       "    <tr>\n",
       "      <th>1753451</th>\n",
       "      <td>2013-11-29 00:00:00</td>\n",
       "      <td>6883.764660</td>\n",
       "      <td>100945596</td>\n",
       "      <td>C</td>\n",
       "    </tr>\n",
       "    <tr>\n",
       "      <th>724691</th>\n",
       "      <td>2005-12-30 00:00:00</td>\n",
       "      <td>4810.721969</td>\n",
       "      <td>27266915</td>\n",
       "      <td>C</td>\n",
       "    </tr>\n",
       "    <tr>\n",
       "      <th>1528391</th>\n",
       "      <td>2012-01-31 00:00:00</td>\n",
       "      <td>4271.793028</td>\n",
       "      <td>62435062</td>\n",
       "      <td>C</td>\n",
       "    </tr>\n",
       "  </tbody>\n",
       "</table>\n",
       "</div>"
      ],
      "text/plain": [
       "                        date    option_ret   optionid cp_flag\n",
       "2104225  2015-10-30 00:00:00  74252.888685  102054672       C\n",
       "1615906  2012-09-28 00:00:00  27979.489254   66320130       C\n",
       "3120356  2020-03-31 00:00:00  17452.485915  132343774       C\n",
       "1620506  2012-10-31 00:00:00  12037.692991   74014415       C\n",
       "1835567  2014-05-30 00:00:00  11947.797354  102819288       C\n",
       "179984   1999-05-28 00:00:00  11925.666320   10189534       C\n",
       "12757    1996-04-30 00:00:00   6953.112214   10425099       C\n",
       "1753451  2013-11-29 00:00:00   6883.764660  100945596       C\n",
       "724691   2005-12-30 00:00:00   4810.721969   27266915       C\n",
       "1528391  2012-01-31 00:00:00   4271.793028   62435062       C"
      ]
     },
     "execution_count": 15,
     "metadata": {},
     "output_type": "execute_result"
    }
   ],
   "source": [
    "#Top 10 best returns\n",
    "raw.loc[raw[\"option_ret\"].sort_values(ascending=False)[:10].index, [\"date\", \"option_ret\", \"optionid\", \"cp_flag\"]]"
   ]
  },
  {
   "cell_type": "markdown",
   "id": "fa05b725",
   "metadata": {},
   "source": [
    "### Optiond Id 66320130"
   ]
  },
  {
   "cell_type": "code",
   "execution_count": 8,
   "id": "1bdba731",
   "metadata": {},
   "outputs": [
    {
     "data": {
      "text/plain": [
       "1526846    0.848106\n",
       "1560071    0.651892\n",
       "1570998    0.485178\n",
       "1582947    0.497496\n",
       "1594127    0.316227\n",
       "1615906    0.180696\n",
       "1619867    0.634070\n",
       "1628563    0.709665\n",
       "Name: delta, dtype: float64"
      ]
     },
     "execution_count": 8,
     "metadata": {},
     "output_type": "execute_result"
    }
   ],
   "source": [
    "raw[raw[\"optionid\"]==66320130][\"delta\"]"
   ]
  },
  {
   "cell_type": "code",
   "execution_count": 9,
   "id": "6492a030",
   "metadata": {},
   "outputs": [
    {
     "data": {
      "text/html": [
       "<div>\n",
       "<style scoped>\n",
       "    .dataframe tbody tr th:only-of-type {\n",
       "        vertical-align: middle;\n",
       "    }\n",
       "\n",
       "    .dataframe tbody tr th {\n",
       "        vertical-align: top;\n",
       "    }\n",
       "\n",
       "    .dataframe thead th {\n",
       "        text-align: right;\n",
       "    }\n",
       "</style>\n",
       "<table border=\"1\" class=\"dataframe\">\n",
       "  <thead>\n",
       "    <tr style=\"text-align: right;\">\n",
       "      <th></th>\n",
       "      <th>secid</th>\n",
       "      <th>date</th>\n",
       "      <th>exdate</th>\n",
       "      <th>cp_flag</th>\n",
       "      <th>strike_price</th>\n",
       "      <th>best_bid</th>\n",
       "      <th>best_offer</th>\n",
       "      <th>volume</th>\n",
       "      <th>open_interest</th>\n",
       "      <th>impl_volatility</th>\n",
       "      <th>...</th>\n",
       "      <th>optionid</th>\n",
       "      <th>cfadj</th>\n",
       "      <th>days_no_trading</th>\n",
       "      <th>days_to_exp</th>\n",
       "      <th>forwardprice</th>\n",
       "      <th>spotprice</th>\n",
       "      <th>adj_spot</th>\n",
       "      <th>ir_rate</th>\n",
       "      <th>mid_price</th>\n",
       "      <th>option_ret</th>\n",
       "    </tr>\n",
       "  </thead>\n",
       "  <tbody>\n",
       "    <tr>\n",
       "      <th>1526846</th>\n",
       "      <td>115422</td>\n",
       "      <td>2012-01-31 00:00:00</td>\n",
       "      <td>2013-01-19 00:00:00</td>\n",
       "      <td>C</td>\n",
       "      <td>75.0</td>\n",
       "      <td>54.70</td>\n",
       "      <td>55.50</td>\n",
       "      <td>5</td>\n",
       "      <td>220</td>\n",
       "      <td>0.715199</td>\n",
       "      <td>...</td>\n",
       "      <td>66320130</td>\n",
       "      <td>1</td>\n",
       "      <td>0</td>\n",
       "      <td>354</td>\n",
       "      <td>120.746930</td>\n",
       "      <td>120.2000</td>\n",
       "      <td>17.171429</td>\n",
       "      <td>0.004695</td>\n",
       "      <td>55.100</td>\n",
       "      <td>-0.209751</td>\n",
       "    </tr>\n",
       "    <tr>\n",
       "      <th>1560071</th>\n",
       "      <td>115422</td>\n",
       "      <td>2012-04-30 00:00:00</td>\n",
       "      <td>2013-01-19 00:00:00</td>\n",
       "      <td>C</td>\n",
       "      <td>75.0</td>\n",
       "      <td>18.15</td>\n",
       "      <td>18.40</td>\n",
       "      <td>29</td>\n",
       "      <td>219</td>\n",
       "      <td>0.594645</td>\n",
       "      <td>...</td>\n",
       "      <td>66320130</td>\n",
       "      <td>1</td>\n",
       "      <td>0</td>\n",
       "      <td>264</td>\n",
       "      <td>80.419825</td>\n",
       "      <td>80.1400</td>\n",
       "      <td>11.448571</td>\n",
       "      <td>0.004839</td>\n",
       "      <td>18.275</td>\n",
       "      <td>-0.656208</td>\n",
       "    </tr>\n",
       "    <tr>\n",
       "      <th>1570998</th>\n",
       "      <td>115422</td>\n",
       "      <td>2012-05-31 00:00:00</td>\n",
       "      <td>2013-01-19 00:00:00</td>\n",
       "      <td>C</td>\n",
       "      <td>75.0</td>\n",
       "      <td>9.50</td>\n",
       "      <td>9.75</td>\n",
       "      <td>20</td>\n",
       "      <td>284</td>\n",
       "      <td>0.673245</td>\n",
       "      <td>...</td>\n",
       "      <td>66320130</td>\n",
       "      <td>1</td>\n",
       "      <td>0</td>\n",
       "      <td>233</td>\n",
       "      <td>63.653182</td>\n",
       "      <td>63.4400</td>\n",
       "      <td>9.062857</td>\n",
       "      <td>0.005281</td>\n",
       "      <td>9.625</td>\n",
       "      <td>-0.215129</td>\n",
       "    </tr>\n",
       "    <tr>\n",
       "      <th>1582947</th>\n",
       "      <td>115422</td>\n",
       "      <td>2012-06-29 00:00:00</td>\n",
       "      <td>2013-01-19 00:00:00</td>\n",
       "      <td>C</td>\n",
       "      <td>75.0</td>\n",
       "      <td>8.75</td>\n",
       "      <td>8.95</td>\n",
       "      <td>6</td>\n",
       "      <td>329</td>\n",
       "      <td>0.555102</td>\n",
       "      <td>...</td>\n",
       "      <td>66320130</td>\n",
       "      <td>1</td>\n",
       "      <td>0</td>\n",
       "      <td>204</td>\n",
       "      <td>68.661406</td>\n",
       "      <td>68.4850</td>\n",
       "      <td>9.783571</td>\n",
       "      <td>0.004628</td>\n",
       "      <td>8.850</td>\n",
       "      <td>-1.047801</td>\n",
       "    </tr>\n",
       "    <tr>\n",
       "      <th>1594127</th>\n",
       "      <td>115422</td>\n",
       "      <td>2012-07-31 00:00:00</td>\n",
       "      <td>2013-01-19 00:00:00</td>\n",
       "      <td>C</td>\n",
       "      <td>75.0</td>\n",
       "      <td>3.80</td>\n",
       "      <td>3.90</td>\n",
       "      <td>17</td>\n",
       "      <td>519</td>\n",
       "      <td>0.590869</td>\n",
       "      <td>...</td>\n",
       "      <td>66320130</td>\n",
       "      <td>1</td>\n",
       "      <td>0</td>\n",
       "      <td>172</td>\n",
       "      <td>56.950346</td>\n",
       "      <td>56.8500</td>\n",
       "      <td>8.121429</td>\n",
       "      <td>0.003764</td>\n",
       "      <td>3.850</td>\n",
       "      <td>-0.471727</td>\n",
       "    </tr>\n",
       "    <tr>\n",
       "      <th>1615906</th>\n",
       "      <td>115422</td>\n",
       "      <td>2012-09-28 00:00:00</td>\n",
       "      <td>2013-01-19 00:00:00</td>\n",
       "      <td>C</td>\n",
       "      <td>75.0</td>\n",
       "      <td>1.37</td>\n",
       "      <td>1.44</td>\n",
       "      <td>149</td>\n",
       "      <td>1192</td>\n",
       "      <td>0.542385</td>\n",
       "      <td>...</td>\n",
       "      <td>66320130</td>\n",
       "      <td>1</td>\n",
       "      <td>0</td>\n",
       "      <td>113</td>\n",
       "      <td>54.491953</td>\n",
       "      <td>54.4400</td>\n",
       "      <td>7.777143</td>\n",
       "      <td>0.003109</td>\n",
       "      <td>1.405</td>\n",
       "      <td>27979.489254</td>\n",
       "    </tr>\n",
       "    <tr>\n",
       "      <th>1619867</th>\n",
       "      <td>115422</td>\n",
       "      <td>2012-10-31 00:00:00</td>\n",
       "      <td>2013-01-19 00:00:00</td>\n",
       "      <td>C</td>\n",
       "      <td>75.0</td>\n",
       "      <td>10.30</td>\n",
       "      <td>10.50</td>\n",
       "      <td>2710</td>\n",
       "      <td>5829</td>\n",
       "      <td>0.566203</td>\n",
       "      <td>...</td>\n",
       "      <td>66320130</td>\n",
       "      <td>1</td>\n",
       "      <td>0</td>\n",
       "      <td>80</td>\n",
       "      <td>79.288826</td>\n",
       "      <td>79.2394</td>\n",
       "      <td>11.319914</td>\n",
       "      <td>0.002884</td>\n",
       "      <td>10.400</td>\n",
       "      <td>-0.247888</td>\n",
       "    </tr>\n",
       "    <tr>\n",
       "      <th>1628563</th>\n",
       "      <td>115422</td>\n",
       "      <td>2012-11-30 00:00:00</td>\n",
       "      <td>2013-01-19 00:00:00</td>\n",
       "      <td>C</td>\n",
       "      <td>75.0</td>\n",
       "      <td>9.75</td>\n",
       "      <td>9.90</td>\n",
       "      <td>59</td>\n",
       "      <td>3536</td>\n",
       "      <td>0.511838</td>\n",
       "      <td>...</td>\n",
       "      <td>66320130</td>\n",
       "      <td>1</td>\n",
       "      <td>0</td>\n",
       "      <td>50</td>\n",
       "      <td>81.740109</td>\n",
       "      <td>81.7100</td>\n",
       "      <td>11.672857</td>\n",
       "      <td>0.002751</td>\n",
       "      <td>9.825</td>\n",
       "      <td>4.410237</td>\n",
       "    </tr>\n",
       "  </tbody>\n",
       "</table>\n",
       "<p>8 rows × 24 columns</p>\n",
       "</div>"
      ],
      "text/plain": [
       "          secid                 date               exdate cp_flag  \\\n",
       "1526846  115422  2012-01-31 00:00:00  2013-01-19 00:00:00       C   \n",
       "1560071  115422  2012-04-30 00:00:00  2013-01-19 00:00:00       C   \n",
       "1570998  115422  2012-05-31 00:00:00  2013-01-19 00:00:00       C   \n",
       "1582947  115422  2012-06-29 00:00:00  2013-01-19 00:00:00       C   \n",
       "1594127  115422  2012-07-31 00:00:00  2013-01-19 00:00:00       C   \n",
       "1615906  115422  2012-09-28 00:00:00  2013-01-19 00:00:00       C   \n",
       "1619867  115422  2012-10-31 00:00:00  2013-01-19 00:00:00       C   \n",
       "1628563  115422  2012-11-30 00:00:00  2013-01-19 00:00:00       C   \n",
       "\n",
       "         strike_price  best_bid  best_offer  volume  open_interest  \\\n",
       "1526846          75.0     54.70       55.50       5            220   \n",
       "1560071          75.0     18.15       18.40      29            219   \n",
       "1570998          75.0      9.50        9.75      20            284   \n",
       "1582947          75.0      8.75        8.95       6            329   \n",
       "1594127          75.0      3.80        3.90      17            519   \n",
       "1615906          75.0      1.37        1.44     149           1192   \n",
       "1619867          75.0     10.30       10.50    2710           5829   \n",
       "1628563          75.0      9.75        9.90      59           3536   \n",
       "\n",
       "         impl_volatility  ...  optionid  cfadj  days_no_trading  days_to_exp  \\\n",
       "1526846         0.715199  ...  66320130      1                0          354   \n",
       "1560071         0.594645  ...  66320130      1                0          264   \n",
       "1570998         0.673245  ...  66320130      1                0          233   \n",
       "1582947         0.555102  ...  66320130      1                0          204   \n",
       "1594127         0.590869  ...  66320130      1                0          172   \n",
       "1615906         0.542385  ...  66320130      1                0          113   \n",
       "1619867         0.566203  ...  66320130      1                0           80   \n",
       "1628563         0.511838  ...  66320130      1                0           50   \n",
       "\n",
       "         forwardprice  spotprice   adj_spot   ir_rate  mid_price    option_ret  \n",
       "1526846    120.746930   120.2000  17.171429  0.004695     55.100     -0.209751  \n",
       "1560071     80.419825    80.1400  11.448571  0.004839     18.275     -0.656208  \n",
       "1570998     63.653182    63.4400   9.062857  0.005281      9.625     -0.215129  \n",
       "1582947     68.661406    68.4850   9.783571  0.004628      8.850     -1.047801  \n",
       "1594127     56.950346    56.8500   8.121429  0.003764      3.850     -0.471727  \n",
       "1615906     54.491953    54.4400   7.777143  0.003109      1.405  27979.489254  \n",
       "1619867     79.288826    79.2394  11.319914  0.002884     10.400     -0.247888  \n",
       "1628563     81.740109    81.7100  11.672857  0.002751      9.825      4.410237  \n",
       "\n",
       "[8 rows x 24 columns]"
      ]
     },
     "execution_count": 9,
     "metadata": {},
     "output_type": "execute_result"
    }
   ],
   "source": [
    "raw[raw[\"optionid\"]==66320130]"
   ]
  },
  {
   "cell_type": "code",
   "execution_count": 4,
   "id": "3520f859",
   "metadata": {},
   "outputs": [
    {
     "data": {
      "text/plain": [
       "-0.5353177550433807"
      ]
     },
     "execution_count": 4,
     "metadata": {},
     "output_type": "execute_result"
    }
   ],
   "source": [
    "(0.180696 * 79.2394 - 10.400) / (0.180696 *\t54.4400 - 1.405) - 1"
   ]
  },
  {
   "cell_type": "code",
   "execution_count": 14,
   "id": "3798030a",
   "metadata": {},
   "outputs": [
    {
     "data": {
      "text/plain": [
       "6.322191787955303"
      ]
     },
     "execution_count": 14,
     "metadata": {},
     "output_type": "execute_result"
    }
   ],
   "source": [
    "# 27979.489254 return of optionid 66320130, row 1615906 should be:\n",
    "(10.400 /1.405 - 1) - 0.180696 * (79.2394 / 54.4400 - 1) - (113 - 80) * 0.003109 * (1.405 - 0.180696 *54.4400 ) / 365"
   ]
  },
  {
   "cell_type": "code",
   "execution_count": 12,
   "id": "792cecce",
   "metadata": {},
   "outputs": [
    {
     "data": {
      "text/plain": [
       "-0.937886357756228"
      ]
     },
     "execution_count": 12,
     "metadata": {},
     "output_type": "execute_result"
    }
   ],
   "source": [
    "# -0.471727 return should be: (one row before)\n",
    "(1.405 / 3.850 - 1) -  0.316227 * (54.4400 / 56.8500)"
   ]
  },
  {
   "cell_type": "markdown",
   "id": "0131ee95",
   "metadata": {},
   "source": [
    "### option id of worst peforming option in a month: optionid 132018313"
   ]
  },
  {
   "cell_type": "code",
   "execution_count": null,
   "id": "4c1d0608",
   "metadata": {
    "scrolled": true
   },
   "outputs": [],
   "source": [
    "# option id\n",
    "raw.iloc[3083837][\"optionid\"]"
   ]
  },
  {
   "cell_type": "code",
   "execution_count": null,
   "id": "0cabaff9",
   "metadata": {
    "scrolled": true
   },
   "outputs": [],
   "source": [
    "raw[raw[\"optionid\"]==132018313]"
   ]
  },
  {
   "cell_type": "code",
   "execution_count": null,
   "id": "4fd8be1e",
   "metadata": {},
   "outputs": [],
   "source": [
    "# midprice\n",
    "((38.70 + 39.50) / 2)"
   ]
  },
  {
   "cell_type": "code",
   "execution_count": null,
   "id": "98fe4438",
   "metadata": {
    "scrolled": true
   },
   "outputs": [],
   "source": [
    "# midprice\n",
    "(64.35+62.75)/2"
   ]
  },
  {
   "cell_type": "code",
   "execution_count": null,
   "id": "256e1780",
   "metadata": {},
   "outputs": [],
   "source": [
    "raw[raw[\"optionid\"]==132018313][\"delta\"]"
   ]
  },
  {
   "cell_type": "code",
   "execution_count": null,
   "id": "a317fee4",
   "metadata": {
    "scrolled": true
   },
   "outputs": [],
   "source": [
    "# -16010.237592: delta hedged return? Long: Call - Short: delta * stock return?\n",
    "(63.55 / 39.10 - 1) - 0.399147 * (667.99 / 650.57 - 1)"
   ]
  },
  {
   "cell_type": "markdown",
   "id": "0274001c",
   "metadata": {},
   "source": [
    "### option id of best peforming option in a month: optionid 102054672"
   ]
  },
  {
   "cell_type": "code",
   "execution_count": null,
   "id": "166ea338",
   "metadata": {},
   "outputs": [],
   "source": [
    "# option id\n",
    "raw.iloc[2104225][\"optionid\"]"
   ]
  },
  {
   "cell_type": "code",
   "execution_count": null,
   "id": "483de2ab",
   "metadata": {},
   "outputs": [],
   "source": [
    "raw[raw[\"optionid\"]==102054672]"
   ]
  },
  {
   "cell_type": "code",
   "execution_count": null,
   "id": "f1b725f8",
   "metadata": {},
   "outputs": [],
   "source": [
    "raw[raw[\"optionid\"]==102054672][\"delta\"]"
   ]
  },
  {
   "cell_type": "code",
   "execution_count": null,
   "id": "2a5a625f",
   "metadata": {
    "scrolled": true
   },
   "outputs": [],
   "source": [
    "# -0.568111 return first row should be:\n",
    "(30.925 / 40.150) - 1 - 0.672843 * (188.77 / 203.34 - 1)"
   ]
  },
  {
   "cell_type": "code",
   "execution_count": null,
   "id": "2cb10800",
   "metadata": {},
   "outputs": [],
   "source": [
    "# 2.169832 return second row should be:\n",
    "(53.325 / 30.925) - 1  - 0.778151 * (226.05 / 188.77 - 1)"
   ]
  },
  {
   "cell_type": "code",
   "execution_count": null,
   "id": "609c720c",
   "metadata": {},
   "outputs": [],
   "source": [
    "-0.568111 / -0.18155190647733288"
   ]
  },
  {
   "cell_type": "code",
   "execution_count": null,
   "id": "c320d408",
   "metadata": {},
   "outputs": [],
   "source": [
    "2.169832 / 0.5706567949655278"
   ]
  },
  {
   "cell_type": "code",
   "execution_count": null,
   "id": "fba824e9",
   "metadata": {},
   "outputs": [],
   "source": []
  },
  {
   "cell_type": "code",
   "execution_count": null,
   "id": "c051fb92",
   "metadata": {},
   "outputs": [],
   "source": []
  },
  {
   "cell_type": "code",
   "execution_count": null,
   "id": "14c04774",
   "metadata": {},
   "outputs": [],
   "source": []
  },
  {
   "cell_type": "code",
   "execution_count": 26,
   "id": "412904d0",
   "metadata": {},
   "outputs": [
    {
     "data": {
      "text/plain": [
       "<AxesSubplot:>"
      ]
     },
     "execution_count": 26,
     "metadata": {},
     "output_type": "execute_result"
    },
    {
     "data": {
      "image/png": "[encoded data removed]",
      "text/plain": [
       "<Figure size 432x288 with 1 Axes>"
      ]
     },
     "metadata": {
      "needs_background": "light"
     },
     "output_type": "display_data"
    }
   ],
   "source": [
    "raw[(raw[\"option_ret\"] < 1)  & (raw[\"option_ret\"] > -1)][\"option_ret\"].hist()"
   ]
  },
  {
   "cell_type": "code",
   "execution_count": null,
   "id": "57e1bf0d",
   "metadata": {},
   "outputs": [],
   "source": [
    "test = raw[(raw[\"option_ret\"] > -90) & (raw[\"option_ret\"] < 10)]\n",
    "test[\"option_ret\"].plot()"
   ]
  },
  {
   "cell_type": "code",
   "execution_count": null,
   "id": "c47576f5",
   "metadata": {},
   "outputs": [],
   "source": [
    "raw"
   ]
  },
  {
   "cell_type": "code",
   "execution_count": null,
   "id": "b61ade90",
   "metadata": {},
   "outputs": [],
   "source": []
  },
  {
   "cell_type": "code",
   "execution_count": null,
   "id": "8dd19a85",
   "metadata": {},
   "outputs": [],
   "source": [
    "len(raw) - len(raw[(raw[\"option_ret\"] > -90) & (raw[\"option_ret\"] < 10)])"
   ]
  },
  {
   "cell_type": "code",
   "execution_count": null,
   "id": "d2d14fc9",
   "metadata": {},
   "outputs": [],
   "source": []
  }
 ],
 "metadata": {
  "kernelspec": {
   "display_name": "Python 3 (ipykernel)",
   "language": "python",
   "name": "python3"
  },
  "language_info": {
   "codemirror_mode": {
    "name": "ipython",
    "version": 3
   },
   "file_extension": ".py",
   "mimetype": "text/x-python",
   "name": "python",
   "nbconvert_exporter": "python",
   "pygments_lexer": "ipython3",
   "version": "3.8.5"
  }
 },
 "nbformat": 4,
 "nbformat_minor": 5
}
