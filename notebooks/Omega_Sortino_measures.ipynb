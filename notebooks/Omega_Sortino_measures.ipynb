{
 "cells": [
  {
   "cell_type": "code",
   "execution_count": 1,
   "id": "a4df09e3",
   "metadata": {},
   "outputs": [],
   "source": [
    "import numpy as np\n",
    "import pandas as pd\n",
    "from pathlib import Path\n",
    "\n",
    "import quantstats as qs"
   ]
  },
  {
   "cell_type": "code",
   "execution_count": 2,
   "id": "c9212ad6",
   "metadata": {},
   "outputs": [],
   "source": [
    "def get_exp_path(expid):\n",
    "    expid = str(expid)\n",
    "    logs_folder = Path(r\"C:\\Users\\Mathiass\\Documents\\Projects\\master-thesis\")/\"logs\"\n",
    "    matches = Path(logs_folder).rglob(expid) #Get folder in logs_folder that matches expid\n",
    "    matches_list = list(matches)\n",
    "    if not len(matches_list) == 1:\n",
    "        raise ValueError(f\"There exists none or more than 1 folder with \"\n",
    "                            f\"experiment id {expid} in the {logs_folder.name} \"\n",
    "                            \"directory!\")\n",
    "    exp_dir = matches_list[0]\n",
    "    return exp_dir"
   ]
  },
  {
   "cell_type": "code",
   "execution_count": 3,
   "id": "b4bd7838",
   "metadata": {},
   "outputs": [],
   "source": [
    "# def omega_ratio(returns, return_threshold=0.0):\n",
    "    \n",
    "#     ret_above = returns[returns > return_threshold]\n",
    "#     ret_below = returns[returns < return_threshold]\n",
    "    \n",
    "#     return sum(ret_above)/ (-1*sum(ret_below))"
   ]
  },
  {
   "cell_type": "code",
   "execution_count": 4,
   "id": "2705cc5d",
   "metadata": {},
   "outputs": [],
   "source": [
    "def omega_ratio(returns, return_threshold=0.0):\n",
    "    return_less_thresh = returns - return_threshold\n",
    "    \n",
    "    numer = sum(return_less_thresh[return_less_thresh > 0.0])\n",
    "    denom = -1.0 * sum(return_less_thresh[return_less_thresh < 0.0])\n",
    "    \n",
    "    if denom > 0.0:\n",
    "        return numer/denom\n",
    "    else:\n",
    "        return np.nan"
   ]
  },
  {
   "cell_type": "code",
   "execution_count": 5,
   "id": "af6b83f8",
   "metadata": {},
   "outputs": [],
   "source": [
    "p = get_exp_path(20220924104656)"
   ]
  },
  {
   "cell_type": "code",
   "execution_count": 6,
   "id": "97592d51",
   "metadata": {},
   "outputs": [
    {
     "data": {
      "text/plain": [
       "WindowsPath('C:/Users/Mathiass/Documents/Projects/master-thesis/logs/production/medium/xgb/20220924104656')"
      ]
     },
     "execution_count": 6,
     "metadata": {},
     "output_type": "execute_result"
    }
   ],
   "source": [
    "p"
   ]
  },
  {
   "cell_type": "code",
   "execution_count": 7,
   "id": "112a38cf",
   "metadata": {},
   "outputs": [],
   "source": [
    "long3short1 = pd.read_csv(p/\"portfolios/long3short1.csv\", index_col=\"date\", parse_dates=[\"date\"])\n",
    "long4short0 = pd.read_csv(p/\"portfolios/long4short0.csv\", index_col=\"date\", parse_dates=[\"date\"])"
   ]
  },
  {
   "cell_type": "code",
   "execution_count": 8,
   "id": "8fe4c3ba",
   "metadata": {},
   "outputs": [],
   "source": [
    "opt_ret = long3short1[\"option_ret\"]"
   ]
  },
  {
   "cell_type": "code",
   "execution_count": 9,
   "id": "e296fb8e",
   "metadata": {},
   "outputs": [
    {
     "data": {
      "text/plain": [
       "date\n",
       "2008-01-31    0.009818\n",
       "2008-02-29    0.010466\n",
       "2008-03-31   -0.001804\n",
       "2008-04-30    0.027676\n",
       "2008-05-31   -0.012067\n",
       "                ...   \n",
       "2021-06-30    0.007169\n",
       "2021-07-31    0.005231\n",
       "2021-08-31    0.001633\n",
       "2021-09-30    0.000568\n",
       "2021-10-31    0.010533\n",
       "Name: option_ret, Length: 166, dtype: float64"
      ]
     },
     "execution_count": 9,
     "metadata": {},
     "output_type": "execute_result"
    }
   ],
   "source": [
    "opt_ret"
   ]
  },
  {
   "cell_type": "code",
   "execution_count": 10,
   "id": "64c8b605",
   "metadata": {},
   "outputs": [
    {
     "data": {
      "text/plain": [
       "0.00450407361627532"
      ]
     },
     "execution_count": 10,
     "metadata": {},
     "output_type": "execute_result"
    }
   ],
   "source": [
    "opt_ret.mean()"
   ]
  },
  {
   "cell_type": "code",
   "execution_count": 11,
   "id": "bb9adb75",
   "metadata": {},
   "outputs": [
    {
     "name": "stdout",
     "output_type": "stream",
     "text": [
      "Skewness: 0.08949895325040484\n",
      "Kurtosis: 1.6828617202320575\n"
     ]
    },
    {
     "data": {
      "image/png": "[encoded data removed]",
      "text/plain": [
       "<Figure size 432x288 with 1 Axes>"
      ]
     },
     "metadata": {
      "needs_background": "light"
     },
     "output_type": "display_data"
    }
   ],
   "source": [
    "opt_ret.hist(bins=50)\n",
    "print(\"Skewness:\", opt_ret.skew())\n",
    "print(\"Kurtosis:\", opt_ret.kurt())"
   ]
  },
  {
   "cell_type": "code",
   "execution_count": null,
   "id": "aa98275b",
   "metadata": {},
   "outputs": [],
   "source": []
  },
  {
   "cell_type": "code",
   "execution_count": 12,
   "id": "87a2e48f",
   "metadata": {},
   "outputs": [
    {
     "data": {
      "text/plain": [
       "4.738448447982919"
      ]
     },
     "execution_count": 12,
     "metadata": {},
     "output_type": "execute_result"
    }
   ],
   "source": [
    "omega_ratio(opt_ret)"
   ]
  },
  {
   "cell_type": "code",
   "execution_count": 13,
   "id": "be10322e",
   "metadata": {},
   "outputs": [
    {
     "data": {
      "text/plain": [
       "4.579620886342597"
      ]
     },
     "execution_count": 13,
     "metadata": {},
     "output_type": "execute_result"
    }
   ],
   "source": [
    "omega_ratio(opt_ret, 0.0001)"
   ]
  },
  {
   "cell_type": "code",
   "execution_count": 14,
   "id": "4908aa7d",
   "metadata": {},
   "outputs": [],
   "source": [
    "# def col_wise(func):\n",
    "#     def wrapper(df, *args, **kwargs):\n",
    "#         return df.apply(func, *args, **kwargs, axis=0)\n",
    "#     return wrapper\n",
    "\n",
    "# f = col_wise(qs.stats.sharpe)\n",
    "\n",
    "# f(a, periods=12)"
   ]
  },
  {
   "cell_type": "code",
   "execution_count": 15,
   "id": "3c438ab2",
   "metadata": {},
   "outputs": [],
   "source": [
    "opt_ret = pd.concat([long3short1[\"option_ret\"], long4short0[\"option_ret\"]], axis=1)"
   ]
  },
  {
   "cell_type": "code",
   "execution_count": 16,
   "id": "9a9cbbeb",
   "metadata": {},
   "outputs": [
    {
     "data": {
      "text/plain": [
       "option_ret    4.738448\n",
       "option_ret    7.424543\n",
       "dtype: float64"
      ]
     },
     "execution_count": 16,
     "metadata": {},
     "output_type": "execute_result"
    }
   ],
   "source": [
    "opt_ret.apply(omega_ratio)"
   ]
  },
  {
   "cell_type": "code",
   "execution_count": 17,
   "id": "da5da809",
   "metadata": {},
   "outputs": [
    {
     "data": {
      "text/plain": [
       "option_ret    1.916014\n",
       "option_ret    1.698338\n",
       "dtype: float64"
      ]
     },
     "execution_count": 17,
     "metadata": {},
     "output_type": "execute_result"
    }
   ],
   "source": [
    "opt_ret.apply(qs.stats.sharpe, periods=12, axis=0)"
   ]
  },
  {
   "cell_type": "code",
   "execution_count": 18,
   "id": "0da457e3",
   "metadata": {},
   "outputs": [
    {
     "data": {
      "text/plain": [
       "option_ret    3.051000\n",
       "option_ret    4.383169\n",
       "dtype: float64"
      ]
     },
     "execution_count": 18,
     "metadata": {},
     "output_type": "execute_result"
    }
   ],
   "source": [
    "opt_ret.apply(qs.stats.adjusted_sortino, periods=12)"
   ]
  },
  {
   "cell_type": "code",
   "execution_count": null,
   "id": "2e1009c4",
   "metadata": {},
   "outputs": [],
   "source": []
  },
  {
   "cell_type": "code",
   "execution_count": 19,
   "id": "3f663e85",
   "metadata": {},
   "outputs": [],
   "source": [
    "a = opt_ret.iloc[:, 0]"
   ]
  },
  {
   "cell_type": "code",
   "execution_count": null,
   "id": "5dc843d6",
   "metadata": {},
   "outputs": [],
   "source": []
  },
  {
   "cell_type": "markdown",
   "id": "00cfcfa9",
   "metadata": {},
   "source": [
    "### (Adjusted) Sortino"
   ]
  },
  {
   "cell_type": "code",
   "execution_count": 20,
   "id": "6d6b470d",
   "metadata": {},
   "outputs": [
    {
     "data": {
      "text/plain": [
       "3.0510002880070233"
      ]
     },
     "execution_count": 20,
     "metadata": {},
     "output_type": "execute_result"
    }
   ],
   "source": [
    "# Adjusted sortino\n",
    "from math import sqrt\n",
    "a.mean() / sqrt(sum((a[a < 0.0])**2) /len(a)) / sqrt(2) * sqrt(12)"
   ]
  },
  {
   "cell_type": "markdown",
   "id": "a6c76425",
   "metadata": {},
   "source": [
    "### Calmar Ratio"
   ]
  },
  {
   "cell_type": "code",
   "execution_count": 21,
   "id": "24609dc3",
   "metadata": {},
   "outputs": [],
   "source": [
    "# Max Drawdown.\n",
    "from pandas.tseries.offsets import MonthEnd\n",
    "try:\n",
    "    a = a.to_frame()\n",
    "except:\n",
    "    pass\n",
    "pf_returns_dd = a.copy()\n",
    "# Insert [0, 0, ..., 0] as first prices, to calculate MaxDD correctly.\n",
    "pf_returns_dd.loc[pf_returns_dd.index[0] - MonthEnd(1)] = [0] * pf_returns_dd.shape[1]\n",
    "pf_returns_dd = pf_returns_dd.sort_index()\n",
    "prices = (1 + pf_returns_dd).cumprod()\n",
    "maxdd = (prices / prices.expanding().max()).min() - 1 #formula from quantstats\n",
    "# maxdd_str = maxdd.apply(to_pct_string).rename(\"Max Drawdown\")"
   ]
  },
  {
   "cell_type": "code",
   "execution_count": 22,
   "id": "c22ff1de",
   "metadata": {},
   "outputs": [
    {
     "data": {
      "text/plain": [
       "option_ret   -0.034359\n",
       "dtype: float64"
      ]
     },
     "execution_count": 22,
     "metadata": {},
     "output_type": "execute_result"
    }
   ],
   "source": [
    "maxdd"
   ]
  },
  {
   "cell_type": "code",
   "execution_count": 37,
   "id": "60f5fcd3",
   "metadata": {},
   "outputs": [
    {
     "data": {
      "text/plain": [
       "option_ret    0.054995\n",
       "dtype: float64"
      ]
     },
     "execution_count": 37,
     "metadata": {},
     "output_type": "execute_result"
    }
   ],
   "source": [
    "((1+a).prod() ** (12/len(a)) - 1)"
   ]
  },
  {
   "cell_type": "code",
   "execution_count": 40,
   "id": "6191bd7e",
   "metadata": {},
   "outputs": [
    {
     "data": {
      "text/plain": [
       "option_ret    1.600604\n",
       "dtype: float64"
      ]
     },
     "execution_count": 40,
     "metadata": {},
     "output_type": "execute_result"
    }
   ],
   "source": [
    "# Calmar Ratio\n",
    "((1+a).prod() ** (12/len(a)) - 1) / abs(maxdd)"
   ]
  },
  {
   "cell_type": "code",
   "execution_count": null,
   "id": "e4008032",
   "metadata": {},
   "outputs": [],
   "source": []
  },
  {
   "cell_type": "code",
   "execution_count": 23,
   "id": "4c2ad184",
   "metadata": {
    "scrolled": true
   },
   "outputs": [],
   "source": [
    "# def semi_variance(returns):\n",
    "#     mean = returns.mean()\n",
    "    \n",
    "#     ret_below_mean = returns[returns < mean]\n",
    "    \n",
    "#     return ret_below_mean."
   ]
  },
  {
   "cell_type": "code",
   "execution_count": null,
   "id": "5076b047",
   "metadata": {},
   "outputs": [],
   "source": []
  },
  {
   "cell_type": "code",
   "execution_count": null,
   "id": "6ef4f24d",
   "metadata": {},
   "outputs": [],
   "source": []
  },
  {
   "cell_type": "code",
   "execution_count": null,
   "id": "4a6a13ff",
   "metadata": {},
   "outputs": [],
   "source": []
  }
 ],
 "metadata": {
  "kernelspec": {
   "display_name": "Python 3 (ipykernel)",
   "language": "python",
   "name": "python3"
  },
  "language_info": {
   "codemirror_mode": {
    "name": "ipython",
    "version": 3
   },
   "file_extension": ".py",
   "mimetype": "text/x-python",
   "name": "python",
   "nbconvert_exporter": "python",
   "pygments_lexer": "ipython3",
   "version": "3.8.5"
  }
 },
 "nbformat": 4,
 "nbformat_minor": 5
}
