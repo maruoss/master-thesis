{
 "cells": [
  {
   "cell_type": "code",
   "execution_count": 1,
   "id": "ae56dcb3",
   "metadata": {},
   "outputs": [],
   "source": [
    "import pandas as pd\n",
    "import numpy as np\n",
    "from pathlib import Path\n",
    "import matplotlib.pyplot as plt\n",
    "import seaborn as sns"
   ]
  },
  {
   "cell_type": "code",
   "execution_count": 4,
   "id": "e88fe341",
   "metadata": {},
   "outputs": [],
   "source": [
    "features = [\"LR\", \"RF\", \"GB\", \"NN\", \"TF\"]"
   ]
  },
  {
   "cell_type": "code",
   "execution_count": 5,
   "id": "b2f8381f",
   "metadata": {},
   "outputs": [],
   "source": [
    "small = [0.30463128, 0.354734997, 0.376188259, 0.37724565, 0.372114932]"
   ]
  },
  {
   "cell_type": "code",
   "execution_count": 6,
   "id": "372b0f70",
   "metadata": {},
   "outputs": [],
   "source": [
    "medium = [0.305040171,\n",
    "0.346057551,\n",
    "0.377885951,\n",
    "0.371341295,\n",
    "0.365593161,\n",
    "]\n"
   ]
  },
  {
   "cell_type": "code",
   "execution_count": null,
   "id": "9eacbcc9",
   "metadata": {},
   "outputs": [],
   "source": []
  },
  {
   "cell_type": "code",
   "execution_count": null,
   "id": "0615508d",
   "metadata": {},
   "outputs": [],
   "source": []
  }
 ],
 "metadata": {
  "kernelspec": {
   "display_name": "Python 3 (ipykernel)",
   "language": "python",
   "name": "python3"
  },
  "language_info": {
   "codemirror_mode": {
    "name": "ipython",
    "version": 3
   },
   "file_extension": ".py",
   "mimetype": "text/x-python",
   "name": "python",
   "nbconvert_exporter": "python",
   "pygments_lexer": "ipython3",
   "version": "3.8.5"
  }
 },
 "nbformat": 4,
 "nbformat_minor": 5
}
