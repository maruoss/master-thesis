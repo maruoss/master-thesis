{
 "cells": [
  {
   "cell_type": "code",
   "execution_count": 1,
   "id": "2dd0138c",
   "metadata": {},
   "outputs": [],
   "source": [
    "import pandas as pd\n",
    "import numpy as np\n",
    "from pathlib import Path\n",
    "import matplotlib.pyplot as plt\n",
    "import shutil"
   ]
  },
  {
   "cell_type": "code",
   "execution_count": 2,
   "id": "c749981e",
   "metadata": {},
   "outputs": [],
   "source": [
    "def get_exp_path(expid):\n",
    "    expid = str(expid)\n",
    "    logs_folder = Path(r\"C:\\Users\\Mathiass\\Documents\\Projects\\master-thesis\")/\"logs\"\n",
    "    matches = Path(logs_folder).rglob(expid) #Get folder in logs_folder that matches expid\n",
    "    matches_list = list(matches)\n",
    "    if not len(matches_list) == 1:\n",
    "        raise ValueError(f\"There exists none or more than 1 folder with \"\n",
    "                            f\"experiment id {expid} in the {logs_folder.name} \"\n",
    "                            \"directory!\")\n",
    "    exp_dir = matches_list[0]\n",
    "    return exp_dir"
   ]
  },
  {
   "cell_type": "code",
   "execution_count": 3,
   "id": "6207d82d",
   "metadata": {},
   "outputs": [],
   "source": [
    "def rename_model_feat(name):\n",
    "    model_feat_dict = {\"lin\": \"LR\", \"rf\": \"RF\", \"xgb\": \"GBT\", \"nn\": \"NN\", \"transformer\": \"TF\"}\n",
    "    model_feat_dict.update({\"small\": \"O\", \"medium\": \"O+S\"})\n",
    "    return model_feat_dict[name]"
   ]
  },
  {
   "cell_type": "code",
   "execution_count": 4,
   "id": "2e6dbc36",
   "metadata": {},
   "outputs": [],
   "source": [
    "def copy_files(f, classnr):\n",
    "    model = rename_model_feat(f.parent.parent.parent.name) #lin, rf, etc.\n",
    "    feat_size = rename_model_feat(f.parent.parent.parent.parent.name) #medium or small\n",
    "    trgt = logs_folder/\"production\"/f\"{f.parent.parent.parent.parent.name}\"/f\"class{classnr}_{feat_size}\"/\"portfolios\"\n",
    "    trgt.mkdir(exist_ok=True, parents=True)\n",
    "    trgt = trgt/f\"class{classnr}_{model}_{feat_size}.csv\"\n",
    "    \n",
    "    try:\n",
    "        shutil.copy(f, trgt)\n",
    "        return\n",
    "    except shutil.SameFileError:\n",
    "        print(\"Source and Destination are the same file...\")\n",
    "    print(f\"Did NOT find {model}, {feat_size}!\")"
   ]
  },
  {
   "cell_type": "code",
   "execution_count": 5,
   "id": "4acf467e",
   "metadata": {},
   "outputs": [],
   "source": [
    "def collect_files(expids, classnr):\n",
    "    for e in expids:\n",
    "        f = get_exp_path(e)/\"portfolios\"/f\"class{classnr}.csv\"\n",
    "        copy_files(f, classnr)"
   ]
  },
  {
   "cell_type": "markdown",
   "id": "12d4de2e",
   "metadata": {},
   "source": [
    "---"
   ]
  },
  {
   "cell_type": "markdown",
   "id": "283fa8c8",
   "metadata": {},
   "source": [
    "### Define variables:"
   ]
  },
  {
   "cell_type": "code",
   "execution_count": 6,
   "id": "2ef13829",
   "metadata": {},
   "outputs": [],
   "source": [
    "logs_folder = Path(r\"C:\\Users\\Mathiass\\Documents\\Projects\\master-thesis\")/\"logs\""
   ]
  },
  {
   "cell_type": "code",
   "execution_count": 7,
   "id": "d69498ea",
   "metadata": {},
   "outputs": [],
   "source": [
    "expids = [20220919194922, 20220919213409, 20220919200811, 20220908133630, 20220915074003] #small expids\n",
    "expids += [20220922192602, 20220923123700, 20220924104656, 20220920100736, 20220923074741] #medium expids"
   ]
  },
  {
   "cell_type": "code",
   "execution_count": 10,
   "id": "e01a3359",
   "metadata": {},
   "outputs": [],
   "source": [
    "classnr = 1"
   ]
  },
  {
   "cell_type": "code",
   "execution_count": 11,
   "id": "8cd90685",
   "metadata": {},
   "outputs": [],
   "source": [
    "collect_files(expids, classnr)"
   ]
  },
  {
   "cell_type": "code",
   "execution_count": null,
   "id": "4a430e40",
   "metadata": {},
   "outputs": [],
   "source": []
  },
  {
   "cell_type": "code",
   "execution_count": null,
   "id": "97b188a6",
   "metadata": {},
   "outputs": [],
   "source": []
  },
  {
   "cell_type": "code",
   "execution_count": null,
   "id": "129fbb58",
   "metadata": {},
   "outputs": [],
   "source": []
  },
  {
   "cell_type": "code",
   "execution_count": null,
   "id": "36c540c4",
   "metadata": {},
   "outputs": [],
   "source": []
  },
  {
   "cell_type": "code",
   "execution_count": null,
   "id": "9a02e3b5",
   "metadata": {},
   "outputs": [],
   "source": []
  },
  {
   "cell_type": "code",
   "execution_count": null,
   "id": "dcadf47e",
   "metadata": {},
   "outputs": [],
   "source": []
  }
 ],
 "metadata": {
  "kernelspec": {
   "display_name": "Python 3 (ipykernel)",
   "language": "python",
   "name": "python3"
  },
  "language_info": {
   "codemirror_mode": {
    "name": "ipython",
    "version": 3
   },
   "file_extension": ".py",
   "mimetype": "text/x-python",
   "name": "python",
   "nbconvert_exporter": "python",
   "pygments_lexer": "ipython3",
   "version": "3.8.5"
  }
 },
 "nbformat": 4,
 "nbformat_minor": 5
}
