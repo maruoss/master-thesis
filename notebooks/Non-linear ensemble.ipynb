{
 "cells": [
  {
   "cell_type": "code",
   "execution_count": 1,
   "id": "c8820266",
   "metadata": {},
   "outputs": [],
   "source": [
    "import pandas as pd\n",
    "import numpy as np\n",
    "from pathlib import Path"
   ]
  },
  {
   "cell_type": "code",
   "execution_count": 2,
   "id": "3d12a6fb",
   "metadata": {},
   "outputs": [],
   "source": [
    "def get_exp_path(expid):\n",
    "    expid = str(expid)\n",
    "    logs_folder = Path(r\"C:\\Users\\Mathiass\\Documents\\Projects\\master-thesis\")/\"logs\"\n",
    "    matches = Path(logs_folder).rglob(expid) #Get folder in logs_folder that matches expid\n",
    "    matches_list = list(matches)\n",
    "    if not len(matches_list) == 1:\n",
    "        raise ValueError(f\"There exists none or more than 1 folder with \"\n",
    "                            f\"experiment id {expid} in the {logs_folder.name} \"\n",
    "                            \"directory!\")\n",
    "    exp_dir = matches_list[0]\n",
    "    return exp_dir"
   ]
  },
  {
   "cell_type": "code",
   "execution_count": 3,
   "id": "9236560e",
   "metadata": {},
   "outputs": [],
   "source": [
    "def multi_categorize(y: float, classes: int):\n",
    "    \"\"\"\n",
    "    Creates categorical labels from continuous values.\n",
    "\n",
    "        Args:\n",
    "            y (float):      continuous target variable (option return)\n",
    "            classes (int):  number of classes to create\n",
    "        Returns:\n",
    "            (int):          class assignment\n",
    "        CAREFUL: classes have to be between [0, C) for F.crossentropyloss.\n",
    "    \"\"\"\n",
    "    if classes == 5:\n",
    "        # thresholds: +/- 2.5% and +/- 5%\n",
    "        if y > 0.05:\n",
    "            return 4\n",
    "        elif (y > 0.025 and y <= 0.05):\n",
    "            return 3\n",
    "        elif (y >= -0.05 and y < -0.025):\n",
    "            return 1\n",
    "        elif (y < -0.05):\n",
    "            return 0\n",
    "        else:\n",
    "            return 2 # all returns \\elin [-0.025, 0.025]\n",
    "    else:\n",
    "        raise ValueError(\"Only multi for 3 or 5 classes implemented right now.\")"
   ]
  },
  {
   "cell_type": "markdown",
   "id": "7b89889c",
   "metadata": {},
   "source": [
    "### y_true"
   ]
  },
  {
   "cell_type": "code",
   "execution_count": 4,
   "id": "afe7f68d",
   "metadata": {},
   "outputs": [],
   "source": [
    "data = pd.read_parquet(r\"C:\\Users\\Mathiass\\Documents\\Projects\\master-thesis\\data\\final_df_call_cao_small.parquet\")"
   ]
  },
  {
   "cell_type": "code",
   "execution_count": 5,
   "id": "47f8ab0d",
   "metadata": {},
   "outputs": [],
   "source": [
    "y_true = data[\"option_ret\"].apply(multi_categorize, classes=5)"
   ]
  },
  {
   "cell_type": "markdown",
   "id": "f3a07d28",
   "metadata": {},
   "source": [
    "### y_pred"
   ]
  },
  {
   "cell_type": "code",
   "execution_count": 6,
   "id": "382132ed",
   "metadata": {},
   "outputs": [],
   "source": [
    "def load_pred(exp_id):\n",
    "    p = get_exp_path(exp_id)\n",
    "    preds = pd.read_csv(p/\"all_pred.csv\")\n",
    "    y_pred = preds[\"pred\"].rename(p.parent.name)\n",
    "    return y_pred"
   ]
  },
  {
   "cell_type": "code",
   "execution_count": 7,
   "id": "bee8abfc",
   "metadata": {},
   "outputs": [],
   "source": [
    "def concat_preds(exp_id_ls):\n",
    "    pred_ls = []\n",
    "    for e in exp_id_ls:\n",
    "        y_pred = load_pred(e)\n",
    "        pred_ls.append(y_pred)\n",
    "    return pd.concat(pred_ls, axis=1)"
   ]
  },
  {
   "cell_type": "code",
   "execution_count": 8,
   "id": "7c65747c",
   "metadata": {},
   "outputs": [],
   "source": [
    "#medium\n",
    "exp_id_ls = [20220924104656, 20220920100736, 20220923074741, 20220923123700]\n",
    "# small\n",
    "# exp_id_ls = [20220919200811, 20220908133630, 20220915074003, 20220919213409]"
   ]
  },
  {
   "cell_type": "code",
   "execution_count": 9,
   "id": "33bb015e",
   "metadata": {},
   "outputs": [],
   "source": [
    "conc = concat_preds(exp_id_ls)"
   ]
  },
  {
   "cell_type": "code",
   "execution_count": 10,
   "id": "ace38b68",
   "metadata": {},
   "outputs": [
    {
     "data": {
      "text/html": [
       "<div>\n",
       "<style scoped>\n",
       "    .dataframe tbody tr th:only-of-type {\n",
       "        vertical-align: middle;\n",
       "    }\n",
       "\n",
       "    .dataframe tbody tr th {\n",
       "        vertical-align: top;\n",
       "    }\n",
       "\n",
       "    .dataframe thead th {\n",
       "        text-align: right;\n",
       "    }\n",
       "</style>\n",
       "<table border=\"1\" class=\"dataframe\">\n",
       "  <thead>\n",
       "    <tr style=\"text-align: right;\">\n",
       "      <th></th>\n",
       "      <th>xgb</th>\n",
       "      <th>nn</th>\n",
       "      <th>transformer</th>\n",
       "      <th>rf</th>\n",
       "    </tr>\n",
       "  </thead>\n",
       "  <tbody>\n",
       "    <tr>\n",
       "      <th>0</th>\n",
       "      <td>4</td>\n",
       "      <td>4</td>\n",
       "      <td>4</td>\n",
       "      <td>0</td>\n",
       "    </tr>\n",
       "    <tr>\n",
       "      <th>1</th>\n",
       "      <td>3</td>\n",
       "      <td>3</td>\n",
       "      <td>3</td>\n",
       "      <td>4</td>\n",
       "    </tr>\n",
       "    <tr>\n",
       "      <th>2</th>\n",
       "      <td>2</td>\n",
       "      <td>3</td>\n",
       "      <td>3</td>\n",
       "      <td>2</td>\n",
       "    </tr>\n",
       "    <tr>\n",
       "      <th>3</th>\n",
       "      <td>3</td>\n",
       "      <td>3</td>\n",
       "      <td>3</td>\n",
       "      <td>2</td>\n",
       "    </tr>\n",
       "    <tr>\n",
       "      <th>4</th>\n",
       "      <td>2</td>\n",
       "      <td>2</td>\n",
       "      <td>2</td>\n",
       "      <td>2</td>\n",
       "    </tr>\n",
       "    <tr>\n",
       "      <th>...</th>\n",
       "      <td>...</td>\n",
       "      <td>...</td>\n",
       "      <td>...</td>\n",
       "      <td>...</td>\n",
       "    </tr>\n",
       "    <tr>\n",
       "      <th>531788</th>\n",
       "      <td>2</td>\n",
       "      <td>2</td>\n",
       "      <td>2</td>\n",
       "      <td>2</td>\n",
       "    </tr>\n",
       "    <tr>\n",
       "      <th>531789</th>\n",
       "      <td>3</td>\n",
       "      <td>3</td>\n",
       "      <td>3</td>\n",
       "      <td>3</td>\n",
       "    </tr>\n",
       "    <tr>\n",
       "      <th>531790</th>\n",
       "      <td>2</td>\n",
       "      <td>2</td>\n",
       "      <td>2</td>\n",
       "      <td>2</td>\n",
       "    </tr>\n",
       "    <tr>\n",
       "      <th>531791</th>\n",
       "      <td>3</td>\n",
       "      <td>3</td>\n",
       "      <td>1</td>\n",
       "      <td>1</td>\n",
       "    </tr>\n",
       "    <tr>\n",
       "      <th>531792</th>\n",
       "      <td>3</td>\n",
       "      <td>3</td>\n",
       "      <td>1</td>\n",
       "      <td>3</td>\n",
       "    </tr>\n",
       "  </tbody>\n",
       "</table>\n",
       "<p>531793 rows × 4 columns</p>\n",
       "</div>"
      ],
      "text/plain": [
       "        xgb  nn  transformer  rf\n",
       "0         4   4            4   0\n",
       "1         3   3            3   4\n",
       "2         2   3            3   2\n",
       "3         3   3            3   2\n",
       "4         2   2            2   2\n",
       "...     ...  ..          ...  ..\n",
       "531788    2   2            2   2\n",
       "531789    3   3            3   3\n",
       "531790    2   2            2   2\n",
       "531791    3   3            1   1\n",
       "531792    3   3            1   3\n",
       "\n",
       "[531793 rows x 4 columns]"
      ]
     },
     "execution_count": 10,
     "metadata": {},
     "output_type": "execute_result"
    }
   ],
   "source": [
    "conc"
   ]
  },
  {
   "cell_type": "code",
   "execution_count": 11,
   "id": "a53af5cc",
   "metadata": {},
   "outputs": [],
   "source": [
    "from scipy.stats import mode\n",
    "m = mode(conc, axis=-1)[0]"
   ]
  },
  {
   "cell_type": "code",
   "execution_count": 12,
   "id": "2e2fd20c",
   "metadata": {},
   "outputs": [],
   "source": [
    "y_pred = m"
   ]
  },
  {
   "cell_type": "code",
   "execution_count": 13,
   "id": "396886f3",
   "metadata": {},
   "outputs": [],
   "source": [
    "y_true = y_true[-len(y_pred):]"
   ]
  },
  {
   "cell_type": "code",
   "execution_count": 14,
   "id": "d8b67f53",
   "metadata": {
    "scrolled": true
   },
   "outputs": [],
   "source": [
    "y_pred = y_pred.squeeze()"
   ]
  },
  {
   "cell_type": "code",
   "execution_count": 15,
   "id": "b6782b3d",
   "metadata": {},
   "outputs": [
    {
     "data": {
      "text/plain": [
       "234731    4\n",
       "234732    3\n",
       "234733    2\n",
       "234734    3\n",
       "234735    2\n",
       "         ..\n",
       "766519    2\n",
       "766520    2\n",
       "766521    1\n",
       "766522    2\n",
       "766523    1\n",
       "Name: option_ret, Length: 531793, dtype: int64"
      ]
     },
     "execution_count": 15,
     "metadata": {},
     "output_type": "execute_result"
    }
   ],
   "source": [
    "y_true"
   ]
  },
  {
   "cell_type": "code",
   "execution_count": 16,
   "id": "94157c3b",
   "metadata": {},
   "outputs": [],
   "source": [
    "from sklearn.metrics import balanced_accuracy_score"
   ]
  },
  {
   "cell_type": "code",
   "execution_count": 17,
   "id": "ae0c697e",
   "metadata": {},
   "outputs": [
    {
     "data": {
      "text/plain": [
       "0.3734701706817729"
      ]
     },
     "execution_count": 17,
     "metadata": {},
     "output_type": "execute_result"
    }
   ],
   "source": [
    "balanced_accuracy_score(y_true, y_pred)"
   ]
  },
  {
   "cell_type": "code",
   "execution_count": 18,
   "id": "11ac42d9",
   "metadata": {},
   "outputs": [
    {
     "data": {
      "text/html": [
       "<div>\n",
       "<style scoped>\n",
       "    .dataframe tbody tr th:only-of-type {\n",
       "        vertical-align: middle;\n",
       "    }\n",
       "\n",
       "    .dataframe tbody tr th {\n",
       "        vertical-align: top;\n",
       "    }\n",
       "\n",
       "    .dataframe thead th {\n",
       "        text-align: right;\n",
       "    }\n",
       "</style>\n",
       "<table border=\"1\" class=\"dataframe\">\n",
       "  <thead>\n",
       "    <tr style=\"text-align: right;\">\n",
       "      <th></th>\n",
       "      <th>0</th>\n",
       "    </tr>\n",
       "  </thead>\n",
       "  <tbody>\n",
       "    <tr>\n",
       "      <th>0</th>\n",
       "      <td>4</td>\n",
       "    </tr>\n",
       "    <tr>\n",
       "      <th>1</th>\n",
       "      <td>3</td>\n",
       "    </tr>\n",
       "    <tr>\n",
       "      <th>2</th>\n",
       "      <td>2</td>\n",
       "    </tr>\n",
       "    <tr>\n",
       "      <th>3</th>\n",
       "      <td>3</td>\n",
       "    </tr>\n",
       "    <tr>\n",
       "      <th>4</th>\n",
       "      <td>2</td>\n",
       "    </tr>\n",
       "    <tr>\n",
       "      <th>...</th>\n",
       "      <td>...</td>\n",
       "    </tr>\n",
       "    <tr>\n",
       "      <th>531788</th>\n",
       "      <td>2</td>\n",
       "    </tr>\n",
       "    <tr>\n",
       "      <th>531789</th>\n",
       "      <td>3</td>\n",
       "    </tr>\n",
       "    <tr>\n",
       "      <th>531790</th>\n",
       "      <td>2</td>\n",
       "    </tr>\n",
       "    <tr>\n",
       "      <th>531791</th>\n",
       "      <td>1</td>\n",
       "    </tr>\n",
       "    <tr>\n",
       "      <th>531792</th>\n",
       "      <td>3</td>\n",
       "    </tr>\n",
       "  </tbody>\n",
       "</table>\n",
       "<p>531793 rows × 1 columns</p>\n",
       "</div>"
      ],
      "text/plain": [
       "        0\n",
       "0       4\n",
       "1       3\n",
       "2       2\n",
       "3       3\n",
       "4       2\n",
       "...    ..\n",
       "531788  2\n",
       "531789  3\n",
       "531790  2\n",
       "531791  1\n",
       "531792  3\n",
       "\n",
       "[531793 rows x 1 columns]"
      ]
     },
     "execution_count": 18,
     "metadata": {},
     "output_type": "execute_result"
    }
   ],
   "source": [
    "pd.DataFrame(y_pred)"
   ]
  },
  {
   "cell_type": "code",
   "execution_count": 19,
   "id": "df53f070",
   "metadata": {},
   "outputs": [],
   "source": [
    "# Get all_preds design\n",
    "p = get_exp_path(20220924104656)\n",
    "design = pd.read_csv(p/\"all_pred.csv\", index_col=0)"
   ]
  },
  {
   "cell_type": "code",
   "execution_count": 20,
   "id": "609c0134",
   "metadata": {},
   "outputs": [],
   "source": [
    "design[\"pred\"] = y_pred"
   ]
  },
  {
   "cell_type": "code",
   "execution_count": 21,
   "id": "ea7f825a",
   "metadata": {},
   "outputs": [],
   "source": [
    "design.to_csv(r\"C:\\Users\\Mathiass\\Documents\\Projects\\master-thesis\\logs\\production\\small\\ensemble\\11111_rf\\custom_preds.csv\")"
   ]
  },
  {
   "cell_type": "code",
   "execution_count": null,
   "id": "77c06c4f",
   "metadata": {},
   "outputs": [],
   "source": []
  },
  {
   "cell_type": "code",
   "execution_count": null,
   "id": "e3f62981",
   "metadata": {},
   "outputs": [],
   "source": []
  },
  {
   "cell_type": "code",
   "execution_count": null,
   "id": "4ea0619f",
   "metadata": {},
   "outputs": [],
   "source": []
  },
  {
   "cell_type": "code",
   "execution_count": null,
   "id": "1bc748f5",
   "metadata": {},
   "outputs": [],
   "source": []
  }
 ],
 "metadata": {
  "kernelspec": {
   "display_name": "Python 3 (ipykernel)",
   "language": "python",
   "name": "python3"
  },
  "language_info": {
   "codemirror_mode": {
    "name": "ipython",
    "version": 3
   },
   "file_extension": ".py",
   "mimetype": "text/x-python",
   "name": "python",
   "nbconvert_exporter": "python",
   "pygments_lexer": "ipython3",
   "version": "3.8.5"
  }
 },
 "nbformat": 4,
 "nbformat_minor": 5
}
