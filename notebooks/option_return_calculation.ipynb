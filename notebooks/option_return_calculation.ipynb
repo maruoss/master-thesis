{
 "cells": [
  {
   "cell_type": "code",
   "execution_count": 2,
   "id": "47c68910",
   "metadata": {},
   "outputs": [],
   "source": [
    "import numpy as np\n",
    "import pandas as pd\n",
    "from pathlib import Path\n",
    "import matplotlib.pyplot as plt\n",
    "from pandas.tseries.offsets import MonthEnd\n",
    "import datetime\n",
    "from tqdm import tqdm\n",
    "from argparse import ArgumentParser, Namespace"
   ]
  },
  {
   "cell_type": "code",
   "execution_count": null,
   "id": "f5f502b5",
   "metadata": {},
   "outputs": [],
   "source": [
    "path = r\"C:\\Users\\Mathiass\\OneDrive - Universität Zürich UZH\\Documents\\mt_literature\\data\"\n",
    "path = Path(path)"
   ]
  },
  {
   "cell_type": "code",
   "execution_count": null,
   "id": "5cbb1b6d",
   "metadata": {},
   "outputs": [],
   "source": [
    "# raw option return data\n",
    "raw = pd.read_parquet(path/\"sp500_op_ret.parquet\")"
   ]
  },
  {
   "cell_type": "code",
   "execution_count": null,
   "id": "cb52063d",
   "metadata": {},
   "outputs": [],
   "source": [
    "raw"
   ]
  },
  {
   "cell_type": "code",
   "execution_count": null,
   "id": "c5a9c3f0",
   "metadata": {},
   "outputs": [],
   "source": [
    "# dates to datetime\n",
    "raw[\"date\"] = pd.to_datetime(raw[\"date\"])\n",
    "raw[\"exdate\"] = pd.to_datetime(raw[\"exdate\"])\n",
    "raw[\"date\"] = raw[\"date\"] + MonthEnd(0)"
   ]
  },
  {
   "cell_type": "code",
   "execution_count": null,
   "id": "9edd42aa",
   "metadata": {},
   "outputs": [],
   "source": [
    "len(raw)"
   ]
  },
  {
   "cell_type": "code",
   "execution_count": null,
   "id": "244aef8d",
   "metadata": {},
   "outputs": [],
   "source": [
    "raw_call = raw[raw[\"cp_flag\"] == \"C\"].copy()"
   ]
  },
  {
   "cell_type": "code",
   "execution_count": null,
   "id": "766afb82",
   "metadata": {},
   "outputs": [],
   "source": [
    "# raw_call"
   ]
  },
  {
   "cell_type": "code",
   "execution_count": null,
   "id": "796024b0",
   "metadata": {},
   "outputs": [],
   "source": [
    "# raw_call[\"optionid\"].tolist()"
   ]
  },
  {
   "cell_type": "code",
   "execution_count": null,
   "id": "d2a94fe1",
   "metadata": {},
   "outputs": [],
   "source": [
    "# raw_call[raw_call[\"optionid\"] == 10980421]"
   ]
  },
  {
   "cell_type": "code",
   "execution_count": null,
   "id": "6e91946b",
   "metadata": {},
   "outputs": [],
   "source": [
    "# def opt_ret3(df):\n",
    "#     for opt_id in tqdm(df[\"optionid\"].tolist()):\n",
    "#         df_opt = df[df[\"optionid\"] == opt_id]\n",
    "#         for i, idx in enumerate(df_opt.index):\n",
    "#             if i + 1 == len(df_opt.index):\n",
    "#                 df.loc[idx, \"OPT_RET\"] = None\n",
    "#                 break\n",
    "#             if df_opt.iloc[i][\"date\"] + MonthEnd(1) == df_opt.iloc[i+1][\"date\"]:\n",
    "#                 t1 = (df_opt.iloc[i][\"delta\"] * df_opt.iloc[i+1][\"spotprice\"]) - df_opt.iloc[i+1][\"mid_price\"]\n",
    "#                 t = (df_opt.iloc[i][\"delta\"]  * df_opt.iloc[i][\"spotprice\"]) - df_opt.iloc[i][\"mid_price\"]\n",
    "#                 df.loc[idx, \"OPT_RET\"] = t1/t - 1\n",
    "#             else:\n",
    "#                 df.loc[idx, \"OPT_RET\"] = None\n",
    "#     return df"
   ]
  },
  {
   "cell_type": "code",
   "execution_count": null,
   "id": "b4c4d7e6",
   "metadata": {},
   "outputs": [],
   "source": [
    "# l = [10980421, 11618802, 10167707]"
   ]
  },
  {
   "cell_type": "code",
   "execution_count": null,
   "id": "789b753d",
   "metadata": {},
   "outputs": [],
   "source": [
    "# raw_call[np.isin(raw_call[\"optionid\"], l)]"
   ]
  },
  {
   "cell_type": "code",
   "execution_count": null,
   "id": "2dd30d46",
   "metadata": {},
   "outputs": [],
   "source": [
    "# opt_ret3(raw_call[np.isin(raw_call[\"optionid\"], l)])"
   ]
  },
  {
   "cell_type": "code",
   "execution_count": null,
   "id": "c66373b7",
   "metadata": {},
   "outputs": [],
   "source": [
    "# opt_ret3(raw_call)"
   ]
  },
  {
   "cell_type": "code",
   "execution_count": null,
   "id": "0380bdee",
   "metadata": {},
   "outputs": [],
   "source": [
    "# def count_succ(dates):\n",
    "#     counter = 0\n",
    "#     current = pd.to_datetime(\"1900\") #startdate outside of dataset\n",
    "#     for date in dates:\n",
    "#         if date == current + MonthEnd(1):\n",
    "#             counter += 1\n",
    "#         current = date\n",
    "#     return counter"
   ]
  },
  {
   "cell_type": "code",
   "execution_count": null,
   "id": "67f0c0f5",
   "metadata": {},
   "outputs": [],
   "source": [
    "optid_counts = raw_call.groupby(\"optionid\")[\"secid\"].agg(\"count\")"
   ]
  },
  {
   "cell_type": "code",
   "execution_count": null,
   "id": "ae797fa1",
   "metadata": {},
   "outputs": [],
   "source": [
    "# only optionids with count > 1 can potentially have a return\n",
    "atleasttwo = optid_counts[optid_counts > 1].index.tolist()"
   ]
  },
  {
   "cell_type": "code",
   "execution_count": null,
   "id": "83438ef5",
   "metadata": {},
   "outputs": [],
   "source": [
    "# select only rows that have more than 1 options per optionid\n",
    "# raw_call_2 = raw_call[np.isin(raw_call[\"optionid\"], atleasttwo)]"
   ]
  },
  {
   "cell_type": "code",
   "execution_count": null,
   "id": "da9dd43e",
   "metadata": {},
   "outputs": [],
   "source": [
    "# import time\n",
    "# st_time = time.time()\n",
    "# res = raw_call_2.groupby(\"optionid\")[\"date\"].agg(count_succ)\n",
    "# e_time = time.time()\n",
    "# print(e_time - st_time, \"seconds\")"
   ]
  },
  {
   "cell_type": "code",
   "execution_count": null,
   "id": "d6dcd0f9",
   "metadata": {},
   "outputs": [],
   "source": [
    "# Number of returns that can be used as dataset:\n",
    "# sum(res[res > 0])"
   ]
  },
  {
   "cell_type": "code",
   "execution_count": null,
   "id": "78e01adf",
   "metadata": {},
   "outputs": [],
   "source": [
    "# atleast1succ = res[res > 0].index.tolist()"
   ]
  },
  {
   "cell_type": "code",
   "execution_count": null,
   "id": "3b7647c0",
   "metadata": {},
   "outputs": [],
   "source": [
    "# def opt_ret2(df, atleast1succ):\n",
    "#     for opt_id in tqdm(atleast1succ):\n",
    "#         df_opt = df[df[\"optionid\"] == opt_id]\n",
    "#         for i, idx in enumerate(df_opt.index):\n",
    "#             if i + 1 == len(df_opt.index):\n",
    "#                 df.loc[idx, \"OPT_RET\"] = None\n",
    "#                 break\n",
    "#             if df_opt.iloc[i][\"date\"] + MonthEnd(1) == df_opt.iloc[i+1][\"date\"]:\n",
    "#                 t1 = (df_opt.iloc[i][\"delta\"] * df_opt.iloc[i+1][\"spotprice\"]) - df_opt.iloc[i+1][\"mid_price\"]\n",
    "#                 t = (df_opt.iloc[i][\"delta\"]  * df_opt.iloc[i][\"spotprice\"]) - df_opt.iloc[i][\"mid_price\"]\n",
    "#                 df.loc[idx, \"OPT_RET\"] = t1/t - 1\n",
    "#             else:\n",
    "#                 df.loc[idx, \"OPT_RET\"] = None\n",
    "#     return df"
   ]
  },
  {
   "cell_type": "code",
   "execution_count": null,
   "id": "d2b2443f",
   "metadata": {},
   "outputs": [],
   "source": [
    "raw_call_final = opt_ret2(raw_call, atleast1succ)"
   ]
  },
  {
   "cell_type": "code",
   "execution_count": null,
   "id": "46ca035d",
   "metadata": {},
   "outputs": [],
   "source": [
    "# raw_call_final.to_parquet(path/\"sp500_call_cao2.parquet\")"
   ]
  },
  {
   "cell_type": "code",
   "execution_count": null,
   "id": "014bdbed",
   "metadata": {},
   "outputs": [],
   "source": [
    "# raw_call_final_dropna = raw_call_final.dropna(axis=0)"
   ]
  },
  {
   "cell_type": "code",
   "execution_count": null,
   "id": "2363aa8c",
   "metadata": {},
   "outputs": [],
   "source": [
    "# raw_call_final_dropna.to_parquet(path/\"sp500_call_cao_nadropped.parquet\")"
   ]
  },
  {
   "cell_type": "code",
   "execution_count": null,
   "id": "09c8566c",
   "metadata": {},
   "outputs": [],
   "source": [
    "# parser = ArgumentParser(description=\"Loads 'sp500_opt_ret.parquet', 'mapping_table.csv'\" \n",
    "# \"and 'datashare.parquet' files. Merges them according to the \"\n",
    "# \"specified final target datasize 'size' and fills NaN values of the Gu \"\n",
    "# \"dataset according to the specified function.\")\n",
    "# path = Path.cwd()/\"data\"\n",
    "\n",
    "# parser.add_argument(\"size\", type=str, default=\"small\", \n",
    "#                     help=\"Size of the desired final dataset.\")\n",
    "# parser.add_argument(\"--path\", type=str, \n",
    "#                 default=path,\n",
    "#                 help=\"Path where all the three required data files should lie.\")\n",
    "# parser.add_argument(\"--fill_fn\", type=str, default=\"mean\", choices=[\"mean\", \"median\"],\n",
    "#                     help=\"whether mean or median should be used for filling NaN values\")\n",
    "# parser.add_argument(\"--fill_na\", action=\"store_true\", help=\"fill na values \"\n",
    "#                     \"of the Gu2020 dataset.\")\n",
    "# parser.add_argument('--no-nafill', dest='fill_na', action='store_false',\n",
    "#                     help=\"dont fill na values of Gu2020 dataset.\")\n",
    "# parser.set_defaults(fill_na=True)\n",
    "# parser.add_argument(\"--tag\", type=str, default=\"\", help=\"tag to add to final df parquet files\")\n",
    "\n",
    "# args = parser.parse_args()\n",
    "\n",
    "import argparse\n",
    "\n",
    "args = argparse.Namespace(size=\"small\", path=path, fill_fn=\"mean\", fill_na=True, tag='')"
   ]
  },
  {
   "cell_type": "code",
   "execution_count": null,
   "id": "53e89562",
   "metadata": {},
   "outputs": [],
   "source": [
    "\n",
    "def prepare_dataset(args):\n",
    "    # Convert string path to pathlib path.\n",
    "    path = Path(args.path)\n",
    "    # Check whether required files exist in the path.\n",
    "    assert (path/\"sp500_call_cao_nadropped.parquet\").exists(), (\n",
    "            \"'sp500_opt_ret.parquet' does not exist in data path. \"\n",
    "            \"If only .csv file is available, convert first using the helper \"\n",
    "            \"function 'csv_to_parquet'.\"\n",
    "            )\n",
    "    assert (path/\"mapping_table.csv\").exists(), (\"'mapping_table.csv' does not exist \"\n",
    "                                                \"in data path\")\n",
    "    assert (path/\"Gu2020_datashare\\datashare.parquet\").exists(), (\n",
    "        \"'datashare.parquet' does not exist in data path. \"\n",
    "        \"If only .csv file is available, convert first using the helper \"\n",
    "        \"function 'csv_to_parquet'.\")\n",
    "\n",
    "    # Load S&P 500 option returns.\n",
    "    print(\"Read in S&P500 option returns from parquet file...\")\n",
    "    s_time = time.time()\n",
    "    sp500opt_df = pd.read_parquet(path/\"sp500_call_cao_nadropped.parquet\")\n",
    "    e_time = time.time()\n",
    "    print(\"Done! Read 'sp500_call_cao_nadropped.parquet' file in:\", (e_time-s_time), \"seconds.\")\n",
    "\n",
    "    sp500opt_df[\"date\"] = pd.to_datetime(sp500opt_df[\"date\"])\n",
    "    sp500opt_df[\"exdate\"] = pd.to_datetime(sp500opt_df[\"exdate\"])\n",
    "    # Bring dates to end of month dates (in order to correctly merge with other datasets).\n",
    "    sp500opt_df[\"date\"] = sp500opt_df[\"date\"] + MonthEnd(0)\n",
    "    # Remove 138 NaN option returns.\n",
    "    sp500opt_df = sp500opt_df.drop(sp500opt_df[sp500opt_df[\"option_ret\"].isnull()].index)\n",
    "    sp500opt_df = sp500opt_df.reset_index(drop=True)\n",
    "\n",
    "    # Load mapping table data (options <-> underlying stocks). Note: The last\n",
    "    # 7 lines (line 28278-28284) in the .csv. were added manually to fix minor\n",
    "    # date gaps.\n",
    "    print(\"Read in mapping table that maps S&P 500 option returns with underlying stocks...\")\n",
    "    s_time = time.time()\n",
    "    map_table_df = pd.read_csv(path/\"mapping_table.csv\") # file is small enough to use .csv\n",
    "    e_time = time.time()\n",
    "    print(\"Done! Read 'mapping_table.csv' in:\", (e_time-s_time), \"seconds.\")\n",
    "\n",
    "    # Merge Option Returns and mapping table on \"secid\".\n",
    "    print(\"Merge S&P 500 option returns with underlying stock 'secid'...\")\n",
    "    opt_df = sp500opt_df.merge(map_table_df, on=\"secid\")\n",
    "    print(\"Done!\")\n",
    "\n",
    "    # Correct format important here, otherwise will see month as day and vice versa.\n",
    "    print(\"Filter out dates that do not lie within start and end dates...\")\n",
    "    opt_df[\"sdate\"] = pd.to_datetime(opt_df[\"sdate\"], format = \"%d/%m/%Y %H:%M\")\n",
    "    opt_df[\"edate\"] = pd.to_datetime(opt_df[\"edate\"], format = \"%d/%m/%Y %H:%M\")\n",
    "\n",
    "    # Filter opt_df to only contain dates that are within 'sdate' and 'edate'.\n",
    "    # 'date' is used instead of 'exdate', more rows are preserved -> seems more logical.\n",
    "    opt_df = opt_df[(opt_df[\"date\"] >= opt_df[\"sdate\"]) & \n",
    "                    ((opt_df[\"date\"] <= opt_df[\"edate\"]) | \n",
    "                    (opt_df[\"edate\"] >= \"2020-12-31\"))]\n",
    "    print(f\"Done! The merged df after filtering has {len(sp500opt_df)-len(opt_df)} \"\n",
    "        \"rows less than the original S&P 500 option return dataset.\")\n",
    "    # 4 observations are dropped because their date is after the 'edate' of the \n",
    "    # mapping list...\n",
    "\n",
    "    # Load Gu2020 stock data.\n",
    "    print(\"Load Gu2020 data...\")\n",
    "    s_time = time.time()\n",
    "    gu2020_df = pd.read_parquet(path/\"Gu2020_datashare\\datashare.parquet\")\n",
    "    e_time = time.time()\n",
    "    print(\"Done! Read in:\", (e_time-s_time), \"seconds.\")\n",
    "\n",
    "    # Lag features by -1 to align with option features. See readme file of Gu2020\n",
    "    # datashare directory. They aligned their data by pushing features forward.\n",
    "    # Now, we have to push them back again, since in our data the return was lagged.\n",
    "    print(\"Clean Gu2020 data...\")\n",
    "    gu2020_df[\"DATE\"] = pd.to_datetime(gu2020_df[\"DATE\"].astype(str), \n",
    "                                        format='%Y%m%d') - MonthEnd(1)\n",
    "\n",
    "    # Adds missing sic codes manually, after verifying them with given sources.\n",
    "    gu2020_df = add_sic_manually(gu2020_df)\n",
    "\n",
    "    # Our data starts at 1996-01-31.\n",
    "    gu2020_df = gu2020_df[gu2020_df[\"DATE\"] > \"1995-12-31\"]\n",
    "    gu2020_df = gu2020_df.reset_index()\n",
    "    gu2020_df = gu2020_df.rename(columns={\"DATE\": \"date\"})\n",
    "\n",
    "    if args.fill_na:\n",
    "        # Fill missing values.\n",
    "        print(f\"Fill missing values... There are {gu2020_df.isnull().to_numpy().sum()} \"\n",
    "                f\"missing values in the Gu2020 dataset. Fill them with {args.fill_fn} of stocks of \"\n",
    "                \"respective month...\")\n",
    "        # Unique set of dates to loop over and take mean/median of all stocks in that month.\n",
    "        date_unique = list(gu2020_df[\"date\"].unique())\n",
    "        # Loop over each month and fill NA with stock mean/median of that month.\n",
    "        if args.fill_fn == \"mean\":\n",
    "            for i in tqdm(date_unique):\n",
    "                gu2020_df[gu2020_df[\"date\"] == i] = (gu2020_df[gu2020_df[\"date\"] == i]\n",
    "                                                    .fillna(gu2020_df[gu2020_df[\"date\"] == i]\n",
    "                                                    .mean(axis=0, numeric_only=True)))\n",
    "        elif args.fill_fn == \"median\":\n",
    "            for i in tqdm(date_unique):\n",
    "                gu2020_df[gu2020_df[\"date\"] == i] = (gu2020_df[gu2020_df[\"date\"] == i]\n",
    "                                                    .fillna(gu2020_df[gu2020_df[\"date\"] == i]\n",
    "                                                    .median(axis=0, numeric_only=True)))\n",
    "        else:\n",
    "            raise ValueError(\"Select mean or median as fill fn.\")\n",
    "\n",
    "        # Check if there are NaN values remaining.\n",
    "        assert opt_df.isnull().to_numpy().sum() == 0, \"Not all NaN values of opt_df have been dropped.\"\n",
    "        assert gu2020_df.isnull().to_numpy().sum() == 0, \"Not all NaN values of gu2020_df have been filled.\"\n",
    "        print(\"Done!\")\n",
    "\n",
    "    print(f\"There are now {gu2020_df.isnull().to_numpy().sum()} missing values.\")\n",
    "    # Merge option data with underlying Gu2020 stock data.\n",
    "    # \"inner\" removes about 2000 rows. \"left\" would have these as NaNs.\n",
    "    print(\"Merge option data with underlying Gu2020 stock data...\")\n",
    "    final_df = opt_df.merge(gu2020_df, on=[\"date\", \"permno\"], how=\"inner\")\n",
    "    print(f\"Done! {len(opt_df)-len(final_df)} rows have been removed by the \"\n",
    "          \"inner join of the option and stock data on 'date' and 'permno'.\")\n",
    "    # Put option returns at the end.\n",
    "    opt_ret = final_df.pop(\"option_ret\")\n",
    "    final_df[\"option_ret\"] = opt_ret\n",
    "\n",
    "    # Transform Categorical variables to OneHot-Numeric array\n",
    "    print(\"Transform categorical variables cp_flag and sic2 code to OneHot-numeric array \"\n",
    "        \"and drop useless columns.\")\n",
    "    onehotencoder = make_column_transformer((OneHotEncoder(), \n",
    "                                            [\"cp_flag\", \"sic2\"]), remainder=\"drop\")\n",
    "    transformed = onehotencoder.fit_transform(final_df)\n",
    "    transformed_df = pd.DataFrame(transformed.toarray(), \n",
    "                                    columns=onehotencoder.transformers_[0][1]\n",
    "                                    .get_feature_names_out([\"cp_flag\", \"sic2\"]))\n",
    "    # Drop old columns cp_flag, sic2.\n",
    "    final_df = final_df.drop([\"cp_flag\", \"sic2\"], axis=1)\n",
    "    # Concatenate both dataframes (memory intensive?)\n",
    "    final_df = pd.concat([final_df, transformed_df], axis=1)\n",
    "    # Sort values by date! (secondly by secid -> but better to shuffle within date later?)\n",
    "    final_df = final_df.sort_values([\"date\", \"secid\"]).reset_index(drop=True)\n",
    "    # Remove columns useless for data analysis.\n",
    "    final_df = final_df.drop([\"secid\", \"optionid\", \"exdate\", \"sdate\", \"edate\", \"permno\", \"index\"], axis=1)\n",
    "    print(\"Done!\")\n",
    "\n",
    "    # Save final_df depending on arguments. Final_df is equal to the 'big' dataset.\n",
    "    print(\"Save final dataframe...\")\n",
    "    save_df(path, final_df, args)\n",
    "    print(\"Done!\")\n",
    "    print(\"---\")\n",
    "    print(\"All done.\")\n",
    "\n",
    "\n",
    "def save_df(path: Path, final_df: pd.DataFrame, args):\n",
    "    # Create and save small, medium and big datasets.\n",
    "    # Small dataset takes the option_return data + the newly created one_hot columns \n",
    "    # + option return, gives in total 22 columns (incl. target, option_return)\n",
    "    prefix = f\"final_df_call_cao{args.tag}\"\n",
    "    if args.size == \"small\": # 22 columns.\n",
    "        filename = prefix + \"_small.parquet\"\n",
    "        # Only keep first 19 columns + 'cp_flag_C', 'cp_flag_P' and the target 'option_ret'\n",
    "        small_df_columns = (final_df.iloc[:, :19].columns\n",
    "                        .append(final_df.loc[:, [\"cp_flag_C\", \"option_ret\", \"OPT_RET\"]].columns)) ##MATHIAS REMOVE CP_FLAG_P\n",
    "        small_final_df = final_df.loc[:, small_df_columns]\n",
    "        small_final_df.to_parquet(path/filename) # 22 columns.\n",
    "    \n",
    "    elif args.size == \"medium\": # 116 columns.\n",
    "        # Medium dataset takes all option + stock data but no sic onehot columns.\n",
    "        if args.fill_na:  # NaNs filled.\n",
    "            filename = prefix + f\"_med_fill{args.fill_fn}.parquet\"\n",
    "        else: # NaNs not filled.\n",
    "            filename = prefix + \"_med_nofill.parquet\"\n",
    "        # Remove all sic codes from big dataset to get medium.\n",
    "        medium_final_df = final_df.loc[:, ~final_df.columns.str.startswith('sic2')]\n",
    "        medium_final_df.to_parquet(path/filename) # 116 columns.\n",
    "\n",
    "    elif args.size == \"big\": # 179 columns.\n",
    "        # Big dataset leaves data as it is.\n",
    "        if args.fill_na: # NaNs filled.\n",
    "            filename= prefix + f\"_big_fill{args.fill_fn}.parquet\"\n",
    "        else: # NaNs not filled\n",
    "            filename = prefix + \"_big_nofill.parquet\"\n",
    "        final_df.to_parquet(path/filename) # 179 columns.\n",
    "\n",
    "    print(f\"The final dataframe with specifications:\\nsize: {args.size},\\nfill_na: {args.fill_na}, \"\n",
    "          f\"\\nfill_fn: {args.fill_fn}\\nhas been saved to {path/filename} .\")\n",
    "    \n",
    "def add_sic_manually(df):\n",
    "    \"\"\"Adds missing sic codes to all rows with the respective permno number.\"\"\"\n",
    "    df.loc[df[\"permno\"] == 18312, \"sic2\"] = 28 #Moderna https://sec.report/CIK/0001682852\n",
    "    df.loc[df[\"permno\"] == 18428, \"sic2\"] = 28 #Dow Inc https://sec.report/Ticker/DOW\n",
    "    df.loc[df[\"permno\"] == 93429, \"sic2\"] = 62 #CBOE Global Markets https://sec.report/Ticker/CBOE\n",
    "    df.loc[df[\"permno\"] == 18143, \"sic2\"] = 28 #Linde https://sec.report/CIK/0001707925\n",
    "    df.loc[df[\"permno\"] == 19285, \"sic2\"] = 35 #Carrier Global Corp https://sec.report/Ticker/CARR\n",
    "    df.loc[df[\"permno\"] == 18592, \"sic2\"] = 1 #Corteva https://sec.report/CIK/0001755672\n",
    "    df.loc[df[\"permno\"] == 17942, \"sic2\"] = 20 #Keurig Dr Pepper https://sec.report/Ticker/kdp\n",
    "    df.loc[df[\"permno\"] == 18420, \"sic2\"] = 48 #FOX Corp https://sec.report/Ticker/foxa\n",
    "    df.loc[df[\"permno\"] == 20057, \"sic2\"] = 28 #Viatris https://sec.report/Ticker/foxa\n",
    "    df.loc[df[\"permno\"] == 15850, \"sic2\"] = 72 #Match Group https://sec.report/Ticker/mtch\n",
    "    df.loc[df[\"permno\"] == 32791, \"sic2\"] = 35 #Weatherford https://sec.report/Ticker/wft\n",
    "    df.loc[df[\"permno\"] == 19286, \"sic2\"] = 36 #OTIS https://sec.report/Ticker/OTIS\n",
    "    df.loc[df[\"permno\"] == 17700, \"sic2\"] = 73 #Ceridian https://sec.report/Ticker/CDAY\n",
    "    df.loc[df[\"permno\"] == 18724, \"sic2\"] = 39 #Amcor https://sec.report/Ticker/AMCR\n",
    "    df.loc[df[\"permno\"] == 38850, \"sic2\"] = 24 #Skyline https://sec.report/Ticker/sky\n",
    "    df.loc[df[\"permno\"] == 19807, \"sic2\"] = 38 #Vontier https://sec.report/Ticker/VNT\n",
    "    df.loc[df[\"permno\"] == 78840, \"sic2\"] = 48 #IAC Interactive Corp ->sp500 const. list\n",
    "    # ----\n",
    "    df.loc[df[\"permno\"] == 81594, \"sic2\"] = 13 #Dynegy, only 8 were NaN, rest was =13\n",
    "    df.loc[df[\"permno\"] == 88601, \"sic2\"] = 49 #Mirant, first 4 were NaN, rest =49\n",
    "    df.loc[df[\"permno\"] == 80913, \"sic2\"] = 73 #ACS, last month NaN, rest =73\n",
    "    df.loc[df[\"permno\"] == 44652, \"sic2\"] = 54 #American Stores Company, last month NaN, rest =54\n",
    "    df.loc[df[\"permno\"] == 76563, \"sic2\"] = 54 #Meyer Fred Inc., last month NaN, rest =54\n",
    "\n",
    "    return df"
   ]
  },
  {
   "cell_type": "code",
   "execution_count": null,
   "id": "e1bd1c15",
   "metadata": {},
   "outputs": [],
   "source": [
    "from sklearn.preprocessing import OneHotEncoder\n",
    "from sklearn.compose import make_column_transformer"
   ]
  },
  {
   "cell_type": "code",
   "execution_count": null,
   "id": "ff42b1db",
   "metadata": {
    "scrolled": false
   },
   "outputs": [],
   "source": [
    "# prepare_dataset(args)"
   ]
  },
  {
   "cell_type": "code",
   "execution_count": 22,
   "id": "b1064ae4",
   "metadata": {},
   "outputs": [],
   "source": [
    "path = r\"C:\\Users\\Mathiass\\OneDrive - Universität Zürich UZH\\Documents\\mt_literature\\data\"\n",
    "path = Path(path)"
   ]
  },
  {
   "cell_type": "code",
   "execution_count": 23,
   "id": "b1c082eb",
   "metadata": {},
   "outputs": [],
   "source": [
    "a = pd.read_parquet(path/\"final_df_call_cao_small.parquet\")"
   ]
  },
  {
   "cell_type": "code",
   "execution_count": 24,
   "id": "c2727053",
   "metadata": {},
   "outputs": [],
   "source": [
    "path = r\"C:\\Users\\Mathiass\\OneDrive - Universität Zürich UZH\\Documents\\mt_literature\\data\\old_optionreturn\"\n",
    "path = Path(path)"
   ]
  },
  {
   "cell_type": "code",
   "execution_count": 25,
   "id": "811c48cd",
   "metadata": {},
   "outputs": [],
   "source": [
    "b = pd.read_parquet(path/\"final_df_small.parquet\")"
   ]
  },
  {
   "cell_type": "code",
   "execution_count": 28,
   "id": "d80abd9d",
   "metadata": {},
   "outputs": [
    {
     "data": {
      "text/plain": [
       "310"
      ]
     },
     "execution_count": 28,
     "metadata": {},
     "output_type": "execute_result"
    }
   ],
   "source": [
    "len(a[\"date\"].unique())"
   ]
  },
  {
   "cell_type": "code",
   "execution_count": 29,
   "id": "97cec044",
   "metadata": {},
   "outputs": [
    {
     "data": {
      "text/plain": [
       "311"
      ]
     },
     "execution_count": 29,
     "metadata": {},
     "output_type": "execute_result"
    }
   ],
   "source": [
    "len(b[\"date\"].unique())"
   ]
  },
  {
   "cell_type": "code",
   "execution_count": 30,
   "id": "1e06c351",
   "metadata": {},
   "outputs": [
    {
     "data": {
      "text/plain": [
       "311"
      ]
     },
     "execution_count": 30,
     "metadata": {},
     "output_type": "execute_result"
    }
   ],
   "source": [
    "26 * 12 - 1"
   ]
  },
  {
   "cell_type": "code",
   "execution_count": null,
   "id": "e3cbb7ab",
   "metadata": {},
   "outputs": [],
   "source": []
  },
  {
   "cell_type": "code",
   "execution_count": null,
   "id": "fb0b642f",
   "metadata": {},
   "outputs": [],
   "source": []
  },
  {
   "cell_type": "code",
   "execution_count": 19,
   "id": "7018a173",
   "metadata": {},
   "outputs": [],
   "source": [
    "b = sorted(list(set((a[\"date\"].apply(lambda x: x.strftime(\"%Y\"))).tolist())))"
   ]
  },
  {
   "cell_type": "code",
   "execution_count": 21,
   "id": "805916d1",
   "metadata": {
    "scrolled": true
   },
   "outputs": [
    {
     "name": "stdout",
     "output_type": "stream",
     "text": [
      "1996 0\n",
      "1997 9258\n",
      "1998 21515\n",
      "1999 37357\n",
      "2000 55035\n",
      "2001 78049\n",
      "2002 94953\n",
      "2003 109016\n",
      "2004 125524\n",
      "2005 145013\n",
      "2006 169906\n",
      "2007 198824\n",
      "2008 234731\n",
      "2009 266950\n",
      "2010 295124\n",
      "2011 313814\n",
      "2012 340628\n",
      "2013 362546\n",
      "2014 385956\n",
      "2015 419568\n",
      "2016 451661\n",
      "2017 481534\n",
      "2018 519621\n",
      "2019 565885\n",
      "2020 608524\n",
      "2021 692814\n"
     ]
    }
   ],
   "source": [
    "for i in b:\n",
    "    print(i, len(a[a[\"date\"] < i]))"
   ]
  },
  {
   "cell_type": "code",
   "execution_count": null,
   "id": "5eb773aa",
   "metadata": {},
   "outputs": [],
   "source": [
    "a"
   ]
  },
  {
   "cell_type": "code",
   "execution_count": null,
   "id": "9d32bc3a",
   "metadata": {},
   "outputs": [],
   "source": []
  },
  {
   "cell_type": "code",
   "execution_count": null,
   "id": "44929c8c",
   "metadata": {},
   "outputs": [],
   "source": []
  },
  {
   "cell_type": "code",
   "execution_count": null,
   "id": "c9a110cd",
   "metadata": {},
   "outputs": [],
   "source": [
    "path = r\"C:\\Users\\Mathiass\\Documents\\Projects\\master-thesis\\data\"\n",
    "path = Path(path)"
   ]
  },
  {
   "cell_type": "code",
   "execution_count": null,
   "id": "ace715fc",
   "metadata": {},
   "outputs": [],
   "source": [
    "c = pd.read_parquet(path/\"final_df_call_cao_small.parquet\")"
   ]
  },
  {
   "cell_type": "code",
   "execution_count": null,
   "id": "c082aaa9",
   "metadata": {},
   "outputs": [],
   "source": [
    "c"
   ]
  },
  {
   "cell_type": "code",
   "execution_count": null,
   "id": "edec314c",
   "metadata": {},
   "outputs": [],
   "source": [
    "(a == c).all().all()"
   ]
  },
  {
   "cell_type": "code",
   "execution_count": null,
   "id": "d8063565",
   "metadata": {},
   "outputs": [],
   "source": [
    "a"
   ]
  },
  {
   "cell_type": "code",
   "execution_count": null,
   "id": "ae886adb",
   "metadata": {},
   "outputs": [],
   "source": [
    "c"
   ]
  },
  {
   "cell_type": "code",
   "execution_count": null,
   "id": "fe4f8746",
   "metadata": {},
   "outputs": [],
   "source": [
    "from pandas.testing import assert_frame_equal"
   ]
  },
  {
   "cell_type": "code",
   "execution_count": null,
   "id": "8730ee18",
   "metadata": {
    "scrolled": true
   },
   "outputs": [],
   "source": [
    "assert_frame_equal(a, c)"
   ]
  },
  {
   "cell_type": "code",
   "execution_count": null,
   "id": "2e319e46",
   "metadata": {},
   "outputs": [],
   "source": [
    "path = r\"C:\\Users\\Mathiass\\Documents\\Projects\\master-thesis\\data\"\n",
    "path = Path(path)"
   ]
  },
  {
   "cell_type": "code",
   "execution_count": null,
   "id": "051bc2ca",
   "metadata": {},
   "outputs": [],
   "source": [
    "d = pd.read_parquet(path/\"final_df_call_cao_small1.parquet\")"
   ]
  },
  {
   "cell_type": "code",
   "execution_count": null,
   "id": "662dbebc",
   "metadata": {},
   "outputs": [],
   "source": [
    "e = pd.read_parquet(path/\"final_df_call_cao_med_fillmean1.parquet\")"
   ]
  },
  {
   "cell_type": "code",
   "execution_count": null,
   "id": "423da461",
   "metadata": {},
   "outputs": [],
   "source": [
    "f = pd.read_parquet(path/\"final_df_call_cao_big_fillmean1.parquet\")"
   ]
  },
  {
   "cell_type": "code",
   "execution_count": null,
   "id": "abf06858",
   "metadata": {},
   "outputs": [],
   "source": [
    "g = pd.read_parquet(path/\"final_df_call_cao_small.parquet\")"
   ]
  },
  {
   "cell_type": "code",
   "execution_count": null,
   "id": "881dc22d",
   "metadata": {},
   "outputs": [],
   "source": [
    "h = pd.read_parquet(path/\"final_df_call_cao_med_fillmean.parquet\")"
   ]
  },
  {
   "cell_type": "code",
   "execution_count": null,
   "id": "3e0a3f84",
   "metadata": {},
   "outputs": [],
   "source": [
    "i = pd.read_parquet(path/\"final_df_call_cao_big_fillmean.parquet\")"
   ]
  },
  {
   "cell_type": "code",
   "execution_count": null,
   "id": "cad1d8eb",
   "metadata": {},
   "outputs": [],
   "source": [
    "(g == .drop(columns=\"cp_flag_C\")).all().all()"
   ]
  },
  {
   "cell_type": "code",
   "execution_count": null,
   "id": "1ae5c4f9",
   "metadata": {},
   "outputs": [],
   "source": [
    "(h == e.drop(columns=\"cp_flag_C\")).all().all()"
   ]
  },
  {
   "cell_type": "code",
   "execution_count": null,
   "id": "9ec44be2",
   "metadata": {},
   "outputs": [],
   "source": [
    "(i == f.drop(columns=\"cp_flag_C\")).all().all()"
   ]
  },
  {
   "cell_type": "code",
   "execution_count": null,
   "id": "13cc5553",
   "metadata": {},
   "outputs": [],
   "source": [
    "assert_frame_equal(g, c.drop(columns=\"cp_flag_C\"))"
   ]
  },
  {
   "cell_type": "code",
   "execution_count": null,
   "id": "c7231787",
   "metadata": {},
   "outputs": [],
   "source": [
    "assert_frame_equal(h, e.drop(columns=\"cp_flag_C\"))"
   ]
  },
  {
   "cell_type": "code",
   "execution_count": null,
   "id": "4907c7c5",
   "metadata": {},
   "outputs": [],
   "source": [
    "assert_frame_equal(i, f.drop(columns=\"cp_flag_C\"))"
   ]
  },
  {
   "cell_type": "code",
   "execution_count": null,
   "id": "dbd9d5f8",
   "metadata": {},
   "outputs": [],
   "source": []
  },
  {
   "cell_type": "code",
   "execution_count": null,
   "id": "6c7d5edb",
   "metadata": {},
   "outputs": [],
   "source": [
    "print(len(raw) - len(raw_call), \"Put rows have been deleted.\")"
   ]
  },
  {
   "cell_type": "code",
   "execution_count": null,
   "id": "647e08f5",
   "metadata": {},
   "outputs": [],
   "source": [
    "raw_call[raw_call[\"optionid\"] == 10564133]"
   ]
  },
  {
   "cell_type": "code",
   "execution_count": null,
   "id": "25d5f772",
   "metadata": {},
   "outputs": [],
   "source": [
    "a = raw_call[raw_call[\"option_ret\"].isnull()]"
   ]
  },
  {
   "cell_type": "code",
   "execution_count": null,
   "id": "289f5748",
   "metadata": {
    "scrolled": true
   },
   "outputs": [],
   "source": [
    "a[\"optionid\"].head(34)"
   ]
  },
  {
   "cell_type": "code",
   "execution_count": null,
   "id": "6af4beb8",
   "metadata": {
    "scrolled": true
   },
   "outputs": [],
   "source": [
    "for i, opt_id in enumerate(a[\"optionid\"]):\n",
    "    print(\"index:\", i, \"length:\", len(raw_call[raw_call[\"optionid\"] == opt_id]))"
   ]
  },
  {
   "cell_type": "code",
   "execution_count": null,
   "id": "9781db26",
   "metadata": {},
   "outputs": [],
   "source": [
    "raw_call[raw_call[\"optionid\"] == 10564133]"
   ]
  },
  {
   "cell_type": "code",
   "execution_count": null,
   "id": "9d1ab167",
   "metadata": {
    "scrolled": true
   },
   "outputs": [],
   "source": [
    "raw_call[raw_call[\"optionid\"] == 10564133].iloc[0, :][\"date\"] + MonthEnd(1) == raw_call[raw_call[\"optionid\"] == 10564133].iloc[1, :][\"date\"]"
   ]
  },
  {
   "cell_type": "code",
   "execution_count": null,
   "id": "e79a6e05",
   "metadata": {},
   "outputs": [],
   "source": [
    "raw_call[raw_call[\"optionid\"] == 10564133].iloc[0, :][\"date\"] + MonthEnd(1)"
   ]
  },
  {
   "cell_type": "code",
   "execution_count": null,
   "id": "ffccc3b4",
   "metadata": {},
   "outputs": [],
   "source": [
    "raw_call[raw_call[\"optionid\"] == 10564133].iloc[1, :][\"date\"]"
   ]
  },
  {
   "cell_type": "code",
   "execution_count": null,
   "id": "099c4341",
   "metadata": {},
   "outputs": [],
   "source": [
    "raw_call[raw_call[\"secid\"] == 5061]"
   ]
  },
  {
   "cell_type": "code",
   "execution_count": null,
   "id": "f5eeba11",
   "metadata": {},
   "outputs": [],
   "source": [
    "optionids = raw_call[\"optionid\"].unique()"
   ]
  },
  {
   "cell_type": "code",
   "execution_count": null,
   "id": "30382d4b",
   "metadata": {},
   "outputs": [],
   "source": [
    "optionids"
   ]
  },
  {
   "cell_type": "code",
   "execution_count": null,
   "id": "da92e20b",
   "metadata": {},
   "outputs": [],
   "source": [
    "def count_succ(dates):\n",
    "    counter = 0\n",
    "    current = pd.to_datetime(\"1900\") #startdate outside of dataset\n",
    "    for date in dates:\n",
    "        if date == current + MonthEnd(1):\n",
    "            counter += 1\n",
    "        current = date\n",
    "    return counter"
   ]
  },
  {
   "cell_type": "code",
   "execution_count": null,
   "id": "0c815599",
   "metadata": {},
   "outputs": [],
   "source": [
    "raw_call[\"date\"].iloc[0]"
   ]
  },
  {
   "cell_type": "code",
   "execution_count": null,
   "id": "cdee97d7",
   "metadata": {},
   "outputs": [],
   "source": [
    "raw_call"
   ]
  },
  {
   "cell_type": "code",
   "execution_count": null,
   "id": "8958e10b",
   "metadata": {},
   "outputs": [],
   "source": [
    "raw_call.groupby(\"optionid\")[\"date\"]"
   ]
  },
  {
   "cell_type": "code",
   "execution_count": null,
   "id": "3406eafe",
   "metadata": {
    "scrolled": true
   },
   "outputs": [],
   "source": [
    "# raw_call.groupby(\"optionid\")[\"date\"].agg(count_succ)"
   ]
  },
  {
   "cell_type": "code",
   "execution_count": null,
   "id": "8aad66ca",
   "metadata": {},
   "outputs": [],
   "source": [
    "raw_call[\"optionid\"].unique()"
   ]
  },
  {
   "cell_type": "code",
   "execution_count": null,
   "id": "8c540c45",
   "metadata": {},
   "outputs": [],
   "source": [
    "optid_counts = raw_call.groupby(\"optionid\")[\"secid\"].agg(\"count\")"
   ]
  },
  {
   "cell_type": "code",
   "execution_count": null,
   "id": "02b54ae0",
   "metadata": {
    "scrolled": true
   },
   "outputs": [],
   "source": [
    "optid_counts[10980421]"
   ]
  },
  {
   "cell_type": "code",
   "execution_count": null,
   "id": "bed8d135",
   "metadata": {},
   "outputs": [],
   "source": [
    "# only optionids with count > 1 can potentially have a return\n",
    "atleasttwo = optid_counts[optid_counts > 1].index.tolist()"
   ]
  },
  {
   "cell_type": "code",
   "execution_count": null,
   "id": "8f7363e2",
   "metadata": {},
   "outputs": [],
   "source": [
    "np.isin(10980421, atleasttwo)"
   ]
  },
  {
   "cell_type": "code",
   "execution_count": null,
   "id": "cd7c0d75",
   "metadata": {},
   "outputs": [],
   "source": [
    "# select only rows that have more than 1 options per optionid\n",
    "raw_call_2 = raw_call[np.isin(raw_call[\"optionid\"], atleasttwo)]"
   ]
  },
  {
   "cell_type": "code",
   "execution_count": null,
   "id": "fc01f78e",
   "metadata": {
    "scrolled": true
   },
   "outputs": [],
   "source": [
    "raw_call_2"
   ]
  },
  {
   "cell_type": "code",
   "execution_count": null,
   "id": "9e38c594",
   "metadata": {
    "scrolled": true
   },
   "outputs": [],
   "source": [
    "import time\n",
    "st_time = time.time()\n",
    "res = raw_call_2.groupby(\"optionid\")[\"date\"].agg(count_succ)\n",
    "e_time = time.time()\n",
    "print(e_time - st_time, \"seconds\")"
   ]
  },
  {
   "cell_type": "code",
   "execution_count": null,
   "id": "38cedad2",
   "metadata": {},
   "outputs": [],
   "source": [
    "optionids"
   ]
  },
  {
   "cell_type": "code",
   "execution_count": null,
   "id": "d08832b0",
   "metadata": {},
   "outputs": [],
   "source": [
    "len(optionids)"
   ]
  },
  {
   "cell_type": "code",
   "execution_count": null,
   "id": "cc8248b6",
   "metadata": {},
   "outputs": [],
   "source": [
    "res"
   ]
  },
  {
   "cell_type": "markdown",
   "id": "56819dcb",
   "metadata": {},
   "source": [
    "### Number of returns that can be calculated:"
   ]
  },
  {
   "cell_type": "code",
   "execution_count": null,
   "id": "ddbea4b1",
   "metadata": {},
   "outputs": [],
   "source": [
    "# Number of returns that can be used as dataset:\n",
    "sum(res[res > 0])"
   ]
  },
  {
   "cell_type": "code",
   "execution_count": null,
   "id": "56dccb5c",
   "metadata": {},
   "outputs": [],
   "source": [
    "res[res > 0]"
   ]
  },
  {
   "cell_type": "code",
   "execution_count": null,
   "id": "9f204cb6",
   "metadata": {},
   "outputs": [],
   "source": [
    "atleast1succ = res[res > 0].index.tolist()"
   ]
  },
  {
   "cell_type": "code",
   "execution_count": null,
   "id": "ccf83bdc",
   "metadata": {},
   "outputs": [],
   "source": [
    "# raw_call_final = raw_call[np.isin(raw_call[\"optionid\"], atleast1succ)]"
   ]
  },
  {
   "cell_type": "code",
   "execution_count": null,
   "id": "f7055961",
   "metadata": {},
   "outputs": [],
   "source": [
    "def opt_ret(df):\n",
    "    t1 = (df[\"delta\"] * df[\"spotprice\"].shift(-1) - df[\"mid_price\"].shift(-1))\n",
    "    t = (df[\"delta\"] * df[\"spotprice\"] - df[\"mid_price\"])\n",
    "    return t1/t - 1"
   ]
  },
  {
   "cell_type": "code",
   "execution_count": null,
   "id": "294ed586",
   "metadata": {},
   "outputs": [],
   "source": [
    "raw_call[raw_call[\"optionid\"] == 10914516].index"
   ]
  },
  {
   "cell_type": "code",
   "execution_count": null,
   "id": "9c1977a6",
   "metadata": {},
   "outputs": [],
   "source": [
    "raw_call[raw_call[\"optionid\"] == 10914516]"
   ]
  },
  {
   "cell_type": "code",
   "execution_count": null,
   "id": "0facd9a3",
   "metadata": {},
   "outputs": [],
   "source": [
    "(0.657941 * 29.875 - 2.1875) / (0.657941 * 31.750 - 3.5625) - 1"
   ]
  },
  {
   "cell_type": "code",
   "execution_count": null,
   "id": "5ea1a310",
   "metadata": {},
   "outputs": [],
   "source": [
    "(0.546475 * 33.125 - 3.5625 ) / (0.546475 * 29.875 - 2.1875) - 1"
   ]
  },
  {
   "cell_type": "code",
   "execution_count": null,
   "id": "366e9e58",
   "metadata": {},
   "outputs": [],
   "source": [
    "opt = opt_ret(raw_call[raw_call[\"optionid\"] == 10914516])\n",
    "raw_call.loc[opt.index, \"option_ret2\"] = opt"
   ]
  },
  {
   "cell_type": "code",
   "execution_count": null,
   "id": "040af10c",
   "metadata": {},
   "outputs": [],
   "source": [
    "raw_call[raw_call[\"optionid\"] == 10914516].iloc[1][\"date\"]"
   ]
  },
  {
   "cell_type": "code",
   "execution_count": null,
   "id": "39f71fcc",
   "metadata": {},
   "outputs": [],
   "source": [
    "# opt_ret2(raw_call)"
   ]
  },
  {
   "cell_type": "code",
   "execution_count": null,
   "id": "c0dbaf0b",
   "metadata": {},
   "outputs": [],
   "source": [
    "raw_call[raw_call[\"optionid\"] == 10914516]"
   ]
  },
  {
   "cell_type": "code",
   "execution_count": null,
   "id": "d9dce04d",
   "metadata": {},
   "outputs": [],
   "source": []
  },
  {
   "cell_type": "code",
   "execution_count": null,
   "id": "2d59f65b",
   "metadata": {},
   "outputs": [],
   "source": [
    "d = atleast1succ[:10000]"
   ]
  },
  {
   "cell_type": "code",
   "execution_count": null,
   "id": "62712f4a",
   "metadata": {},
   "outputs": [],
   "source": [
    "for opt_id in tqdm(d):\n",
    "    opt_return = opt_ret(raw_call[raw_call[\"optionid\"] == opt_id])\n",
    "    raw_call.loc[opt_return.index, \"option_ret2\"] = opt_return"
   ]
  },
  {
   "cell_type": "code",
   "execution_count": null,
   "id": "e0336b60",
   "metadata": {
    "scrolled": true
   },
   "outputs": [],
   "source": [
    "raw_call"
   ]
  },
  {
   "cell_type": "code",
   "execution_count": null,
   "id": "bb424727",
   "metadata": {},
   "outputs": [],
   "source": [
    "def opt_ret2(df, atleast1succ):\n",
    "    for opt_id in tqdm(atleast1succ):\n",
    "        df_opt = df[df[\"optionid\"] == opt_id]\n",
    "        for i, idx in enumerate(df_opt.index):\n",
    "            if i + 1 == len(df_opt.index):\n",
    "                df.loc[idx, \"OPT_RET\"] = None\n",
    "                break\n",
    "            if df_opt.iloc[i][\"date\"] + MonthEnd(1) == df_opt.iloc[i+1][\"date\"]:\n",
    "                t1 = (df_opt.iloc[i][\"delta\"] * df_opt.iloc[i+1][\"spotprice\"]) - df_opt.iloc[i+1][\"mid_price\"]\n",
    "                t = (df_opt.iloc[i][\"delta\"]  * df_opt.iloc[i][\"spotprice\"]) - df_opt.iloc[i][\"mid_price\"]\n",
    "                df.loc[idx, \"OPT_RET\"] = t1/t - 1\n",
    "            else:\n",
    "                df.loc[idx, \"OPT_RET\"] = None\n",
    "    return df"
   ]
  },
  {
   "cell_type": "code",
   "execution_count": null,
   "id": "0f72268a",
   "metadata": {},
   "outputs": [],
   "source": [
    "e = raw_call[np.isin(raw_call[\"optionid\"], d)]"
   ]
  },
  {
   "cell_type": "code",
   "execution_count": null,
   "id": "7e4eab6f",
   "metadata": {},
   "outputs": [],
   "source": [
    "# Takes 33mins\n",
    "raw_call_filled = opt_ret2(raw_call, atleast1succ)"
   ]
  },
  {
   "cell_type": "code",
   "execution_count": null,
   "id": "b280c029",
   "metadata": {
    "scrolled": true
   },
   "outputs": [],
   "source": [
    "raw_call_filled[\"OPT_RET\"].count()"
   ]
  },
  {
   "cell_type": "code",
   "execution_count": null,
   "id": "0f223e02",
   "metadata": {},
   "outputs": [],
   "source": [
    "raw_call_filled.optionid"
   ]
  },
  {
   "cell_type": "code",
   "execution_count": null,
   "id": "163ec5b7",
   "metadata": {},
   "outputs": [],
   "source": [
    "opt_ret_count = raw_call_filled.groupby(\"optionid\")[\"OPT_RET\"].agg(\"count\")"
   ]
  },
  {
   "cell_type": "code",
   "execution_count": null,
   "id": "4b6cbe8d",
   "metadata": {},
   "outputs": [],
   "source": [
    "opt_ret_count[opt_ret_count==1]"
   ]
  },
  {
   "cell_type": "code",
   "execution_count": null,
   "id": "3c211f9b",
   "metadata": {},
   "outputs": [],
   "source": [
    "res[res == 1]"
   ]
  },
  {
   "cell_type": "code",
   "execution_count": null,
   "id": "64f5fa7d",
   "metadata": {},
   "outputs": [],
   "source": [
    "rem = set(opt_ret_count[opt_ret_count==1].index.tolist()) - set(res[res == 1].index.tolist())"
   ]
  },
  {
   "cell_type": "code",
   "execution_count": null,
   "id": "69584928",
   "metadata": {},
   "outputs": [],
   "source": [
    "for i in rem:\n",
    "    print(i in atleast1succ)"
   ]
  },
  {
   "cell_type": "code",
   "execution_count": null,
   "id": "16321648",
   "metadata": {},
   "outputs": [],
   "source": []
  },
  {
   "cell_type": "code",
   "execution_count": null,
   "id": "4a3f9857",
   "metadata": {},
   "outputs": [],
   "source": [
    "opt_ret2(raw_call_filled[raw_call_filled[\"optionid\"] == 10167707], [10167707])"
   ]
  },
  {
   "cell_type": "code",
   "execution_count": null,
   "id": "27c3fdd2",
   "metadata": {},
   "outputs": [],
   "source": [
    "opt_ret2(raw_call[raw_call[\"optionid\"] == 10167707], [10167707])"
   ]
  },
  {
   "cell_type": "code",
   "execution_count": null,
   "id": "70732903",
   "metadata": {},
   "outputs": [],
   "source": []
  },
  {
   "cell_type": "code",
   "execution_count": null,
   "id": "c4eeb1be",
   "metadata": {
    "scrolled": true
   },
   "outputs": [],
   "source": [
    "opt_ret2(raw_call[raw_call[\"optionid\"] == 10167707].iloc[:, :-1], atleast1succ)"
   ]
  },
  {
   "cell_type": "code",
   "execution_count": null,
   "id": "67cad8d7",
   "metadata": {},
   "outputs": [],
   "source": [
    "raw_call_filled[raw_call_filled[\"optionid\"] == 10167707][\"delta\"]"
   ]
  },
  {
   "cell_type": "code",
   "execution_count": null,
   "id": "657fda0d",
   "metadata": {},
   "outputs": [],
   "source": [
    "raw_call_filled[raw_call_filled[\"optionid\"] == 10167707].shift(-1)"
   ]
  },
  {
   "cell_type": "code",
   "execution_count": null,
   "id": "888815c9",
   "metadata": {},
   "outputs": [],
   "source": [
    "(0.341984 * 27.875 - 1.71875) / (0.341984 * 24.500 - 1.56250) - 1"
   ]
  },
  {
   "cell_type": "code",
   "execution_count": null,
   "id": "15bbbf5a",
   "metadata": {},
   "outputs": [],
   "source": []
  },
  {
   "cell_type": "code",
   "execution_count": null,
   "id": "6a4c9c32",
   "metadata": {
    "scrolled": false
   },
   "outputs": [],
   "source": [
    "optid_counts"
   ]
  },
  {
   "cell_type": "code",
   "execution_count": null,
   "id": "5a2fd0db",
   "metadata": {},
   "outputs": [],
   "source": [
    "def count_na(x):\n",
    "    return x.isna().sum()"
   ]
  },
  {
   "cell_type": "code",
   "execution_count": null,
   "id": "11466afa",
   "metadata": {},
   "outputs": [],
   "source": [
    "#count na per optionid\n",
    "na_counts = raw_call_filled.groupby(\"optionid\")[\"OPT_RET\"].agg(count_na)"
   ]
  },
  {
   "cell_type": "code",
   "execution_count": null,
   "id": "4e885235",
   "metadata": {},
   "outputs": [],
   "source": [
    "a = optid_counts - na_counts"
   ]
  },
  {
   "cell_type": "code",
   "execution_count": null,
   "id": "93402a5d",
   "metadata": {},
   "outputs": [],
   "source": [
    "raw_call[raw_call[\"optionid\"] == 123889082][\"delta\"]"
   ]
  },
  {
   "cell_type": "code",
   "execution_count": null,
   "id": "575e0ad0",
   "metadata": {
    "scrolled": true
   },
   "outputs": [],
   "source": [
    "raw_call[raw_call[\"optionid\"] == 123889082]"
   ]
  },
  {
   "cell_type": "code",
   "execution_count": null,
   "id": "20564784",
   "metadata": {},
   "outputs": [],
   "source": [
    "(0.421645*0.9860 - 0.150) / (0.421645 * 0.3345 - 0.100) - 1"
   ]
  },
  {
   "cell_type": "code",
   "execution_count": null,
   "id": "2d0adae2",
   "metadata": {},
   "outputs": [],
   "source": []
  },
  {
   "cell_type": "code",
   "execution_count": null,
   "id": "1fbf170c",
   "metadata": {},
   "outputs": [],
   "source": [
    "#gamestop\n",
    "raw_call[raw_call[\"optionid\"] == 137759524]"
   ]
  },
  {
   "cell_type": "code",
   "execution_count": null,
   "id": "fe3fa0c3",
   "metadata": {},
   "outputs": [],
   "source": [
    "raw_call.drop([\"option_ret2\"], axis=1).dropna()[\"OPT_RET\"].sort_values(ascending=False)"
   ]
  },
  {
   "cell_type": "code",
   "execution_count": null,
   "id": "394549c0",
   "metadata": {},
   "outputs": [],
   "source": []
  },
  {
   "cell_type": "code",
   "execution_count": null,
   "id": "2de66f22",
   "metadata": {},
   "outputs": [],
   "source": []
  },
  {
   "cell_type": "code",
   "execution_count": null,
   "id": "7cbdd643",
   "metadata": {},
   "outputs": [],
   "source": []
  },
  {
   "cell_type": "code",
   "execution_count": null,
   "id": "c7f18a75",
   "metadata": {},
   "outputs": [],
   "source": []
  },
  {
   "cell_type": "code",
   "execution_count": null,
   "id": "b669d17d",
   "metadata": {},
   "outputs": [],
   "source": []
  },
  {
   "cell_type": "code",
   "execution_count": null,
   "id": "40e052f5",
   "metadata": {},
   "outputs": [],
   "source": []
  },
  {
   "cell_type": "code",
   "execution_count": null,
   "id": "a417bb18",
   "metadata": {},
   "outputs": [],
   "source": []
  },
  {
   "cell_type": "code",
   "execution_count": null,
   "id": "cb74cc4f",
   "metadata": {},
   "outputs": [],
   "source": []
  }
 ],
 "metadata": {
  "kernelspec": {
   "display_name": "Python 3 (ipykernel)",
   "language": "python",
   "name": "python3"
  },
  "language_info": {
   "codemirror_mode": {
    "name": "ipython",
    "version": 3
   },
   "file_extension": ".py",
   "mimetype": "text/x-python",
   "name": "python",
   "nbconvert_exporter": "python",
   "pygments_lexer": "ipython3",
   "version": "3.8.5"
  }
 },
 "nbformat": 4,
 "nbformat_minor": 5
}
