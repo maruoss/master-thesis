{
 "cells": [
  {
   "cell_type": "code",
   "execution_count": null,
   "id": "c056d0b5",
   "metadata": {
    "scrolled": true
   },
   "outputs": [],
   "source": [
    "import sys\n",
    "print(sys.prefix)"
   ]
  },
  {
   "cell_type": "code",
   "execution_count": null,
   "id": "509b9285",
   "metadata": {},
   "outputs": [],
   "source": [
    "from pathlib import Path\n",
    "import pandas as pd\n",
    "import numpy as np\n",
    "import quantstats as qs\n",
    "import os\n",
    "\n",
    "from datetime import timedelta\n",
    "from datetime import datetime\n",
    "from dateutil.relativedelta import *\n",
    "from pandas.tseries.offsets import MonthEnd"
   ]
  },
  {
   "cell_type": "code",
   "execution_count": null,
   "id": "541a0cdc",
   "metadata": {},
   "outputs": [],
   "source": [
    "import matplotlib.pyplot as plt\n",
    "import seaborn as sns\n",
    "# from mpt import portfolio_return \n",
    "import quantstats as qs\n",
    "import dataframe_image as dfi"
   ]
  },
  {
   "cell_type": "code",
   "execution_count": null,
   "id": "4208c731",
   "metadata": {},
   "outputs": [],
   "source": [
    "exp_path = Path(r\"C:\\Users\\Mathiass\\Documents\\Projects\\master-thesis\\logs\\old\\clustersmall5\")"
   ]
  },
  {
   "cell_type": "code",
   "execution_count": null,
   "id": "ffa4bccc",
   "metadata": {},
   "outputs": [],
   "source": [
    "path_portfolios = exp_path/\"portfolios\"\n",
    "dfs = []\n",
    "for file in Path.iterdir(path_portfolios):\n",
    "    try:\n",
    "        df = pd.read_csv(path_portfolios/file, parse_dates=[\"date\"], index_col=\"date\")\n",
    "    except PermissionError as err:\n",
    "        raise PermissionError(\"The 'portfolios' subfolder must not contain directories.\") from err\n",
    "        # from err necessary for chaining\n",
    "    dfs.append(df[\"option_ret\"].rename(file.name[7:-4])) #rename Series to 'class0', 'class1', etc.\n",
    "dfs = pd.concat(dfs, axis=1) # Series names -> column names"
   ]
  },
  {
   "cell_type": "code",
   "execution_count": null,
   "id": "45b6eef2",
   "metadata": {},
   "outputs": [],
   "source": [
    "dfs"
   ]
  },
  {
   "cell_type": "code",
   "execution_count": null,
   "id": "e5b53d4a",
   "metadata": {},
   "outputs": [],
   "source": []
  },
  {
   "cell_type": "code",
   "execution_count": null,
   "id": "17c798bb",
   "metadata": {},
   "outputs": [],
   "source": []
  },
  {
   "cell_type": "code",
   "execution_count": null,
   "id": "6ffc64d9",
   "metadata": {},
   "outputs": [],
   "source": []
  },
  {
   "cell_type": "code",
   "execution_count": null,
   "id": "d21277a1",
   "metadata": {},
   "outputs": [],
   "source": [
    "import yfinance as yf"
   ]
  },
  {
   "cell_type": "code",
   "execution_count": null,
   "id": "abeb8568",
   "metadata": {},
   "outputs": [],
   "source": [
    "exp_dir = Path(r\"C:\\Users\\Mathiass\\Documents\\Projects\\master-thesis\\logs\\old\\clustersmall5\")"
   ]
  },
  {
   "cell_type": "code",
   "execution_count": null,
   "id": "f96d61eb",
   "metadata": {},
   "outputs": [],
   "source": [
    "agg_df = pd.read_csv(exp_dir/\"portfolios\"/\"class0.csv\", parse_dates=[\"date\"], index_col=\"date\")"
   ]
  },
  {
   "cell_type": "code",
   "execution_count": null,
   "id": "27e21759",
   "metadata": {
    "scrolled": true
   },
   "outputs": [],
   "source": [
    "agg_df"
   ]
  },
  {
   "cell_type": "code",
   "execution_count": null,
   "id": "0c6240b0",
   "metadata": {
    "scrolled": false
   },
   "outputs": [],
   "source": [
    "end = agg_df.iloc[-1].name.to_pydatetime() + timedelta(days=1)\n",
    "agg_df.iloc[-1].name.to_pydatetime() + timedelta(days=1)"
   ]
  },
  {
   "cell_type": "code",
   "execution_count": null,
   "id": "fd858760",
   "metadata": {},
   "outputs": [],
   "source": [
    "# tickers = [\"^SP500TR\", \"MSFT\", \"TSLA\", \"AAPL\", \"NFLX\"]\n",
    "tickers = [\"^SP500TR\"]"
   ]
  },
  {
   "cell_type": "code",
   "execution_count": null,
   "id": "3f78f174",
   "metadata": {},
   "outputs": [],
   "source": [
    "# sp = yf.Ticker(tickers)"
   ]
  },
  {
   "cell_type": "code",
   "execution_count": null,
   "id": "8cfdc971",
   "metadata": {},
   "outputs": [],
   "source": [
    "# df1 = sp.history(end=\"2021-12-01\", period=\"max\", auto_adjust=False, prepost=False)"
   ]
  },
  {
   "cell_type": "code",
   "execution_count": null,
   "id": "b5f7f9d4",
   "metadata": {},
   "outputs": [],
   "source": [
    "# df1"
   ]
  },
  {
   "cell_type": "code",
   "execution_count": null,
   "id": "590c38b0",
   "metadata": {},
   "outputs": [],
   "source": [
    "# end = datetime(2021, 12, 1)"
   ]
  },
  {
   "cell_type": "code",
   "execution_count": null,
   "id": "1542660e",
   "metadata": {},
   "outputs": [],
   "source": [
    "end"
   ]
  },
  {
   "cell_type": "code",
   "execution_count": null,
   "id": "60bcb52a",
   "metadata": {
    "scrolled": true
   },
   "outputs": [],
   "source": [
    "df = yf.download(tickers=tickers, end=end, auto_adjust=False, prepost=False)"
   ]
  },
  {
   "cell_type": "code",
   "execution_count": null,
   "id": "d606a15d",
   "metadata": {},
   "outputs": [],
   "source": [
    "df"
   ]
  },
  {
   "cell_type": "code",
   "execution_count": null,
   "id": "dd9f3b9e",
   "metadata": {},
   "outputs": [],
   "source": [
    "df_monthend = df.iloc[df.reset_index(drop=False).groupby(df.index.to_period(\"M\"))[\"Date\"].idxmax()]"
   ]
  },
  {
   "cell_type": "code",
   "execution_count": null,
   "id": "3c69a5de",
   "metadata": {},
   "outputs": [],
   "source": [
    "df_monthend.index[-23:]"
   ]
  },
  {
   "cell_type": "code",
   "execution_count": null,
   "id": "aff8e467",
   "metadata": {},
   "outputs": [],
   "source": [
    "df_monthend.index = df_monthend.index + MonthEnd(0)\n",
    "df_monthend.index[-23:]"
   ]
  },
  {
   "cell_type": "code",
   "execution_count": null,
   "id": "9bcec6de",
   "metadata": {},
   "outputs": [],
   "source": [
    "df_monthend[-106:][\"Close\"]"
   ]
  },
  {
   "cell_type": "code",
   "execution_count": null,
   "id": "458a85c0",
   "metadata": {
    "scrolled": true
   },
   "outputs": [],
   "source": [
    "agg_df"
   ]
  },
  {
   "cell_type": "code",
   "execution_count": null,
   "id": "9aac2fb3",
   "metadata": {
    "scrolled": true
   },
   "outputs": [],
   "source": [
    "df_monthend.loc[agg_df.index][\"Adj Close\"]"
   ]
  },
  {
   "cell_type": "code",
   "execution_count": null,
   "id": "8995080c",
   "metadata": {},
   "outputs": [],
   "source": [
    "df_monthend.iloc[-len(agg_df.index) - 1:][\"Adj Close\"]"
   ]
  },
  {
   "cell_type": "code",
   "execution_count": null,
   "id": "ca1c644e",
   "metadata": {},
   "outputs": [],
   "source": [
    "agg_df.index"
   ]
  },
  {
   "cell_type": "code",
   "execution_count": null,
   "id": "9018774f",
   "metadata": {},
   "outputs": [],
   "source": [
    "df_percent = df_monthend[-len(agg_df.index) - 1:].pct_change()"
   ]
  },
  {
   "cell_type": "code",
   "execution_count": null,
   "id": "32bbd944",
   "metadata": {
    "scrolled": true
   },
   "outputs": [],
   "source": [
    "sp500 = df_percent.iloc[1:][\"Adj Close\"]"
   ]
  },
  {
   "cell_type": "code",
   "execution_count": null,
   "id": "296a47f1",
   "metadata": {},
   "outputs": [],
   "source": [
    "opt_ret = agg_df[\"option_ret\"]"
   ]
  },
  {
   "cell_type": "code",
   "execution_count": null,
   "id": "6ade6b19",
   "metadata": {},
   "outputs": [],
   "source": [
    "# only intercept or with regressor:\n",
    "X = np.array([np.ones_like(sp500), sp500]).T"
   ]
  },
  {
   "cell_type": "code",
   "execution_count": null,
   "id": "dbb93914",
   "metadata": {},
   "outputs": [],
   "source": [
    "alphabeta = np.linalg.inv(X.T@X)@X.T@opt_ret"
   ]
  },
  {
   "cell_type": "code",
   "execution_count": null,
   "id": "304d123e",
   "metadata": {},
   "outputs": [],
   "source": [
    "alphabeta"
   ]
  },
  {
   "cell_type": "markdown",
   "id": "9fe1c6bb",
   "metadata": {},
   "source": [
    "### Standard Errors of OLS"
   ]
  },
  {
   "cell_type": "code",
   "execution_count": null,
   "id": "cc917cc4",
   "metadata": {},
   "outputs": [],
   "source": [
    "predict = X@alphabeta"
   ]
  },
  {
   "cell_type": "code",
   "execution_count": null,
   "id": "0a6dafb7",
   "metadata": {},
   "outputs": [],
   "source": [
    "predict"
   ]
  },
  {
   "cell_type": "code",
   "execution_count": null,
   "id": "28552c10",
   "metadata": {},
   "outputs": [],
   "source": [
    "residuals = opt_ret - predict"
   ]
  },
  {
   "cell_type": "code",
   "execution_count": null,
   "id": "2a7c1edb",
   "metadata": {},
   "outputs": [],
   "source": [
    "residuals"
   ]
  },
  {
   "cell_type": "code",
   "execution_count": null,
   "id": "9a6cc8f9",
   "metadata": {},
   "outputs": [],
   "source": [
    "# Sample variance of errors.\n",
    "sigma_squared_hat = (residuals.T @ residuals) / (X.shape[0] - X.shape[1])"
   ]
  },
  {
   "cell_type": "code",
   "execution_count": null,
   "id": "dedebee0",
   "metadata": {},
   "outputs": [],
   "source": [
    "sigma_squared_hat"
   ]
  },
  {
   "cell_type": "code",
   "execution_count": null,
   "id": "4d85b17b",
   "metadata": {},
   "outputs": [],
   "source": [
    "# Var-Covariance matrix of beta hat.\n",
    "var_beta_hat = np.linalg.inv(X.T@X) * sigma_squared_hat"
   ]
  },
  {
   "cell_type": "code",
   "execution_count": null,
   "id": "0afa5694",
   "metadata": {},
   "outputs": [],
   "source": [
    "np.linalg.inv(X.T@X)"
   ]
  },
  {
   "cell_type": "code",
   "execution_count": null,
   "id": "9c6baaf2",
   "metadata": {
    "scrolled": true
   },
   "outputs": [],
   "source": [
    "var_beta_hat"
   ]
  },
  {
   "cell_type": "code",
   "execution_count": null,
   "id": "5be08db5",
   "metadata": {},
   "outputs": [],
   "source": [
    "# Coefficients\n",
    "alphabeta"
   ]
  },
  {
   "cell_type": "code",
   "execution_count": null,
   "id": "e6eb286a",
   "metadata": {
    "scrolled": true
   },
   "outputs": [],
   "source": [
    "# Standard errors of intercept and regressors\n",
    "for var in range(len(var_beta_hat)):\n",
    "        se = var_beta_hat[var, var] ** 0.5\n",
    "        print(se)"
   ]
  },
  {
   "cell_type": "code",
   "execution_count": null,
   "id": "9659f806",
   "metadata": {},
   "outputs": [],
   "source": [
    "# P value for t score\n",
    "import scipy.stats\n",
    "\n",
    "#find p-value for two-tailed test\n",
    "scipy.stats.t.sf(abs(1.725), df=165)*2"
   ]
  },
  {
   "cell_type": "markdown",
   "id": "fdfd552d",
   "metadata": {},
   "source": [
    "### Check with statsmodels:"
   ]
  },
  {
   "cell_type": "code",
   "execution_count": null,
   "id": "6f1a8896",
   "metadata": {},
   "outputs": [],
   "source": [
    "import statsmodels.api as sm\n",
    "ols = sm.OLS(opt_ret, X)\n",
    "ols_result = ols.fit()\n",
    "# ols_result = ols.fit(cov_type=\"HAC\", cov_kwds={\"maxlags\": 12})\n",
    "ols_result.summary()"
   ]
  },
  {
   "cell_type": "code",
   "execution_count": null,
   "id": "06ecd30e",
   "metadata": {},
   "outputs": [],
   "source": [
    "# Results to pandas dataframe.\n",
    "# results_as_html = ols_result.summary().tables[1].as_html()\n",
    "# pd.read_html(results_as_html, header=0, index_col=0)[0]"
   ]
  },
  {
   "cell_type": "code",
   "execution_count": null,
   "id": "500a267f",
   "metadata": {},
   "outputs": [],
   "source": [
    "result_df = ols_result.summary2(alpha=0.05).tables[1]\n",
    "result_df"
   ]
  },
  {
   "cell_type": "code",
   "execution_count": null,
   "id": "1b4ff04d",
   "metadata": {},
   "outputs": [],
   "source": []
  },
  {
   "cell_type": "markdown",
   "id": "151706e8",
   "metadata": {},
   "source": [
    "### Intercept only regression == significance of mean above 0 ?"
   ]
  },
  {
   "cell_type": "code",
   "execution_count": null,
   "id": "df50b926",
   "metadata": {},
   "outputs": [],
   "source": [
    "# Intercept only regression == mean?\n",
    "np.mean(opt_ret)"
   ]
  },
  {
   "cell_type": "code",
   "execution_count": null,
   "id": "4eb29cfe",
   "metadata": {},
   "outputs": [],
   "source": [
    "# Sample variance of residuals\n",
    "sample_variance = 1/(len(sp500) - 1)* np.sum((opt_ret - np.mean(opt_ret))**2)\n",
    "sample_variance"
   ]
  },
  {
   "cell_type": "code",
   "execution_count": null,
   "id": "d3f33729",
   "metadata": {},
   "outputs": [],
   "source": [
    "# equal to\n",
    "np.var(opt_ret, ddof=1)"
   ]
  },
  {
   "cell_type": "code",
   "execution_count": null,
   "id": "06858d01",
   "metadata": {},
   "outputs": [],
   "source": [
    "# SE = SD / sqrt(n)\n",
    "np.sqrt(sample_variance) / np.sqrt(len(sp500))"
   ]
  },
  {
   "cell_type": "markdown",
   "id": "a4191d1a",
   "metadata": {},
   "source": [
    "### Example Intercept only: Binary val_bal_acc significance above 0.5"
   ]
  },
  {
   "cell_type": "code",
   "execution_count": null,
   "id": "c28be8c2",
   "metadata": {},
   "outputs": [],
   "source": [
    "# binary small nn\n",
    "balacc = np.array([0.5,0.532052755355835,0.5655055046081543,0.5297303795814514,0.5083361864089966,0.5356613397598267,0.552789032459259,0.5454691052436829,0.5263364911079407,0.5344380140304565,0.5364874601364136,0.5388208627700806,0.5325674414634705,0.5308846235275269])"
   ]
  },
  {
   "cell_type": "code",
   "execution_count": null,
   "id": "b31d1972",
   "metadata": {},
   "outputs": [],
   "source": [
    "# Subtract Null hypothesis\n",
    "balacc -= 0.5"
   ]
  },
  {
   "cell_type": "code",
   "execution_count": null,
   "id": "5d34be76",
   "metadata": {},
   "outputs": [],
   "source": [
    "X = np.ones_like(balacc)"
   ]
  },
  {
   "cell_type": "code",
   "execution_count": null,
   "id": "a422a9cc",
   "metadata": {},
   "outputs": [],
   "source": [
    "assert balacc.shape == X.shape"
   ]
  },
  {
   "cell_type": "code",
   "execution_count": null,
   "id": "b35d0868",
   "metadata": {},
   "outputs": [],
   "source": [
    "balacc"
   ]
  },
  {
   "cell_type": "code",
   "execution_count": null,
   "id": "a95803f6",
   "metadata": {},
   "outputs": [],
   "source": [
    "len(balacc)"
   ]
  },
  {
   "cell_type": "code",
   "execution_count": null,
   "id": "51e8d278",
   "metadata": {},
   "outputs": [],
   "source": [
    "X = X.reshape(-1, 1)"
   ]
  },
  {
   "cell_type": "code",
   "execution_count": null,
   "id": "e0319be3",
   "metadata": {},
   "outputs": [],
   "source": [
    "balacc = balacc.reshape(-1, 1)"
   ]
  },
  {
   "cell_type": "code",
   "execution_count": null,
   "id": "4097c8ba",
   "metadata": {},
   "outputs": [],
   "source": [
    "np.linalg.inv(X.T@X)@X.T@balacc"
   ]
  },
  {
   "cell_type": "code",
   "execution_count": null,
   "id": "a42a2083",
   "metadata": {},
   "outputs": [],
   "source": [
    "predict = X@np.linalg.inv(X.T@X)@X.T@balacc"
   ]
  },
  {
   "cell_type": "code",
   "execution_count": null,
   "id": "bb227471",
   "metadata": {},
   "outputs": [],
   "source": [
    "residuals = balacc - predict"
   ]
  },
  {
   "cell_type": "code",
   "execution_count": null,
   "id": "92777e69",
   "metadata": {},
   "outputs": [],
   "source": [
    "# Standard Error of mean\n",
    "se = (np.linalg.inv(X.T@X) * residuals.T@residuals / (X.shape[0] - X.shape[1])) ** 0.5\n",
    "se"
   ]
  },
  {
   "cell_type": "code",
   "execution_count": null,
   "id": "2c901a79",
   "metadata": {
    "scrolled": false
   },
   "outputs": [],
   "source": [
    "ols = sm.OLS(balacc, X)\n",
    "ols_result = ols.fit()\n",
    "# ols_result = ols.fit(cov_type=\"HAC\", cov_kwds={\"maxlags\": 12})\n",
    "ols_result.summary()"
   ]
  },
  {
   "cell_type": "code",
   "execution_count": null,
   "id": "6a3a150c",
   "metadata": {},
   "outputs": [],
   "source": [
    "np.mean(balacc)"
   ]
  },
  {
   "cell_type": "code",
   "execution_count": null,
   "id": "986f9a28",
   "metadata": {},
   "outputs": [],
   "source": [
    "np.std(balacc, ddof=1) / np.sqrt(len(balacc))"
   ]
  },
  {
   "cell_type": "code",
   "execution_count": null,
   "id": "f539464c",
   "metadata": {},
   "outputs": [],
   "source": [
    "# If balacc not subtracted by null hypothesis, do this:\n",
    "(np.mean(balacc) - 0.5) / (np.std(balacc, ddof=1) / np.sqrt(len(balacc)))"
   ]
  },
  {
   "cell_type": "markdown",
   "id": "0c06335d",
   "metadata": {},
   "source": [
    "### Example Intercept only: Portfolio returns significantly above 0 ?"
   ]
  },
  {
   "cell_type": "code",
   "execution_count": null,
   "id": "718858f3",
   "metadata": {},
   "outputs": [],
   "source": [
    "opt_ret= [0.440820444, -0.518864416, 0.728927879, -0.040891163, 0.163143079, 0.467870532, -0.040914468, -0.052467521, -0.079048695, 0.031793878, -0.031312123, 0.08498215, -0.00616937, -0.083816107, -0.029022221, -0.01706333, 0.010316496, -0.039103077, -0.021999441, -0.005304246, 0.01883039, 0.028072462, -0.030337784\n",
    "]"
   ]
  },
  {
   "cell_type": "code",
   "execution_count": null,
   "id": "f4a341a9",
   "metadata": {},
   "outputs": [],
   "source": [
    "# mean\n",
    "np.mean(opt_ret)"
   ]
  },
  {
   "cell_type": "code",
   "execution_count": null,
   "id": "8e745d3e",
   "metadata": {},
   "outputs": [],
   "source": [
    "# standard error\n",
    "np.std(opt_ret, ddof=1) / np.sqrt(len(opt_ret))"
   ]
  },
  {
   "cell_type": "code",
   "execution_count": null,
   "id": "427a21c8",
   "metadata": {},
   "outputs": [],
   "source": [
    "# t-stat\n",
    "np.mean(opt_ret) / (np.std(opt_ret, ddof=1) / np.sqrt(len(opt_ret)))"
   ]
  },
  {
   "cell_type": "code",
   "execution_count": null,
   "id": "aed49657",
   "metadata": {},
   "outputs": [],
   "source": [
    "# P value for t score:\n",
    "import scipy.stats\n",
    "#find p-value for two-tailed test\n",
    "scipy.stats.t.sf(abs(0.8618805965877891), df=len(opt_ret)-1)*2"
   ]
  },
  {
   "cell_type": "code",
   "execution_count": null,
   "id": "6aebc350",
   "metadata": {},
   "outputs": [],
   "source": []
  },
  {
   "cell_type": "code",
   "execution_count": null,
   "id": "be068b81",
   "metadata": {},
   "outputs": [],
   "source": []
  },
  {
   "cell_type": "code",
   "execution_count": null,
   "id": "408d104e",
   "metadata": {},
   "outputs": [],
   "source": []
  },
  {
   "cell_type": "code",
   "execution_count": null,
   "id": "f337fa83",
   "metadata": {},
   "outputs": [],
   "source": []
  },
  {
   "cell_type": "code",
   "execution_count": null,
   "id": "06d11250",
   "metadata": {
    "scrolled": true
   },
   "outputs": [],
   "source": [
    "# import pandas_datareader.data as web"
   ]
  },
  {
   "cell_type": "code",
   "execution_count": null,
   "id": "0de11f6a",
   "metadata": {
    "scrolled": true
   },
   "outputs": [],
   "source": [
    "# df2 = web.DataReader(tickers, data_source='yahoo', end=end)"
   ]
  },
  {
   "cell_type": "code",
   "execution_count": null,
   "id": "b4335434",
   "metadata": {},
   "outputs": [],
   "source": [
    "# yf.pdr_override()"
   ]
  },
  {
   "cell_type": "code",
   "execution_count": null,
   "id": "741087aa",
   "metadata": {},
   "outputs": [],
   "source": [
    "# data = web.get_data_yahoo(tickers, end=end, auto_adjust=False, prepost=False)"
   ]
  },
  {
   "cell_type": "code",
   "execution_count": null,
   "id": "bb2e7f30",
   "metadata": {},
   "outputs": [],
   "source": [
    "# data"
   ]
  },
  {
   "cell_type": "code",
   "execution_count": null,
   "id": "f7a1492b",
   "metadata": {
    "scrolled": true
   },
   "outputs": [],
   "source": [
    "# data[\"Adj Close\"][:10]"
   ]
  },
  {
   "cell_type": "code",
   "execution_count": null,
   "id": "a0f5c7f8",
   "metadata": {},
   "outputs": [],
   "source": []
  },
  {
   "cell_type": "code",
   "execution_count": null,
   "id": "8eb6f98a",
   "metadata": {},
   "outputs": [],
   "source": []
  },
  {
   "cell_type": "code",
   "execution_count": null,
   "id": "476a8314",
   "metadata": {},
   "outputs": [],
   "source": [
    "import requests\n",
    "\n",
    "r = requests.get('https://api.github.com/events')"
   ]
  },
  {
   "cell_type": "code",
   "execution_count": null,
   "id": "c0fed6e5",
   "metadata": {},
   "outputs": [],
   "source": [
    "r.json()"
   ]
  },
  {
   "cell_type": "code",
   "execution_count": null,
   "id": "bf310322",
   "metadata": {},
   "outputs": [],
   "source": [
    "bad_r = requests.get('https://httpbin.org/status/200')"
   ]
  },
  {
   "cell_type": "code",
   "execution_count": null,
   "id": "2ed383cb",
   "metadata": {},
   "outputs": [],
   "source": [
    "bad_r.headers"
   ]
  },
  {
   "cell_type": "code",
   "execution_count": null,
   "id": "aac24792",
   "metadata": {},
   "outputs": [],
   "source": []
  },
  {
   "cell_type": "code",
   "execution_count": null,
   "id": "3b7a0826",
   "metadata": {},
   "outputs": [],
   "source": []
  },
  {
   "cell_type": "code",
   "execution_count": null,
   "id": "660684d8",
   "metadata": {},
   "outputs": [],
   "source": []
  },
  {
   "cell_type": "code",
   "execution_count": null,
   "id": "e8326c3d",
   "metadata": {},
   "outputs": [],
   "source": [
    "sns.set_style(\"whitegrid\") # style must be one of white, dark, whitegrid, darkgrid, ticks\n",
    "sns.set_context('paper', font_scale=2.0) # set fontsize scaling for labels, axis, legend, automatically moves legend"
   ]
  },
  {
   "cell_type": "code",
   "execution_count": null,
   "id": "d231094c",
   "metadata": {},
   "outputs": [],
   "source": [
    "path = Path(r\"C:\\Users\\Mathiass\\Documents\\Projects\\master-thesis\\logs\\tune\\nn_loops\\20220808101241\\portfolios\")"
   ]
  },
  {
   "cell_type": "code",
   "execution_count": null,
   "id": "c40925be",
   "metadata": {},
   "outputs": [],
   "source": [
    "# (path/'test').mkdir()"
   ]
  },
  {
   "cell_type": "code",
   "execution_count": null,
   "id": "6012d92f",
   "metadata": {},
   "outputs": [],
   "source": [
    "dfs = []\n",
    "for file in os.listdir(path):\n",
    "    df = pd.read_csv(path/file, parse_dates=[\"date\"], index_col=\"date\")\n",
    "    dfs.append(df[\"option_ret\"].rename(file[:-4]))\n",
    "#     dfs.append(df)"
   ]
  },
  {
   "cell_type": "code",
   "execution_count": null,
   "id": "fc17d1c0",
   "metadata": {
    "scrolled": true
   },
   "outputs": [],
   "source": [
    "dfs = pd.concat(dfs, axis=1)"
   ]
  },
  {
   "cell_type": "code",
   "execution_count": null,
   "id": "6dce5266",
   "metadata": {},
   "outputs": [],
   "source": [
    "dfs\n"
   ]
  },
  {
   "cell_type": "code",
   "execution_count": null,
   "id": "384d21af",
   "metadata": {},
   "outputs": [],
   "source": [
    "dfs2 = []\n",
    "for file in Path.iterdir(path):\n",
    "    df = pd.read_csv(path/file, parse_dates=[\"date\"], index_col=\"date\")\n",
    "    dfs2.append(df[\"option_ret\"].rename(file.name[7:-4]))"
   ]
  },
  {
   "cell_type": "code",
   "execution_count": null,
   "id": "1eae5221",
   "metadata": {},
   "outputs": [],
   "source": [
    "for i in os.listdir(path):\n",
    "    print(i)"
   ]
  },
  {
   "cell_type": "code",
   "execution_count": null,
   "id": "8be59c0a",
   "metadata": {},
   "outputs": [],
   "source": [
    "for f in Path.iterdir(path):\n",
    "    print(f.name)"
   ]
  },
  {
   "cell_type": "code",
   "execution_count": null,
   "id": "ab5c8f84",
   "metadata": {},
   "outputs": [],
   "source": [
    "# dfs_idx = dfs_idx.insert(0, dfs_idx[0] - relativedelta(months=+1))\n",
    "\n",
    "# dfs_idx[0]\n",
    "\n",
    "# df = pd.concat([pd.DataFrame([0], index=[dfs_idx[0]]), df])\n",
    "# df.columns = [\"option_ret\"]"
   ]
  },
  {
   "cell_type": "code",
   "execution_count": null,
   "id": "d7f800e2",
   "metadata": {},
   "outputs": [],
   "source": [
    "# df to series\n",
    "# df = df.squeeze()"
   ]
  },
  {
   "cell_type": "code",
   "execution_count": null,
   "id": "5addc645",
   "metadata": {},
   "outputs": [],
   "source": [
    "dfs_cumprod = (1. + dfs).cumprod()\n",
    "dfs_cumprod.plot(figsize=(15, 10), alpha=1.0, linewidth=2.5, ylabel=\"Portfolio Value\")\n",
    "plt.tight_layout() # remove whitespace around plot\n",
    "path = os.path.join(\"results\", datetime.now().strftime(\"%Y%m%d%H%M%S\"))\n",
    "os.makedirs(path, exist_ok=True)\n",
    "plt.savefig(os.path.join(path, \"plot.png\"))"
   ]
  },
  {
   "cell_type": "code",
   "execution_count": null,
   "id": "6608023c",
   "metadata": {},
   "outputs": [],
   "source": [
    "path"
   ]
  },
  {
   "cell_type": "code",
   "execution_count": null,
   "id": "6acd7279",
   "metadata": {},
   "outputs": [],
   "source": [
    "# path = os.path.join(\"results\", datetime.now().strftime(\"%Y%m%d%H%M%S\"))\n",
    "\n",
    "\n",
    "# os.makedirs(path, exist_ok=True)\n",
    "# plt.savefig(os.path.join(path, \"plot.png\"))"
   ]
  },
  {
   "cell_type": "code",
   "execution_count": null,
   "id": "bae4064c",
   "metadata": {},
   "outputs": [],
   "source": [
    "(np.log(dfs+1)).mean()"
   ]
  },
  {
   "cell_type": "code",
   "execution_count": null,
   "id": "11495365",
   "metadata": {},
   "outputs": [],
   "source": [
    "(1 + dfs).prod()"
   ]
  },
  {
   "cell_type": "code",
   "execution_count": null,
   "id": "9de860b2",
   "metadata": {},
   "outputs": [],
   "source": [
    "# Arithmetic mean\n",
    "dfs.mean()"
   ]
  },
  {
   "cell_type": "code",
   "execution_count": null,
   "id": "241e6ada",
   "metadata": {},
   "outputs": [],
   "source": [
    "# Geometric mean\n",
    "((dfs+1).prod() ** (1 / len(dfs)) - 1)"
   ]
  },
  {
   "cell_type": "code",
   "execution_count": null,
   "id": "b461049f",
   "metadata": {},
   "outputs": [],
   "source": [
    "# annualized arithmetic mean\n",
    "(dfs.mean() * 12)"
   ]
  },
  {
   "cell_type": "code",
   "execution_count": null,
   "id": "631ab3ac",
   "metadata": {
    "scrolled": true
   },
   "outputs": [],
   "source": [
    "# annualized vol\n",
    "qs.stats.volatility(dfs, periods=12)"
   ]
  },
  {
   "cell_type": "code",
   "execution_count": null,
   "id": "919c29ea",
   "metadata": {},
   "outputs": [],
   "source": [
    "# check volatility\n",
    "vol = dfs.std(ddof=1) * np.sqrt(12)\n",
    "dfs.std(ddof=1) * np.sqrt(12)"
   ]
  },
  {
   "cell_type": "markdown",
   "id": "c188f4fc",
   "metadata": {},
   "source": [
    "##### # CAGR OF QUANTSTATS IS WRONLY CALCULATED FOR MONTHLY RETURNS (subtracts 1 from lenght of total months, assum. daily prices...)"
   ]
  },
  {
   "cell_type": "code",
   "execution_count": null,
   "id": "2818b978",
   "metadata": {},
   "outputs": [],
   "source": [
    "# Wrong. cum. annualized growth rate\n",
    "qs.stats.cagr(dfs, compounded=True)"
   ]
  },
  {
   "cell_type": "code",
   "execution_count": null,
   "id": "8638b5ed",
   "metadata": {},
   "outputs": [],
   "source": [
    "# Wrong\n",
    "cagr = (dfs+1).prod() ** (12/(len(dfs)-1)) - 1\n",
    "print(cagr)"
   ]
  },
  {
   "cell_type": "code",
   "execution_count": null,
   "id": "214fb77a",
   "metadata": {},
   "outputs": [],
   "source": [
    "cagr = (dfs+1).prod() ** (12/(len(dfs)-1)) - 1"
   ]
  },
  {
   "cell_type": "code",
   "execution_count": null,
   "id": "c8d8d603",
   "metadata": {},
   "outputs": [],
   "source": [
    "cagr"
   ]
  },
  {
   "cell_type": "code",
   "execution_count": null,
   "id": "1bbede86",
   "metadata": {},
   "outputs": [],
   "source": [
    "# Correct\n",
    "cagr = (dfs+1).prod() ** (12/len(dfs)) - 1\n",
    "print(cagr)"
   ]
  },
  {
   "cell_type": "code",
   "execution_count": null,
   "id": "585944ff",
   "metadata": {
    "scrolled": false
   },
   "outputs": [],
   "source": [
    "# wrong, if mean is >1, will convert to pct_change... (class 1 is such a case)\n",
    "qs.stats.sharpe(dfs, periods=12)"
   ]
  },
  {
   "cell_type": "code",
   "execution_count": null,
   "id": "80368b3a",
   "metadata": {},
   "outputs": [],
   "source": [
    "# Check Sharpe Ratio\n",
    "sharpe = dfs.mean(axis=0) / dfs.std() * np.sqrt(12)\n",
    "dfs.mean(axis=0) / dfs.std() * np.sqrt(12)"
   ]
  },
  {
   "cell_type": "code",
   "execution_count": null,
   "id": "7131e400",
   "metadata": {},
   "outputs": [],
   "source": [
    "# Check Sharpe Ratio 2\n",
    "(dfs.mean() * 12) / (dfs.std(ddof=1) * np.sqrt(12))"
   ]
  },
  {
   "cell_type": "code",
   "execution_count": null,
   "id": "8baafa2f",
   "metadata": {},
   "outputs": [],
   "source": [
    "# Sharpe Ratio with avg. geometric returns\n",
    "((dfs+1).prod() ** (12/ len(dfs)) - 1) / (dfs.std(ddof=1) * np.sqrt(12))"
   ]
  },
  {
   "cell_type": "code",
   "execution_count": null,
   "id": "f5db2f71",
   "metadata": {},
   "outputs": [],
   "source": [
    "cagr / (dfs.std(ddof=1) * np.sqrt(12))"
   ]
  },
  {
   "cell_type": "code",
   "execution_count": null,
   "id": "4983b7bb",
   "metadata": {},
   "outputs": [],
   "source": [
    "cagr/vol"
   ]
  },
  {
   "cell_type": "code",
   "execution_count": null,
   "id": "309e2840",
   "metadata": {},
   "outputs": [],
   "source": [
    "(dfs.mean() * 12)"
   ]
  },
  {
   "cell_type": "code",
   "execution_count": null,
   "id": "0c49b8a0",
   "metadata": {
    "scrolled": true
   },
   "outputs": [],
   "source": [
    "(dfs.std(ddof=1) * np.sqrt(12))"
   ]
  },
  {
   "cell_type": "code",
   "execution_count": null,
   "id": "65458eae",
   "metadata": {},
   "outputs": [],
   "source": [
    "# Kurtosis\n",
    "dfs.kurtosis(axis=0)"
   ]
  },
  {
   "cell_type": "code",
   "execution_count": null,
   "id": "c77ae0cb",
   "metadata": {},
   "outputs": [],
   "source": [
    "kurt =qs.stats.kurtosis(dfs)\n",
    "kurt"
   ]
  },
  {
   "cell_type": "code",
   "execution_count": null,
   "id": "027c16fa",
   "metadata": {},
   "outputs": [],
   "source": [
    "# Skewness\n",
    "skew = dfs.skew()\n",
    "skew"
   ]
  },
  {
   "cell_type": "code",
   "execution_count": null,
   "id": "7bb58d20",
   "metadata": {},
   "outputs": [],
   "source": [
    "qs.stats.skew(dfs)"
   ]
  },
  {
   "cell_type": "code",
   "execution_count": null,
   "id": "68bfac9d",
   "metadata": {},
   "outputs": [],
   "source": [
    "dfsp = dfs.copy()"
   ]
  },
  {
   "cell_type": "code",
   "execution_count": null,
   "id": "328c6258",
   "metadata": {},
   "outputs": [],
   "source": [
    "# dfsp = pd.concat([pd.DataFrame([[0, 0]], columns=dfsp.columns), dfsp], ignore_index=False)"
   ]
  },
  {
   "cell_type": "code",
   "execution_count": null,
   "id": "8272d398",
   "metadata": {},
   "outputs": [],
   "source": [
    "dfsp.head()"
   ]
  },
  {
   "cell_type": "code",
   "execution_count": null,
   "id": "e990de24",
   "metadata": {
    "scrolled": false
   },
   "outputs": [],
   "source": [
    "dfs.index[0] - MonthEnd(1)"
   ]
  },
  {
   "cell_type": "code",
   "execution_count": null,
   "id": "bca69a40",
   "metadata": {},
   "outputs": [],
   "source": [
    "dfsp.loc[dfsp.index[0] - MonthEnd(1)] = [0] * dfsp.shape[1]\n",
    "\n",
    "dfsp = dfsp.sort_index()"
   ]
  },
  {
   "cell_type": "code",
   "execution_count": null,
   "id": "b978a897",
   "metadata": {},
   "outputs": [],
   "source": [
    "dfsp"
   ]
  },
  {
   "cell_type": "code",
   "execution_count": null,
   "id": "3b34312b",
   "metadata": {},
   "outputs": [],
   "source": [
    "prices =(1 + dfsp).cumprod()"
   ]
  },
  {
   "cell_type": "code",
   "execution_count": null,
   "id": "06c3a251",
   "metadata": {},
   "outputs": [],
   "source": [
    "prices.head()"
   ]
  },
  {
   "cell_type": "code",
   "execution_count": null,
   "id": "1d670244",
   "metadata": {
    "scrolled": true
   },
   "outputs": [],
   "source": [
    " prices.expanding(min_periods=0).max().head()"
   ]
  },
  {
   "cell_type": "code",
   "execution_count": null,
   "id": "e63ea8cb",
   "metadata": {
    "scrolled": true
   },
   "outputs": [],
   "source": [
    "(prices / prices.expanding(min_periods=0).max())"
   ]
  },
  {
   "cell_type": "code",
   "execution_count": null,
   "id": "3fe77d6e",
   "metadata": {},
   "outputs": [],
   "source": [
    "prices"
   ]
  },
  {
   "cell_type": "code",
   "execution_count": null,
   "id": "53e181c8",
   "metadata": {
    "scrolled": true
   },
   "outputs": [],
   "source": [
    "(prices / prices.expanding().max()).min()"
   ]
  },
  {
   "cell_type": "code",
   "execution_count": null,
   "id": "b4e17574",
   "metadata": {},
   "outputs": [],
   "source": [
    "(prices / prices.expanding().max()).min() - 1"
   ]
  },
  {
   "cell_type": "code",
   "execution_count": null,
   "id": "d051c54d",
   "metadata": {
    "scrolled": true
   },
   "outputs": [],
   "source": [
    "# Max. DD is correctly calculated.\n",
    "qs.stats.max_drawdown(dfs)"
   ]
  },
  {
   "cell_type": "code",
   "execution_count": null,
   "id": "1b677811",
   "metadata": {},
   "outputs": [],
   "source": [
    "qs.stats.drawdown_details(qs.stats.to_drawdown_series(dfsp))[\"long1short0\"].sort_values(by=\"max drawdown\", ascending=True)"
   ]
  },
  {
   "cell_type": "code",
   "execution_count": null,
   "id": "4d77e4d0",
   "metadata": {},
   "outputs": [],
   "source": [
    "maxdd = (prices / prices.expanding().max()).min() - 1"
   ]
  },
  {
   "cell_type": "code",
   "execution_count": null,
   "id": "602f39d2",
   "metadata": {},
   "outputs": [],
   "source": [
    "maxdd"
   ]
  },
  {
   "cell_type": "code",
   "execution_count": null,
   "id": "bf6ed5bd",
   "metadata": {},
   "outputs": [],
   "source": [
    "(prices / prices.expanding().max())"
   ]
  },
  {
   "cell_type": "code",
   "execution_count": null,
   "id": "c98d0247",
   "metadata": {},
   "outputs": [],
   "source": [
    "maxdd[\"class0\"]"
   ]
  },
  {
   "cell_type": "code",
   "execution_count": null,
   "id": "6ab85558",
   "metadata": {},
   "outputs": [],
   "source": [
    "qs.stats.drawdown_details(qs.stats.to_drawdown_series(dfs))[\"class0\"].sort_values(by=\"max drawdown\", ascending=False)"
   ]
  },
  {
   "cell_type": "code",
   "execution_count": null,
   "id": "b4e2d60d",
   "metadata": {},
   "outputs": [],
   "source": [
    "a = qs.stats.drawdown_details(qs.stats.to_drawdown_series(dfs))[\"class0\"].sort_values(by=\"max drawdown\", ascending=True)[\"max drawdown\"].iloc[0] / 100"
   ]
  },
  {
   "cell_type": "code",
   "execution_count": null,
   "id": "dd96ac36",
   "metadata": {},
   "outputs": [],
   "source": [
    "a == maxdd[0]"
   ]
  },
  {
   "cell_type": "code",
   "execution_count": null,
   "id": "2a3608b8",
   "metadata": {},
   "outputs": [],
   "source": [
    "qs.stats.drawdown_details(qs.stats.to_drawdown_series(dfs))[\"class0\"].sort_values(by=\"max drawdown\", ascending=True)[\"days\"].iloc[0]"
   ]
  },
  {
   "cell_type": "code",
   "execution_count": null,
   "id": "53532d6f",
   "metadata": {},
   "outputs": [],
   "source": [
    "qs.stats.drawdown_details(qs.stats.to_drawdown_series(dfs))[\"class1\"].sort_values(by=\"max drawdown\", ascending=True)[\"days\"].iloc[0]"
   ]
  },
  {
   "cell_type": "code",
   "execution_count": null,
   "id": "7375092c",
   "metadata": {},
   "outputs": [],
   "source": [
    "dfsp"
   ]
  },
  {
   "cell_type": "code",
   "execution_count": null,
   "id": "e5704ed1",
   "metadata": {},
   "outputs": [],
   "source": [
    "dd_days=[]\n",
    "for columname in dfsp.columns:\n",
    "    dd_days.append(qs.stats.drawdown_details(qs.stats.to_drawdown_series(dfsp))[columname].sort_values(by=\"max drawdown\", ascending=True)[\"days\"].iloc[0])\n",
    "dd_days = pd.Series(dd_days, index=dfsp.columns, name=\"Max DD days\")\n",
    "dd_days = dd_days.apply(lambda x: f'{x: .0f}')"
   ]
  },
  {
   "cell_type": "code",
   "execution_count": null,
   "id": "92662685",
   "metadata": {},
   "outputs": [],
   "source": [
    "dd_days"
   ]
  },
  {
   "cell_type": "code",
   "execution_count": null,
   "id": "35474cea",
   "metadata": {},
   "outputs": [],
   "source": [
    "maxdd.abs()"
   ]
  },
  {
   "cell_type": "code",
   "execution_count": null,
   "id": "d3c4fb4d",
   "metadata": {
    "scrolled": false
   },
   "outputs": [],
   "source": [
    "# with wrong cagr\n",
    "qs.stats.cagr(dfs) / qs.stats.max_drawdown(dfs).abs()"
   ]
  },
  {
   "cell_type": "code",
   "execution_count": null,
   "id": "37b2d064",
   "metadata": {},
   "outputs": [],
   "source": [
    "# with wrong cagr\n",
    "qs.stats.cagr(dfs) / maxdd.abs()"
   ]
  },
  {
   "cell_type": "code",
   "execution_count": null,
   "id": "4f388ce7",
   "metadata": {},
   "outputs": [],
   "source": [
    "# with wrong cagr\n",
    "qs.stats.calmar(dfs)"
   ]
  },
  {
   "cell_type": "code",
   "execution_count": null,
   "id": "3daaa0ce",
   "metadata": {
    "scrolled": true
   },
   "outputs": [],
   "source": [
    "# with correct cagr\n",
    "cagr / qs.stats.max_drawdown(dfs).abs()"
   ]
  },
  {
   "cell_type": "code",
   "execution_count": null,
   "id": "566de2fc",
   "metadata": {},
   "outputs": [],
   "source": [
    "# with correct cagr\n",
    "calmar = cagr / maxdd.abs()"
   ]
  },
  {
   "cell_type": "code",
   "execution_count": null,
   "id": "d1cf4443",
   "metadata": {},
   "outputs": [],
   "source": [
    "# cumulative return\n",
    "cumr = (1+dfs).prod() - 1"
   ]
  },
  {
   "cell_type": "code",
   "execution_count": null,
   "id": "e8579553",
   "metadata": {},
   "outputs": [],
   "source": [
    "# alpha beta"
   ]
  },
  {
   "cell_type": "code",
   "execution_count": null,
   "id": "cee11cf5",
   "metadata": {},
   "outputs": [],
   "source": [
    "# only intercept or with regressor:\n",
    "X = np.array([np.ones_like(sp500), sp500]).T"
   ]
  },
  {
   "cell_type": "code",
   "execution_count": null,
   "id": "4fefd613",
   "metadata": {},
   "outputs": [],
   "source": [
    "alphabeta = np.linalg.inv(X.T@X)@X.T@dfs"
   ]
  },
  {
   "cell_type": "code",
   "execution_count": null,
   "id": "7f6e4c95",
   "metadata": {},
   "outputs": [],
   "source": [
    "alphabeta"
   ]
  },
  {
   "cell_type": "code",
   "execution_count": null,
   "id": "96b8e009",
   "metadata": {},
   "outputs": [],
   "source": [
    "# alpha (annualized), beta\n",
    "alpha = alphabeta.iloc[0, :] * 12\n",
    "beta = alphabeta.iloc[1, :]"
   ]
  },
  {
   "cell_type": "code",
   "execution_count": null,
   "id": "b7c1cbe1",
   "metadata": {},
   "outputs": [],
   "source": [
    "# mean (annualized)\n",
    "mean = dfs.mean() * 12"
   ]
  },
  {
   "cell_type": "code",
   "execution_count": null,
   "id": "c7a54087",
   "metadata": {},
   "outputs": [],
   "source": [
    "mean"
   ]
  },
  {
   "cell_type": "code",
   "execution_count": null,
   "id": "90902e29",
   "metadata": {
    "scrolled": false
   },
   "outputs": [],
   "source": [
    "perfstats = [cumr, cagr, mean, vol, sharpe, maxdd, dd_days, calmar, skew, kurt, alpha, beta] # then here.\n",
    "# perfstats = [vol, cagr, sharpe] # then here.\n",
    "\n",
    "# save results\n",
    "perfstats = pd.concat(perfstats, axis=1)\n",
    "perfstats.to_csv(os.path.join(path, \"perfstats.csv\"))    \n",
    "dfi.export(perfstats, os.path.join(path, \"perfstats.png\"))\n",
    "\n",
    "# export latex code for table\n",
    "with open(os.path.join(path, \"latex.txt\"), \"w\") as text_file:\n",
    "    text_file.write(perfstats.to_latex(float_format=\"%.2f\"))\n",
    "    text_file.write(\"\\n\")\n",
    "    text_file.write(\"% Same table transposed:\\n\")\n",
    "    text_file.write(\"\\n\")\n",
    "#     text_file.write(perfstats.T.to_latex(float_format=\"%.2f\"))"
   ]
  },
  {
   "cell_type": "code",
   "execution_count": null,
   "id": "6ba0c2b2",
   "metadata": {},
   "outputs": [],
   "source": [
    "path"
   ]
  },
  {
   "cell_type": "code",
   "execution_count": null,
   "id": "ad0861f8",
   "metadata": {},
   "outputs": [],
   "source": []
  },
  {
   "cell_type": "code",
   "execution_count": null,
   "id": "d1ce51fe",
   "metadata": {},
   "outputs": [],
   "source": []
  },
  {
   "cell_type": "code",
   "execution_count": null,
   "id": "5cfc3356",
   "metadata": {},
   "outputs": [],
   "source": []
  },
  {
   "cell_type": "code",
   "execution_count": null,
   "id": "51dda535",
   "metadata": {},
   "outputs": [],
   "source": []
  },
  {
   "cell_type": "code",
   "execution_count": null,
   "id": "f4828e82",
   "metadata": {},
   "outputs": [],
   "source": []
  },
  {
   "cell_type": "code",
   "execution_count": null,
   "id": "d0c0b05b",
   "metadata": {
    "scrolled": true
   },
   "outputs": [],
   "source": [
    "qs.stats.volatility(df_full.iloc[:, 1:], periods=12)"
   ]
  },
  {
   "cell_type": "code",
   "execution_count": null,
   "id": "7428bb10",
   "metadata": {},
   "outputs": [],
   "source": [
    "(df.index[-1] - df.index[0]).days / 365"
   ]
  },
  {
   "cell_type": "code",
   "execution_count": null,
   "id": "bca5143b",
   "metadata": {},
   "outputs": [],
   "source": [
    "23 / 12"
   ]
  },
  {
   "cell_type": "code",
   "execution_count": null,
   "id": "7fa4cd2a",
   "metadata": {
    "scrolled": true
   },
   "outputs": [],
   "source": [
    "df.index"
   ]
  },
  {
   "cell_type": "code",
   "execution_count": null,
   "id": "bb8eb626",
   "metadata": {},
   "outputs": [],
   "source": [
    "12/23"
   ]
  },
  {
   "cell_type": "code",
   "execution_count": null,
   "id": "331d1a05",
   "metadata": {},
   "outputs": [],
   "source": [
    "((1 + df).prod() ** (12/23))"
   ]
  },
  {
   "cell_type": "code",
   "execution_count": null,
   "id": "b0dac033",
   "metadata": {
    "scrolled": true
   },
   "outputs": [],
   "source": [
    "qs.stats.cagr(df)"
   ]
  },
  {
   "cell_type": "code",
   "execution_count": null,
   "id": "d7f800cb",
   "metadata": {},
   "outputs": [],
   "source": [
    "qs.stats.cagr(df)"
   ]
  },
  {
   "cell_type": "code",
   "execution_count": null,
   "id": "4c2657cb",
   "metadata": {},
   "outputs": [],
   "source": [
    "qs.stats.volatility(df, periods=12)"
   ]
  },
  {
   "cell_type": "code",
   "execution_count": null,
   "id": "28796a56",
   "metadata": {},
   "outputs": [],
   "source": [
    "qs.stats.sharpe(df, periods=12)"
   ]
  },
  {
   "cell_type": "code",
   "execution_count": null,
   "id": "96135df1",
   "metadata": {},
   "outputs": [],
   "source": [
    "0.763922 / 0.942529"
   ]
  },
  {
   "cell_type": "code",
   "execution_count": null,
   "id": "03ae8f2b",
   "metadata": {},
   "outputs": [],
   "source": [
    "# mean is annualized * 12, std with sqrt(12)\n",
    "df.mean() * 12 / (df.std() * np.sqrt(12))"
   ]
  },
  {
   "cell_type": "code",
   "execution_count": null,
   "id": "7c118068",
   "metadata": {},
   "outputs": [],
   "source": [
    "qs.stats.volatility(df, periods=12)"
   ]
  },
  {
   "cell_type": "code",
   "execution_count": null,
   "id": "ffd24f8c",
   "metadata": {},
   "outputs": [],
   "source": [
    "df.mean() * 12 / (df.std())"
   ]
  },
  {
   "cell_type": "code",
   "execution_count": null,
   "id": "7fa33700",
   "metadata": {
    "scrolled": false
   },
   "outputs": [],
   "source": [
    "qs.plots.snapshot(df)"
   ]
  },
  {
   "cell_type": "code",
   "execution_count": null,
   "id": "cfe35223",
   "metadata": {},
   "outputs": [],
   "source": [
    "df.mean() / df.std(ddof=1) * np.sqrt(252)"
   ]
  },
  {
   "cell_type": "code",
   "execution_count": null,
   "id": "6f1e57ca",
   "metadata": {},
   "outputs": [],
   "source": [
    "qs.reports.plots(df, \"full\", periods_per_year=12)"
   ]
  },
  {
   "cell_type": "code",
   "execution_count": null,
   "id": "82dd0c47",
   "metadata": {},
   "outputs": [],
   "source": [
    "qs.reports.metrics(df, mode=\"basic\", periods_per_year=12)"
   ]
  },
  {
   "cell_type": "code",
   "execution_count": null,
   "id": "799ebe67",
   "metadata": {},
   "outputs": [],
   "source": [
    "help(qs.plots.snapshot)"
   ]
  },
  {
   "cell_type": "code",
   "execution_count": null,
   "id": "574be2b0",
   "metadata": {},
   "outputs": [],
   "source": [
    "# annualized std\n",
    "np.std(df, ddof=1) * np.sqrt(12)"
   ]
  },
  {
   "cell_type": "code",
   "execution_count": null,
   "id": "8c763f11",
   "metadata": {},
   "outputs": [],
   "source": [
    "qs.reports.html(df, \"SPY\", periods_per_year=12)"
   ]
  },
  {
   "cell_type": "code",
   "execution_count": null,
   "id": "472ff26f",
   "metadata": {},
   "outputs": [],
   "source": []
  },
  {
   "cell_type": "code",
   "execution_count": null,
   "id": "028d27ba",
   "metadata": {},
   "outputs": [],
   "source": []
  },
  {
   "cell_type": "code",
   "execution_count": null,
   "id": "9c9f4549",
   "metadata": {},
   "outputs": [],
   "source": []
  },
  {
   "cell_type": "code",
   "execution_count": null,
   "id": "51a6f936",
   "metadata": {},
   "outputs": [],
   "source": [
    "# a = [1,2,3]"
   ]
  },
  {
   "cell_type": "code",
   "execution_count": null,
   "id": "d54f56b9",
   "metadata": {},
   "outputs": [],
   "source": []
  },
  {
   "cell_type": "code",
   "execution_count": null,
   "id": "51606e65",
   "metadata": {},
   "outputs": [],
   "source": []
  },
  {
   "cell_type": "code",
   "execution_count": null,
   "id": "d62df6a4",
   "metadata": {},
   "outputs": [],
   "source": []
  },
  {
   "cell_type": "code",
   "execution_count": null,
   "id": "e1de1c69",
   "metadata": {},
   "outputs": [],
   "source": [
    "dfs.mean()"
   ]
  },
  {
   "cell_type": "code",
   "execution_count": null,
   "id": "2422bfec",
   "metadata": {},
   "outputs": [],
   "source": []
  },
  {
   "cell_type": "code",
   "execution_count": null,
   "id": "f649a23d",
   "metadata": {},
   "outputs": [],
   "source": []
  },
  {
   "cell_type": "code",
   "execution_count": null,
   "id": "18d143d5",
   "metadata": {},
   "outputs": [],
   "source": []
  }
 ],
 "metadata": {
  "kernelspec": {
   "display_name": "Python 3 (ipykernel)",
   "language": "python",
   "name": "python3"
  },
  "language_info": {
   "codemirror_mode": {
    "name": "ipython",
    "version": 3
   },
   "file_extension": ".py",
   "mimetype": "text/x-python",
   "name": "python",
   "nbconvert_exporter": "python",
   "pygments_lexer": "ipython3",
   "version": "3.8.5"
  }
 },
 "nbformat": 4,
 "nbformat_minor": 5
}
