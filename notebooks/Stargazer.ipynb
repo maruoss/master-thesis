{
 "cells": [
  {
   "cell_type": "code",
   "execution_count": 1,
   "id": "bed22ef5",
   "metadata": {},
   "outputs": [],
   "source": [
    "import numpy as np\n",
    "import pandas as pd\n",
    "from pandas.tseries.offsets import MonthEnd\n",
    "from pathlib import Path\n",
    "import statsmodels.api as sm\n",
    "\n",
    "from stargazer.stargazer import Stargazer"
   ]
  },
  {
   "cell_type": "code",
   "execution_count": 2,
   "id": "56a5c603",
   "metadata": {},
   "outputs": [],
   "source": [
    "ls1 = [\"Mkt-RFFFFFFFFFFFFFFFFFFFFFFFFFFFFFFFFFFFFFFFFFFFFFFFFFFFFFFFFFFFFFFFFFFFFFFFFFFFFFFFF\"]\n",
    "ls2 = [\"Mkt-RF\", \"MOM\"]\n",
    "ls3 = [\"Mkt-RF\", \"MOM\", \"VIX\"]\n",
    "ls4 = [\"Mkt-RF\", \"MOM\", \"VIX\", \"VVIX\"]"
   ]
  },
  {
   "cell_type": "code",
   "execution_count": 3,
   "id": "0c4274d8",
   "metadata": {},
   "outputs": [],
   "source": [
    "a = \"string\""
   ]
  },
  {
   "cell_type": "code",
   "execution_count": 4,
   "id": "1e7185ab",
   "metadata": {},
   "outputs": [],
   "source": [
    "ls = [ls1, ls2, ls3, ls4]"
   ]
  },
  {
   "cell_type": "code",
   "execution_count": 5,
   "id": "dc8ec3a5",
   "metadata": {},
   "outputs": [
    {
     "data": {
      "text/plain": [
       "['Mkt-RF', 'MOM', 'VIX', 'VVIX']"
      ]
     },
     "execution_count": 5,
     "metadata": {},
     "output_type": "execute_result"
    }
   ],
   "source": [
    "max(ls, key= lambda ls: len(ls))"
   ]
  },
  {
   "cell_type": "code",
   "execution_count": 48,
   "id": "42dd1408",
   "metadata": {},
   "outputs": [],
   "source": [
    "ls = [\"MOM_RET\", \"CAPM_MOM\", \"CAPM_SMB\"]"
   ]
  },
  {
   "cell_type": "code",
   "execution_count": 60,
   "id": "ae90959f",
   "metadata": {},
   "outputs": [
    {
     "data": {
      "text/plain": [
       "['MOM\\\\_RET', 'CAPM\\\\_MOM', 'CAPM\\\\_SMB']"
      ]
     },
     "execution_count": 60,
     "metadata": {},
     "output_type": "execute_result"
    }
   ],
   "source": [
    "[i.replace(\"_\", \"\\_\") for i in ls]"
   ]
  },
  {
   "cell_type": "code",
   "execution_count": 62,
   "id": "96d41963",
   "metadata": {},
   "outputs": [],
   "source": [
    "dc = {\"a\": 1, \"b\": 2}"
   ]
  },
  {
   "cell_type": "code",
   "execution_count": 63,
   "id": "bb8c7c9b",
   "metadata": {},
   "outputs": [
    {
     "data": {
      "text/plain": [
       "1"
      ]
     },
     "execution_count": 63,
     "metadata": {},
     "output_type": "execute_result"
    }
   ],
   "source": [
    "dc.get(\"a\")"
   ]
  },
  {
   "cell_type": "code",
   "execution_count": null,
   "id": "17d4f0e0",
   "metadata": {},
   "outputs": [],
   "source": []
  },
  {
   "cell_type": "code",
   "execution_count": null,
   "id": "6362510b",
   "metadata": {},
   "outputs": [],
   "source": []
  },
  {
   "cell_type": "code",
   "execution_count": null,
   "id": "74156479",
   "metadata": {},
   "outputs": [],
   "source": []
  },
  {
   "cell_type": "code",
   "execution_count": null,
   "id": "5d410232",
   "metadata": {},
   "outputs": [],
   "source": []
  },
  {
   "cell_type": "code",
   "execution_count": 8,
   "id": "c8a7dd79",
   "metadata": {},
   "outputs": [],
   "source": [
    "def load_pfret_from_pfs(path_portfolios: Path) -> pd.DataFrame:\n",
    "    \"\"\"Load the 'option_ret' column of each (class and long-short) portfolio saved \n",
    "    in the 'path_portfolios' folder and concatenate to a dataframe.\n",
    "        \n",
    "        Args:\n",
    "            path_data (Path):          Path where the portfolio .csv files reside.   \n",
    "\n",
    "        Returns:\n",
    "            pf_returns (pd.DataFrame): All option returns in columns in a dataframe.\n",
    "    \"\"\"\n",
    "    pf_returns = []\n",
    "    for file in Path.iterdir(path_portfolios):\n",
    "        try:\n",
    "            df = pd.read_csv(path_portfolios/file, parse_dates=[\"date\"], index_col=\"date\")\n",
    "        except PermissionError as err:\n",
    "            raise PermissionError(\"The 'portfolios' subfolder must not contain directories.\"\n",
    "                                  \"Please move or delete the subdirectory.\") from err\n",
    "            # from err necessary for chaining\n",
    "        pf_returns.append(df[\"option_ret\"].rename(file.name[:-4])) #rename Series to filename from portfolios.\n",
    "    # Sort list in descending order first -> class0, class1, ..., etc.\n",
    "    pf_returns = sorted(pf_returns, key=lambda x: x.name)\n",
    "    pf_returns = pd.concat(pf_returns, axis=1) # Series names -> column names\n",
    "    # Capitalize 'date' index name for plot axis label.\n",
    "    pf_returns.index = pf_returns.index.rename(\"Date\")\n",
    "    return pf_returns"
   ]
  },
  {
   "cell_type": "code",
   "execution_count": 9,
   "id": "c99e2ede",
   "metadata": {},
   "outputs": [],
   "source": [
    "def load_ff_monthly(path_data: Path) -> pd.DataFrame:\n",
    "    \"\"\"Load the monthly data of the 5 Factors of Fama and French: Mkt-RF, SMB,\n",
    "    HML, RMW, CMA and adjust dates to the true end of month dates.\n",
    "        \n",
    "        Args:\n",
    "            path_data (Path):          Parent path where the Fama French data resides.   \n",
    "\n",
    "        Returns:\n",
    "            ff_monthly (pd.DataFrame): All factors in columns in a dataframe.\n",
    "    \"\"\"\n",
    "    ff_monthly = pd.read_csv(path_data/\"F-F_Research_Data_5_Factors_2x3.csv\", skiprows=2).iloc[:706]\n",
    "    # Rename Unnamed: 0 to Date and convert to appropriate Datetime format.\n",
    "    ff_monthly = ff_monthly.rename(columns={\"Unnamed: 0\": \"Date\"})\n",
    "    ff_monthly[\"Date\"] = pd.to_datetime(ff_monthly[\"Date\"], format=\"%Y%m\") + MonthEnd(0)\n",
    "    ff_monthly = ff_monthly.set_index(\"Date\")\n",
    "    # Convert ff columns to float (have been read as strings).\n",
    "    for col in ff_monthly.columns:\n",
    "        ff_monthly[col] = ff_monthly[col].astype(\"float\")\n",
    "    # Divide by 100 (numbers are in percent).\n",
    "    ff_monthly =  ff_monthly / 100\n",
    "    # Drop riskfree rate column (will not be used as a factor in the regressions).\n",
    "    ff_monthly = ff_monthly.drop(columns=\"RF\")\n",
    "    return ff_monthly\n"
   ]
  },
  {
   "cell_type": "code",
   "execution_count": 10,
   "id": "9bd5f7f9",
   "metadata": {},
   "outputs": [],
   "source": [
    "def filter_idx(df: pd.DataFrame, df_target: pd.DataFrame) -> pd.DataFrame:\n",
    "    \"\"\"Filters indeces of 'df' to align with index of 'df_target'.\n",
    "    \n",
    "    Returns: Filtered DataFrame.\n",
    "    \"\"\"\n",
    "    return df.loc[df.index[np.isin(df.index, df_target.index)]]"
   ]
  },
  {
   "cell_type": "code",
   "execution_count": 11,
   "id": "25a943b7",
   "metadata": {},
   "outputs": [],
   "source": [
    "exp_path = Path(r\"C:\\Users\\Mathiass\\Documents\\Projects\\master-thesis\\logs\\tune\\nn_loops\\20220909134900\")\n",
    "path_portfolios = exp_path/\"portfolios\"\n",
    "path_data = Path(r\"C:\\Users\\Mathiass\\Documents\\Projects\\master-thesis\\data\")"
   ]
  },
  {
   "cell_type": "code",
   "execution_count": 12,
   "id": "be53b008",
   "metadata": {},
   "outputs": [],
   "source": [
    "pf_returns = load_pfret_from_pfs(path_portfolios)\n",
    "ff_monthly = load_ff_monthly(path_data)"
   ]
  },
  {
   "cell_type": "code",
   "execution_count": 13,
   "id": "890ac657",
   "metadata": {},
   "outputs": [
    {
     "data": {
      "text/html": [
       "<div>\n",
       "<style scoped>\n",
       "    .dataframe tbody tr th:only-of-type {\n",
       "        vertical-align: middle;\n",
       "    }\n",
       "\n",
       "    .dataframe tbody tr th {\n",
       "        vertical-align: top;\n",
       "    }\n",
       "\n",
       "    .dataframe thead th {\n",
       "        text-align: right;\n",
       "    }\n",
       "</style>\n",
       "<table border=\"1\" class=\"dataframe\">\n",
       "  <thead>\n",
       "    <tr style=\"text-align: right;\">\n",
       "      <th></th>\n",
       "      <th>Mkt-RF</th>\n",
       "      <th>SMB</th>\n",
       "      <th>HML</th>\n",
       "      <th>RMW</th>\n",
       "      <th>CMA</th>\n",
       "    </tr>\n",
       "    <tr>\n",
       "      <th>Date</th>\n",
       "      <th></th>\n",
       "      <th></th>\n",
       "      <th></th>\n",
       "      <th></th>\n",
       "      <th></th>\n",
       "    </tr>\n",
       "  </thead>\n",
       "  <tbody>\n",
       "    <tr>\n",
       "      <th>1963-07-31</th>\n",
       "      <td>-0.0039</td>\n",
       "      <td>-0.0044</td>\n",
       "      <td>-0.0089</td>\n",
       "      <td>0.0068</td>\n",
       "      <td>-0.0123</td>\n",
       "    </tr>\n",
       "    <tr>\n",
       "      <th>1963-08-31</th>\n",
       "      <td>0.0507</td>\n",
       "      <td>-0.0075</td>\n",
       "      <td>0.0168</td>\n",
       "      <td>0.0036</td>\n",
       "      <td>-0.0034</td>\n",
       "    </tr>\n",
       "    <tr>\n",
       "      <th>1963-09-30</th>\n",
       "      <td>-0.0157</td>\n",
       "      <td>-0.0055</td>\n",
       "      <td>0.0008</td>\n",
       "      <td>-0.0071</td>\n",
       "      <td>0.0029</td>\n",
       "    </tr>\n",
       "    <tr>\n",
       "      <th>1963-10-31</th>\n",
       "      <td>0.0253</td>\n",
       "      <td>-0.0137</td>\n",
       "      <td>-0.0014</td>\n",
       "      <td>0.0280</td>\n",
       "      <td>-0.0202</td>\n",
       "    </tr>\n",
       "    <tr>\n",
       "      <th>1963-11-30</th>\n",
       "      <td>-0.0085</td>\n",
       "      <td>-0.0089</td>\n",
       "      <td>0.0181</td>\n",
       "      <td>-0.0051</td>\n",
       "      <td>0.0231</td>\n",
       "    </tr>\n",
       "    <tr>\n",
       "      <th>...</th>\n",
       "      <td>...</td>\n",
       "      <td>...</td>\n",
       "      <td>...</td>\n",
       "      <td>...</td>\n",
       "      <td>...</td>\n",
       "    </tr>\n",
       "    <tr>\n",
       "      <th>2021-12-31</th>\n",
       "      <td>0.0310</td>\n",
       "      <td>-0.0069</td>\n",
       "      <td>0.0322</td>\n",
       "      <td>0.0475</td>\n",
       "      <td>0.0436</td>\n",
       "    </tr>\n",
       "    <tr>\n",
       "      <th>2022-01-31</th>\n",
       "      <td>-0.0625</td>\n",
       "      <td>-0.0395</td>\n",
       "      <td>0.1274</td>\n",
       "      <td>0.0073</td>\n",
       "      <td>0.0773</td>\n",
       "    </tr>\n",
       "    <tr>\n",
       "      <th>2022-02-28</th>\n",
       "      <td>-0.0229</td>\n",
       "      <td>0.0290</td>\n",
       "      <td>0.0309</td>\n",
       "      <td>-0.0212</td>\n",
       "      <td>0.0299</td>\n",
       "    </tr>\n",
       "    <tr>\n",
       "      <th>2022-03-31</th>\n",
       "      <td>0.0306</td>\n",
       "      <td>-0.0214</td>\n",
       "      <td>-0.0182</td>\n",
       "      <td>-0.0132</td>\n",
       "      <td>0.0324</td>\n",
       "    </tr>\n",
       "    <tr>\n",
       "      <th>2022-04-30</th>\n",
       "      <td>-0.0944</td>\n",
       "      <td>-0.0039</td>\n",
       "      <td>0.0616</td>\n",
       "      <td>0.0351</td>\n",
       "      <td>0.0588</td>\n",
       "    </tr>\n",
       "  </tbody>\n",
       "</table>\n",
       "<p>706 rows × 5 columns</p>\n",
       "</div>"
      ],
      "text/plain": [
       "            Mkt-RF     SMB     HML     RMW     CMA\n",
       "Date                                              \n",
       "1963-07-31 -0.0039 -0.0044 -0.0089  0.0068 -0.0123\n",
       "1963-08-31  0.0507 -0.0075  0.0168  0.0036 -0.0034\n",
       "1963-09-30 -0.0157 -0.0055  0.0008 -0.0071  0.0029\n",
       "1963-10-31  0.0253 -0.0137 -0.0014  0.0280 -0.0202\n",
       "1963-11-30 -0.0085 -0.0089  0.0181 -0.0051  0.0231\n",
       "...            ...     ...     ...     ...     ...\n",
       "2021-12-31  0.0310 -0.0069  0.0322  0.0475  0.0436\n",
       "2022-01-31 -0.0625 -0.0395  0.1274  0.0073  0.0773\n",
       "2022-02-28 -0.0229  0.0290  0.0309 -0.0212  0.0299\n",
       "2022-03-31  0.0306 -0.0214 -0.0182 -0.0132  0.0324\n",
       "2022-04-30 -0.0944 -0.0039  0.0616  0.0351  0.0588\n",
       "\n",
       "[706 rows x 5 columns]"
      ]
     },
     "execution_count": 13,
     "metadata": {},
     "output_type": "execute_result"
    }
   ],
   "source": [
    "ff_monthly"
   ]
  },
  {
   "cell_type": "code",
   "execution_count": 14,
   "id": "7e427d59",
   "metadata": {
    "scrolled": true
   },
   "outputs": [],
   "source": [
    "# Variable of interest (y). We want to explain the monthly long short PF returns.\n",
    "y = pf_returns[\"long4short0\"]"
   ]
  },
  {
   "cell_type": "code",
   "execution_count": 15,
   "id": "99d8c020",
   "metadata": {},
   "outputs": [],
   "source": [
    "ff_monthly = filter_idx(ff_monthly, y)"
   ]
  },
  {
   "cell_type": "code",
   "execution_count": 16,
   "id": "1446cfd0",
   "metadata": {
    "scrolled": true
   },
   "outputs": [
    {
     "data": {
      "text/plain": [
       "Date\n",
       "2008-01-31    0.003212\n",
       "2008-02-29    0.004047\n",
       "2008-03-31    0.055884\n",
       "2008-04-30    0.017467\n",
       "2008-05-31   -0.038243\n",
       "                ...   \n",
       "2021-06-30    0.074146\n",
       "2021-07-31    0.107212\n",
       "2021-08-31    0.084287\n",
       "2021-09-30   -0.634902\n",
       "2021-10-31    0.028390\n",
       "Name: long4short0, Length: 166, dtype: float64"
      ]
     },
     "execution_count": 16,
     "metadata": {},
     "output_type": "execute_result"
    }
   ],
   "source": [
    "y"
   ]
  },
  {
   "cell_type": "code",
   "execution_count": 17,
   "id": "f4be03d8",
   "metadata": {},
   "outputs": [
    {
     "data": {
      "text/html": [
       "<div>\n",
       "<style scoped>\n",
       "    .dataframe tbody tr th:only-of-type {\n",
       "        vertical-align: middle;\n",
       "    }\n",
       "\n",
       "    .dataframe tbody tr th {\n",
       "        vertical-align: top;\n",
       "    }\n",
       "\n",
       "    .dataframe thead th {\n",
       "        text-align: right;\n",
       "    }\n",
       "</style>\n",
       "<table border=\"1\" class=\"dataframe\">\n",
       "  <thead>\n",
       "    <tr style=\"text-align: right;\">\n",
       "      <th></th>\n",
       "      <th>Mkt-RF</th>\n",
       "      <th>SMB</th>\n",
       "      <th>HML</th>\n",
       "      <th>RMW</th>\n",
       "      <th>CMA</th>\n",
       "    </tr>\n",
       "    <tr>\n",
       "      <th>Date</th>\n",
       "      <th></th>\n",
       "      <th></th>\n",
       "      <th></th>\n",
       "      <th></th>\n",
       "      <th></th>\n",
       "    </tr>\n",
       "  </thead>\n",
       "  <tbody>\n",
       "    <tr>\n",
       "      <th>2008-01-31</th>\n",
       "      <td>-0.0636</td>\n",
       "      <td>-0.0061</td>\n",
       "      <td>0.0401</td>\n",
       "      <td>0.0221</td>\n",
       "      <td>0.0213</td>\n",
       "    </tr>\n",
       "    <tr>\n",
       "      <th>2008-02-29</th>\n",
       "      <td>-0.0309</td>\n",
       "      <td>-0.0064</td>\n",
       "      <td>-0.0084</td>\n",
       "      <td>0.0083</td>\n",
       "      <td>-0.0093</td>\n",
       "    </tr>\n",
       "    <tr>\n",
       "      <th>2008-03-31</th>\n",
       "      <td>-0.0093</td>\n",
       "      <td>0.0061</td>\n",
       "      <td>0.0035</td>\n",
       "      <td>0.0080</td>\n",
       "      <td>0.0051</td>\n",
       "    </tr>\n",
       "    <tr>\n",
       "      <th>2008-04-30</th>\n",
       "      <td>0.0460</td>\n",
       "      <td>-0.0119</td>\n",
       "      <td>-0.0109</td>\n",
       "      <td>0.0168</td>\n",
       "      <td>-0.0246</td>\n",
       "    </tr>\n",
       "    <tr>\n",
       "      <th>2008-05-31</th>\n",
       "      <td>0.0186</td>\n",
       "      <td>0.0302</td>\n",
       "      <td>-0.0153</td>\n",
       "      <td>0.0091</td>\n",
       "      <td>-0.0006</td>\n",
       "    </tr>\n",
       "    <tr>\n",
       "      <th>...</th>\n",
       "      <td>...</td>\n",
       "      <td>...</td>\n",
       "      <td>...</td>\n",
       "      <td>...</td>\n",
       "      <td>...</td>\n",
       "    </tr>\n",
       "    <tr>\n",
       "      <th>2021-06-30</th>\n",
       "      <td>0.0275</td>\n",
       "      <td>-0.0028</td>\n",
       "      <td>-0.0782</td>\n",
       "      <td>-0.0214</td>\n",
       "      <td>-0.0104</td>\n",
       "    </tr>\n",
       "    <tr>\n",
       "      <th>2021-07-31</th>\n",
       "      <td>0.0127</td>\n",
       "      <td>-0.0455</td>\n",
       "      <td>-0.0174</td>\n",
       "      <td>0.0537</td>\n",
       "      <td>-0.0054</td>\n",
       "    </tr>\n",
       "    <tr>\n",
       "      <th>2021-08-31</th>\n",
       "      <td>0.0291</td>\n",
       "      <td>-0.0078</td>\n",
       "      <td>-0.0015</td>\n",
       "      <td>-0.0026</td>\n",
       "      <td>-0.0166</td>\n",
       "    </tr>\n",
       "    <tr>\n",
       "      <th>2021-09-30</th>\n",
       "      <td>-0.0437</td>\n",
       "      <td>0.0121</td>\n",
       "      <td>0.0506</td>\n",
       "      <td>-0.0194</td>\n",
       "      <td>0.0202</td>\n",
       "    </tr>\n",
       "    <tr>\n",
       "      <th>2021-10-31</th>\n",
       "      <td>0.0665</td>\n",
       "      <td>-0.0271</td>\n",
       "      <td>-0.0048</td>\n",
       "      <td>0.0174</td>\n",
       "      <td>-0.0151</td>\n",
       "    </tr>\n",
       "  </tbody>\n",
       "</table>\n",
       "<p>166 rows × 5 columns</p>\n",
       "</div>"
      ],
      "text/plain": [
       "            Mkt-RF     SMB     HML     RMW     CMA\n",
       "Date                                              \n",
       "2008-01-31 -0.0636 -0.0061  0.0401  0.0221  0.0213\n",
       "2008-02-29 -0.0309 -0.0064 -0.0084  0.0083 -0.0093\n",
       "2008-03-31 -0.0093  0.0061  0.0035  0.0080  0.0051\n",
       "2008-04-30  0.0460 -0.0119 -0.0109  0.0168 -0.0246\n",
       "2008-05-31  0.0186  0.0302 -0.0153  0.0091 -0.0006\n",
       "...            ...     ...     ...     ...     ...\n",
       "2021-06-30  0.0275 -0.0028 -0.0782 -0.0214 -0.0104\n",
       "2021-07-31  0.0127 -0.0455 -0.0174  0.0537 -0.0054\n",
       "2021-08-31  0.0291 -0.0078 -0.0015 -0.0026 -0.0166\n",
       "2021-09-30 -0.0437  0.0121  0.0506 -0.0194  0.0202\n",
       "2021-10-31  0.0665 -0.0271 -0.0048  0.0174 -0.0151\n",
       "\n",
       "[166 rows x 5 columns]"
      ]
     },
     "execution_count": 17,
     "metadata": {},
     "output_type": "execute_result"
    }
   ],
   "source": [
    "ff_monthly"
   ]
  },
  {
   "cell_type": "code",
   "execution_count": 18,
   "id": "bfaddc8f",
   "metadata": {},
   "outputs": [],
   "source": [
    "regression_map = {\"3FF\":              [\"Mkt-RF\"],\n",
    "                   \"3FF_SMB\":         [\"Mkt-RF\", \"SMB\"],\n",
    "                  \"3FF_HML\":     [\"Mkt-RF\", \"SMB\", \"HML\"],\n",
    "                 }"
   ]
  },
  {
   "cell_type": "code",
   "execution_count": 19,
   "id": "31d5bb0e",
   "metadata": {},
   "outputs": [],
   "source": [
    "estimates = []\n",
    "for v in regression_map.values():\n",
    "    X = sm.add_constant(ff_monthly[v])\n",
    "    estimates.append(sm.OLS(y, X).fit())"
   ]
  },
  {
   "cell_type": "code",
   "execution_count": 20,
   "id": "d47ca785",
   "metadata": {},
   "outputs": [
    {
     "name": "stdout",
     "output_type": "stream",
     "text": [
      "long4short0\n",
      "long4short0\n",
      "long4short0\n"
     ]
    }
   ],
   "source": [
    "for i in estimates:\n",
    "    print(i.model.endog_names)"
   ]
  },
  {
   "cell_type": "code",
   "execution_count": 21,
   "id": "d8921b5b",
   "metadata": {},
   "outputs": [],
   "source": [
    "string = \"Roger Federer\""
   ]
  },
  {
   "cell_type": "code",
   "execution_count": 22,
   "id": "e624259a",
   "metadata": {},
   "outputs": [
    {
     "data": {
      "text/plain": [
       "101"
      ]
     },
     "execution_count": 22,
     "metadata": {},
     "output_type": "execute_result"
    }
   ],
   "source": [
    "ord(\"e\")"
   ]
  },
  {
   "cell_type": "code",
   "execution_count": 23,
   "id": "4dcb5c6a",
   "metadata": {},
   "outputs": [],
   "source": [
    "table = {ord(\"e\"): \"a\"}"
   ]
  },
  {
   "cell_type": "code",
   "execution_count": 24,
   "id": "f635949a",
   "metadata": {},
   "outputs": [
    {
     "data": {
      "text/plain": [
       "'Rogar Fadarar'"
      ]
     },
     "execution_count": 24,
     "metadata": {},
     "output_type": "execute_result"
    }
   ],
   "source": [
    "string.translate(table)"
   ]
  },
  {
   "cell_type": "code",
   "execution_count": 25,
   "id": "96b90421",
   "metadata": {
    "scrolled": true
   },
   "outputs": [
    {
     "data": {
      "text/plain": [
       "[<statsmodels.regression.linear_model.RegressionResultsWrapper at 0x21710b985b0>,\n",
       " <statsmodels.regression.linear_model.RegressionResultsWrapper at 0x2170f73f4c0>,\n",
       " <statsmodels.regression.linear_model.RegressionResultsWrapper at 0x21714aebe20>]"
      ]
     },
     "execution_count": 25,
     "metadata": {},
     "output_type": "execute_result"
    }
   ],
   "source": [
    "estimates"
   ]
  },
  {
   "cell_type": "code",
   "execution_count": 26,
   "id": "aa869642",
   "metadata": {},
   "outputs": [],
   "source": [
    "stargazer = Stargazer(estimates)"
   ]
  },
  {
   "cell_type": "code",
   "execution_count": 27,
   "id": "5e7b2662",
   "metadata": {},
   "outputs": [],
   "source": [
    "# cov_order = [\"const\"] + [\"Mkt-RF\", \"SMB\", \"HML\"]\n",
    "# stargazer.covariate_order(cov_order)"
   ]
  },
  {
   "cell_type": "code",
   "execution_count": 28,
   "id": "8067913d",
   "metadata": {},
   "outputs": [],
   "source": [
    "stargazer.covariate_order([\"Mkt-RF\", \"SMB\", \"HML\"])"
   ]
  },
  {
   "cell_type": "code",
   "execution_count": 29,
   "id": "88e86601",
   "metadata": {},
   "outputs": [],
   "source": [
    "# stargazer.custom_columns(['Model 1', \"Model 3\"], [1, 2])"
   ]
  },
  {
   "cell_type": "code",
   "execution_count": 30,
   "id": "0e9e308e",
   "metadata": {},
   "outputs": [
    {
     "data": {
      "text/html": [
       "<table style=\"text-align:center\"><tr><td colspan=\"4\" style=\"border-bottom: 1px solid black\"></td></tr><tr><td style=\"text-align:left\"></td><td colspan=\"3\"><em>Dependent variable:long4short0</em></td></tr><tr><td style=\"text-align:left\"></td><tr><td style=\"text-align:left\"></td><td>(1)</td><td>(2)</td><td>(3)</td></tr><tr><td colspan=\"4\" style=\"border-bottom: 1px solid black\"></td></tr><tr><td style=\"text-align:left\">Mkt-RF</td><td>0.107<sup></sup></td><td>0.142<sup></sup></td><td>0.154<sup></sup></td></tr><tr><td style=\"text-align:left\"></td><td>(0.113)</td><td>(0.123)</td><td>(0.125)</td></tr><tr><td style=\"text-align:left\">SMB</td><td></td><td>-0.154<sup></sup></td><td>-0.100<sup></sup></td></tr><tr><td style=\"text-align:left\"></td><td></td><td>(0.217)</td><td>(0.229)</td></tr><tr><td style=\"text-align:left\">HML</td><td></td><td></td><td>-0.137<sup></sup></td></tr><tr><td style=\"text-align:left\"></td><td></td><td></td><td>(0.184)</td></tr><td colspan=\"4\" style=\"border-bottom: 1px solid black\"></td></tr><tr><td style=\"text-align: left\">Observations</td><td>166</td><td>166</td><td>166</td></tr><tr><td style=\"text-align: left\">R<sup>2</sup></td><td>0.005</td><td>0.008</td><td>0.012</td></tr><tr><td style=\"text-align: left\">Adjusted R<sup>2</sup></td><td>-0.001</td><td>-0.004</td><td>-0.006</td></tr><tr><td style=\"text-align: left\">Residual Std. Error</td><td>0.068 (df=164)</td><td>0.068 (df=163)</td><td>0.068 (df=162)</td></tr><tr><td style=\"text-align: left\">F Statistic</td><td>0.898<sup></sup> (df=1; 164)</td><td>0.698<sup></sup> (df=2; 163)</td><td>0.649<sup></sup> (df=3; 162)</td></tr><tr><td colspan=\"4\" style=\"border-bottom: 1px solid black\"></td></tr><tr><td style=\"text-align: left\">Note:</td>\n",
       " <td colspan=\"3\" style=\"text-align: right\">\n",
       "  <sup>*</sup>p&lt;0.1;\n",
       "  <sup>**</sup>p&lt;0.05;\n",
       "  <sup>***</sup>p&lt;0.01\n",
       " </td></tr></table>"
      ],
      "text/plain": [
       "<stargazer.stargazer.Stargazer at 0x2170f78fe50>"
      ]
     },
     "execution_count": 30,
     "metadata": {},
     "output_type": "execute_result"
    }
   ],
   "source": [
    "stargazer"
   ]
  },
  {
   "cell_type": "code",
   "execution_count": 31,
   "id": "85c45997",
   "metadata": {
    "scrolled": true
   },
   "outputs": [
    {
     "data": {
      "text/html": [
       "<table style=\"text-align:center\"><tr><td colspan=\"4\" style=\"border-bottom: 1px solid black\"></td></tr><tr><td style=\"text-align:left\"></td><td colspan=\"3\"><em>Dependent variable:long4short0</em></td></tr><tr><td style=\"text-align:left\"></td><tr><td style=\"text-align:left\"></td><td>(1)</td><td>(2)</td><td>(3)</td></tr><tr><td colspan=\"4\" style=\"border-bottom: 1px solid black\"></td></tr><tr><td style=\"text-align:left\">Mkt-RF</td><td>0.107<sup></sup></td><td>0.142<sup></sup></td><td>0.154<sup></sup></td></tr><tr><td style=\"text-align:left\"></td><td>(0.113)</td><td>(0.123)</td><td>(0.125)</td></tr><tr><td style=\"text-align:left\">SMB</td><td></td><td>-0.154<sup></sup></td><td>-0.100<sup></sup></td></tr><tr><td style=\"text-align:left\"></td><td></td><td>(0.217)</td><td>(0.229)</td></tr><tr><td style=\"text-align:left\">HML</td><td></td><td></td><td>-0.137<sup></sup></td></tr><tr><td style=\"text-align:left\"></td><td></td><td></td><td>(0.184)</td></tr><td colspan=\"4\" style=\"border-bottom: 1px solid black\"></td></tr><tr><td style=\"text-align: left\">Observations</td><td>166</td><td>166</td><td>166</td></tr><tr><td style=\"text-align: left\">R<sup>2</sup></td><td>0.005</td><td>0.008</td><td>0.012</td></tr><tr><td style=\"text-align: left\">Adjusted R<sup>2</sup></td><td>-0.001</td><td>-0.004</td><td>-0.006</td></tr><tr><td style=\"text-align: left\">Residual Std. Error</td><td>0.068 (df=164)</td><td>0.068 (df=163)</td><td>0.068 (df=162)</td></tr><tr><td style=\"text-align: left\">F Statistic</td><td>0.898<sup></sup> (df=1; 164)</td><td>0.698<sup></sup> (df=2; 163)</td><td>0.649<sup></sup> (df=3; 162)</td></tr><tr><td colspan=\"4\" style=\"border-bottom: 1px solid black\"></td></tr><tr><td style=\"text-align: left\">Note:</td>\n",
       " <td colspan=\"3\" style=\"text-align: right\">\n",
       "  <sup>*</sup>p&lt;0.1;\n",
       "  <sup>**</sup>p&lt;0.05;\n",
       "  <sup>***</sup>p&lt;0.01\n",
       " </td></tr></table>"
      ],
      "text/plain": [
       "<stargazer.stargazer.Stargazer at 0x2170f78fe50>"
      ]
     },
     "execution_count": 31,
     "metadata": {},
     "output_type": "execute_result"
    }
   ],
   "source": [
    "stargazer"
   ]
  },
  {
   "cell_type": "code",
   "execution_count": 32,
   "id": "3efdff0d",
   "metadata": {},
   "outputs": [],
   "source": [
    "file_name = \"test.txt\" #Include directory path if needed\n",
    "tex_file = open(file_name, \"w\") #This will overwrite an existing file\n",
    "tex_file.write(stargazer.render_latex())\n",
    "tex_file.close()"
   ]
  },
  {
   "cell_type": "code",
   "execution_count": 33,
   "id": "6db74589",
   "metadata": {},
   "outputs": [
    {
     "name": "stdout",
     "output_type": "stream",
     "text": [
      "\\begin{table}[!htbp] \\centering\n",
      "\\begin{tabular}{@{\\extracolsep{5pt}}lccc}\n",
      "\\\\[-1.8ex]\\hline\n",
      "\\hline \\\\[-1.8ex]\n",
      "& \\multicolumn{3}{c}{\\textit{Dependent variable:}} \\\n",
      "\\cr \\cline{3-4}\n",
      "\\\\[-1.8ex] & (1) & (2) & (3) \\\\\n",
      "\\hline \\\\[-1.8ex]\n",
      " Mkt-RF & 0.107$^{}$ & 0.142$^{}$ & 0.154$^{}$ \\\\\n",
      "  & (0.113) & (0.123) & (0.125) \\\\\n",
      " SMB & & -0.154$^{}$ & -0.100$^{}$ \\\\\n",
      "  & & (0.217) & (0.229) \\\\\n",
      " HML & & & -0.137$^{}$ \\\\\n",
      "  & & & (0.184) \\\\\n",
      "\\hline \\\\[-1.8ex]\n",
      " Observations & 166 & 166 & 166 \\\\\n",
      " $R^2$ & 0.005 & 0.008 & 0.012 \\\\\n",
      " Adjusted $R^2$ & -0.001 & -0.004 & -0.006 \\\\\n",
      " Residual Std. Error & 0.068(df = 164) & 0.068(df = 163) & 0.068(df = 162)  \\\\\n",
      " F Statistic & 0.898$^{}$ (df = 1.0; 164.0) & 0.698$^{}$ (df = 2.0; 163.0) & 0.649$^{}$ (df = 3.0; 162.0) \\\\\n",
      "\\hline\n",
      "\\hline \\\\[-1.8ex]\n",
      "\\textit{Note:} & \\multicolumn{3}{r}{$^{*}$p$<$0.1; $^{**}$p$<$0.05; $^{***}$p$<$0.01} \\\\\n",
      "\\end{tabular}\n",
      "\\end{table}\n"
     ]
    }
   ],
   "source": [
    "print(stargazer.render_latex())"
   ]
  },
  {
   "cell_type": "code",
   "execution_count": 44,
   "id": "cbce2101",
   "metadata": {},
   "outputs": [],
   "source": [
    "stargazer_html = stargazer.render_html()"
   ]
  },
  {
   "cell_type": "code",
   "execution_count": 45,
   "id": "dfd0fb11",
   "metadata": {},
   "outputs": [],
   "source": [
    "# html_file = open(\"stargazer.html\", \"w\")\n",
    "# html_file.write(stargazer_html)\n",
    "# html_file.close()"
   ]
  },
  {
   "cell_type": "code",
   "execution_count": 46,
   "id": "e6f297bc",
   "metadata": {},
   "outputs": [],
   "source": [
    "# from html2image import Html2Image\n",
    "# hti = Html2Image()"
   ]
  },
  {
   "cell_type": "code",
   "execution_count": 47,
   "id": "2911f367",
   "metadata": {},
   "outputs": [
    {
     "data": {
      "text/plain": [
       "['C:\\\\Users\\\\Mathiass\\\\Documents\\\\Projects\\\\master-thesis\\\\notebooks\\\\red_page.png']"
      ]
     },
     "execution_count": 47,
     "metadata": {},
     "output_type": "execute_result"
    }
   ],
   "source": [
    "# # html = \"\"\"<h1> An interesting title </h1> This page will be red\"\"\"\n",
    "# css = \"body {background: white;}\"\n",
    "\n",
    "# hti.screenshot(html_str=stargazer_html, css_str=css, save_as='red_page.png')"
   ]
  },
  {
   "cell_type": "code",
   "execution_count": null,
   "id": "ee8cbe50",
   "metadata": {},
   "outputs": [],
   "source": []
  }
 ],
 "metadata": {
  "kernelspec": {
   "display_name": "Python 3 (ipykernel)",
   "language": "python",
   "name": "python3"
  },
  "language_info": {
   "codemirror_mode": {
    "name": "ipython",
    "version": 3
   },
   "file_extension": ".py",
   "mimetype": "text/x-python",
   "name": "python",
   "nbconvert_exporter": "python",
   "pygments_lexer": "ipython3",
   "version": "3.8.5"
  }
 },
 "nbformat": 4,
 "nbformat_minor": 5
}
