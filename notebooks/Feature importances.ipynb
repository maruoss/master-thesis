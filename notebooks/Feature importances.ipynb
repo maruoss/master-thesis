{
 "cells": [
  {
   "cell_type": "code",
   "execution_count": 1,
   "id": "a341c28b",
   "metadata": {},
   "outputs": [],
   "source": [
    "import pandas as pd\n",
    "from pathlib import Path\n",
    "import numpy as np"
   ]
  },
  {
   "cell_type": "code",
   "execution_count": null,
   "id": "70d6940b",
   "metadata": {},
   "outputs": [],
   "source": [
    "med_lin = pd.read_csv(r\"C:\\Users\\Mathiass\\Documents\\Projects\\master-thesis\\logs\\production\\medium\\lin\\20220922192602\\results\\importance_full\\balaccmeandiff_sorted.csv\")\n",
    "med_nn = pd.read_csv(r\"C:\\Users\\Mathiass\\Documents\\Projects\\master-thesis\\logs\\production\\medium\\nn\\20220920100736\\results\\importance_full\\balaccmeandiff_sorted_nn.csv\")\n",
    "med_rf = pd.read_csv(r\"C:\\Users\\Mathiass\\Documents\\Projects\\master-thesis\\logs\\production\\medium\\rf\\20220923123700\\results\\importance_full\\balaccmeandiff_sorted.csv\")\n",
    "med_transf = pd.read_csv(r\"C:\\Users\\Mathiass\\Documents\\Projects\\master-thesis\\logs\\production\\medium\\transformer\\20220923074741\\results\\importance_full\\balaccmeandiff_sorted.csv\")\n",
    "med_xgb = pd.read_csv(r\"C:\\Users\\Mathiass\\Documents\\Projects\\master-thesis\\logs\\production\\medium\\xgb\\20220924104656\\results\\importance_full\\balaccmeandiff_sorted.csv\")"
   ]
  },
  {
   "cell_type": "code",
   "execution_count": null,
   "id": "161582d2",
   "metadata": {},
   "outputs": [],
   "source": [
    "sm_lin = pd.read_csv(r\"C:\\Users\\Mathiass\\Documents\\Projects\\master-thesis\\logs\\production\\small\\lin\\20220919194922\\results\\importance_full\\balaccmeandiff_sorted.csv\")\n",
    "sm_nn = pd.read_csv(r\"C:\\Users\\Mathiass\\Documents\\Projects\\master-thesis\\logs\\production\\small\\nn\\20220908133630\\results\\importance_full\\balaccmeandiff_sorted.csv\")\n",
    "sm_rf = pd.read_csv(r\"C:\\Users\\Mathiass\\Documents\\Projects\\master-thesis\\logs\\production\\small\\rf\\20220919213409\\results\\importance_full\\balaccmeandiff_sorted.csv\")\n",
    "sm_transf = pd.read_csv(r\"C:\\Users\\Mathiass\\Documents\\Projects\\master-thesis\\logs\\production\\small\\transformer\\20220915074003\\results\\importance_full\\balaccmeandiff_sorted.csv\")\n",
    "sm_xgb = pd.read_csv(r\"C:\\Users\\Mathiass\\Documents\\Projects\\master-thesis\\logs\\production\\small\\xgb\\20220919200811\\results\\importance_full\\balaccmeandiff_sorted.csv\")\n"
   ]
  },
  {
   "cell_type": "code",
   "execution_count": null,
   "id": "a58a5690",
   "metadata": {},
   "outputs": [],
   "source": [
    "order = [\"lin\", \"nn\", \"rf\", \"transformer\", \"xgb\"]\n",
    "med_list = [med_lin, med_nn, med_rf, med_transf, med_xgb]\n",
    "sm_list = [sm_lin, sm_nn, sm_rf, sm_transf, sm_xgb]"
   ]
  },
  {
   "cell_type": "markdown",
   "id": "1dbb6d2c",
   "metadata": {},
   "source": [
    "### MEDIUM TOP 10 FEAT. IMPORTANCES"
   ]
  },
  {
   "cell_type": "code",
   "execution_count": null,
   "id": "aff5b813",
   "metadata": {},
   "outputs": [],
   "source": [
    "for i, m in enumerate(med_list):\n",
    "    print(order[i])\n",
    "    print(m.iloc[:10, [0, 1, 3]])"
   ]
  },
  {
   "cell_type": "markdown",
   "id": "170d9f60",
   "metadata": {},
   "source": [
    "### Small Top 10 Feature importances\n"
   ]
  },
  {
   "cell_type": "code",
   "execution_count": null,
   "id": "d51d01c4",
   "metadata": {},
   "outputs": [],
   "source": [
    "print(len(list(pd.read_parquet(r\"C:\\Users\\Mathiass\\Documents\\Projects\\master-thesis\\data\\final_df_call_cao_small.parquet\").columns)))\n",
    "list(pd.read_parquet(r\"C:\\Users\\Mathiass\\Documents\\Projects\\master-thesis\\data\\final_df_call_cao_small.parquet\").columns)"
   ]
  },
  {
   "cell_type": "code",
   "execution_count": null,
   "id": "0531f2c2",
   "metadata": {},
   "outputs": [],
   "source": [
    "for i, m in enumerate(sm_list):\n",
    "    print(order[i])\n",
    "    print(m.iloc[:15, [0, 1, 3]])"
   ]
  },
  {
   "cell_type": "code",
   "execution_count": null,
   "id": "946c3604",
   "metadata": {},
   "outputs": [],
   "source": []
  },
  {
   "cell_type": "code",
   "execution_count": null,
   "id": "baa8dc49",
   "metadata": {},
   "outputs": [],
   "source": []
  },
  {
   "cell_type": "code",
   "execution_count": null,
   "id": "d8d74d5e",
   "metadata": {},
   "outputs": [],
   "source": []
  },
  {
   "cell_type": "code",
   "execution_count": null,
   "id": "ebdc1976",
   "metadata": {},
   "outputs": [],
   "source": []
  }
 ],
 "metadata": {
  "kernelspec": {
   "display_name": "Python 3 (ipykernel)",
   "language": "python",
   "name": "python3"
  },
  "language_info": {
   "codemirror_mode": {
    "name": "ipython",
    "version": 3
   },
   "file_extension": ".py",
   "mimetype": "text/x-python",
   "name": "python",
   "nbconvert_exporter": "python",
   "pygments_lexer": "ipython3",
   "version": "3.8.5"
  }
 },
 "nbformat": 4,
 "nbformat_minor": 5
}
