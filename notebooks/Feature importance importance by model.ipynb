{
 "cells": [
  {
   "cell_type": "code",
   "execution_count": 1,
   "id": "86e73829",
   "metadata": {},
   "outputs": [],
   "source": [
    "import pandas as pd\n",
    "import numpy as np\n",
    "from pathlib import Path"
   ]
  },
  {
   "cell_type": "code",
   "execution_count": 2,
   "id": "6828ccf6",
   "metadata": {},
   "outputs": [],
   "source": [
    "def get_exp_path(expid):\n",
    "    expid = str(expid)\n",
    "    logs_folder = Path(r\"C:\\Users\\Mathiass\\Documents\\Projects\\master-thesis\")/\"logs\"\n",
    "    matches = Path(logs_folder).rglob(expid) #Get folder in logs_folder that matches expid\n",
    "    matches_list = list(matches)\n",
    "    if not len(matches_list) == 1:\n",
    "        raise ValueError(f\"There exists none or more than 1 folder with \"\n",
    "                            f\"experiment id {expid} in the {logs_folder.name} \"\n",
    "                            \"directory!\")\n",
    "    exp_dir = matches_list[0]\n",
    "    return exp_dir"
   ]
  },
  {
   "cell_type": "code",
   "execution_count": 3,
   "id": "2d233a5a",
   "metadata": {},
   "outputs": [],
   "source": [
    "def load_df(expid_path, metric):\n",
    "    if metric == \"balacc\":\n",
    "        imp_path = expid_path/\"results/importance_full/balaccmeandiff_sorted.csv\"\n",
    "        print(\"Reading\", imp_path.name, \"...\")\n",
    "        imp_df = pd.read_csv(imp_path, index_col=0, header=1, usecols=[\"Unnamed: 0\", \"MeanDiffOrigPerm\"])\n",
    "    elif metric == \"return\":\n",
    "        imp_path = expid_path/\"results/importance_full/meanofmeandiffpf_sorted.csv\"\n",
    "        print(\"Reading\", imp_path.name, \"...\")\n",
    "        imp_df = pd.read_csv(imp_path, index_col=0, header=1, usecols=[\"Unnamed: 0\", \"MomDiff\"])\n",
    "    else:\n",
    "        raise NotImplementedError(\"Please specify a valid metric.\")\n",
    "    return imp_df\n",
    "    "
   ]
  },
  {
   "cell_type": "code",
   "execution_count": 4,
   "id": "f64ae3ed",
   "metadata": {},
   "outputs": [],
   "source": [
    "def get_all_dfs(expid_ls, metric):\n",
    "    ls_df = []\n",
    "    col_names = {\"lin\": \"LR\", \"rf\": \"RF\", \"xgb\": \"GBT\", \"nn\": \"NN\", \"transformer\": \"TF\"}\n",
    "    for expid in expid_ls:\n",
    "        p = get_exp_path(expid)\n",
    "        print(\"Model:\", p.parent.parent.name,\",\", p.parent.name)\n",
    "        df = load_df(p, metric=metric )\n",
    "        df = df / df.sum() #normalize\n",
    "        df.columns = [p.parent.name]\n",
    "        df = df.rename(columns=col_names)\n",
    "        ls_df.append(df)\n",
    "    return ls_df"
   ]
  },
  {
   "cell_type": "code",
   "execution_count": 5,
   "id": "ddf88ff5",
   "metadata": {},
   "outputs": [],
   "source": [
    "def get_feat_importances(features, metric):\n",
    "    feature_expid_map = {\"option\": [20220919194922, 20220919213409, 20220919200811, 20220908133630, 20220915074003],\n",
    "                        \"option+stock\": [20220922192602, 20220923123700, 20220924104656, 20220920100736, 20220923074741]}\n",
    "    dfs = get_all_dfs(feature_expid_map[features], metric=metric)\n",
    "    return dfs #list"
   ]
  },
  {
   "cell_type": "markdown",
   "id": "859aba0c",
   "metadata": {},
   "source": [
    "### 1. Determine features"
   ]
  },
  {
   "cell_type": "code",
   "execution_count": 6,
   "id": "6dd75d8a",
   "metadata": {},
   "outputs": [],
   "source": [
    "features = \"option+stock\""
   ]
  },
  {
   "cell_type": "markdown",
   "id": "02a01426",
   "metadata": {},
   "source": [
    "### 2. Define metric:"
   ]
  },
  {
   "cell_type": "code",
   "execution_count": 7,
   "id": "bd71ebe6",
   "metadata": {},
   "outputs": [],
   "source": [
    "metric = \"balacc\""
   ]
  },
  {
   "cell_type": "markdown",
   "id": "e5e5c74e",
   "metadata": {},
   "source": [
    "### 3. Produce dataframe"
   ]
  },
  {
   "cell_type": "code",
   "execution_count": 8,
   "id": "93e48666",
   "metadata": {},
   "outputs": [
    {
     "name": "stdout",
     "output_type": "stream",
     "text": [
      "Model: medium , lin\n",
      "Reading balaccmeandiff_sorted.csv ...\n",
      "Model: medium , rf\n",
      "Reading balaccmeandiff_sorted.csv ...\n",
      "Model: medium , xgb\n",
      "Reading balaccmeandiff_sorted.csv ...\n",
      "Model: medium , nn\n",
      "Reading balaccmeandiff_sorted.csv ...\n",
      "Model: medium , transformer\n",
      "Reading balaccmeandiff_sorted.csv ...\n"
     ]
    }
   ],
   "source": [
    "ls_df = get_feat_importances(features=features, metric=metric)"
   ]
  },
  {
   "cell_type": "code",
   "execution_count": null,
   "id": "536c89c0",
   "metadata": {},
   "outputs": [],
   "source": []
  },
  {
   "cell_type": "code",
   "execution_count": 9,
   "id": "5218a206",
   "metadata": {},
   "outputs": [],
   "source": [
    "import matplotlib.pyplot as plt\n",
    "import seaborn as sns\n",
    "sns.set()"
   ]
  },
  {
   "cell_type": "code",
   "execution_count": 10,
   "id": "553d153c",
   "metadata": {},
   "outputs": [
    {
     "data": {
      "text/plain": [
       "<Figure size 432x288 with 0 Axes>"
      ]
     },
     "metadata": {},
     "output_type": "display_data"
    }
   ],
   "source": [
    "plt.tight_layout()"
   ]
  },
  {
   "cell_type": "code",
   "execution_count": 11,
   "id": "9792dd9f",
   "metadata": {
    "scrolled": true
   },
   "outputs": [
    {
     "data": {
      "text/plain": [
       "['boxplot.bootstrap',\n",
       " 'boxplot.boxprops.color',\n",
       " 'boxplot.boxprops.linestyle',\n",
       " 'boxplot.boxprops.linewidth',\n",
       " 'boxplot.capprops.color',\n",
       " 'boxplot.capprops.linestyle',\n",
       " 'boxplot.capprops.linewidth',\n",
       " 'boxplot.flierprops.color',\n",
       " 'boxplot.flierprops.linestyle',\n",
       " 'boxplot.flierprops.linewidth',\n",
       " 'boxplot.flierprops.marker',\n",
       " 'boxplot.flierprops.markeredgecolor',\n",
       " 'boxplot.flierprops.markeredgewidth',\n",
       " 'boxplot.flierprops.markerfacecolor',\n",
       " 'boxplot.flierprops.markersize',\n",
       " 'boxplot.meanline',\n",
       " 'boxplot.meanprops.color',\n",
       " 'boxplot.meanprops.linestyle',\n",
       " 'boxplot.meanprops.linewidth',\n",
       " 'boxplot.meanprops.marker',\n",
       " 'boxplot.meanprops.markeredgecolor',\n",
       " 'boxplot.meanprops.markerfacecolor',\n",
       " 'boxplot.meanprops.markersize',\n",
       " 'boxplot.medianprops.color',\n",
       " 'boxplot.medianprops.linestyle',\n",
       " 'boxplot.medianprops.linewidth',\n",
       " 'boxplot.notch',\n",
       " 'boxplot.patchartist',\n",
       " 'boxplot.showbox',\n",
       " 'boxplot.showcaps',\n",
       " 'boxplot.showfliers',\n",
       " 'boxplot.showmeans',\n",
       " 'boxplot.vertical',\n",
       " 'boxplot.whiskerprops.color',\n",
       " 'boxplot.whiskerprops.linestyle',\n",
       " 'boxplot.whiskerprops.linewidth',\n",
       " 'boxplot.whiskers',\n",
       " 'legend.fancybox',\n",
       " 'savefig.bbox']"
      ]
     },
     "execution_count": 11,
     "metadata": {},
     "output_type": "execute_result"
    }
   ],
   "source": [
    "[i for i in list(plt.rcParams.keys()) if \"box\" in i]"
   ]
  },
  {
   "cell_type": "markdown",
   "id": "d641c689",
   "metadata": {},
   "source": [
    "### Write axes labels in latex font"
   ]
  },
  {
   "cell_type": "code",
   "execution_count": 12,
   "id": "2bc062de",
   "metadata": {
    "scrolled": false
   },
   "outputs": [],
   "source": [
    "#Latex Font? #xtick labelsize?\n",
    "plt.rcParams.update({\n",
    "    \"axes.titlesize\": 16,\n",
    "    \"xtick.labelsize\": 16,\n",
    "    \"ytick.labelsize\": 16,\n",
    "    \"text.usetex\": True,\n",
    "    \"font.family\": \"Computer Modern\",\n",
    "})"
   ]
  },
  {
   "cell_type": "markdown",
   "id": "27132024",
   "metadata": {},
   "source": [
    "### Use sns colorblind palette"
   ]
  },
  {
   "cell_type": "code",
   "execution_count": 13,
   "id": "88c1d49c",
   "metadata": {},
   "outputs": [
    {
     "data": {
      "text/html": [
       "<svg  width=\"550\" height=\"55\"><rect x=\"0\" y=\"0\" width=\"55\" height=\"55\" style=\"fill:#0173b2;stroke-width:2;stroke:rgb(255,255,255)\"/><rect x=\"55\" y=\"0\" width=\"55\" height=\"55\" style=\"fill:#de8f05;stroke-width:2;stroke:rgb(255,255,255)\"/><rect x=\"110\" y=\"0\" width=\"55\" height=\"55\" style=\"fill:#029e73;stroke-width:2;stroke:rgb(255,255,255)\"/><rect x=\"165\" y=\"0\" width=\"55\" height=\"55\" style=\"fill:#d55e00;stroke-width:2;stroke:rgb(255,255,255)\"/><rect x=\"220\" y=\"0\" width=\"55\" height=\"55\" style=\"fill:#cc78bc;stroke-width:2;stroke:rgb(255,255,255)\"/><rect x=\"275\" y=\"0\" width=\"55\" height=\"55\" style=\"fill:#ca9161;stroke-width:2;stroke:rgb(255,255,255)\"/><rect x=\"330\" y=\"0\" width=\"55\" height=\"55\" style=\"fill:#fbafe4;stroke-width:2;stroke:rgb(255,255,255)\"/><rect x=\"385\" y=\"0\" width=\"55\" height=\"55\" style=\"fill:#949494;stroke-width:2;stroke:rgb(255,255,255)\"/><rect x=\"440\" y=\"0\" width=\"55\" height=\"55\" style=\"fill:#ece133;stroke-width:2;stroke:rgb(255,255,255)\"/><rect x=\"495\" y=\"0\" width=\"55\" height=\"55\" style=\"fill:#56b4e9;stroke-width:2;stroke:rgb(255,255,255)\"/></svg>"
      ],
      "text/plain": [
       "[(0.00392156862745098, 0.45098039215686275, 0.6980392156862745),\n",
       " (0.8705882352941177, 0.5607843137254902, 0.0196078431372549),\n",
       " (0.00784313725490196, 0.6196078431372549, 0.45098039215686275),\n",
       " (0.8352941176470589, 0.3686274509803922, 0.0),\n",
       " (0.8, 0.47058823529411764, 0.7372549019607844),\n",
       " (0.792156862745098, 0.5686274509803921, 0.3803921568627451),\n",
       " (0.984313725490196, 0.6862745098039216, 0.8941176470588236),\n",
       " (0.5803921568627451, 0.5803921568627451, 0.5803921568627451),\n",
       " (0.9254901960784314, 0.8823529411764706, 0.2),\n",
       " (0.33725490196078434, 0.7058823529411765, 0.9137254901960784)]"
      ]
     },
     "execution_count": 13,
     "metadata": {},
     "output_type": "execute_result"
    }
   ],
   "source": [
    "sns.color_palette(\"colorblind\")"
   ]
  },
  {
   "cell_type": "code",
   "execution_count": 14,
   "id": "d6583450",
   "metadata": {},
   "outputs": [
    {
     "data": {
      "text/plain": [
       "['#0173B2',\n",
       " '#DE8F05',\n",
       " '#029E73',\n",
       " '#D55E00',\n",
       " '#CC78BC',\n",
       " '#CA9161',\n",
       " '#FBAFE4',\n",
       " '#949494',\n",
       " '#ECE133',\n",
       " '#56B4E9']"
      ]
     },
     "execution_count": 14,
     "metadata": {},
     "output_type": "execute_result"
    }
   ],
   "source": [
    "sns.color_palette(\"colorblind\", as_cmap=True)"
   ]
  },
  {
   "cell_type": "code",
   "execution_count": 18,
   "id": "d435d835",
   "metadata": {
    "scrolled": false
   },
   "outputs": [
    {
     "data": {
      "image/png": "[encoded data removed]",
      "text/plain": [
       "<Figure size 792x864 with 5 Axes>"
      ]
     },
     "metadata": {},
     "output_type": "display_data"
    }
   ],
   "source": [
    "# Plot feature importances\n",
    "fig, axes = plt.subplots(6, 2, figsize=(11,12))\n",
    "\n",
    "ax1 = plt.subplot2grid(shape=(3,4), loc=(0,0), colspan=2)\n",
    "ax2 = plt.subplot2grid((3,4), (0,2), colspan=2)\n",
    "ax3 = plt.subplot2grid((3,4), (1,0), colspan=2)\n",
    "ax4 = plt.subplot2grid((3,4), (1,2), colspan=2)\n",
    "ax5 = plt.subplot2grid((3,4), (2,1), colspan=2)\n",
    "\n",
    "ls_ax = [ax1, ax2, ax3, ax4, ax5]\n",
    "\n",
    "opt_features = [\"ba_spread_option\", \"days_to_exp\", \"delta\", \"gamma\", \"impl_volatility\", \"mid_price\", \"moneyness\", \n",
    "                \"open_interest\", \"theta\", \"vega\", \"volume\"]\n",
    "\n",
    "top = 20\n",
    "\n",
    "for i, df in enumerate(ls_df):\n",
    "    df_top = df.iloc[:top][::-1]\n",
    "    m = df_top.index.isin(opt_features).reshape(-1, 1)    \n",
    "    ax = df_top.plot(kind='barh', color=\"#DE8F05\", ax=ls_ax[i], title=list(df.columns)[0], legend=False)\n",
    "#     plt.setp(ax.get_yticklabels(), bbox=dict(boxstyle='square, pad=0', fc='#ED7D31')) # Color stock features\n",
    "    df_top.mask(m).plot(kind='barh', color='#029E73', ax=ax, legend=False)\n",
    "#     plt.setp(ax.get_yticklabels(), bbox=dict(boxstyle='square, pad=-0.1', fc=\"#029E73\", alpha=0.7)) # Color stock+option features\n",
    "#     ytick_option = [i for i in ax.get_yticklabels() if i.get_text() in opt_features]\n",
    "#     plt.setp(ytick_option, bbox=dict(boxstyle='square, pad=-0.1', fc=\"#DE8F05\", alpha=0.7)) # Color option features\n",
    "    \n",
    "\n",
    "plt.tight_layout()\n",
    "# plt.savefig('Feature_Importances4.png', dpi=800)"
   ]
  },
  {
   "cell_type": "code",
   "execution_count": null,
   "id": "97bc55b4",
   "metadata": {},
   "outputs": [],
   "source": [
    "df_top[::-1]"
   ]
  },
  {
   "cell_type": "code",
   "execution_count": null,
   "id": "a63ebe39",
   "metadata": {},
   "outputs": [],
   "source": []
  },
  {
   "cell_type": "markdown",
   "id": "c05e7c41",
   "metadata": {},
   "source": [
    "## Example"
   ]
  },
  {
   "cell_type": "code",
   "execution_count": null,
   "id": "c439aaa7",
   "metadata": {
    "scrolled": true
   },
   "outputs": [],
   "source": [
    "ex = load_df(get_exp_path(20220924104656), \"balacc\")"
   ]
  },
  {
   "cell_type": "code",
   "execution_count": null,
   "id": "3350f6e9",
   "metadata": {},
   "outputs": [],
   "source": [
    "ex = ex / ex.sum()"
   ]
  },
  {
   "cell_type": "code",
   "execution_count": null,
   "id": "2b53f741",
   "metadata": {},
   "outputs": [],
   "source": [
    "opt_features = [\"ba_spread_option\", \"days_to_exp\", \"delta\", \"gamma\", \"impl_volatility\", \"mid_price\", \"moneyness\", \"open_interest\", \"theta\", \"vega\", \"volume\"]"
   ]
  },
  {
   "cell_type": "code",
   "execution_count": null,
   "id": "7e09e5eb",
   "metadata": {},
   "outputs": [],
   "source": [
    "m = ex.iloc[:20].index.isin(opt_features).reshape(-1, 1)"
   ]
  },
  {
   "cell_type": "code",
   "execution_count": null,
   "id": "b68194ef",
   "metadata": {},
   "outputs": [],
   "source": []
  },
  {
   "cell_type": "code",
   "execution_count": null,
   "id": "fb0ebe7b",
   "metadata": {},
   "outputs": [],
   "source": []
  },
  {
   "cell_type": "code",
   "execution_count": null,
   "id": "25098031",
   "metadata": {},
   "outputs": [],
   "source": [
    "ax = ex.iloc[:20].mask(~m).plot(kind='barh', color=\"#4472C4\", legend=False)\n",
    "ex.iloc[:20].mask(m).plot(kind='barh', color='#ED7D31', ax=ax, legend=False)"
   ]
  },
  {
   "cell_type": "code",
   "execution_count": null,
   "id": "fef43351",
   "metadata": {},
   "outputs": [],
   "source": [
    "ex.iloc[:30]"
   ]
  },
  {
   "cell_type": "code",
   "execution_count": null,
   "id": "d9bd5fd4",
   "metadata": {},
   "outputs": [],
   "source": []
  },
  {
   "cell_type": "code",
   "execution_count": null,
   "id": "dd176b77",
   "metadata": {},
   "outputs": [],
   "source": []
  },
  {
   "cell_type": "code",
   "execution_count": null,
   "id": "4cef49ff",
   "metadata": {},
   "outputs": [],
   "source": []
  },
  {
   "cell_type": "code",
   "execution_count": null,
   "id": "9770f992",
   "metadata": {},
   "outputs": [],
   "source": []
  },
  {
   "cell_type": "code",
   "execution_count": null,
   "id": "221fcadb",
   "metadata": {},
   "outputs": [],
   "source": []
  }
 ],
 "metadata": {
  "kernelspec": {
   "display_name": "Python 3 (ipykernel)",
   "language": "python",
   "name": "python3"
  },
  "language_info": {
   "codemirror_mode": {
    "name": "ipython",
    "version": 3
   },
   "file_extension": ".py",
   "mimetype": "text/x-python",
   "name": "python",
   "nbconvert_exporter": "python",
   "pygments_lexer": "ipython3",
   "version": "3.8.5"
  }
 },
 "nbformat": 4,
 "nbformat_minor": 5
}
