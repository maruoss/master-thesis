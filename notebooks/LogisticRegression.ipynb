{
 "cells": [
  {
   "cell_type": "code",
   "execution_count": 1,
   "id": "66bf4a8c",
   "metadata": {},
   "outputs": [],
   "source": [
    "import pandas as pd"
   ]
  },
  {
   "cell_type": "code",
   "execution_count": 2,
   "id": "ae72768a",
   "metadata": {},
   "outputs": [],
   "source": [
    "import numpy as np\n",
    "import pandas as pd\n",
    "import pathlib\n",
    "import time\n",
    "import matplotlib.pyplot as plt"
   ]
  },
  {
   "cell_type": "code",
   "execution_count": null,
   "id": "005010cf",
   "metadata": {},
   "outputs": [],
   "source": []
  },
  {
   "cell_type": "code",
   "execution_count": null,
   "id": "1faa3e19",
   "metadata": {},
   "outputs": [],
   "source": []
  },
  {
   "cell_type": "code",
   "execution_count": null,
   "id": "4e6651e2",
   "metadata": {},
   "outputs": [],
   "source": []
  },
  {
   "cell_type": "code",
   "execution_count": null,
   "id": "583368fb",
   "metadata": {},
   "outputs": [],
   "source": []
  },
  {
   "cell_type": "code",
   "execution_count": 3,
   "id": "6b61f3f9",
   "metadata": {
    "scrolled": true
   },
   "outputs": [
    {
     "data": {
      "text/plain": [
       "'3.1235'"
      ]
     },
     "execution_count": 3,
     "metadata": {},
     "output_type": "execute_result"
    }
   ],
   "source": [
    "'{{:.{prec}f}}'.format(prec=4).format(3.123456)"
   ]
  },
  {
   "cell_type": "code",
   "execution_count": 4,
   "id": "5f20e850",
   "metadata": {},
   "outputs": [
    {
     "ename": "SyntaxError",
     "evalue": "f-string: single '}' is not allowed (144642880.py, line 3)",
     "output_type": "error",
     "traceback": [
      "\u001b[1;36m  Input \u001b[1;32mIn [4]\u001b[1;36m\u001b[0m\n\u001b[1;33m    f'{{value}:.{prec}}'\u001b[0m\n\u001b[1;37m    ^\u001b[0m\n\u001b[1;31mSyntaxError\u001b[0m\u001b[1;31m:\u001b[0m f-string: single '}' is not allowed\n"
     ]
    }
   ],
   "source": [
    "prec=3\n",
    "value = 3.123456\n",
    "f'{{value}:.{prec}}'"
   ]
  },
  {
   "cell_type": "code",
   "execution_count": null,
   "id": "c03e9683",
   "metadata": {},
   "outputs": [],
   "source": [
    "str(1)"
   ]
  },
  {
   "cell_type": "code",
   "execution_count": null,
   "id": "b280f7cf",
   "metadata": {},
   "outputs": [],
   "source": [
    "for i in range(1, 14):\n",
    "    print(i)"
   ]
  },
  {
   "cell_type": "code",
   "execution_count": null,
   "id": "3dd19b99",
   "metadata": {},
   "outputs": [],
   "source": [
    "f\"t={str(1)}\""
   ]
  },
  {
   "cell_type": "code",
   "execution_count": null,
   "id": "bf3964c6",
   "metadata": {},
   "outputs": [],
   "source": []
  },
  {
   "cell_type": "code",
   "execution_count": null,
   "id": "2cc603b3",
   "metadata": {},
   "outputs": [],
   "source": [
    "'{{:.{prec}f}}'.format(prec=3)"
   ]
  },
  {
   "cell_type": "code",
   "execution_count": null,
   "id": "83a6bf79",
   "metadata": {},
   "outputs": [],
   "source": [
    "\"{:.3f}\".format(3.333333)"
   ]
  },
  {
   "cell_type": "code",
   "execution_count": null,
   "id": "faae1513",
   "metadata": {},
   "outputs": [],
   "source": [
    "f\"{\\\"Eric Idle\\\"}\""
   ]
  },
  {
   "cell_type": "code",
   "execution_count": null,
   "id": "b4b65a81",
   "metadata": {},
   "outputs": [],
   "source": []
  },
  {
   "cell_type": "code",
   "execution_count": null,
   "id": "151875bd",
   "metadata": {},
   "outputs": [],
   "source": [
    "a = {\"a\": \"albert\", \"b\": \"boris\", \"c\": \"christian\"}"
   ]
  },
  {
   "cell_type": "code",
   "execution_count": null,
   "id": "300f89ad",
   "metadata": {},
   "outputs": [],
   "source": [
    "def f(x, y, z):\n",
    "    return x + y + z"
   ]
  },
  {
   "cell_type": "code",
   "execution_count": null,
   "id": "1a86bfcf",
   "metadata": {},
   "outputs": [],
   "source": [
    "f(a)"
   ]
  },
  {
   "cell_type": "code",
   "execution_count": null,
   "id": "a3d94e75",
   "metadata": {},
   "outputs": [],
   "source": []
  },
  {
   "cell_type": "code",
   "execution_count": null,
   "id": "fd1f234d",
   "metadata": {},
   "outputs": [],
   "source": [
    "b = a.copy()"
   ]
  },
  {
   "cell_type": "code",
   "execution_count": null,
   "id": "9606d999",
   "metadata": {},
   "outputs": [],
   "source": [
    "b[\"4\"] = \"doris\""
   ]
  },
  {
   "cell_type": "code",
   "execution_count": null,
   "id": "a3e77a32",
   "metadata": {},
   "outputs": [],
   "source": [
    "a = [\"one\", \"two\", \"three\"]"
   ]
  },
  {
   "cell_type": "code",
   "execution_count": null,
   "id": "551c880d",
   "metadata": {},
   "outputs": [],
   "source": [
    "a.append(\"four\")"
   ]
  },
  {
   "cell_type": "code",
   "execution_count": null,
   "id": "935c8c24",
   "metadata": {},
   "outputs": [],
   "source": [
    "test = (\"a\", \"b\")"
   ]
  },
  {
   "cell_type": "code",
   "execution_count": null,
   "id": "e7c9b7a6",
   "metadata": {},
   "outputs": [],
   "source": [
    "test = [\"abc\", \"b\", \"c\"]"
   ]
  },
  {
   "cell_type": "code",
   "execution_count": null,
   "id": "1a3aadbd",
   "metadata": {},
   "outputs": [],
   "source": [
    "ls = []"
   ]
  },
  {
   "cell_type": "code",
   "execution_count": null,
   "id": "86c5d46d",
   "metadata": {},
   "outputs": [],
   "source": [
    "ls += test"
   ]
  },
  {
   "cell_type": "code",
   "execution_count": null,
   "id": "f3efde09",
   "metadata": {},
   "outputs": [],
   "source": [
    "ls"
   ]
  },
  {
   "cell_type": "code",
   "execution_count": null,
   "id": "dd17d374",
   "metadata": {},
   "outputs": [],
   "source": []
  },
  {
   "cell_type": "code",
   "execution_count": null,
   "id": "cd3c7f27",
   "metadata": {
    "scrolled": true
   },
   "outputs": [],
   "source": [
    "a, b = *test"
   ]
  },
  {
   "cell_type": "code",
   "execution_count": null,
   "id": "126c69d7",
   "metadata": {},
   "outputs": [],
   "source": []
  },
  {
   "cell_type": "code",
   "execution_count": null,
   "id": "6f13f748",
   "metadata": {},
   "outputs": [],
   "source": [
    "test = pd.DataFrame([a])"
   ]
  },
  {
   "cell_type": "code",
   "execution_count": null,
   "id": "c96ab7ae",
   "metadata": {},
   "outputs": [],
   "source": [
    "test.reindex(columns=[1, 3])"
   ]
  },
  {
   "cell_type": "code",
   "execution_count": null,
   "id": "5fb7e2f0",
   "metadata": {},
   "outputs": [],
   "source": []
  },
  {
   "cell_type": "code",
   "execution_count": null,
   "id": "591dda32",
   "metadata": {},
   "outputs": [],
   "source": []
  },
  {
   "cell_type": "code",
   "execution_count": null,
   "id": "1e2b4a31",
   "metadata": {},
   "outputs": [],
   "source": []
  },
  {
   "cell_type": "code",
   "execution_count": null,
   "id": "cb34db86",
   "metadata": {},
   "outputs": [],
   "source": []
  },
  {
   "cell_type": "code",
   "execution_count": 26,
   "id": "20b7c858",
   "metadata": {},
   "outputs": [],
   "source": [
    "# Set path\n",
    "path = pathlib.Path(r\"C:\\Users\\Mathiass\\OneDrive - Universität Zürich UZH\\Documents\\mt_literature\\data\")"
   ]
  },
  {
   "cell_type": "code",
   "execution_count": 27,
   "id": "ac9d227e",
   "metadata": {},
   "outputs": [],
   "source": [
    "# read dataset\n",
    "data = pd.read_parquet(path/\"final_df_call_cao_small.parquet\")"
   ]
  },
  {
   "cell_type": "code",
   "execution_count": 28,
   "id": "65539e8d",
   "metadata": {},
   "outputs": [],
   "source": [
    "# # # create smaller dataset to parquet\n",
    "# X_1 = data.iloc[:, :19]\n",
    "# X_2 = data[[\"cp_flag_C\", \"cp_flag_P\"]]\n",
    "# y = data[\"option_ret\"]\n",
    "# test = pd.concat([X_1, X_2, y], axis=1)\n",
    "# test.to_parquet(fr\"{path}\\final_df_filledmean_small.parquet\")"
   ]
  },
  {
   "cell_type": "code",
   "execution_count": 29,
   "id": "6a240229",
   "metadata": {},
   "outputs": [
    {
     "ename": "KeyError",
     "evalue": "'best_offer'",
     "output_type": "error",
     "traceback": [
      "\u001b[1;31m---------------------------------------------------------------------------\u001b[0m",
      "\u001b[1;31mKeyError\u001b[0m                                  Traceback (most recent call last)",
      "File \u001b[1;32m~\\Anaconda3\\envs\\masterthesis\\lib\\site-packages\\pandas\\core\\indexes\\base.py:3621\u001b[0m, in \u001b[0;36mIndex.get_loc\u001b[1;34m(self, key, method, tolerance)\u001b[0m\n\u001b[0;32m   3620\u001b[0m \u001b[38;5;28;01mtry\u001b[39;00m:\n\u001b[1;32m-> 3621\u001b[0m     \u001b[38;5;28;01mreturn\u001b[39;00m \u001b[38;5;28;43mself\u001b[39;49m\u001b[38;5;241;43m.\u001b[39;49m\u001b[43m_engine\u001b[49m\u001b[38;5;241;43m.\u001b[39;49m\u001b[43mget_loc\u001b[49m\u001b[43m(\u001b[49m\u001b[43mcasted_key\u001b[49m\u001b[43m)\u001b[49m\n\u001b[0;32m   3622\u001b[0m \u001b[38;5;28;01mexcept\u001b[39;00m \u001b[38;5;167;01mKeyError\u001b[39;00m \u001b[38;5;28;01mas\u001b[39;00m err:\n",
      "File \u001b[1;32m~\\Anaconda3\\envs\\masterthesis\\lib\\site-packages\\pandas\\_libs\\index.pyx:136\u001b[0m, in \u001b[0;36mpandas._libs.index.IndexEngine.get_loc\u001b[1;34m()\u001b[0m\n",
      "File \u001b[1;32m~\\Anaconda3\\envs\\masterthesis\\lib\\site-packages\\pandas\\_libs\\index.pyx:163\u001b[0m, in \u001b[0;36mpandas._libs.index.IndexEngine.get_loc\u001b[1;34m()\u001b[0m\n",
      "File \u001b[1;32mpandas\\_libs\\hashtable_class_helper.pxi:5198\u001b[0m, in \u001b[0;36mpandas._libs.hashtable.PyObjectHashTable.get_item\u001b[1;34m()\u001b[0m\n",
      "File \u001b[1;32mpandas\\_libs\\hashtable_class_helper.pxi:5206\u001b[0m, in \u001b[0;36mpandas._libs.hashtable.PyObjectHashTable.get_item\u001b[1;34m()\u001b[0m\n",
      "\u001b[1;31mKeyError\u001b[0m: 'best_offer'",
      "\nThe above exception was the direct cause of the following exception:\n",
      "\u001b[1;31mKeyError\u001b[0m                                  Traceback (most recent call last)",
      "Input \u001b[1;32mIn [29]\u001b[0m, in \u001b[0;36m<cell line: 3>\u001b[1;34m()\u001b[0m\n\u001b[0;32m      1\u001b[0m \u001b[38;5;66;03m# FEATURE ENGINEERING\u001b[39;00m\n\u001b[0;32m      2\u001b[0m \u001b[38;5;66;03m# Bid-Ask-Spread\u001b[39;00m\n\u001b[1;32m----> 3\u001b[0m data[\u001b[38;5;124m\"\u001b[39m\u001b[38;5;124mbest_bid\u001b[39m\u001b[38;5;124m\"\u001b[39m] \u001b[38;5;241m=\u001b[39m (\u001b[43mdata\u001b[49m\u001b[43m[\u001b[49m\u001b[38;5;124;43m\"\u001b[39;49m\u001b[38;5;124;43mbest_offer\u001b[39;49m\u001b[38;5;124;43m\"\u001b[39;49m\u001b[43m]\u001b[49m \u001b[38;5;241m-\u001b[39m data[\u001b[38;5;124m\"\u001b[39m\u001b[38;5;124mbest_bid\u001b[39m\u001b[38;5;124m\"\u001b[39m]) \u001b[38;5;241m/\u001b[39m (data[\u001b[38;5;124m\"\u001b[39m\u001b[38;5;124mbest_offer\u001b[39m\u001b[38;5;124m\"\u001b[39m])\n\u001b[0;32m      4\u001b[0m data \u001b[38;5;241m=\u001b[39m data\u001b[38;5;241m.\u001b[39mrename(columns\u001b[38;5;241m=\u001b[39m{\u001b[38;5;124m\"\u001b[39m\u001b[38;5;124mbest_bid\u001b[39m\u001b[38;5;124m\"\u001b[39m: \u001b[38;5;124m\"\u001b[39m\u001b[38;5;124mba_spread_option\u001b[39m\u001b[38;5;124m\"\u001b[39m})\u001b[38;5;241m.\u001b[39mdrop([\u001b[38;5;124m\"\u001b[39m\u001b[38;5;124mbest_offer\u001b[39m\u001b[38;5;124m\"\u001b[39m], axis\u001b[38;5;241m=\u001b[39m\u001b[38;5;241m1\u001b[39m)\n\u001b[0;32m      6\u001b[0m \u001b[38;5;66;03m# Gamma -> multiply by spotprice and divide by 100\u001b[39;00m\n",
      "File \u001b[1;32m~\\Anaconda3\\envs\\masterthesis\\lib\\site-packages\\pandas\\core\\frame.py:3505\u001b[0m, in \u001b[0;36mDataFrame.__getitem__\u001b[1;34m(self, key)\u001b[0m\n\u001b[0;32m   3503\u001b[0m \u001b[38;5;28;01mif\u001b[39;00m \u001b[38;5;28mself\u001b[39m\u001b[38;5;241m.\u001b[39mcolumns\u001b[38;5;241m.\u001b[39mnlevels \u001b[38;5;241m>\u001b[39m \u001b[38;5;241m1\u001b[39m:\n\u001b[0;32m   3504\u001b[0m     \u001b[38;5;28;01mreturn\u001b[39;00m \u001b[38;5;28mself\u001b[39m\u001b[38;5;241m.\u001b[39m_getitem_multilevel(key)\n\u001b[1;32m-> 3505\u001b[0m indexer \u001b[38;5;241m=\u001b[39m \u001b[38;5;28;43mself\u001b[39;49m\u001b[38;5;241;43m.\u001b[39;49m\u001b[43mcolumns\u001b[49m\u001b[38;5;241;43m.\u001b[39;49m\u001b[43mget_loc\u001b[49m\u001b[43m(\u001b[49m\u001b[43mkey\u001b[49m\u001b[43m)\u001b[49m\n\u001b[0;32m   3506\u001b[0m \u001b[38;5;28;01mif\u001b[39;00m is_integer(indexer):\n\u001b[0;32m   3507\u001b[0m     indexer \u001b[38;5;241m=\u001b[39m [indexer]\n",
      "File \u001b[1;32m~\\Anaconda3\\envs\\masterthesis\\lib\\site-packages\\pandas\\core\\indexes\\base.py:3623\u001b[0m, in \u001b[0;36mIndex.get_loc\u001b[1;34m(self, key, method, tolerance)\u001b[0m\n\u001b[0;32m   3621\u001b[0m     \u001b[38;5;28;01mreturn\u001b[39;00m \u001b[38;5;28mself\u001b[39m\u001b[38;5;241m.\u001b[39m_engine\u001b[38;5;241m.\u001b[39mget_loc(casted_key)\n\u001b[0;32m   3622\u001b[0m \u001b[38;5;28;01mexcept\u001b[39;00m \u001b[38;5;167;01mKeyError\u001b[39;00m \u001b[38;5;28;01mas\u001b[39;00m err:\n\u001b[1;32m-> 3623\u001b[0m     \u001b[38;5;28;01mraise\u001b[39;00m \u001b[38;5;167;01mKeyError\u001b[39;00m(key) \u001b[38;5;28;01mfrom\u001b[39;00m \u001b[38;5;21;01merr\u001b[39;00m\n\u001b[0;32m   3624\u001b[0m \u001b[38;5;28;01mexcept\u001b[39;00m \u001b[38;5;167;01mTypeError\u001b[39;00m:\n\u001b[0;32m   3625\u001b[0m     \u001b[38;5;66;03m# If we have a listlike key, _check_indexing_error will raise\u001b[39;00m\n\u001b[0;32m   3626\u001b[0m     \u001b[38;5;66;03m#  InvalidIndexError. Otherwise we fall through and re-raise\u001b[39;00m\n\u001b[0;32m   3627\u001b[0m     \u001b[38;5;66;03m#  the TypeError.\u001b[39;00m\n\u001b[0;32m   3628\u001b[0m     \u001b[38;5;28mself\u001b[39m\u001b[38;5;241m.\u001b[39m_check_indexing_error(key)\n",
      "\u001b[1;31mKeyError\u001b[0m: 'best_offer'"
     ]
    }
   ],
   "source": [
    "# FEATURE ENGINEERING\n",
    "# Bid-Ask-Spread\n",
    "data[\"best_bid\"] = (data[\"best_offer\"] - data[\"best_bid\"]) / (data[\"best_offer\"])\n",
    "data = data.rename(columns={\"best_bid\": \"ba_spread_option\"}).drop([\"best_offer\"], axis=1)\n",
    "\n",
    "# Gamma -> multiply by spotprice and divide by 100\n",
    "data[\"gamma\"] = data[\"gamma\"] * data[\"spotprice\"] / 100 #following Bali et al. (2021)\n",
    "\n",
    "# Theta -> scale by spotprice\n",
    "data[\"theta\"] = data[\"theta\"] / data[\"spotprice\"] #following Bali et al. (2021)\n",
    "\n",
    "# Vega -> scale by spotprice\n",
    "data[\"vega\"] = data[\"vega\"] / data[\"spotprice\"] #following Bali et al. (2021)\n",
    "\n",
    "# Time to Maturity -> scale by number of days in year -> 365\n",
    "data[\"days_to_exp\"] = data[\"days_to_exp\"] / 365\n",
    "\n",
    "# Moneyness\n",
    "data[\"strike_price\"] = data[\"strike_price\"] / data[\"spotprice\"] # K / S\n",
    "data = data.rename(columns={\"strike_price\": \"moneyness\"})\n",
    "\n",
    "# Forward Price ratio\n",
    "data[\"forwardprice\"] = data[\"forwardprice\"] / data[\"spotprice\"]\n",
    "\n",
    "# drop cf_adj + days no trading\n",
    "data = data.drop([\"cfadj\", \"days_no_trading\", \"spotprice\", \"adj_spot\"], axis=1)\n"
   ]
  },
  {
   "cell_type": "code",
   "execution_count": null,
   "id": "e802dee3",
   "metadata": {
    "scrolled": true
   },
   "outputs": [],
   "source": [
    "data.describe()"
   ]
  },
  {
   "cell_type": "code",
   "execution_count": null,
   "id": "057b464b",
   "metadata": {},
   "outputs": [],
   "source": [
    "# # multiclass y label function\n",
    "# def binary_categorize(x):\n",
    "#     if x > 0:\n",
    "#         return 1\n",
    "#     else:\n",
    "#         return 0\n",
    "\n",
    "# # apply label function to option returns\n",
    "# data[\"option_ret\"] = data[\"option_ret\"].apply(binary_categorize)\n",
    "\n",
    "# data[data[\"cp_flag_C\"] == 0][\"option_ret\"].plot(kind=\"hist\")\n",
    "\n",
    "# data[data[\"cp_flag_C\"] == 1][\"option_ret\"].plot(kind=\"hist\")\n",
    "\n",
    "# data[\"option_ret\"].plot(kind=\"hist\")\n",
    "\n",
    "# def percent_one(x):\n",
    "#     return np.sum(x) / len(x)\n",
    "\n",
    "# percent_one(data[data[\"cp_flag_C\"] == 1][\"option_ret\"])\n",
    "\n",
    "# percent_one(data[data[\"cp_flag_P\"] == 1][\"option_ret\"])"
   ]
  },
  {
   "cell_type": "code",
   "execution_count": null,
   "id": "03cd4f6a",
   "metadata": {},
   "outputs": [],
   "source": [
    "# drop large outlier\n",
    "\n",
    "# to_drop = []\n",
    "\n",
    "\n",
    "# to_drop += (list(np.where(data[\"moneyness\"] > np.percentile(data[\"moneyness\"], 99))[0]))\n",
    "# to_drop += (list(np.where(data[\"ba_spread_option\"] > np.percentile(data[\"ba_spread_option\"], 99))[0]))\n",
    "# to_drop += (list(np.where(data[\"volume\"] > np.percentile(data[\"volume\"], 99))[0]))\n",
    "# to_drop += (list(np.where(data[\"open_interest\"] > np.percentile(data[\"open_interest\"], 99))[0]))\n",
    "\n",
    "# data = data.drop(set(to_drop)).reset_index(drop=True)"
   ]
  },
  {
   "cell_type": "code",
   "execution_count": null,
   "id": "cabef005",
   "metadata": {},
   "outputs": [],
   "source": [
    "data"
   ]
  },
  {
   "cell_type": "code",
   "execution_count": null,
   "id": "9e82b399",
   "metadata": {},
   "outputs": [],
   "source": [
    "from sklearn.model_selection import TimeSeriesSplit"
   ]
  },
  {
   "cell_type": "code",
   "execution_count": null,
   "id": "132b582c",
   "metadata": {},
   "outputs": [],
   "source": [
    "tscv = TimeSeriesSplit(n_splits=17)"
   ]
  },
  {
   "cell_type": "code",
   "execution_count": null,
   "id": "65c447bd",
   "metadata": {},
   "outputs": [],
   "source": [
    "for train, test in tscv.split(data):\n",
    "    print(\"%s %s\" % (train, test))"
   ]
  },
  {
   "cell_type": "code",
   "execution_count": null,
   "id": "dbb2c7ce",
   "metadata": {},
   "outputs": [],
   "source": [
    "data[:212415]"
   ]
  },
  {
   "cell_type": "code",
   "execution_count": null,
   "id": "aadf11b3",
   "metadata": {},
   "outputs": [],
   "source": [
    "# # DROP MONEYNESS BELOW 0.8 AND ABOVE 1.2\n",
    "# to_drop = []\n",
    "\n",
    "\n",
    "# to_drop += (list(np.where((data[\"moneyness\"] > 1.2) | (data[\"moneyness\"] < 0.8))[0]))\n",
    "# data = data.drop(set(to_drop)).reset_index(drop=True)"
   ]
  },
  {
   "cell_type": "code",
   "execution_count": 30,
   "id": "78d35857",
   "metadata": {},
   "outputs": [],
   "source": [
    "# # take log of features where distribution is skewed\n",
    "# # data[\"moneyness\"] = np.log(data[\"moneyness\"])\n",
    "# data[\"ba_spread_option\"] = np.log(data[\"ba_spread_option\"])\n",
    "# data[\"volume\"] = np.log(data[\"volume\"])\n",
    "# data[\"open_interest\"] = np.log(data[\"open_interest\"])\n",
    "# data[\"impl_volatility\"] = np.log(data[\"impl_volatility\"])\n",
    "# # data[\"days_to_exp\"] = np.log(data[\"days_to_exp\"])\n",
    "# data[\"mid_price\"] = np.log(data[\"mid_price\"])\n",
    "\n",
    "# # data[\"forwardprice\"] = np.log(data[\"forwardprice\"])\n",
    "# # data[\"ir_rate\"] = np.log(data[\"ir_rate\"])"
   ]
  },
  {
   "cell_type": "code",
   "execution_count": 31,
   "id": "e62d0d95",
   "metadata": {},
   "outputs": [
    {
     "data": {
      "text/html": [
       "<div>\n",
       "<style scoped>\n",
       "    .dataframe tbody tr th:only-of-type {\n",
       "        vertical-align: middle;\n",
       "    }\n",
       "\n",
       "    .dataframe tbody tr th {\n",
       "        vertical-align: top;\n",
       "    }\n",
       "\n",
       "    .dataframe thead th {\n",
       "        text-align: right;\n",
       "    }\n",
       "</style>\n",
       "<table border=\"1\" class=\"dataframe\">\n",
       "  <thead>\n",
       "    <tr style=\"text-align: right;\">\n",
       "      <th></th>\n",
       "      <th>date</th>\n",
       "      <th>moneyness</th>\n",
       "      <th>ba_spread_option</th>\n",
       "      <th>volume</th>\n",
       "      <th>open_interest</th>\n",
       "      <th>impl_volatility</th>\n",
       "      <th>delta</th>\n",
       "      <th>gamma</th>\n",
       "      <th>vega</th>\n",
       "      <th>theta</th>\n",
       "      <th>days_to_exp</th>\n",
       "      <th>mid_price</th>\n",
       "      <th>option_ret</th>\n",
       "    </tr>\n",
       "  </thead>\n",
       "  <tbody>\n",
       "    <tr>\n",
       "      <th>0</th>\n",
       "      <td>1996-01-31</td>\n",
       "      <td>1.081081</td>\n",
       "      <td>0.160000</td>\n",
       "      <td>4</td>\n",
       "      <td>96</td>\n",
       "      <td>0.185437</td>\n",
       "      <td>0.315673</td>\n",
       "      <td>0.028479</td>\n",
       "      <td>0.238400</td>\n",
       "      <td>-0.064215</td>\n",
       "      <td>0.468493</td>\n",
       "      <td>1.4375</td>\n",
       "      <td>-0.028955</td>\n",
       "    </tr>\n",
       "    <tr>\n",
       "      <th>1</th>\n",
       "      <td>1996-01-31</td>\n",
       "      <td>1.025641</td>\n",
       "      <td>0.137931</td>\n",
       "      <td>23</td>\n",
       "      <td>134</td>\n",
       "      <td>0.244550</td>\n",
       "      <td>0.464967</td>\n",
       "      <td>0.030342</td>\n",
       "      <td>0.213110</td>\n",
       "      <td>-0.113202</td>\n",
       "      <td>0.295890</td>\n",
       "      <td>1.6875</td>\n",
       "      <td>-0.011522</td>\n",
       "    </tr>\n",
       "    <tr>\n",
       "      <th>2</th>\n",
       "      <td>1996-01-31</td>\n",
       "      <td>1.142857</td>\n",
       "      <td>0.250000</td>\n",
       "      <td>10</td>\n",
       "      <td>3830</td>\n",
       "      <td>0.453317</td>\n",
       "      <td>0.345315</td>\n",
       "      <td>0.014950</td>\n",
       "      <td>0.197803</td>\n",
       "      <td>-0.169347</td>\n",
       "      <td>0.295890</td>\n",
       "      <td>0.4375</td>\n",
       "      <td>0.130158</td>\n",
       "    </tr>\n",
       "    <tr>\n",
       "      <th>3</th>\n",
       "      <td>1996-01-31</td>\n",
       "      <td>0.944882</td>\n",
       "      <td>0.100000</td>\n",
       "      <td>5</td>\n",
       "      <td>254</td>\n",
       "      <td>0.324523</td>\n",
       "      <td>0.657941</td>\n",
       "      <td>0.018036</td>\n",
       "      <td>0.225074</td>\n",
       "      <td>-0.123758</td>\n",
       "      <td>0.391781</td>\n",
       "      <td>3.5625</td>\n",
       "      <td>0.008158</td>\n",
       "    </tr>\n",
       "    <tr>\n",
       "      <th>4</th>\n",
       "      <td>1996-01-31</td>\n",
       "      <td>0.944882</td>\n",
       "      <td>0.085714</td>\n",
       "      <td>2</td>\n",
       "      <td>4</td>\n",
       "      <td>0.312125</td>\n",
       "      <td>0.650623</td>\n",
       "      <td>0.014612</td>\n",
       "      <td>0.288712</td>\n",
       "      <td>-0.097742</td>\n",
       "      <td>0.641096</td>\n",
       "      <td>4.1875</td>\n",
       "      <td>-0.005763</td>\n",
       "    </tr>\n",
       "    <tr>\n",
       "      <th>...</th>\n",
       "      <td>...</td>\n",
       "      <td>...</td>\n",
       "      <td>...</td>\n",
       "      <td>...</td>\n",
       "      <td>...</td>\n",
       "      <td>...</td>\n",
       "      <td>...</td>\n",
       "      <td>...</td>\n",
       "      <td>...</td>\n",
       "      <td>...</td>\n",
       "      <td>...</td>\n",
       "      <td>...</td>\n",
       "      <td>...</td>\n",
       "    </tr>\n",
       "    <tr>\n",
       "      <th>766519</th>\n",
       "      <td>2021-10-31</td>\n",
       "      <td>0.936330</td>\n",
       "      <td>0.111111</td>\n",
       "      <td>30</td>\n",
       "      <td>5642</td>\n",
       "      <td>0.343540</td>\n",
       "      <td>0.672280</td>\n",
       "      <td>0.023547</td>\n",
       "      <td>0.170486</td>\n",
       "      <td>-0.139916</td>\n",
       "      <td>0.230137</td>\n",
       "      <td>1.2750</td>\n",
       "      <td>-0.012879</td>\n",
       "    </tr>\n",
       "    <tr>\n",
       "      <th>766520</th>\n",
       "      <td>2021-10-31</td>\n",
       "      <td>1.048689</td>\n",
       "      <td>0.166667</td>\n",
       "      <td>39</td>\n",
       "      <td>3039</td>\n",
       "      <td>0.336500</td>\n",
       "      <td>0.393872</td>\n",
       "      <td>0.023889</td>\n",
       "      <td>0.183325</td>\n",
       "      <td>-0.135840</td>\n",
       "      <td>0.230137</td>\n",
       "      <td>0.5500</td>\n",
       "      <td>-0.012664</td>\n",
       "    </tr>\n",
       "    <tr>\n",
       "      <th>766521</th>\n",
       "      <td>2021-10-31</td>\n",
       "      <td>0.898876</td>\n",
       "      <td>0.097561</td>\n",
       "      <td>83</td>\n",
       "      <td>349</td>\n",
       "      <td>0.374323</td>\n",
       "      <td>0.691910</td>\n",
       "      <td>0.014517</td>\n",
       "      <td>0.226750</td>\n",
       "      <td>-0.102782</td>\n",
       "      <td>0.457534</td>\n",
       "      <td>1.9500</td>\n",
       "      <td>-0.043857</td>\n",
       "    </tr>\n",
       "    <tr>\n",
       "      <th>766522</th>\n",
       "      <td>2021-10-31</td>\n",
       "      <td>1.048689</td>\n",
       "      <td>0.285714</td>\n",
       "      <td>12</td>\n",
       "      <td>1919</td>\n",
       "      <td>0.348393</td>\n",
       "      <td>0.441325</td>\n",
       "      <td>0.017001</td>\n",
       "      <td>0.263165</td>\n",
       "      <td>-0.103916</td>\n",
       "      <td>0.457534</td>\n",
       "      <td>0.9000</td>\n",
       "      <td>-0.021832</td>\n",
       "    </tr>\n",
       "    <tr>\n",
       "      <th>766523</th>\n",
       "      <td>2021-10-31</td>\n",
       "      <td>1.123596</td>\n",
       "      <td>0.153846</td>\n",
       "      <td>4</td>\n",
       "      <td>602</td>\n",
       "      <td>0.349050</td>\n",
       "      <td>0.329124</td>\n",
       "      <td>0.015487</td>\n",
       "      <td>0.241932</td>\n",
       "      <td>-0.094904</td>\n",
       "      <td>0.457534</td>\n",
       "      <td>0.6000</td>\n",
       "      <td>-0.030916</td>\n",
       "    </tr>\n",
       "  </tbody>\n",
       "</table>\n",
       "<p>766524 rows × 13 columns</p>\n",
       "</div>"
      ],
      "text/plain": [
       "             date  moneyness  ba_spread_option  volume  open_interest  \\\n",
       "0      1996-01-31   1.081081          0.160000       4             96   \n",
       "1      1996-01-31   1.025641          0.137931      23            134   \n",
       "2      1996-01-31   1.142857          0.250000      10           3830   \n",
       "3      1996-01-31   0.944882          0.100000       5            254   \n",
       "4      1996-01-31   0.944882          0.085714       2              4   \n",
       "...           ...        ...               ...     ...            ...   \n",
       "766519 2021-10-31   0.936330          0.111111      30           5642   \n",
       "766520 2021-10-31   1.048689          0.166667      39           3039   \n",
       "766521 2021-10-31   0.898876          0.097561      83            349   \n",
       "766522 2021-10-31   1.048689          0.285714      12           1919   \n",
       "766523 2021-10-31   1.123596          0.153846       4            602   \n",
       "\n",
       "        impl_volatility     delta     gamma      vega     theta  days_to_exp  \\\n",
       "0              0.185437  0.315673  0.028479  0.238400 -0.064215     0.468493   \n",
       "1              0.244550  0.464967  0.030342  0.213110 -0.113202     0.295890   \n",
       "2              0.453317  0.345315  0.014950  0.197803 -0.169347     0.295890   \n",
       "3              0.324523  0.657941  0.018036  0.225074 -0.123758     0.391781   \n",
       "4              0.312125  0.650623  0.014612  0.288712 -0.097742     0.641096   \n",
       "...                 ...       ...       ...       ...       ...          ...   \n",
       "766519         0.343540  0.672280  0.023547  0.170486 -0.139916     0.230137   \n",
       "766520         0.336500  0.393872  0.023889  0.183325 -0.135840     0.230137   \n",
       "766521         0.374323  0.691910  0.014517  0.226750 -0.102782     0.457534   \n",
       "766522         0.348393  0.441325  0.017001  0.263165 -0.103916     0.457534   \n",
       "766523         0.349050  0.329124  0.015487  0.241932 -0.094904     0.457534   \n",
       "\n",
       "        mid_price  option_ret  \n",
       "0          1.4375   -0.028955  \n",
       "1          1.6875   -0.011522  \n",
       "2          0.4375    0.130158  \n",
       "3          3.5625    0.008158  \n",
       "4          4.1875   -0.005763  \n",
       "...           ...         ...  \n",
       "766519     1.2750   -0.012879  \n",
       "766520     0.5500   -0.012664  \n",
       "766521     1.9500   -0.043857  \n",
       "766522     0.9000   -0.021832  \n",
       "766523     0.6000   -0.030916  \n",
       "\n",
       "[766524 rows x 13 columns]"
      ]
     },
     "execution_count": 31,
     "metadata": {},
     "output_type": "execute_result"
    }
   ],
   "source": [
    "data"
   ]
  },
  {
   "cell_type": "code",
   "execution_count": null,
   "id": "04a8927c",
   "metadata": {},
   "outputs": [],
   "source": []
  },
  {
   "cell_type": "code",
   "execution_count": 32,
   "id": "7587de64",
   "metadata": {},
   "outputs": [
    {
     "data": {
      "text/plain": [
       "array([   125,    492,   1216, ..., 766476, 766485, 766517], dtype=int64)"
      ]
     },
     "execution_count": 32,
     "metadata": {},
     "output_type": "execute_result"
    }
   ],
   "source": [
    "np.where(data[\"ba_spread_option\"] > np.percentile(data[\"ba_spread_option\"], 99))[0]"
   ]
  },
  {
   "cell_type": "code",
   "execution_count": 33,
   "id": "d10615e9",
   "metadata": {
    "scrolled": true
   },
   "outputs": [
    {
     "data": {
      "image/png": "[encoded data removed]",
      "text/plain": [
       "<Figure size 432x288 with 1 Axes>"
      ]
     },
     "metadata": {
      "needs_background": "light"
     },
     "output_type": "display_data"
    },
    {
     "data": {
      "image/png": "[encoded data removed]",
      "text/plain": [
       "<Figure size 432x288 with 1 Axes>"
      ]
     },
     "metadata": {
      "needs_background": "light"
     },
     "output_type": "display_data"
    },
    {
     "data": {
      "image/png": "[encoded data removed]",
      "text/plain": [
       "<Figure size 432x288 with 1 Axes>"
      ]
     },
     "metadata": {
      "needs_background": "light"
     },
     "output_type": "display_data"
    },
    {
     "data": {
      "image/png": "[encoded data removed]",
      "text/plain": [
       "<Figure size 432x288 with 1 Axes>"
      ]
     },
     "metadata": {
      "needs_background": "light"
     },
     "output_type": "display_data"
    },
    {
     "data": {
      "image/png": "[encoded data removed]",
      "text/plain": [
       "<Figure size 432x288 with 1 Axes>"
      ]
     },
     "metadata": {
      "needs_background": "light"
     },
     "output_type": "display_data"
    },
    {
     "data": {
      "image/png": "[encoded data removed]",
      "text/plain": [
       "<Figure size 432x288 with 1 Axes>"
      ]
     },
     "metadata": {
      "needs_background": "light"
     },
     "output_type": "display_data"
    },
    {
     "data": {
      "image/png": "[encoded data removed]",
      "text/plain": [
       "<Figure size 432x288 with 1 Axes>"
      ]
     },
     "metadata": {
      "needs_background": "light"
     },
     "output_type": "display_data"
    },
    {
     "data": {
      "image/png": "[encoded data removed]",
      "text/plain": [
       "<Figure size 432x288 with 1 Axes>"
      ]
     },
     "metadata": {
      "needs_background": "light"
     },
     "output_type": "display_data"
    },
    {
     "data": {
      "image/png": "[encoded data removed]",
      "text/plain": [
       "<Figure size 432x288 with 1 Axes>"
      ]
     },
     "metadata": {
      "needs_background": "light"
     },
     "output_type": "display_data"
    },
    {
     "data": {
      "image/png": "[encoded data removed]",
      "text/plain": [
       "<Figure size 432x288 with 1 Axes>"
      ]
     },
     "metadata": {
      "needs_background": "light"
     },
     "output_type": "display_data"
    },
    {
     "data": {
      "image/png": "[encoded data removed]",
      "text/plain": [
       "<Figure size 432x288 with 1 Axes>"
      ]
     },
     "metadata": {
      "needs_background": "light"
     },
     "output_type": "display_data"
    },
    {
     "data": {
      "image/png": "[encoded data removed]",
      "text/plain": [
       "<Figure size 432x288 with 1 Axes>"
      ]
     },
     "metadata": {
      "needs_background": "light"
     },
     "output_type": "display_data"
    },
    {
     "data": {
      "image/png": "[encoded data removed]",
      "text/plain": [
       "<Figure size 432x288 with 1 Axes>"
      ]
     },
     "metadata": {
      "needs_background": "light"
     },
     "output_type": "display_data"
    }
   ],
   "source": [
    "# Plot each column\n",
    "for i in data.columns:\n",
    "    plt.figure()\n",
    "    plt.hist(data[i], bins=20)\n",
    "    plt.title(i)"
   ]
  },
  {
   "cell_type": "code",
   "execution_count": 34,
   "id": "1ca6f011",
   "metadata": {},
   "outputs": [
    {
     "data": {
      "text/plain": [
       "<AxesSubplot:ylabel='Frequency'>"
      ]
     },
     "execution_count": 34,
     "metadata": {},
     "output_type": "execute_result"
    },
    {
     "data": {
      "image/png": "[encoded data removed]",
      "text/plain": [
       "<Figure size 432x288 with 1 Axes>"
      ]
     },
     "metadata": {
      "needs_background": "light"
     },
     "output_type": "display_data"
    }
   ],
   "source": [
    "np.log(data[\"days_to_exp\"]).plot(kind=\"hist\", bins=50)"
   ]
  },
  {
   "cell_type": "code",
   "execution_count": 35,
   "id": "9776b576",
   "metadata": {},
   "outputs": [
    {
     "data": {
      "text/html": [
       "<div>\n",
       "<style scoped>\n",
       "    .dataframe tbody tr th:only-of-type {\n",
       "        vertical-align: middle;\n",
       "    }\n",
       "\n",
       "    .dataframe tbody tr th {\n",
       "        vertical-align: top;\n",
       "    }\n",
       "\n",
       "    .dataframe thead th {\n",
       "        text-align: right;\n",
       "    }\n",
       "</style>\n",
       "<table border=\"1\" class=\"dataframe\">\n",
       "  <thead>\n",
       "    <tr style=\"text-align: right;\">\n",
       "      <th></th>\n",
       "      <th>date</th>\n",
       "      <th>moneyness</th>\n",
       "      <th>ba_spread_option</th>\n",
       "      <th>volume</th>\n",
       "      <th>open_interest</th>\n",
       "      <th>impl_volatility</th>\n",
       "      <th>delta</th>\n",
       "      <th>gamma</th>\n",
       "      <th>vega</th>\n",
       "      <th>theta</th>\n",
       "      <th>days_to_exp</th>\n",
       "      <th>mid_price</th>\n",
       "      <th>option_ret</th>\n",
       "    </tr>\n",
       "  </thead>\n",
       "  <tbody>\n",
       "    <tr>\n",
       "      <th>0</th>\n",
       "      <td>1996-01-31</td>\n",
       "      <td>1.081081</td>\n",
       "      <td>0.160000</td>\n",
       "      <td>4</td>\n",
       "      <td>96</td>\n",
       "      <td>0.185437</td>\n",
       "      <td>0.315673</td>\n",
       "      <td>0.028479</td>\n",
       "      <td>0.238400</td>\n",
       "      <td>-0.064215</td>\n",
       "      <td>0.468493</td>\n",
       "      <td>1.4375</td>\n",
       "      <td>-0.028955</td>\n",
       "    </tr>\n",
       "    <tr>\n",
       "      <th>1</th>\n",
       "      <td>1996-01-31</td>\n",
       "      <td>1.025641</td>\n",
       "      <td>0.137931</td>\n",
       "      <td>23</td>\n",
       "      <td>134</td>\n",
       "      <td>0.244550</td>\n",
       "      <td>0.464967</td>\n",
       "      <td>0.030342</td>\n",
       "      <td>0.213110</td>\n",
       "      <td>-0.113202</td>\n",
       "      <td>0.295890</td>\n",
       "      <td>1.6875</td>\n",
       "      <td>-0.011522</td>\n",
       "    </tr>\n",
       "    <tr>\n",
       "      <th>2</th>\n",
       "      <td>1996-01-31</td>\n",
       "      <td>1.142857</td>\n",
       "      <td>0.250000</td>\n",
       "      <td>10</td>\n",
       "      <td>3830</td>\n",
       "      <td>0.453317</td>\n",
       "      <td>0.345315</td>\n",
       "      <td>0.014950</td>\n",
       "      <td>0.197803</td>\n",
       "      <td>-0.169347</td>\n",
       "      <td>0.295890</td>\n",
       "      <td>0.4375</td>\n",
       "      <td>0.130158</td>\n",
       "    </tr>\n",
       "    <tr>\n",
       "      <th>3</th>\n",
       "      <td>1996-01-31</td>\n",
       "      <td>0.944882</td>\n",
       "      <td>0.100000</td>\n",
       "      <td>5</td>\n",
       "      <td>254</td>\n",
       "      <td>0.324523</td>\n",
       "      <td>0.657941</td>\n",
       "      <td>0.018036</td>\n",
       "      <td>0.225074</td>\n",
       "      <td>-0.123758</td>\n",
       "      <td>0.391781</td>\n",
       "      <td>3.5625</td>\n",
       "      <td>0.008158</td>\n",
       "    </tr>\n",
       "    <tr>\n",
       "      <th>4</th>\n",
       "      <td>1996-01-31</td>\n",
       "      <td>0.944882</td>\n",
       "      <td>0.085714</td>\n",
       "      <td>2</td>\n",
       "      <td>4</td>\n",
       "      <td>0.312125</td>\n",
       "      <td>0.650623</td>\n",
       "      <td>0.014612</td>\n",
       "      <td>0.288712</td>\n",
       "      <td>-0.097742</td>\n",
       "      <td>0.641096</td>\n",
       "      <td>4.1875</td>\n",
       "      <td>-0.005763</td>\n",
       "    </tr>\n",
       "    <tr>\n",
       "      <th>...</th>\n",
       "      <td>...</td>\n",
       "      <td>...</td>\n",
       "      <td>...</td>\n",
       "      <td>...</td>\n",
       "      <td>...</td>\n",
       "      <td>...</td>\n",
       "      <td>...</td>\n",
       "      <td>...</td>\n",
       "      <td>...</td>\n",
       "      <td>...</td>\n",
       "      <td>...</td>\n",
       "      <td>...</td>\n",
       "      <td>...</td>\n",
       "    </tr>\n",
       "    <tr>\n",
       "      <th>766519</th>\n",
       "      <td>2021-10-31</td>\n",
       "      <td>0.936330</td>\n",
       "      <td>0.111111</td>\n",
       "      <td>30</td>\n",
       "      <td>5642</td>\n",
       "      <td>0.343540</td>\n",
       "      <td>0.672280</td>\n",
       "      <td>0.023547</td>\n",
       "      <td>0.170486</td>\n",
       "      <td>-0.139916</td>\n",
       "      <td>0.230137</td>\n",
       "      <td>1.2750</td>\n",
       "      <td>-0.012879</td>\n",
       "    </tr>\n",
       "    <tr>\n",
       "      <th>766520</th>\n",
       "      <td>2021-10-31</td>\n",
       "      <td>1.048689</td>\n",
       "      <td>0.166667</td>\n",
       "      <td>39</td>\n",
       "      <td>3039</td>\n",
       "      <td>0.336500</td>\n",
       "      <td>0.393872</td>\n",
       "      <td>0.023889</td>\n",
       "      <td>0.183325</td>\n",
       "      <td>-0.135840</td>\n",
       "      <td>0.230137</td>\n",
       "      <td>0.5500</td>\n",
       "      <td>-0.012664</td>\n",
       "    </tr>\n",
       "    <tr>\n",
       "      <th>766521</th>\n",
       "      <td>2021-10-31</td>\n",
       "      <td>0.898876</td>\n",
       "      <td>0.097561</td>\n",
       "      <td>83</td>\n",
       "      <td>349</td>\n",
       "      <td>0.374323</td>\n",
       "      <td>0.691910</td>\n",
       "      <td>0.014517</td>\n",
       "      <td>0.226750</td>\n",
       "      <td>-0.102782</td>\n",
       "      <td>0.457534</td>\n",
       "      <td>1.9500</td>\n",
       "      <td>-0.043857</td>\n",
       "    </tr>\n",
       "    <tr>\n",
       "      <th>766522</th>\n",
       "      <td>2021-10-31</td>\n",
       "      <td>1.048689</td>\n",
       "      <td>0.285714</td>\n",
       "      <td>12</td>\n",
       "      <td>1919</td>\n",
       "      <td>0.348393</td>\n",
       "      <td>0.441325</td>\n",
       "      <td>0.017001</td>\n",
       "      <td>0.263165</td>\n",
       "      <td>-0.103916</td>\n",
       "      <td>0.457534</td>\n",
       "      <td>0.9000</td>\n",
       "      <td>-0.021832</td>\n",
       "    </tr>\n",
       "    <tr>\n",
       "      <th>766523</th>\n",
       "      <td>2021-10-31</td>\n",
       "      <td>1.123596</td>\n",
       "      <td>0.153846</td>\n",
       "      <td>4</td>\n",
       "      <td>602</td>\n",
       "      <td>0.349050</td>\n",
       "      <td>0.329124</td>\n",
       "      <td>0.015487</td>\n",
       "      <td>0.241932</td>\n",
       "      <td>-0.094904</td>\n",
       "      <td>0.457534</td>\n",
       "      <td>0.6000</td>\n",
       "      <td>-0.030916</td>\n",
       "    </tr>\n",
       "  </tbody>\n",
       "</table>\n",
       "<p>758888 rows × 13 columns</p>\n",
       "</div>"
      ],
      "text/plain": [
       "             date  moneyness  ba_spread_option  volume  open_interest  \\\n",
       "0      1996-01-31   1.081081          0.160000       4             96   \n",
       "1      1996-01-31   1.025641          0.137931      23            134   \n",
       "2      1996-01-31   1.142857          0.250000      10           3830   \n",
       "3      1996-01-31   0.944882          0.100000       5            254   \n",
       "4      1996-01-31   0.944882          0.085714       2              4   \n",
       "...           ...        ...               ...     ...            ...   \n",
       "766519 2021-10-31   0.936330          0.111111      30           5642   \n",
       "766520 2021-10-31   1.048689          0.166667      39           3039   \n",
       "766521 2021-10-31   0.898876          0.097561      83            349   \n",
       "766522 2021-10-31   1.048689          0.285714      12           1919   \n",
       "766523 2021-10-31   1.123596          0.153846       4            602   \n",
       "\n",
       "        impl_volatility     delta     gamma      vega     theta  days_to_exp  \\\n",
       "0              0.185437  0.315673  0.028479  0.238400 -0.064215     0.468493   \n",
       "1              0.244550  0.464967  0.030342  0.213110 -0.113202     0.295890   \n",
       "2              0.453317  0.345315  0.014950  0.197803 -0.169347     0.295890   \n",
       "3              0.324523  0.657941  0.018036  0.225074 -0.123758     0.391781   \n",
       "4              0.312125  0.650623  0.014612  0.288712 -0.097742     0.641096   \n",
       "...                 ...       ...       ...       ...       ...          ...   \n",
       "766519         0.343540  0.672280  0.023547  0.170486 -0.139916     0.230137   \n",
       "766520         0.336500  0.393872  0.023889  0.183325 -0.135840     0.230137   \n",
       "766521         0.374323  0.691910  0.014517  0.226750 -0.102782     0.457534   \n",
       "766522         0.348393  0.441325  0.017001  0.263165 -0.103916     0.457534   \n",
       "766523         0.349050  0.329124  0.015487  0.241932 -0.094904     0.457534   \n",
       "\n",
       "        mid_price  option_ret  \n",
       "0          1.4375   -0.028955  \n",
       "1          1.6875   -0.011522  \n",
       "2          0.4375    0.130158  \n",
       "3          3.5625    0.008158  \n",
       "4          4.1875   -0.005763  \n",
       "...           ...         ...  \n",
       "766519     1.2750   -0.012879  \n",
       "766520     0.5500   -0.012664  \n",
       "766521     1.9500   -0.043857  \n",
       "766522     0.9000   -0.021832  \n",
       "766523     0.6000   -0.030916  \n",
       "\n",
       "[758888 rows x 13 columns]"
      ]
     },
     "execution_count": 35,
     "metadata": {},
     "output_type": "execute_result"
    }
   ],
   "source": [
    "data.drop(np.where(data[\"ba_spread_option\"] > np.percentile(data[\"ba_spread_option\"], 99))[0])"
   ]
  },
  {
   "cell_type": "code",
   "execution_count": 36,
   "id": "0eb45d66",
   "metadata": {},
   "outputs": [
    {
     "data": {
      "text/html": [
       "<div>\n",
       "<style scoped>\n",
       "    .dataframe tbody tr th:only-of-type {\n",
       "        vertical-align: middle;\n",
       "    }\n",
       "\n",
       "    .dataframe tbody tr th {\n",
       "        vertical-align: top;\n",
       "    }\n",
       "\n",
       "    .dataframe thead th {\n",
       "        text-align: right;\n",
       "    }\n",
       "</style>\n",
       "<table border=\"1\" class=\"dataframe\">\n",
       "  <thead>\n",
       "    <tr style=\"text-align: right;\">\n",
       "      <th></th>\n",
       "      <th>date</th>\n",
       "      <th>moneyness</th>\n",
       "      <th>ba_spread_option</th>\n",
       "      <th>volume</th>\n",
       "      <th>open_interest</th>\n",
       "      <th>impl_volatility</th>\n",
       "      <th>delta</th>\n",
       "      <th>gamma</th>\n",
       "      <th>vega</th>\n",
       "      <th>theta</th>\n",
       "      <th>days_to_exp</th>\n",
       "      <th>mid_price</th>\n",
       "      <th>option_ret</th>\n",
       "    </tr>\n",
       "  </thead>\n",
       "  <tbody>\n",
       "    <tr>\n",
       "      <th>0</th>\n",
       "      <td>1996-01-31</td>\n",
       "      <td>1.081081</td>\n",
       "      <td>0.160000</td>\n",
       "      <td>4</td>\n",
       "      <td>96</td>\n",
       "      <td>0.185437</td>\n",
       "      <td>0.315673</td>\n",
       "      <td>0.028479</td>\n",
       "      <td>0.238400</td>\n",
       "      <td>-0.064215</td>\n",
       "      <td>0.468493</td>\n",
       "      <td>1.4375</td>\n",
       "      <td>-0.028955</td>\n",
       "    </tr>\n",
       "    <tr>\n",
       "      <th>1</th>\n",
       "      <td>1996-01-31</td>\n",
       "      <td>1.025641</td>\n",
       "      <td>0.137931</td>\n",
       "      <td>23</td>\n",
       "      <td>134</td>\n",
       "      <td>0.244550</td>\n",
       "      <td>0.464967</td>\n",
       "      <td>0.030342</td>\n",
       "      <td>0.213110</td>\n",
       "      <td>-0.113202</td>\n",
       "      <td>0.295890</td>\n",
       "      <td>1.6875</td>\n",
       "      <td>-0.011522</td>\n",
       "    </tr>\n",
       "    <tr>\n",
       "      <th>2</th>\n",
       "      <td>1996-01-31</td>\n",
       "      <td>1.142857</td>\n",
       "      <td>0.250000</td>\n",
       "      <td>10</td>\n",
       "      <td>3830</td>\n",
       "      <td>0.453317</td>\n",
       "      <td>0.345315</td>\n",
       "      <td>0.014950</td>\n",
       "      <td>0.197803</td>\n",
       "      <td>-0.169347</td>\n",
       "      <td>0.295890</td>\n",
       "      <td>0.4375</td>\n",
       "      <td>0.130158</td>\n",
       "    </tr>\n",
       "    <tr>\n",
       "      <th>3</th>\n",
       "      <td>1996-01-31</td>\n",
       "      <td>0.944882</td>\n",
       "      <td>0.100000</td>\n",
       "      <td>5</td>\n",
       "      <td>254</td>\n",
       "      <td>0.324523</td>\n",
       "      <td>0.657941</td>\n",
       "      <td>0.018036</td>\n",
       "      <td>0.225074</td>\n",
       "      <td>-0.123758</td>\n",
       "      <td>0.391781</td>\n",
       "      <td>3.5625</td>\n",
       "      <td>0.008158</td>\n",
       "    </tr>\n",
       "    <tr>\n",
       "      <th>4</th>\n",
       "      <td>1996-01-31</td>\n",
       "      <td>0.944882</td>\n",
       "      <td>0.085714</td>\n",
       "      <td>2</td>\n",
       "      <td>4</td>\n",
       "      <td>0.312125</td>\n",
       "      <td>0.650623</td>\n",
       "      <td>0.014612</td>\n",
       "      <td>0.288712</td>\n",
       "      <td>-0.097742</td>\n",
       "      <td>0.641096</td>\n",
       "      <td>4.1875</td>\n",
       "      <td>-0.005763</td>\n",
       "    </tr>\n",
       "    <tr>\n",
       "      <th>...</th>\n",
       "      <td>...</td>\n",
       "      <td>...</td>\n",
       "      <td>...</td>\n",
       "      <td>...</td>\n",
       "      <td>...</td>\n",
       "      <td>...</td>\n",
       "      <td>...</td>\n",
       "      <td>...</td>\n",
       "      <td>...</td>\n",
       "      <td>...</td>\n",
       "      <td>...</td>\n",
       "      <td>...</td>\n",
       "      <td>...</td>\n",
       "    </tr>\n",
       "    <tr>\n",
       "      <th>766519</th>\n",
       "      <td>2021-10-31</td>\n",
       "      <td>0.936330</td>\n",
       "      <td>0.111111</td>\n",
       "      <td>30</td>\n",
       "      <td>5642</td>\n",
       "      <td>0.343540</td>\n",
       "      <td>0.672280</td>\n",
       "      <td>0.023547</td>\n",
       "      <td>0.170486</td>\n",
       "      <td>-0.139916</td>\n",
       "      <td>0.230137</td>\n",
       "      <td>1.2750</td>\n",
       "      <td>-0.012879</td>\n",
       "    </tr>\n",
       "    <tr>\n",
       "      <th>766520</th>\n",
       "      <td>2021-10-31</td>\n",
       "      <td>1.048689</td>\n",
       "      <td>0.166667</td>\n",
       "      <td>39</td>\n",
       "      <td>3039</td>\n",
       "      <td>0.336500</td>\n",
       "      <td>0.393872</td>\n",
       "      <td>0.023889</td>\n",
       "      <td>0.183325</td>\n",
       "      <td>-0.135840</td>\n",
       "      <td>0.230137</td>\n",
       "      <td>0.5500</td>\n",
       "      <td>-0.012664</td>\n",
       "    </tr>\n",
       "    <tr>\n",
       "      <th>766521</th>\n",
       "      <td>2021-10-31</td>\n",
       "      <td>0.898876</td>\n",
       "      <td>0.097561</td>\n",
       "      <td>83</td>\n",
       "      <td>349</td>\n",
       "      <td>0.374323</td>\n",
       "      <td>0.691910</td>\n",
       "      <td>0.014517</td>\n",
       "      <td>0.226750</td>\n",
       "      <td>-0.102782</td>\n",
       "      <td>0.457534</td>\n",
       "      <td>1.9500</td>\n",
       "      <td>-0.043857</td>\n",
       "    </tr>\n",
       "    <tr>\n",
       "      <th>766522</th>\n",
       "      <td>2021-10-31</td>\n",
       "      <td>1.048689</td>\n",
       "      <td>0.285714</td>\n",
       "      <td>12</td>\n",
       "      <td>1919</td>\n",
       "      <td>0.348393</td>\n",
       "      <td>0.441325</td>\n",
       "      <td>0.017001</td>\n",
       "      <td>0.263165</td>\n",
       "      <td>-0.103916</td>\n",
       "      <td>0.457534</td>\n",
       "      <td>0.9000</td>\n",
       "      <td>-0.021832</td>\n",
       "    </tr>\n",
       "    <tr>\n",
       "      <th>766523</th>\n",
       "      <td>2021-10-31</td>\n",
       "      <td>1.123596</td>\n",
       "      <td>0.153846</td>\n",
       "      <td>4</td>\n",
       "      <td>602</td>\n",
       "      <td>0.349050</td>\n",
       "      <td>0.329124</td>\n",
       "      <td>0.015487</td>\n",
       "      <td>0.241932</td>\n",
       "      <td>-0.094904</td>\n",
       "      <td>0.457534</td>\n",
       "      <td>0.6000</td>\n",
       "      <td>-0.030916</td>\n",
       "    </tr>\n",
       "  </tbody>\n",
       "</table>\n",
       "<p>766524 rows × 13 columns</p>\n",
       "</div>"
      ],
      "text/plain": [
       "             date  moneyness  ba_spread_option  volume  open_interest  \\\n",
       "0      1996-01-31   1.081081          0.160000       4             96   \n",
       "1      1996-01-31   1.025641          0.137931      23            134   \n",
       "2      1996-01-31   1.142857          0.250000      10           3830   \n",
       "3      1996-01-31   0.944882          0.100000       5            254   \n",
       "4      1996-01-31   0.944882          0.085714       2              4   \n",
       "...           ...        ...               ...     ...            ...   \n",
       "766519 2021-10-31   0.936330          0.111111      30           5642   \n",
       "766520 2021-10-31   1.048689          0.166667      39           3039   \n",
       "766521 2021-10-31   0.898876          0.097561      83            349   \n",
       "766522 2021-10-31   1.048689          0.285714      12           1919   \n",
       "766523 2021-10-31   1.123596          0.153846       4            602   \n",
       "\n",
       "        impl_volatility     delta     gamma      vega     theta  days_to_exp  \\\n",
       "0              0.185437  0.315673  0.028479  0.238400 -0.064215     0.468493   \n",
       "1              0.244550  0.464967  0.030342  0.213110 -0.113202     0.295890   \n",
       "2              0.453317  0.345315  0.014950  0.197803 -0.169347     0.295890   \n",
       "3              0.324523  0.657941  0.018036  0.225074 -0.123758     0.391781   \n",
       "4              0.312125  0.650623  0.014612  0.288712 -0.097742     0.641096   \n",
       "...                 ...       ...       ...       ...       ...          ...   \n",
       "766519         0.343540  0.672280  0.023547  0.170486 -0.139916     0.230137   \n",
       "766520         0.336500  0.393872  0.023889  0.183325 -0.135840     0.230137   \n",
       "766521         0.374323  0.691910  0.014517  0.226750 -0.102782     0.457534   \n",
       "766522         0.348393  0.441325  0.017001  0.263165 -0.103916     0.457534   \n",
       "766523         0.349050  0.329124  0.015487  0.241932 -0.094904     0.457534   \n",
       "\n",
       "        mid_price  option_ret  \n",
       "0          1.4375   -0.028955  \n",
       "1          1.6875   -0.011522  \n",
       "2          0.4375    0.130158  \n",
       "3          3.5625    0.008158  \n",
       "4          4.1875   -0.005763  \n",
       "...           ...         ...  \n",
       "766519     1.2750   -0.012879  \n",
       "766520     0.5500   -0.012664  \n",
       "766521     1.9500   -0.043857  \n",
       "766522     0.9000   -0.021832  \n",
       "766523     0.6000   -0.030916  \n",
       "\n",
       "[766524 rows x 13 columns]"
      ]
     },
     "execution_count": 36,
     "metadata": {},
     "output_type": "execute_result"
    }
   ],
   "source": [
    "data"
   ]
  },
  {
   "cell_type": "code",
   "execution_count": 37,
   "id": "bc6279d6",
   "metadata": {
    "scrolled": true
   },
   "outputs": [
    {
     "data": {
      "text/plain": [
       "array([   215,    708,    813, ..., 766457, 766458, 766459], dtype=int64)"
      ]
     },
     "execution_count": 37,
     "metadata": {},
     "output_type": "execute_result"
    }
   ],
   "source": [
    "# take out outliers\n",
    "np.where(data[\"moneyness\"] > np.percentile(data[\"moneyness\"], 99))[0]"
   ]
  },
  {
   "cell_type": "code",
   "execution_count": 38,
   "id": "1409f850",
   "metadata": {},
   "outputs": [
    {
     "data": {
      "text/html": [
       "<div>\n",
       "<style scoped>\n",
       "    .dataframe tbody tr th:only-of-type {\n",
       "        vertical-align: middle;\n",
       "    }\n",
       "\n",
       "    .dataframe tbody tr th {\n",
       "        vertical-align: top;\n",
       "    }\n",
       "\n",
       "    .dataframe thead th {\n",
       "        text-align: right;\n",
       "    }\n",
       "</style>\n",
       "<table border=\"1\" class=\"dataframe\">\n",
       "  <thead>\n",
       "    <tr style=\"text-align: right;\">\n",
       "      <th></th>\n",
       "      <th>date</th>\n",
       "      <th>moneyness</th>\n",
       "      <th>ba_spread_option</th>\n",
       "      <th>volume</th>\n",
       "      <th>open_interest</th>\n",
       "      <th>impl_volatility</th>\n",
       "      <th>delta</th>\n",
       "      <th>gamma</th>\n",
       "      <th>vega</th>\n",
       "      <th>theta</th>\n",
       "      <th>days_to_exp</th>\n",
       "      <th>mid_price</th>\n",
       "      <th>option_ret</th>\n",
       "    </tr>\n",
       "  </thead>\n",
       "  <tbody>\n",
       "    <tr>\n",
       "      <th>13785</th>\n",
       "      <td>1997-04-30</td>\n",
       "      <td>1.428571</td>\n",
       "      <td>0.166667</td>\n",
       "      <td>3100</td>\n",
       "      <td>42248</td>\n",
       "      <td>0.665912</td>\n",
       "      <td>0.169822</td>\n",
       "      <td>0.008164</td>\n",
       "      <td>0.117485</td>\n",
       "      <td>-0.189591</td>\n",
       "      <td>0.219178</td>\n",
       "      <td>0.34375</td>\n",
       "      <td>-0.235686</td>\n",
       "    </tr>\n",
       "    <tr>\n",
       "      <th>13787</th>\n",
       "      <td>1997-04-30</td>\n",
       "      <td>1.071429</td>\n",
       "      <td>0.038462</td>\n",
       "      <td>2991</td>\n",
       "      <td>38922</td>\n",
       "      <td>0.741491</td>\n",
       "      <td>0.503811</td>\n",
       "      <td>0.011561</td>\n",
       "      <td>0.185601</td>\n",
       "      <td>-0.340831</td>\n",
       "      <td>0.219178</td>\n",
       "      <td>1.59375</td>\n",
       "      <td>-0.095037</td>\n",
       "    </tr>\n",
       "    <tr>\n",
       "      <th>13845</th>\n",
       "      <td>1997-04-30</td>\n",
       "      <td>1.101587</td>\n",
       "      <td>0.074074</td>\n",
       "      <td>1000</td>\n",
       "      <td>36773</td>\n",
       "      <td>0.349452</td>\n",
       "      <td>0.440637</td>\n",
       "      <td>0.013251</td>\n",
       "      <td>0.326998</td>\n",
       "      <td>-0.102687</td>\n",
       "      <td>0.717808</td>\n",
       "      <td>3.25000</td>\n",
       "      <td>-0.006174</td>\n",
       "    </tr>\n",
       "    <tr>\n",
       "      <th>13847</th>\n",
       "      <td>1997-04-30</td>\n",
       "      <td>1.269841</td>\n",
       "      <td>0.200000</td>\n",
       "      <td>48</td>\n",
       "      <td>33198</td>\n",
       "      <td>0.355001</td>\n",
       "      <td>0.269622</td>\n",
       "      <td>0.010974</td>\n",
       "      <td>0.274826</td>\n",
       "      <td>-0.082940</td>\n",
       "      <td>0.717808</td>\n",
       "      <td>1.68750</td>\n",
       "      <td>0.020664</td>\n",
       "    </tr>\n",
       "    <tr>\n",
       "      <th>14804</th>\n",
       "      <td>1997-05-31</td>\n",
       "      <td>1.022727</td>\n",
       "      <td>0.100000</td>\n",
       "      <td>178</td>\n",
       "      <td>35169</td>\n",
       "      <td>0.405125</td>\n",
       "      <td>0.512585</td>\n",
       "      <td>0.017808</td>\n",
       "      <td>0.217773</td>\n",
       "      <td>-0.171658</td>\n",
       "      <td>0.309589</td>\n",
       "      <td>3.56250</td>\n",
       "      <td>0.036367</td>\n",
       "    </tr>\n",
       "    <tr>\n",
       "      <th>...</th>\n",
       "      <td>...</td>\n",
       "      <td>...</td>\n",
       "      <td>...</td>\n",
       "      <td>...</td>\n",
       "      <td>...</td>\n",
       "      <td>...</td>\n",
       "      <td>...</td>\n",
       "      <td>...</td>\n",
       "      <td>...</td>\n",
       "      <td>...</td>\n",
       "      <td>...</td>\n",
       "      <td>...</td>\n",
       "      <td>...</td>\n",
       "    </tr>\n",
       "    <tr>\n",
       "      <th>765247</th>\n",
       "      <td>2021-10-31</td>\n",
       "      <td>0.718133</td>\n",
       "      <td>0.011461</td>\n",
       "      <td>8</td>\n",
       "      <td>31406</td>\n",
       "      <td>0.650491</td>\n",
       "      <td>0.864391</td>\n",
       "      <td>0.006049</td>\n",
       "      <td>0.120636</td>\n",
       "      <td>-0.128833</td>\n",
       "      <td>0.306849</td>\n",
       "      <td>347.00000</td>\n",
       "      <td>0.000875</td>\n",
       "    </tr>\n",
       "    <tr>\n",
       "      <th>765529</th>\n",
       "      <td>2021-10-31</td>\n",
       "      <td>0.918611</td>\n",
       "      <td>0.016949</td>\n",
       "      <td>121</td>\n",
       "      <td>30476</td>\n",
       "      <td>0.314367</td>\n",
       "      <td>0.739109</td>\n",
       "      <td>0.021541</td>\n",
       "      <td>0.155832</td>\n",
       "      <td>-0.107498</td>\n",
       "      <td>0.230137</td>\n",
       "      <td>5.85000</td>\n",
       "      <td>-0.015488</td>\n",
       "    </tr>\n",
       "    <tr>\n",
       "      <th>765545</th>\n",
       "      <td>2021-10-31</td>\n",
       "      <td>1.010472</td>\n",
       "      <td>0.016949</td>\n",
       "      <td>425</td>\n",
       "      <td>36904</td>\n",
       "      <td>0.305144</td>\n",
       "      <td>0.501852</td>\n",
       "      <td>0.027244</td>\n",
       "      <td>0.191398</td>\n",
       "      <td>-0.127588</td>\n",
       "      <td>0.230137</td>\n",
       "      <td>2.92500</td>\n",
       "      <td>-0.021468</td>\n",
       "    </tr>\n",
       "    <tr>\n",
       "      <th>765712</th>\n",
       "      <td>2021-10-31</td>\n",
       "      <td>1.081682</td>\n",
       "      <td>0.015000</td>\n",
       "      <td>5079</td>\n",
       "      <td>36088</td>\n",
       "      <td>0.317622</td>\n",
       "      <td>0.331275</td>\n",
       "      <td>0.023799</td>\n",
       "      <td>0.174007</td>\n",
       "      <td>-0.120552</td>\n",
       "      <td>0.230137</td>\n",
       "      <td>9.92500</td>\n",
       "      <td>0.021537</td>\n",
       "    </tr>\n",
       "    <tr>\n",
       "      <th>766021</th>\n",
       "      <td>2021-10-31</td>\n",
       "      <td>1.061321</td>\n",
       "      <td>0.044643</td>\n",
       "      <td>52</td>\n",
       "      <td>69115</td>\n",
       "      <td>0.696809</td>\n",
       "      <td>0.516033</td>\n",
       "      <td>0.010324</td>\n",
       "      <td>0.220808</td>\n",
       "      <td>-0.251316</td>\n",
       "      <td>0.306849</td>\n",
       "      <td>1.09500</td>\n",
       "      <td>0.057922</td>\n",
       "    </tr>\n",
       "  </tbody>\n",
       "</table>\n",
       "<p>7666 rows × 13 columns</p>\n",
       "</div>"
      ],
      "text/plain": [
       "             date  moneyness  ba_spread_option  volume  open_interest  \\\n",
       "13785  1997-04-30   1.428571          0.166667    3100          42248   \n",
       "13787  1997-04-30   1.071429          0.038462    2991          38922   \n",
       "13845  1997-04-30   1.101587          0.074074    1000          36773   \n",
       "13847  1997-04-30   1.269841          0.200000      48          33198   \n",
       "14804  1997-05-31   1.022727          0.100000     178          35169   \n",
       "...           ...        ...               ...     ...            ...   \n",
       "765247 2021-10-31   0.718133          0.011461       8          31406   \n",
       "765529 2021-10-31   0.918611          0.016949     121          30476   \n",
       "765545 2021-10-31   1.010472          0.016949     425          36904   \n",
       "765712 2021-10-31   1.081682          0.015000    5079          36088   \n",
       "766021 2021-10-31   1.061321          0.044643      52          69115   \n",
       "\n",
       "        impl_volatility     delta     gamma      vega     theta  days_to_exp  \\\n",
       "13785          0.665912  0.169822  0.008164  0.117485 -0.189591     0.219178   \n",
       "13787          0.741491  0.503811  0.011561  0.185601 -0.340831     0.219178   \n",
       "13845          0.349452  0.440637  0.013251  0.326998 -0.102687     0.717808   \n",
       "13847          0.355001  0.269622  0.010974  0.274826 -0.082940     0.717808   \n",
       "14804          0.405125  0.512585  0.017808  0.217773 -0.171658     0.309589   \n",
       "...                 ...       ...       ...       ...       ...          ...   \n",
       "765247         0.650491  0.864391  0.006049  0.120636 -0.128833     0.306849   \n",
       "765529         0.314367  0.739109  0.021541  0.155832 -0.107498     0.230137   \n",
       "765545         0.305144  0.501852  0.027244  0.191398 -0.127588     0.230137   \n",
       "765712         0.317622  0.331275  0.023799  0.174007 -0.120552     0.230137   \n",
       "766021         0.696809  0.516033  0.010324  0.220808 -0.251316     0.306849   \n",
       "\n",
       "        mid_price  option_ret  \n",
       "13785     0.34375   -0.235686  \n",
       "13787     1.59375   -0.095037  \n",
       "13845     3.25000   -0.006174  \n",
       "13847     1.68750    0.020664  \n",
       "14804     3.56250    0.036367  \n",
       "...           ...         ...  \n",
       "765247  347.00000    0.000875  \n",
       "765529    5.85000   -0.015488  \n",
       "765545    2.92500   -0.021468  \n",
       "765712    9.92500    0.021537  \n",
       "766021    1.09500    0.057922  \n",
       "\n",
       "[7666 rows x 13 columns]"
      ]
     },
     "execution_count": 38,
     "metadata": {},
     "output_type": "execute_result"
    }
   ],
   "source": [
    "# drop outliers\n",
    "data[data[\"open_interest\"] > np.percentile(data[\"open_interest\"], 99)]"
   ]
  },
  {
   "cell_type": "code",
   "execution_count": 39,
   "id": "803724f6",
   "metadata": {},
   "outputs": [],
   "source": [
    "IQA = np.percentile(data[\"ba_spread_option\"], 75) - np.percentile(data[\"ba_spread_option\"], 25)"
   ]
  },
  {
   "cell_type": "code",
   "execution_count": 40,
   "id": "3bac9338",
   "metadata": {},
   "outputs": [
    {
     "data": {
      "text/html": [
       "<div>\n",
       "<style scoped>\n",
       "    .dataframe tbody tr th:only-of-type {\n",
       "        vertical-align: middle;\n",
       "    }\n",
       "\n",
       "    .dataframe tbody tr th {\n",
       "        vertical-align: top;\n",
       "    }\n",
       "\n",
       "    .dataframe thead th {\n",
       "        text-align: right;\n",
       "    }\n",
       "</style>\n",
       "<table border=\"1\" class=\"dataframe\">\n",
       "  <thead>\n",
       "    <tr style=\"text-align: right;\">\n",
       "      <th></th>\n",
       "      <th>date</th>\n",
       "      <th>moneyness</th>\n",
       "      <th>ba_spread_option</th>\n",
       "      <th>volume</th>\n",
       "      <th>open_interest</th>\n",
       "      <th>impl_volatility</th>\n",
       "      <th>delta</th>\n",
       "      <th>gamma</th>\n",
       "      <th>vega</th>\n",
       "      <th>theta</th>\n",
       "      <th>days_to_exp</th>\n",
       "      <th>mid_price</th>\n",
       "      <th>option_ret</th>\n",
       "    </tr>\n",
       "  </thead>\n",
       "  <tbody>\n",
       "    <tr>\n",
       "      <th>111</th>\n",
       "      <td>1996-01-31</td>\n",
       "      <td>1.600000</td>\n",
       "      <td>0.500000</td>\n",
       "      <td>10</td>\n",
       "      <td>765</td>\n",
       "      <td>0.569547</td>\n",
       "      <td>0.170583</td>\n",
       "      <td>0.006526</td>\n",
       "      <td>0.172965</td>\n",
       "      <td>-0.113187</td>\n",
       "      <td>0.468493</td>\n",
       "      <td>0.28125</td>\n",
       "      <td>0.079779</td>\n",
       "    </tr>\n",
       "    <tr>\n",
       "      <th>114</th>\n",
       "      <td>1996-01-31</td>\n",
       "      <td>1.250000</td>\n",
       "      <td>0.400000</td>\n",
       "      <td>4</td>\n",
       "      <td>135</td>\n",
       "      <td>0.282184</td>\n",
       "      <td>0.166407</td>\n",
       "      <td>0.012974</td>\n",
       "      <td>0.170334</td>\n",
       "      <td>-0.059534</td>\n",
       "      <td>0.468493</td>\n",
       "      <td>0.25000</td>\n",
       "      <td>-0.043070</td>\n",
       "    </tr>\n",
       "    <tr>\n",
       "      <th>125</th>\n",
       "      <td>1996-01-31</td>\n",
       "      <td>1.157895</td>\n",
       "      <td>0.666667</td>\n",
       "      <td>1</td>\n",
       "      <td>440</td>\n",
       "      <td>0.278676</td>\n",
       "      <td>0.162787</td>\n",
       "      <td>0.018977</td>\n",
       "      <td>0.114307</td>\n",
       "      <td>-0.081869</td>\n",
       "      <td>0.219178</td>\n",
       "      <td>0.25000</td>\n",
       "      <td>-0.281362</td>\n",
       "    </tr>\n",
       "    <tr>\n",
       "      <th>215</th>\n",
       "      <td>1996-01-31</td>\n",
       "      <td>2.025316</td>\n",
       "      <td>0.400000</td>\n",
       "      <td>20</td>\n",
       "      <td>2836</td>\n",
       "      <td>0.487428</td>\n",
       "      <td>0.128368</td>\n",
       "      <td>0.004382</td>\n",
       "      <td>0.206084</td>\n",
       "      <td>-0.057212</td>\n",
       "      <td>0.967123</td>\n",
       "      <td>0.50000</td>\n",
       "      <td>0.099182</td>\n",
       "    </tr>\n",
       "    <tr>\n",
       "      <th>276</th>\n",
       "      <td>1996-01-31</td>\n",
       "      <td>1.628959</td>\n",
       "      <td>0.428571</td>\n",
       "      <td>6</td>\n",
       "      <td>693</td>\n",
       "      <td>0.470010</td>\n",
       "      <td>0.093931</td>\n",
       "      <td>0.005216</td>\n",
       "      <td>0.113952</td>\n",
       "      <td>-0.061869</td>\n",
       "      <td>0.468493</td>\n",
       "      <td>0.34375</td>\n",
       "      <td>0.050313</td>\n",
       "    </tr>\n",
       "    <tr>\n",
       "      <th>...</th>\n",
       "      <td>...</td>\n",
       "      <td>...</td>\n",
       "      <td>...</td>\n",
       "      <td>...</td>\n",
       "      <td>...</td>\n",
       "      <td>...</td>\n",
       "      <td>...</td>\n",
       "      <td>...</td>\n",
       "      <td>...</td>\n",
       "      <td>...</td>\n",
       "      <td>...</td>\n",
       "      <td>...</td>\n",
       "      <td>...</td>\n",
       "    </tr>\n",
       "    <tr>\n",
       "      <th>766458</th>\n",
       "      <td>2021-10-31</td>\n",
       "      <td>2.027751</td>\n",
       "      <td>0.405941</td>\n",
       "      <td>42</td>\n",
       "      <td>606</td>\n",
       "      <td>0.674424</td>\n",
       "      <td>0.021561</td>\n",
       "      <td>0.001595</td>\n",
       "      <td>0.024767</td>\n",
       "      <td>-0.036327</td>\n",
       "      <td>0.230137</td>\n",
       "      <td>0.80500</td>\n",
       "      <td>-0.100079</td>\n",
       "    </tr>\n",
       "    <tr>\n",
       "      <th>766476</th>\n",
       "      <td>2021-10-31</td>\n",
       "      <td>1.250670</td>\n",
       "      <td>0.750000</td>\n",
       "      <td>13</td>\n",
       "      <td>10643</td>\n",
       "      <td>0.286517</td>\n",
       "      <td>0.049109</td>\n",
       "      <td>0.007385</td>\n",
       "      <td>0.048679</td>\n",
       "      <td>-0.030389</td>\n",
       "      <td>0.230137</td>\n",
       "      <td>0.15000</td>\n",
       "      <td>-0.006185</td>\n",
       "    </tr>\n",
       "    <tr>\n",
       "      <th>766485</th>\n",
       "      <td>2021-10-31</td>\n",
       "      <td>1.206003</td>\n",
       "      <td>0.556650</td>\n",
       "      <td>15</td>\n",
       "      <td>2036</td>\n",
       "      <td>0.303014</td>\n",
       "      <td>0.215573</td>\n",
       "      <td>0.012387</td>\n",
       "      <td>0.226695</td>\n",
       "      <td>-0.057305</td>\n",
       "      <td>0.632877</td>\n",
       "      <td>1.46500</td>\n",
       "      <td>0.002434</td>\n",
       "    </tr>\n",
       "    <tr>\n",
       "      <th>766487</th>\n",
       "      <td>2021-10-31</td>\n",
       "      <td>1.066049</td>\n",
       "      <td>0.453125</td>\n",
       "      <td>2</td>\n",
       "      <td>2</td>\n",
       "      <td>0.274018</td>\n",
       "      <td>0.412290</td>\n",
       "      <td>0.017958</td>\n",
       "      <td>0.307097</td>\n",
       "      <td>-0.068240</td>\n",
       "      <td>0.632877</td>\n",
       "      <td>2.47500</td>\n",
       "      <td>-0.049771</td>\n",
       "    </tr>\n",
       "    <tr>\n",
       "      <th>766517</th>\n",
       "      <td>2021-10-31</td>\n",
       "      <td>1.326436</td>\n",
       "      <td>0.845188</td>\n",
       "      <td>117</td>\n",
       "      <td>668</td>\n",
       "      <td>0.428103</td>\n",
       "      <td>0.101894</td>\n",
       "      <td>0.008665</td>\n",
       "      <td>0.085309</td>\n",
       "      <td>-0.079560</td>\n",
       "      <td>0.230137</td>\n",
       "      <td>1.38000</td>\n",
       "      <td>-0.069251</td>\n",
       "    </tr>\n",
       "  </tbody>\n",
       "</table>\n",
       "<p>20582 rows × 13 columns</p>\n",
       "</div>"
      ],
      "text/plain": [
       "             date  moneyness  ba_spread_option  volume  open_interest  \\\n",
       "111    1996-01-31   1.600000          0.500000      10            765   \n",
       "114    1996-01-31   1.250000          0.400000       4            135   \n",
       "125    1996-01-31   1.157895          0.666667       1            440   \n",
       "215    1996-01-31   2.025316          0.400000      20           2836   \n",
       "276    1996-01-31   1.628959          0.428571       6            693   \n",
       "...           ...        ...               ...     ...            ...   \n",
       "766458 2021-10-31   2.027751          0.405941      42            606   \n",
       "766476 2021-10-31   1.250670          0.750000      13          10643   \n",
       "766485 2021-10-31   1.206003          0.556650      15           2036   \n",
       "766487 2021-10-31   1.066049          0.453125       2              2   \n",
       "766517 2021-10-31   1.326436          0.845188     117            668   \n",
       "\n",
       "        impl_volatility     delta     gamma      vega     theta  days_to_exp  \\\n",
       "111            0.569547  0.170583  0.006526  0.172965 -0.113187     0.468493   \n",
       "114            0.282184  0.166407  0.012974  0.170334 -0.059534     0.468493   \n",
       "125            0.278676  0.162787  0.018977  0.114307 -0.081869     0.219178   \n",
       "215            0.487428  0.128368  0.004382  0.206084 -0.057212     0.967123   \n",
       "276            0.470010  0.093931  0.005216  0.113952 -0.061869     0.468493   \n",
       "...                 ...       ...       ...       ...       ...          ...   \n",
       "766458         0.674424  0.021561  0.001595  0.024767 -0.036327     0.230137   \n",
       "766476         0.286517  0.049109  0.007385  0.048679 -0.030389     0.230137   \n",
       "766485         0.303014  0.215573  0.012387  0.226695 -0.057305     0.632877   \n",
       "766487         0.274018  0.412290  0.017958  0.307097 -0.068240     0.632877   \n",
       "766517         0.428103  0.101894  0.008665  0.085309 -0.079560     0.230137   \n",
       "\n",
       "        mid_price  option_ret  \n",
       "111       0.28125    0.079779  \n",
       "114       0.25000   -0.043070  \n",
       "125       0.25000   -0.281362  \n",
       "215       0.50000    0.099182  \n",
       "276       0.34375    0.050313  \n",
       "...           ...         ...  \n",
       "766458    0.80500   -0.100079  \n",
       "766476    0.15000   -0.006185  \n",
       "766485    1.46500    0.002434  \n",
       "766487    2.47500   -0.049771  \n",
       "766517    1.38000   -0.069251  \n",
       "\n",
       "[20582 rows x 13 columns]"
      ]
     },
     "execution_count": 40,
     "metadata": {},
     "output_type": "execute_result"
    }
   ],
   "source": [
    "data[data[\"ba_spread_option\"] > 5 * IQA]"
   ]
  },
  {
   "cell_type": "code",
   "execution_count": 41,
   "id": "aa99a2a0",
   "metadata": {},
   "outputs": [
    {
     "data": {
      "text/plain": [
       "0.9782608695652175"
      ]
     },
     "execution_count": 41,
     "metadata": {},
     "output_type": "execute_result"
    }
   ],
   "source": [
    "np.percentile(data[\"ba_spread_option\"], 99.99)"
   ]
  },
  {
   "cell_type": "code",
   "execution_count": 42,
   "id": "13693363",
   "metadata": {},
   "outputs": [
    {
     "data": {
      "text/html": [
       "<div>\n",
       "<style scoped>\n",
       "    .dataframe tbody tr th:only-of-type {\n",
       "        vertical-align: middle;\n",
       "    }\n",
       "\n",
       "    .dataframe tbody tr th {\n",
       "        vertical-align: top;\n",
       "    }\n",
       "\n",
       "    .dataframe thead th {\n",
       "        text-align: right;\n",
       "    }\n",
       "</style>\n",
       "<table border=\"1\" class=\"dataframe\">\n",
       "  <thead>\n",
       "    <tr style=\"text-align: right;\">\n",
       "      <th></th>\n",
       "      <th>date</th>\n",
       "      <th>moneyness</th>\n",
       "      <th>ba_spread_option</th>\n",
       "      <th>volume</th>\n",
       "      <th>open_interest</th>\n",
       "      <th>impl_volatility</th>\n",
       "      <th>delta</th>\n",
       "      <th>gamma</th>\n",
       "      <th>vega</th>\n",
       "      <th>theta</th>\n",
       "      <th>days_to_exp</th>\n",
       "      <th>mid_price</th>\n",
       "      <th>option_ret</th>\n",
       "    </tr>\n",
       "  </thead>\n",
       "  <tbody>\n",
       "    <tr>\n",
       "      <th>261197</th>\n",
       "      <td>2008-09-30</td>\n",
       "      <td>1.808786</td>\n",
       "      <td>0.981481</td>\n",
       "      <td>10</td>\n",
       "      <td>406</td>\n",
       "      <td>0.903624</td>\n",
       "      <td>0.166786</td>\n",
       "      <td>0.005066</td>\n",
       "      <td>0.135420</td>\n",
       "      <td>-0.211812</td>\n",
       "      <td>0.298630</td>\n",
       "      <td>1.375</td>\n",
       "      <td>0.197179</td>\n",
       "    </tr>\n",
       "    <tr>\n",
       "      <th>394904</th>\n",
       "      <td>2014-03-31</td>\n",
       "      <td>1.484729</td>\n",
       "      <td>0.980769</td>\n",
       "      <td>15</td>\n",
       "      <td>21</td>\n",
       "      <td>0.664909</td>\n",
       "      <td>0.134929</td>\n",
       "      <td>0.006930</td>\n",
       "      <td>0.102310</td>\n",
       "      <td>-0.153444</td>\n",
       "      <td>0.224658</td>\n",
       "      <td>1.325</td>\n",
       "      <td>-0.058717</td>\n",
       "    </tr>\n",
       "    <tr>\n",
       "      <th>419738</th>\n",
       "      <td>2015-01-31</td>\n",
       "      <td>1.555786</td>\n",
       "      <td>0.989691</td>\n",
       "      <td>2</td>\n",
       "      <td>330</td>\n",
       "      <td>0.282347</td>\n",
       "      <td>0.066466</td>\n",
       "      <td>0.004672</td>\n",
       "      <td>0.126479</td>\n",
       "      <td>-0.018853</td>\n",
       "      <td>0.958904</td>\n",
       "      <td>0.490</td>\n",
       "      <td>0.114990</td>\n",
       "    </tr>\n",
       "    <tr>\n",
       "      <th>518054</th>\n",
       "      <td>2017-12-31</td>\n",
       "      <td>1.113204</td>\n",
       "      <td>0.983333</td>\n",
       "      <td>1</td>\n",
       "      <td>1423</td>\n",
       "      <td>0.137360</td>\n",
       "      <td>0.078996</td>\n",
       "      <td>0.019603</td>\n",
       "      <td>0.080526</td>\n",
       "      <td>-0.019788</td>\n",
       "      <td>0.306849</td>\n",
       "      <td>0.305</td>\n",
       "      <td>0.065196</td>\n",
       "    </tr>\n",
       "    <tr>\n",
       "      <th>531694</th>\n",
       "      <td>2018-03-31</td>\n",
       "      <td>1.265217</td>\n",
       "      <td>0.981818</td>\n",
       "      <td>10</td>\n",
       "      <td>30</td>\n",
       "      <td>0.238986</td>\n",
       "      <td>0.117762</td>\n",
       "      <td>0.011044</td>\n",
       "      <td>0.147413</td>\n",
       "      <td>-0.034022</td>\n",
       "      <td>0.558904</td>\n",
       "      <td>1.400</td>\n",
       "      <td>0.019115</td>\n",
       "    </tr>\n",
       "    <tr>\n",
       "      <th>...</th>\n",
       "      <td>...</td>\n",
       "      <td>...</td>\n",
       "      <td>...</td>\n",
       "      <td>...</td>\n",
       "      <td>...</td>\n",
       "      <td>...</td>\n",
       "      <td>...</td>\n",
       "      <td>...</td>\n",
       "      <td>...</td>\n",
       "      <td>...</td>\n",
       "      <td>...</td>\n",
       "      <td>...</td>\n",
       "      <td>...</td>\n",
       "    </tr>\n",
       "    <tr>\n",
       "      <th>704632</th>\n",
       "      <td>2021-02-28</td>\n",
       "      <td>1.327769</td>\n",
       "      <td>0.984848</td>\n",
       "      <td>1</td>\n",
       "      <td>77</td>\n",
       "      <td>0.358069</td>\n",
       "      <td>0.185573</td>\n",
       "      <td>0.009409</td>\n",
       "      <td>0.213324</td>\n",
       "      <td>-0.060599</td>\n",
       "      <td>0.632877</td>\n",
       "      <td>1.340</td>\n",
       "      <td>0.097466</td>\n",
       "    </tr>\n",
       "    <tr>\n",
       "      <th>704781</th>\n",
       "      <td>2021-02-28</td>\n",
       "      <td>1.450151</td>\n",
       "      <td>0.995327</td>\n",
       "      <td>4</td>\n",
       "      <td>32</td>\n",
       "      <td>0.368531</td>\n",
       "      <td>0.042027</td>\n",
       "      <td>0.004396</td>\n",
       "      <td>0.049731</td>\n",
       "      <td>-0.029909</td>\n",
       "      <td>0.306849</td>\n",
       "      <td>1.075</td>\n",
       "      <td>0.110451</td>\n",
       "    </tr>\n",
       "    <tr>\n",
       "      <th>713928</th>\n",
       "      <td>2021-03-31</td>\n",
       "      <td>1.315179</td>\n",
       "      <td>0.992806</td>\n",
       "      <td>2</td>\n",
       "      <td>24</td>\n",
       "      <td>0.339231</td>\n",
       "      <td>0.169225</td>\n",
       "      <td>0.009379</td>\n",
       "      <td>0.200094</td>\n",
       "      <td>-0.054228</td>\n",
       "      <td>0.638356</td>\n",
       "      <td>1.400</td>\n",
       "      <td>0.062776</td>\n",
       "    </tr>\n",
       "    <tr>\n",
       "      <th>716223</th>\n",
       "      <td>2021-03-31</td>\n",
       "      <td>1.201701</td>\n",
       "      <td>0.979167</td>\n",
       "      <td>1</td>\n",
       "      <td>497</td>\n",
       "      <td>0.188196</td>\n",
       "      <td>0.141102</td>\n",
       "      <td>0.013259</td>\n",
       "      <td>0.199946</td>\n",
       "      <td>-0.023727</td>\n",
       "      <td>0.810959</td>\n",
       "      <td>1.225</td>\n",
       "      <td>-0.087247</td>\n",
       "    </tr>\n",
       "    <tr>\n",
       "      <th>717176</th>\n",
       "      <td>2021-03-31</td>\n",
       "      <td>1.596297</td>\n",
       "      <td>0.993333</td>\n",
       "      <td>5</td>\n",
       "      <td>322</td>\n",
       "      <td>0.302010</td>\n",
       "      <td>0.057275</td>\n",
       "      <td>0.004225</td>\n",
       "      <td>0.103487</td>\n",
       "      <td>-0.019365</td>\n",
       "      <td>0.810959</td>\n",
       "      <td>0.755</td>\n",
       "      <td>0.099947</td>\n",
       "    </tr>\n",
       "  </tbody>\n",
       "</table>\n",
       "<p>76 rows × 13 columns</p>\n",
       "</div>"
      ],
      "text/plain": [
       "             date  moneyness  ba_spread_option  volume  open_interest  \\\n",
       "261197 2008-09-30   1.808786          0.981481      10            406   \n",
       "394904 2014-03-31   1.484729          0.980769      15             21   \n",
       "419738 2015-01-31   1.555786          0.989691       2            330   \n",
       "518054 2017-12-31   1.113204          0.983333       1           1423   \n",
       "531694 2018-03-31   1.265217          0.981818      10             30   \n",
       "...           ...        ...               ...     ...            ...   \n",
       "704632 2021-02-28   1.327769          0.984848       1             77   \n",
       "704781 2021-02-28   1.450151          0.995327       4             32   \n",
       "713928 2021-03-31   1.315179          0.992806       2             24   \n",
       "716223 2021-03-31   1.201701          0.979167       1            497   \n",
       "717176 2021-03-31   1.596297          0.993333       5            322   \n",
       "\n",
       "        impl_volatility     delta     gamma      vega     theta  days_to_exp  \\\n",
       "261197         0.903624  0.166786  0.005066  0.135420 -0.211812     0.298630   \n",
       "394904         0.664909  0.134929  0.006930  0.102310 -0.153444     0.224658   \n",
       "419738         0.282347  0.066466  0.004672  0.126479 -0.018853     0.958904   \n",
       "518054         0.137360  0.078996  0.019603  0.080526 -0.019788     0.306849   \n",
       "531694         0.238986  0.117762  0.011044  0.147413 -0.034022     0.558904   \n",
       "...                 ...       ...       ...       ...       ...          ...   \n",
       "704632         0.358069  0.185573  0.009409  0.213324 -0.060599     0.632877   \n",
       "704781         0.368531  0.042027  0.004396  0.049731 -0.029909     0.306849   \n",
       "713928         0.339231  0.169225  0.009379  0.200094 -0.054228     0.638356   \n",
       "716223         0.188196  0.141102  0.013259  0.199946 -0.023727     0.810959   \n",
       "717176         0.302010  0.057275  0.004225  0.103487 -0.019365     0.810959   \n",
       "\n",
       "        mid_price  option_ret  \n",
       "261197      1.375    0.197179  \n",
       "394904      1.325   -0.058717  \n",
       "419738      0.490    0.114990  \n",
       "518054      0.305    0.065196  \n",
       "531694      1.400    0.019115  \n",
       "...           ...         ...  \n",
       "704632      1.340    0.097466  \n",
       "704781      1.075    0.110451  \n",
       "713928      1.400    0.062776  \n",
       "716223      1.225   -0.087247  \n",
       "717176      0.755    0.099947  \n",
       "\n",
       "[76 rows x 13 columns]"
      ]
     },
     "execution_count": 42,
     "metadata": {},
     "output_type": "execute_result"
    }
   ],
   "source": [
    "data[data[\"ba_spread_option\"] > np.percentile(data[\"ba_spread_option\"], 99.99)]"
   ]
  },
  {
   "cell_type": "code",
   "execution_count": null,
   "id": "6cf12174",
   "metadata": {},
   "outputs": [],
   "source": []
  },
  {
   "cell_type": "code",
   "execution_count": null,
   "id": "a87822bc",
   "metadata": {},
   "outputs": [],
   "source": []
  },
  {
   "cell_type": "code",
   "execution_count": null,
   "id": "ddf1bdf2",
   "metadata": {},
   "outputs": [],
   "source": []
  },
  {
   "cell_type": "code",
   "execution_count": null,
   "id": "88c45f66",
   "metadata": {},
   "outputs": [],
   "source": []
  },
  {
   "cell_type": "code",
   "execution_count": null,
   "id": "ad8d1728",
   "metadata": {},
   "outputs": [],
   "source": []
  },
  {
   "cell_type": "code",
   "execution_count": 43,
   "id": "53186bf5",
   "metadata": {},
   "outputs": [
    {
     "data": {
      "text/plain": [
       "count    766524.000000\n",
       "mean         -0.107108\n",
       "std           0.061677\n",
       "min          -1.100684\n",
       "25%          -0.131665\n",
       "50%          -0.093659\n",
       "75%          -0.066433\n",
       "max          -0.000643\n",
       "Name: theta, dtype: float64"
      ]
     },
     "execution_count": 43,
     "metadata": {},
     "output_type": "execute_result"
    }
   ],
   "source": [
    "data[\"theta\"].describe()"
   ]
  },
  {
   "cell_type": "code",
   "execution_count": 44,
   "id": "e70b2783",
   "metadata": {
    "scrolled": true
   },
   "outputs": [
    {
     "data": {
      "text/plain": [
       "<AxesSubplot:ylabel='Frequency'>"
      ]
     },
     "execution_count": 44,
     "metadata": {},
     "output_type": "execute_result"
    },
    {
     "data": {
      "image/png": "[encoded data removed]",
      "text/plain": [
       "<Figure size 432x288 with 1 Axes>"
      ]
     },
     "metadata": {
      "needs_background": "light"
     },
     "output_type": "display_data"
    }
   ],
   "source": [
    "np.log(data[\"days_to_exp\"]).plot(kind=\"hist\")"
   ]
  },
  {
   "cell_type": "code",
   "execution_count": 45,
   "id": "0583c89b",
   "metadata": {
    "scrolled": true
   },
   "outputs": [
    {
     "data": {
      "text/plain": [
       "count    766524.000000\n",
       "mean          1.071438\n",
       "std           0.221463\n",
       "min           0.012602\n",
       "25%           0.967889\n",
       "50%           1.048532\n",
       "75%           1.143368\n",
       "max          23.916293\n",
       "Name: moneyness, dtype: float64"
      ]
     },
     "execution_count": 45,
     "metadata": {},
     "output_type": "execute_result"
    }
   ],
   "source": [
    "data[\"moneyness\"].describe()"
   ]
  },
  {
   "cell_type": "code",
   "execution_count": 46,
   "id": "790f8268",
   "metadata": {},
   "outputs": [
    {
     "data": {
      "text/plain": [
       "1.2791358726549176"
      ]
     },
     "execution_count": 46,
     "metadata": {},
     "output_type": "execute_result"
    }
   ],
   "source": [
    "np.percentile(data[\"moneyness\"], 90)"
   ]
  },
  {
   "cell_type": "code",
   "execution_count": 47,
   "id": "e7d948c5",
   "metadata": {},
   "outputs": [
    {
     "data": {
      "text/html": [
       "<div>\n",
       "<style scoped>\n",
       "    .dataframe tbody tr th:only-of-type {\n",
       "        vertical-align: middle;\n",
       "    }\n",
       "\n",
       "    .dataframe tbody tr th {\n",
       "        vertical-align: top;\n",
       "    }\n",
       "\n",
       "    .dataframe thead th {\n",
       "        text-align: right;\n",
       "    }\n",
       "</style>\n",
       "<table border=\"1\" class=\"dataframe\">\n",
       "  <thead>\n",
       "    <tr style=\"text-align: right;\">\n",
       "      <th></th>\n",
       "      <th>date</th>\n",
       "      <th>moneyness</th>\n",
       "      <th>ba_spread_option</th>\n",
       "      <th>volume</th>\n",
       "      <th>open_interest</th>\n",
       "      <th>impl_volatility</th>\n",
       "      <th>delta</th>\n",
       "      <th>gamma</th>\n",
       "      <th>vega</th>\n",
       "      <th>theta</th>\n",
       "      <th>days_to_exp</th>\n",
       "      <th>mid_price</th>\n",
       "      <th>option_ret</th>\n",
       "    </tr>\n",
       "  </thead>\n",
       "  <tbody>\n",
       "  </tbody>\n",
       "</table>\n",
       "</div>"
      ],
      "text/plain": [
       "Empty DataFrame\n",
       "Columns: [date, moneyness, ba_spread_option, volume, open_interest, impl_volatility, delta, gamma, vega, theta, days_to_exp, mid_price, option_ret]\n",
       "Index: []"
      ]
     },
     "execution_count": 47,
     "metadata": {},
     "output_type": "execute_result"
    }
   ],
   "source": [
    "data[data[\"moneyness\"] > 40]"
   ]
  },
  {
   "cell_type": "code",
   "execution_count": 48,
   "id": "c5b894be",
   "metadata": {},
   "outputs": [
    {
     "data": {
      "text/html": [
       "<div>\n",
       "<style scoped>\n",
       "    .dataframe tbody tr th:only-of-type {\n",
       "        vertical-align: middle;\n",
       "    }\n",
       "\n",
       "    .dataframe tbody tr th {\n",
       "        vertical-align: top;\n",
       "    }\n",
       "\n",
       "    .dataframe thead th {\n",
       "        text-align: right;\n",
       "    }\n",
       "</style>\n",
       "<table border=\"1\" class=\"dataframe\">\n",
       "  <thead>\n",
       "    <tr style=\"text-align: right;\">\n",
       "      <th></th>\n",
       "      <th>moneyness</th>\n",
       "      <th>ba_spread_option</th>\n",
       "      <th>volume</th>\n",
       "      <th>open_interest</th>\n",
       "      <th>impl_volatility</th>\n",
       "      <th>delta</th>\n",
       "      <th>gamma</th>\n",
       "      <th>vega</th>\n",
       "      <th>theta</th>\n",
       "      <th>days_to_exp</th>\n",
       "      <th>mid_price</th>\n",
       "      <th>option_ret</th>\n",
       "    </tr>\n",
       "  </thead>\n",
       "  <tbody>\n",
       "    <tr>\n",
       "      <th>count</th>\n",
       "      <td>766524.000000</td>\n",
       "      <td>766524.000000</td>\n",
       "      <td>766524.000000</td>\n",
       "      <td>766524.000000</td>\n",
       "      <td>766524.000000</td>\n",
       "      <td>766524.000000</td>\n",
       "      <td>766524.000000</td>\n",
       "      <td>766524.000000</td>\n",
       "      <td>766524.000000</td>\n",
       "      <td>766524.000000</td>\n",
       "      <td>766524.000000</td>\n",
       "      <td>766524.000000</td>\n",
       "    </tr>\n",
       "    <tr>\n",
       "      <th>mean</th>\n",
       "      <td>1.071438</td>\n",
       "      <td>0.091754</td>\n",
       "      <td>94.122394</td>\n",
       "      <td>2620.165558</td>\n",
       "      <td>0.371724</td>\n",
       "      <td>0.465496</td>\n",
       "      <td>0.017279</td>\n",
       "      <td>0.215396</td>\n",
       "      <td>-0.107108</td>\n",
       "      <td>0.450317</td>\n",
       "      <td>12.252915</td>\n",
       "      <td>-0.001931</td>\n",
       "    </tr>\n",
       "    <tr>\n",
       "      <th>std</th>\n",
       "      <td>0.221463</td>\n",
       "      <td>0.103934</td>\n",
       "      <td>560.381882</td>\n",
       "      <td>7100.937776</td>\n",
       "      <td>0.182217</td>\n",
       "      <td>0.221033</td>\n",
       "      <td>0.009281</td>\n",
       "      <td>0.072196</td>\n",
       "      <td>0.061677</td>\n",
       "      <td>0.202591</td>\n",
       "      <td>37.219444</td>\n",
       "      <td>0.137132</td>\n",
       "    </tr>\n",
       "    <tr>\n",
       "      <th>min</th>\n",
       "      <td>0.012602</td>\n",
       "      <td>0.000787</td>\n",
       "      <td>1.000000</td>\n",
       "      <td>1.000000</td>\n",
       "      <td>0.013138</td>\n",
       "      <td>0.002544</td>\n",
       "      <td>0.000008</td>\n",
       "      <td>0.000106</td>\n",
       "      <td>-1.100684</td>\n",
       "      <td>0.202740</td>\n",
       "      <td>0.040000</td>\n",
       "      <td>-46.160174</td>\n",
       "    </tr>\n",
       "    <tr>\n",
       "      <th>25%</th>\n",
       "      <td>0.967889</td>\n",
       "      <td>0.032787</td>\n",
       "      <td>5.000000</td>\n",
       "      <td>203.000000</td>\n",
       "      <td>0.251836</td>\n",
       "      <td>0.296927</td>\n",
       "      <td>0.010702</td>\n",
       "      <td>0.171365</td>\n",
       "      <td>-0.131665</td>\n",
       "      <td>0.295890</td>\n",
       "      <td>1.725000</td>\n",
       "      <td>-0.010827</td>\n",
       "    </tr>\n",
       "    <tr>\n",
       "      <th>50%</th>\n",
       "      <td>1.048532</td>\n",
       "      <td>0.058824</td>\n",
       "      <td>15.000000</td>\n",
       "      <td>705.000000</td>\n",
       "      <td>0.326909</td>\n",
       "      <td>0.455947</td>\n",
       "      <td>0.015806</td>\n",
       "      <td>0.214991</td>\n",
       "      <td>-0.093659</td>\n",
       "      <td>0.391781</td>\n",
       "      <td>3.850000</td>\n",
       "      <td>0.008719</td>\n",
       "    </tr>\n",
       "    <tr>\n",
       "      <th>75%</th>\n",
       "      <td>1.143368</td>\n",
       "      <td>0.108108</td>\n",
       "      <td>51.000000</td>\n",
       "      <td>2243.000000</td>\n",
       "      <td>0.436513</td>\n",
       "      <td>0.619540</td>\n",
       "      <td>0.022164</td>\n",
       "      <td>0.266398</td>\n",
       "      <td>-0.066433</td>\n",
       "      <td>0.558904</td>\n",
       "      <td>9.500000</td>\n",
       "      <td>0.027526</td>\n",
       "    </tr>\n",
       "    <tr>\n",
       "      <th>max</th>\n",
       "      <td>23.916293</td>\n",
       "      <td>0.996296</td>\n",
       "      <td>130924.000000</td>\n",
       "      <td>449713.000000</td>\n",
       "      <td>2.930194</td>\n",
       "      <td>0.999956</td>\n",
       "      <td>0.529508</td>\n",
       "      <td>0.394605</td>\n",
       "      <td>-0.000643</td>\n",
       "      <td>0.980822</td>\n",
       "      <td>2243.325000</td>\n",
       "      <td>5.475154</td>\n",
       "    </tr>\n",
       "  </tbody>\n",
       "</table>\n",
       "</div>"
      ],
      "text/plain": [
       "           moneyness  ba_spread_option         volume  open_interest  \\\n",
       "count  766524.000000     766524.000000  766524.000000  766524.000000   \n",
       "mean        1.071438          0.091754      94.122394    2620.165558   \n",
       "std         0.221463          0.103934     560.381882    7100.937776   \n",
       "min         0.012602          0.000787       1.000000       1.000000   \n",
       "25%         0.967889          0.032787       5.000000     203.000000   \n",
       "50%         1.048532          0.058824      15.000000     705.000000   \n",
       "75%         1.143368          0.108108      51.000000    2243.000000   \n",
       "max        23.916293          0.996296  130924.000000  449713.000000   \n",
       "\n",
       "       impl_volatility          delta          gamma           vega  \\\n",
       "count    766524.000000  766524.000000  766524.000000  766524.000000   \n",
       "mean          0.371724       0.465496       0.017279       0.215396   \n",
       "std           0.182217       0.221033       0.009281       0.072196   \n",
       "min           0.013138       0.002544       0.000008       0.000106   \n",
       "25%           0.251836       0.296927       0.010702       0.171365   \n",
       "50%           0.326909       0.455947       0.015806       0.214991   \n",
       "75%           0.436513       0.619540       0.022164       0.266398   \n",
       "max           2.930194       0.999956       0.529508       0.394605   \n",
       "\n",
       "               theta    days_to_exp      mid_price     option_ret  \n",
       "count  766524.000000  766524.000000  766524.000000  766524.000000  \n",
       "mean       -0.107108       0.450317      12.252915      -0.001931  \n",
       "std         0.061677       0.202591      37.219444       0.137132  \n",
       "min        -1.100684       0.202740       0.040000     -46.160174  \n",
       "25%        -0.131665       0.295890       1.725000      -0.010827  \n",
       "50%        -0.093659       0.391781       3.850000       0.008719  \n",
       "75%        -0.066433       0.558904       9.500000       0.027526  \n",
       "max        -0.000643       0.980822    2243.325000       5.475154  "
      ]
     },
     "execution_count": 48,
     "metadata": {},
     "output_type": "execute_result"
    }
   ],
   "source": [
    "data.describe()"
   ]
  },
  {
   "cell_type": "code",
   "execution_count": 49,
   "id": "f1d22ff2",
   "metadata": {},
   "outputs": [],
   "source": [
    "# def standardize(x):\n",
    "#     return (x - np.mean(x)) / np.std(x)\n",
    "\n",
    "# # Plot each column\n",
    "# for i in data.columns[1:]:\n",
    "#     plt.figure()\n",
    "#     plt.hist(standardize(data[i]))\n",
    "#     plt.title(i)"
   ]
  },
  {
   "cell_type": "code",
   "execution_count": null,
   "id": "3c2903d5",
   "metadata": {},
   "outputs": [],
   "source": []
  },
  {
   "cell_type": "code",
   "execution_count": null,
   "id": "85e294de",
   "metadata": {},
   "outputs": [],
   "source": []
  },
  {
   "cell_type": "code",
   "execution_count": 50,
   "id": "ec02f438",
   "metadata": {
    "scrolled": true
   },
   "outputs": [
    {
     "data": {
      "text/html": [
       "<div>\n",
       "<style scoped>\n",
       "    .dataframe tbody tr th:only-of-type {\n",
       "        vertical-align: middle;\n",
       "    }\n",
       "\n",
       "    .dataframe tbody tr th {\n",
       "        vertical-align: top;\n",
       "    }\n",
       "\n",
       "    .dataframe thead th {\n",
       "        text-align: right;\n",
       "    }\n",
       "</style>\n",
       "<table border=\"1\" class=\"dataframe\">\n",
       "  <thead>\n",
       "    <tr style=\"text-align: right;\">\n",
       "      <th></th>\n",
       "      <th>date</th>\n",
       "      <th>moneyness</th>\n",
       "      <th>ba_spread_option</th>\n",
       "      <th>volume</th>\n",
       "      <th>open_interest</th>\n",
       "      <th>impl_volatility</th>\n",
       "      <th>delta</th>\n",
       "      <th>gamma</th>\n",
       "      <th>vega</th>\n",
       "      <th>theta</th>\n",
       "      <th>days_to_exp</th>\n",
       "      <th>mid_price</th>\n",
       "      <th>option_ret</th>\n",
       "    </tr>\n",
       "  </thead>\n",
       "  <tbody>\n",
       "    <tr>\n",
       "      <th>0</th>\n",
       "      <td>1996-01-31</td>\n",
       "      <td>1.081081</td>\n",
       "      <td>0.160000</td>\n",
       "      <td>4</td>\n",
       "      <td>96</td>\n",
       "      <td>0.185437</td>\n",
       "      <td>0.315673</td>\n",
       "      <td>0.028479</td>\n",
       "      <td>0.238400</td>\n",
       "      <td>-0.064215</td>\n",
       "      <td>0.468493</td>\n",
       "      <td>1.4375</td>\n",
       "      <td>-0.028955</td>\n",
       "    </tr>\n",
       "    <tr>\n",
       "      <th>1</th>\n",
       "      <td>1996-01-31</td>\n",
       "      <td>1.025641</td>\n",
       "      <td>0.137931</td>\n",
       "      <td>23</td>\n",
       "      <td>134</td>\n",
       "      <td>0.244550</td>\n",
       "      <td>0.464967</td>\n",
       "      <td>0.030342</td>\n",
       "      <td>0.213110</td>\n",
       "      <td>-0.113202</td>\n",
       "      <td>0.295890</td>\n",
       "      <td>1.6875</td>\n",
       "      <td>-0.011522</td>\n",
       "    </tr>\n",
       "    <tr>\n",
       "      <th>2</th>\n",
       "      <td>1996-01-31</td>\n",
       "      <td>1.142857</td>\n",
       "      <td>0.250000</td>\n",
       "      <td>10</td>\n",
       "      <td>3830</td>\n",
       "      <td>0.453317</td>\n",
       "      <td>0.345315</td>\n",
       "      <td>0.014950</td>\n",
       "      <td>0.197803</td>\n",
       "      <td>-0.169347</td>\n",
       "      <td>0.295890</td>\n",
       "      <td>0.4375</td>\n",
       "      <td>0.130158</td>\n",
       "    </tr>\n",
       "    <tr>\n",
       "      <th>3</th>\n",
       "      <td>1996-01-31</td>\n",
       "      <td>0.944882</td>\n",
       "      <td>0.100000</td>\n",
       "      <td>5</td>\n",
       "      <td>254</td>\n",
       "      <td>0.324523</td>\n",
       "      <td>0.657941</td>\n",
       "      <td>0.018036</td>\n",
       "      <td>0.225074</td>\n",
       "      <td>-0.123758</td>\n",
       "      <td>0.391781</td>\n",
       "      <td>3.5625</td>\n",
       "      <td>0.008158</td>\n",
       "    </tr>\n",
       "    <tr>\n",
       "      <th>4</th>\n",
       "      <td>1996-01-31</td>\n",
       "      <td>0.944882</td>\n",
       "      <td>0.085714</td>\n",
       "      <td>2</td>\n",
       "      <td>4</td>\n",
       "      <td>0.312125</td>\n",
       "      <td>0.650623</td>\n",
       "      <td>0.014612</td>\n",
       "      <td>0.288712</td>\n",
       "      <td>-0.097742</td>\n",
       "      <td>0.641096</td>\n",
       "      <td>4.1875</td>\n",
       "      <td>-0.005763</td>\n",
       "    </tr>\n",
       "    <tr>\n",
       "      <th>...</th>\n",
       "      <td>...</td>\n",
       "      <td>...</td>\n",
       "      <td>...</td>\n",
       "      <td>...</td>\n",
       "      <td>...</td>\n",
       "      <td>...</td>\n",
       "      <td>...</td>\n",
       "      <td>...</td>\n",
       "      <td>...</td>\n",
       "      <td>...</td>\n",
       "      <td>...</td>\n",
       "      <td>...</td>\n",
       "      <td>...</td>\n",
       "    </tr>\n",
       "    <tr>\n",
       "      <th>766519</th>\n",
       "      <td>2021-10-31</td>\n",
       "      <td>0.936330</td>\n",
       "      <td>0.111111</td>\n",
       "      <td>30</td>\n",
       "      <td>5642</td>\n",
       "      <td>0.343540</td>\n",
       "      <td>0.672280</td>\n",
       "      <td>0.023547</td>\n",
       "      <td>0.170486</td>\n",
       "      <td>-0.139916</td>\n",
       "      <td>0.230137</td>\n",
       "      <td>1.2750</td>\n",
       "      <td>-0.012879</td>\n",
       "    </tr>\n",
       "    <tr>\n",
       "      <th>766520</th>\n",
       "      <td>2021-10-31</td>\n",
       "      <td>1.048689</td>\n",
       "      <td>0.166667</td>\n",
       "      <td>39</td>\n",
       "      <td>3039</td>\n",
       "      <td>0.336500</td>\n",
       "      <td>0.393872</td>\n",
       "      <td>0.023889</td>\n",
       "      <td>0.183325</td>\n",
       "      <td>-0.135840</td>\n",
       "      <td>0.230137</td>\n",
       "      <td>0.5500</td>\n",
       "      <td>-0.012664</td>\n",
       "    </tr>\n",
       "    <tr>\n",
       "      <th>766521</th>\n",
       "      <td>2021-10-31</td>\n",
       "      <td>0.898876</td>\n",
       "      <td>0.097561</td>\n",
       "      <td>83</td>\n",
       "      <td>349</td>\n",
       "      <td>0.374323</td>\n",
       "      <td>0.691910</td>\n",
       "      <td>0.014517</td>\n",
       "      <td>0.226750</td>\n",
       "      <td>-0.102782</td>\n",
       "      <td>0.457534</td>\n",
       "      <td>1.9500</td>\n",
       "      <td>-0.043857</td>\n",
       "    </tr>\n",
       "    <tr>\n",
       "      <th>766522</th>\n",
       "      <td>2021-10-31</td>\n",
       "      <td>1.048689</td>\n",
       "      <td>0.285714</td>\n",
       "      <td>12</td>\n",
       "      <td>1919</td>\n",
       "      <td>0.348393</td>\n",
       "      <td>0.441325</td>\n",
       "      <td>0.017001</td>\n",
       "      <td>0.263165</td>\n",
       "      <td>-0.103916</td>\n",
       "      <td>0.457534</td>\n",
       "      <td>0.9000</td>\n",
       "      <td>-0.021832</td>\n",
       "    </tr>\n",
       "    <tr>\n",
       "      <th>766523</th>\n",
       "      <td>2021-10-31</td>\n",
       "      <td>1.123596</td>\n",
       "      <td>0.153846</td>\n",
       "      <td>4</td>\n",
       "      <td>602</td>\n",
       "      <td>0.349050</td>\n",
       "      <td>0.329124</td>\n",
       "      <td>0.015487</td>\n",
       "      <td>0.241932</td>\n",
       "      <td>-0.094904</td>\n",
       "      <td>0.457534</td>\n",
       "      <td>0.6000</td>\n",
       "      <td>-0.030916</td>\n",
       "    </tr>\n",
       "  </tbody>\n",
       "</table>\n",
       "<p>761302 rows × 13 columns</p>\n",
       "</div>"
      ],
      "text/plain": [
       "             date  moneyness  ba_spread_option  volume  open_interest  \\\n",
       "0      1996-01-31   1.081081          0.160000       4             96   \n",
       "1      1996-01-31   1.025641          0.137931      23            134   \n",
       "2      1996-01-31   1.142857          0.250000      10           3830   \n",
       "3      1996-01-31   0.944882          0.100000       5            254   \n",
       "4      1996-01-31   0.944882          0.085714       2              4   \n",
       "...           ...        ...               ...     ...            ...   \n",
       "766519 2021-10-31   0.936330          0.111111      30           5642   \n",
       "766520 2021-10-31   1.048689          0.166667      39           3039   \n",
       "766521 2021-10-31   0.898876          0.097561      83            349   \n",
       "766522 2021-10-31   1.048689          0.285714      12           1919   \n",
       "766523 2021-10-31   1.123596          0.153846       4            602   \n",
       "\n",
       "        impl_volatility     delta     gamma      vega     theta  days_to_exp  \\\n",
       "0              0.185437  0.315673  0.028479  0.238400 -0.064215     0.468493   \n",
       "1              0.244550  0.464967  0.030342  0.213110 -0.113202     0.295890   \n",
       "2              0.453317  0.345315  0.014950  0.197803 -0.169347     0.295890   \n",
       "3              0.324523  0.657941  0.018036  0.225074 -0.123758     0.391781   \n",
       "4              0.312125  0.650623  0.014612  0.288712 -0.097742     0.641096   \n",
       "...                 ...       ...       ...       ...       ...          ...   \n",
       "766519         0.343540  0.672280  0.023547  0.170486 -0.139916     0.230137   \n",
       "766520         0.336500  0.393872  0.023889  0.183325 -0.135840     0.230137   \n",
       "766521         0.374323  0.691910  0.014517  0.226750 -0.102782     0.457534   \n",
       "766522         0.348393  0.441325  0.017001  0.263165 -0.103916     0.457534   \n",
       "766523         0.349050  0.329124  0.015487  0.241932 -0.094904     0.457534   \n",
       "\n",
       "        mid_price  option_ret  \n",
       "0          1.4375   -0.028955  \n",
       "1          1.6875   -0.011522  \n",
       "2          0.4375    0.130158  \n",
       "3          3.5625    0.008158  \n",
       "4          4.1875   -0.005763  \n",
       "...           ...         ...  \n",
       "766519     1.2750   -0.012879  \n",
       "766520     0.5500   -0.012664  \n",
       "766521     1.9500   -0.043857  \n",
       "766522     0.9000   -0.021832  \n",
       "766523     0.6000   -0.030916  \n",
       "\n",
       "[761302 rows x 13 columns]"
      ]
     },
     "execution_count": 50,
     "metadata": {},
     "output_type": "execute_result"
    }
   ],
   "source": [
    "data[(data[\"option_ret\"] > -0.5) & (data[\"option_ret\"] < 2)]"
   ]
  },
  {
   "cell_type": "code",
   "execution_count": null,
   "id": "aa1eae41",
   "metadata": {},
   "outputs": [],
   "source": []
  },
  {
   "cell_type": "code",
   "execution_count": null,
   "id": "55f4f58a",
   "metadata": {},
   "outputs": [],
   "source": []
  },
  {
   "cell_type": "code",
   "execution_count": 51,
   "id": "13869af5",
   "metadata": {},
   "outputs": [],
   "source": [
    "# -> moved to data prep file\n",
    "# data = data.drop([\"secid\", \"optionid\", \"date\", \"exdate\", \"sdate\", \"edate\", \"permno\"], axis=1)\n",
    "# -> moved to data prep file. sort values by data! (optionally by secid -> but better to shuffle later)\n",
    "# data = data.sort_values([\"date\", \"secid\"]).reset_index(drop=True)"
   ]
  },
  {
   "cell_type": "code",
   "execution_count": 52,
   "id": "09dc7de5",
   "metadata": {
    "scrolled": true
   },
   "outputs": [
    {
     "data": {
      "text/plain": [
       "0.0"
      ]
     },
     "execution_count": 52,
     "metadata": {},
     "output_type": "execute_result"
    }
   ],
   "source": [
    "# How many % missing values do we have?\n",
    "np.sum(np.sum(data.isnull())) / (data.shape[0] * data.shape[1]) * 100"
   ]
  },
  {
   "cell_type": "code",
   "execution_count": null,
   "id": "dafb7e32",
   "metadata": {},
   "outputs": [],
   "source": []
  },
  {
   "cell_type": "code",
   "execution_count": 53,
   "id": "a94658d0",
   "metadata": {},
   "outputs": [],
   "source": [
    "# takes a few mins\n",
    "# data.corr()"
   ]
  },
  {
   "cell_type": "code",
   "execution_count": 54,
   "id": "f8e6f772",
   "metadata": {},
   "outputs": [],
   "source": [
    "# create X and y datasets\n",
    "y = data[\"option_ret\"]\n",
    "# drop it for X\n",
    "X = data.drop([\"option_ret\"], axis=1)"
   ]
  },
  {
   "cell_type": "code",
   "execution_count": 55,
   "id": "cf5aebfb",
   "metadata": {},
   "outputs": [
    {
     "data": {
      "text/plain": [
       "486529"
      ]
     },
     "execution_count": 55,
     "metadata": {},
     "output_type": "execute_result"
    }
   ],
   "source": [
    "len(y[y > 0])"
   ]
  },
  {
   "cell_type": "code",
   "execution_count": 56,
   "id": "b25b134a",
   "metadata": {},
   "outputs": [
    {
     "data": {
      "text/plain": [
       "1.817422546456471"
      ]
     },
     "execution_count": 56,
     "metadata": {},
     "output_type": "execute_result"
    }
   ],
   "source": [
    "1393098 / len(y)"
   ]
  },
  {
   "cell_type": "code",
   "execution_count": 57,
   "id": "fc52b89f",
   "metadata": {},
   "outputs": [],
   "source": [
    "# multiclass y label function\n",
    "def binary_categorize(y):\n",
    "    if y > 0:\n",
    "        return 1\n",
    "    else:\n",
    "        return 0"
   ]
  },
  {
   "cell_type": "code",
   "execution_count": 58,
   "id": "b3d36bd5",
   "metadata": {},
   "outputs": [],
   "source": [
    "# multiclass y label function\n",
    "def multi_categorize(y):\n",
    "    if y > 0.05:\n",
    "        return 1\n",
    "    elif y < -0.05:\n",
    "        return -1\n",
    "    else:\n",
    "        return 0"
   ]
  },
  {
   "cell_type": "code",
   "execution_count": 59,
   "id": "3830812d",
   "metadata": {},
   "outputs": [],
   "source": [
    "# apply label function to option returns\n",
    "y = y.apply(multi_categorize)"
   ]
  },
  {
   "cell_type": "code",
   "execution_count": 60,
   "id": "0a64c8a1",
   "metadata": {},
   "outputs": [],
   "source": [
    "# from sklearn.model_selection import train_test_split"
   ]
  },
  {
   "cell_type": "code",
   "execution_count": 61,
   "id": "32a6b7fd",
   "metadata": {},
   "outputs": [
    {
     "data": {
      "text/plain": [
       "-1.1006843537414968"
      ]
     },
     "execution_count": 61,
     "metadata": {},
     "output_type": "execute_result"
    }
   ],
   "source": [
    "np.min(X[\"theta\"])"
   ]
  },
  {
   "cell_type": "code",
   "execution_count": 62,
   "id": "69a0ab2b",
   "metadata": {},
   "outputs": [],
   "source": [
    "# # Split into train, test\n",
    "# X_train, X_test, y_train, y_test = train_test_split(X, y, test_size = 0.2, shuffle=False, random_state=0)\n",
    "# # Split train into train and val\n",
    "# X_train, X_val, y_train, y_val = train_test_split(X_train, y_train, testsize=0.4, shuffle=False, random_state=0)"
   ]
  },
  {
   "cell_type": "code",
   "execution_count": 63,
   "id": "60197e16",
   "metadata": {},
   "outputs": [],
   "source": [
    "# define start years for validation and test periods\n",
    "# start_train = 1996 (fixed)\n",
    "start_val = \"2015\"\n",
    "start_test = \"2016\""
   ]
  },
  {
   "cell_type": "code",
   "execution_count": 64,
   "id": "bf881fa4",
   "metadata": {},
   "outputs": [],
   "source": [
    "# extract and save dates column -> needed to sort into train, val, test\n",
    "dates = X[\"date\"]\n",
    "X = X.drop([\"date\"], axis=1)"
   ]
  },
  {
   "cell_type": "code",
   "execution_count": 65,
   "id": "fe7e847c",
   "metadata": {
    "scrolled": true
   },
   "outputs": [],
   "source": [
    "# Create train, val, test sets & convert to numpy\n",
    "# Train\n",
    "X_train = X[dates < start_val].values\n",
    "y_train = y[:len(X_train)].values"
   ]
  },
  {
   "cell_type": "code",
   "execution_count": 66,
   "id": "566e0258",
   "metadata": {},
   "outputs": [],
   "source": [
    "# Val\n",
    "mask = (dates >= start_val) & (dates < start_test)\n",
    "X_val = X[mask].values\n",
    "y_val = y[len(X_train):len(X_train)+len(X_val)].values"
   ]
  },
  {
   "cell_type": "code",
   "execution_count": 67,
   "id": "5d450df4",
   "metadata": {},
   "outputs": [],
   "source": [
    "# Test\n",
    "X_test = X[dates >= start_test].values\n",
    "y_test = y[-len(X_test):].values"
   ]
  },
  {
   "cell_type": "code",
   "execution_count": 68,
   "id": "55b48be9",
   "metadata": {},
   "outputs": [],
   "source": [
    "from sklearn.pipeline import Pipeline\n",
    "from sklearn.linear_model import LogisticRegression\n",
    "from sklearn.preprocessing import StandardScaler\n",
    "from sklearn.model_selection import GridSearchCV\n",
    "from sklearn.compose import ColumnTransformer\n",
    "from sklearn.ensemble import RandomForestClassifier\n",
    "from sklearn.ensemble import GradientBoostingClassifier\n",
    "from sklearn.ensemble import HistGradientBoostingClassifier\n",
    "from sklearn.svm import LinearSVC\n",
    "from sklearn.svm import SVC\n",
    "from sklearn.decomposition import PCA"
   ]
  },
  {
   "cell_type": "code",
   "execution_count": 69,
   "id": "d9ee87fa",
   "metadata": {},
   "outputs": [],
   "source": [
    "# ONLY SCALE NON-DUMMY CONTINOUS VARIABLES\n",
    "# scaler = ColumnTransformer(\n",
    "#     [(\"scaler\", StandardScaler(), slice(None, -2))],\n",
    "#     remainder=\"passthrough\"\n",
    "# )"
   ]
  },
  {
   "cell_type": "code",
   "execution_count": 70,
   "id": "0f36ecf3",
   "metadata": {},
   "outputs": [],
   "source": [
    "scaler = StandardScaler()\n",
    "X_train_pca = scaler.fit_transform(X_train)"
   ]
  },
  {
   "cell_type": "code",
   "execution_count": 71,
   "id": "0f4cc1a4",
   "metadata": {},
   "outputs": [],
   "source": [
    "pca = PCA(n_components=10)"
   ]
  },
  {
   "cell_type": "code",
   "execution_count": 72,
   "id": "059075f6",
   "metadata": {},
   "outputs": [
    {
     "data": {
      "text/html": [
       "<style>#sk-container-id-1 {color: black;background-color: white;}#sk-container-id-1 pre{padding: 0;}#sk-container-id-1 div.sk-toggleable {background-color: white;}#sk-container-id-1 label.sk-toggleable__label {cursor: pointer;display: block;width: 100%;margin-bottom: 0;padding: 0.3em;box-sizing: border-box;text-align: center;}#sk-container-id-1 label.sk-toggleable__label-arrow:before {content: \"▸\";float: left;margin-right: 0.25em;color: #696969;}#sk-container-id-1 label.sk-toggleable__label-arrow:hover:before {color: black;}#sk-container-id-1 div.sk-estimator:hover label.sk-toggleable__label-arrow:before {color: black;}#sk-container-id-1 div.sk-toggleable__content {max-height: 0;max-width: 0;overflow: hidden;text-align: left;background-color: #f0f8ff;}#sk-container-id-1 div.sk-toggleable__content pre {margin: 0.2em;color: black;border-radius: 0.25em;background-color: #f0f8ff;}#sk-container-id-1 input.sk-toggleable__control:checked~div.sk-toggleable__content {max-height: 200px;max-width: 100%;overflow: auto;}#sk-container-id-1 input.sk-toggleable__control:checked~label.sk-toggleable__label-arrow:before {content: \"▾\";}#sk-container-id-1 div.sk-estimator input.sk-toggleable__control:checked~label.sk-toggleable__label {background-color: #d4ebff;}#sk-container-id-1 div.sk-label input.sk-toggleable__control:checked~label.sk-toggleable__label {background-color: #d4ebff;}#sk-container-id-1 input.sk-hidden--visually {border: 0;clip: rect(1px 1px 1px 1px);clip: rect(1px, 1px, 1px, 1px);height: 1px;margin: -1px;overflow: hidden;padding: 0;position: absolute;width: 1px;}#sk-container-id-1 div.sk-estimator {font-family: monospace;background-color: #f0f8ff;border: 1px dotted black;border-radius: 0.25em;box-sizing: border-box;margin-bottom: 0.5em;}#sk-container-id-1 div.sk-estimator:hover {background-color: #d4ebff;}#sk-container-id-1 div.sk-parallel-item::after {content: \"\";width: 100%;border-bottom: 1px solid gray;flex-grow: 1;}#sk-container-id-1 div.sk-label:hover label.sk-toggleable__label {background-color: #d4ebff;}#sk-container-id-1 div.sk-serial::before {content: \"\";position: absolute;border-left: 1px solid gray;box-sizing: border-box;top: 0;bottom: 0;left: 50%;z-index: 0;}#sk-container-id-1 div.sk-serial {display: flex;flex-direction: column;align-items: center;background-color: white;padding-right: 0.2em;padding-left: 0.2em;position: relative;}#sk-container-id-1 div.sk-item {position: relative;z-index: 1;}#sk-container-id-1 div.sk-parallel {display: flex;align-items: stretch;justify-content: center;background-color: white;position: relative;}#sk-container-id-1 div.sk-item::before, #sk-container-id-1 div.sk-parallel-item::before {content: \"\";position: absolute;border-left: 1px solid gray;box-sizing: border-box;top: 0;bottom: 0;left: 50%;z-index: -1;}#sk-container-id-1 div.sk-parallel-item {display: flex;flex-direction: column;z-index: 1;position: relative;background-color: white;}#sk-container-id-1 div.sk-parallel-item:first-child::after {align-self: flex-end;width: 50%;}#sk-container-id-1 div.sk-parallel-item:last-child::after {align-self: flex-start;width: 50%;}#sk-container-id-1 div.sk-parallel-item:only-child::after {width: 0;}#sk-container-id-1 div.sk-dashed-wrapped {border: 1px dashed gray;margin: 0 0.4em 0.5em 0.4em;box-sizing: border-box;padding-bottom: 0.4em;background-color: white;}#sk-container-id-1 div.sk-label label {font-family: monospace;font-weight: bold;display: inline-block;line-height: 1.2em;}#sk-container-id-1 div.sk-label-container {text-align: center;}#sk-container-id-1 div.sk-container {/* jupyter's `normalize.less` sets `[hidden] { display: none; }` but bootstrap.min.css set `[hidden] { display: none !important; }` so we also need the `!important` here to be able to override the default hidden behavior on the sphinx rendered scikit-learn.org. See: https://github.com/scikit-learn/scikit-learn/issues/21755 */display: inline-block !important;position: relative;}#sk-container-id-1 div.sk-text-repr-fallback {display: none;}</style><div id=\"sk-container-id-1\" class=\"sk-top-container\"><div class=\"sk-text-repr-fallback\"><pre>PCA(n_components=10)</pre><b>In a Jupyter environment, please rerun this cell to show the HTML representation or trust the notebook. <br />On GitHub, the HTML representation is unable to render, please try loading this page with nbviewer.org.</b></div><div class=\"sk-container\" hidden><div class=\"sk-item\"><div class=\"sk-estimator sk-toggleable\"><input class=\"sk-toggleable__control sk-hidden--visually\" id=\"sk-estimator-id-1\" type=\"checkbox\" checked><label for=\"sk-estimator-id-1\" class=\"sk-toggleable__label sk-toggleable__label-arrow\">PCA</label><div class=\"sk-toggleable__content\"><pre>PCA(n_components=10)</pre></div></div></div></div></div>"
      ],
      "text/plain": [
       "PCA(n_components=10)"
      ]
     },
     "execution_count": 72,
     "metadata": {},
     "output_type": "execute_result"
    }
   ],
   "source": [
    "pca.fit(X_train_pca)"
   ]
  },
  {
   "cell_type": "code",
   "execution_count": 73,
   "id": "025c9e84",
   "metadata": {},
   "outputs": [
    {
     "data": {
      "text/plain": [
       "Text(0, 0.5, 'cumulative expl. variance')"
      ]
     },
     "execution_count": 73,
     "metadata": {},
     "output_type": "execute_result"
    },
    {
     "data": {
      "image/png": "[encoded data removed]",
      "text/plain": [
       "<Figure size 432x288 with 1 Axes>"
      ]
     },
     "metadata": {
      "needs_background": "light"
     },
     "output_type": "display_data"
    }
   ],
   "source": [
    "plt.plot(np.cumsum(pca.explained_variance_ratio_))\n",
    "plt.xlabel(\"number of components\")\n",
    "plt.ylabel(\"cumulative expl. variance\")"
   ]
  },
  {
   "cell_type": "code",
   "execution_count": 74,
   "id": "fb5e24ef",
   "metadata": {},
   "outputs": [
    {
     "data": {
      "text/plain": [
       "(419568, 11)"
      ]
     },
     "execution_count": 74,
     "metadata": {},
     "output_type": "execute_result"
    }
   ],
   "source": [
    "X_train.shape"
   ]
  },
  {
   "cell_type": "code",
   "execution_count": null,
   "id": "e251731b",
   "metadata": {},
   "outputs": [],
   "source": []
  },
  {
   "cell_type": "code",
   "execution_count": 75,
   "id": "7fa79ec9",
   "metadata": {},
   "outputs": [],
   "source": [
    "pca = PCA(n_components=10)"
   ]
  },
  {
   "cell_type": "code",
   "execution_count": 76,
   "id": "c6e10ca3",
   "metadata": {},
   "outputs": [],
   "source": [
    "scaler = StandardScaler()"
   ]
  },
  {
   "cell_type": "code",
   "execution_count": 77,
   "id": "911e61a9",
   "metadata": {},
   "outputs": [],
   "source": [
    "clf = LogisticRegression(random_state=0, \n",
    "                         class_weight=\"balanced\",\n",
    "                           max_iter=1000,\n",
    "#                          n_jobs=-1,\n",
    "#                          C=0.0001,\n",
    "                        )\n",
    "\n",
    "# clf = RandomForestClassifier(random_state=0,\n",
    "#                     class_weight=\"balanced\",\n",
    "#                     max_depth=2,\n",
    "#                     n_jobs=-1,\n",
    "#                 )\n",
    "\n",
    "# clf = HistGradientBoostingClassifier(random_state=0,\n",
    "#                                  max_iter=100000, \n",
    "#                                  max_depth=2,\n",
    "# #                                  learning_rate=1.0,\n",
    "#                                 validation_fraction=None,\n",
    "#                                  verbose=1,\n",
    "#                                 )\n",
    "\n",
    "# clf = LinearSVC(random_state=0,\n",
    "#                class_weight=\"balanced\",\n",
    "#                )\n",
    "\n",
    "# clf = SVC(random_state=0,\n",
    "#          class_weight=\"balanced\",\n",
    "#          )"
   ]
  },
  {
   "cell_type": "code",
   "execution_count": 78,
   "id": "e629a35c",
   "metadata": {},
   "outputs": [
    {
     "data": {
      "text/plain": [
       "419568"
      ]
     },
     "execution_count": 78,
     "metadata": {},
     "output_type": "execute_result"
    }
   ],
   "source": [
    "len(X_train)"
   ]
  },
  {
   "cell_type": "code",
   "execution_count": 79,
   "id": "c06fb765",
   "metadata": {},
   "outputs": [],
   "source": [
    "clf = Pipeline([\n",
    "    ('scaler', scaler),\n",
    "#     ('pca' , pca),\n",
    "    ('clf', clf),\n",
    "])"
   ]
  },
  {
   "cell_type": "code",
   "execution_count": 80,
   "id": "51952e52",
   "metadata": {
    "scrolled": true
   },
   "outputs": [],
   "source": [
    "# np.logspace(-2, 2, 5)"
   ]
  },
  {
   "cell_type": "code",
   "execution_count": 81,
   "id": "f4960a5c",
   "metadata": {},
   "outputs": [],
   "source": [
    "# train_indices = [[1,3,5,7,9],[2,4,6,8]]\n",
    "# test_indices = [[2,4,6,8],[1,3,5,7,9]]"
   ]
  },
  {
   "cell_type": "code",
   "execution_count": 82,
   "id": "fc7a7287",
   "metadata": {},
   "outputs": [],
   "source": [
    "# a = zip(train_indices, test_indices)"
   ]
  },
  {
   "cell_type": "code",
   "execution_count": 83,
   "id": "5a76b0f9",
   "metadata": {},
   "outputs": [],
   "source": [
    "# for i, y in a:\n",
    "#     print(i, y)"
   ]
  },
  {
   "cell_type": "code",
   "execution_count": 84,
   "id": "0c4363bf",
   "metadata": {},
   "outputs": [],
   "source": [
    "# def cv_gen():\n",
    "#     for i in range(3):\n",
    "#         yield i, i*2"
   ]
  },
  {
   "cell_type": "code",
   "execution_count": 85,
   "id": "4ad0734d",
   "metadata": {},
   "outputs": [],
   "source": [
    "param_grid = {\n",
    "#     \"clf__C\": np.logspace(-15, 0, 5),\n",
    "#       \"clf__max_depth\": [2, 3, 4],\n",
    "}\n",
    "clf = GridSearchCV(\n",
    "    clf, \n",
    "    param_grid,\n",
    "    scoring=[\"accuracy\", \"balanced_accuracy\"],\n",
    "    refit=\"balanced_accuracy\",\n",
    "    n_jobs=-1,\n",
    "#     cv=a,\n",
    "    verbose=3,\n",
    ")"
   ]
  },
  {
   "cell_type": "code",
   "execution_count": 86,
   "id": "d80ea47b",
   "metadata": {},
   "outputs": [],
   "source": [
    "# sample_weight\n",
    "# sample_weight = 3 * (len(y_train) - np.sum(y_train)) / np.sum(y_train)"
   ]
  },
  {
   "cell_type": "code",
   "execution_count": 87,
   "id": "8e6cd660",
   "metadata": {
    "scrolled": true
   },
   "outputs": [
    {
     "name": "stdout",
     "output_type": "stream",
     "text": [
      "Fitting 5 folds for each of 1 candidates, totalling 5 fits\n",
      "Time to fit:  7.933129787445068 seconds\n"
     ]
    }
   ],
   "source": [
    "s_time = time.time()\n",
    "clf.fit(X_train, y_train,\n",
    "#        clf__sample_weight=sample_weight\n",
    "       )\n",
    "e_time = time.time()\n",
    "print(\"Time to fit: \", (e_time - s_time), \"seconds\")"
   ]
  },
  {
   "cell_type": "code",
   "execution_count": null,
   "id": "189d94f2",
   "metadata": {},
   "outputs": [],
   "source": []
  },
  {
   "cell_type": "code",
   "execution_count": 88,
   "id": "d6729689",
   "metadata": {},
   "outputs": [],
   "source": [
    "from sklearn.metrics import accuracy_score\n",
    "from sklearn.metrics import balanced_accuracy_score"
   ]
  },
  {
   "cell_type": "code",
   "execution_count": 89,
   "id": "11921fc3",
   "metadata": {},
   "outputs": [],
   "source": [
    "y_trivial = np.zeros_like(y_val)"
   ]
  },
  {
   "cell_type": "code",
   "execution_count": 90,
   "id": "ceb453cd",
   "metadata": {},
   "outputs": [
    {
     "data": {
      "text/plain": [
       " 0    27991\n",
       "-1     2416\n",
       " 1     1686\n",
       "dtype: int64"
      ]
     },
     "execution_count": 90,
     "metadata": {},
     "output_type": "execute_result"
    }
   ],
   "source": [
    "pd.value_counts(y_val)"
   ]
  },
  {
   "cell_type": "code",
   "execution_count": 91,
   "id": "bb3c27f3",
   "metadata": {},
   "outputs": [
    {
     "data": {
      "text/plain": [
       "-0.022746393294487896"
      ]
     },
     "execution_count": 91,
     "metadata": {},
     "output_type": "execute_result"
    }
   ],
   "source": [
    "np.mean(y_val)"
   ]
  },
  {
   "cell_type": "markdown",
   "id": "f18ae612",
   "metadata": {},
   "source": [
    "##### Trivial prediction"
   ]
  },
  {
   "cell_type": "code",
   "execution_count": 92,
   "id": "4baab30d",
   "metadata": {
    "scrolled": true
   },
   "outputs": [
    {
     "data": {
      "text/plain": [
       "0.8721839653506995"
      ]
     },
     "execution_count": 92,
     "metadata": {},
     "output_type": "execute_result"
    }
   ],
   "source": [
    "# TRIVIAL prediction\n",
    "accuracy_score(y_val, y_trivial)"
   ]
  },
  {
   "cell_type": "code",
   "execution_count": 93,
   "id": "b393b8b8",
   "metadata": {},
   "outputs": [
    {
     "data": {
      "text/plain": [
       "0.3333333333333333"
      ]
     },
     "execution_count": 93,
     "metadata": {},
     "output_type": "execute_result"
    }
   ],
   "source": [
    "# TRIVIAL prediction\n",
    "balanced_accuracy_score(y_val, y_trivial)"
   ]
  },
  {
   "cell_type": "markdown",
   "id": "d784ba3f",
   "metadata": {},
   "source": [
    "#### Classifier prediction"
   ]
  },
  {
   "cell_type": "code",
   "execution_count": 94,
   "id": "c2fc4516",
   "metadata": {},
   "outputs": [],
   "source": [
    "# CLASSIFIER\n",
    "y_pred = clf.predict(X_val)"
   ]
  },
  {
   "cell_type": "code",
   "execution_count": 95,
   "id": "e4b15a47",
   "metadata": {},
   "outputs": [
    {
     "data": {
      "text/plain": [
       "0.7639360608232325"
      ]
     },
     "execution_count": 95,
     "metadata": {},
     "output_type": "execute_result"
    }
   ],
   "source": [
    "# CLASSIFIER\n",
    "accuracy_score(y_val, y_pred)"
   ]
  },
  {
   "cell_type": "code",
   "execution_count": 96,
   "id": "945fb217",
   "metadata": {},
   "outputs": [],
   "source": [
    "# 0.54"
   ]
  },
  {
   "cell_type": "code",
   "execution_count": 97,
   "id": "51940572",
   "metadata": {
    "scrolled": false
   },
   "outputs": [
    {
     "data": {
      "text/plain": [
       "0.5252292882347883"
      ]
     },
     "execution_count": 97,
     "metadata": {},
     "output_type": "execute_result"
    }
   ],
   "source": [
    "# CLASSIFIER\n",
    "balanced_accuracy_score(y_val, y_pred)"
   ]
  },
  {
   "cell_type": "code",
   "execution_count": 98,
   "id": "bea90cd6",
   "metadata": {},
   "outputs": [],
   "source": [
    "# LR 0.5240759984109695\n",
    "#RF 0.5263639414267005"
   ]
  },
  {
   "cell_type": "code",
   "execution_count": 99,
   "id": "14415ad3",
   "metadata": {},
   "outputs": [],
   "source": [
    "# 0.52"
   ]
  },
  {
   "cell_type": "code",
   "execution_count": 100,
   "id": "91ccc4fd",
   "metadata": {},
   "outputs": [
    {
     "data": {
      "text/plain": [
       " 0    24518\n",
       "-1     4300\n",
       " 1     3275\n",
       "dtype: int64"
      ]
     },
     "execution_count": 100,
     "metadata": {},
     "output_type": "execute_result"
    }
   ],
   "source": [
    "pd.value_counts(y_pred)"
   ]
  },
  {
   "cell_type": "code",
   "execution_count": 101,
   "id": "de51700e",
   "metadata": {},
   "outputs": [
    {
     "data": {
      "text/plain": [
       "-0.03193842894089054"
      ]
     },
     "execution_count": 101,
     "metadata": {},
     "output_type": "execute_result"
    }
   ],
   "source": [
    "np.mean(y_pred)"
   ]
  },
  {
   "cell_type": "code",
   "execution_count": 102,
   "id": "de772783",
   "metadata": {},
   "outputs": [
    {
     "data": {
      "text/plain": [
       "-0.03193842894089054"
      ]
     },
     "execution_count": 102,
     "metadata": {},
     "output_type": "execute_result"
    }
   ],
   "source": [
    "np.sum(y_pred) / len(y_pred)"
   ]
  },
  {
   "cell_type": "code",
   "execution_count": 127,
   "id": "2bd4906e",
   "metadata": {},
   "outputs": [],
   "source": [
    "from sklearn.dummy import DummyClassifier"
   ]
  },
  {
   "cell_type": "code",
   "execution_count": 142,
   "id": "23d40df0",
   "metadata": {},
   "outputs": [
    {
     "data": {
      "text/html": [
       "<style>#sk-container-id-10 {color: black;background-color: white;}#sk-container-id-10 pre{padding: 0;}#sk-container-id-10 div.sk-toggleable {background-color: white;}#sk-container-id-10 label.sk-toggleable__label {cursor: pointer;display: block;width: 100%;margin-bottom: 0;padding: 0.3em;box-sizing: border-box;text-align: center;}#sk-container-id-10 label.sk-toggleable__label-arrow:before {content: \"▸\";float: left;margin-right: 0.25em;color: #696969;}#sk-container-id-10 label.sk-toggleable__label-arrow:hover:before {color: black;}#sk-container-id-10 div.sk-estimator:hover label.sk-toggleable__label-arrow:before {color: black;}#sk-container-id-10 div.sk-toggleable__content {max-height: 0;max-width: 0;overflow: hidden;text-align: left;background-color: #f0f8ff;}#sk-container-id-10 div.sk-toggleable__content pre {margin: 0.2em;color: black;border-radius: 0.25em;background-color: #f0f8ff;}#sk-container-id-10 input.sk-toggleable__control:checked~div.sk-toggleable__content {max-height: 200px;max-width: 100%;overflow: auto;}#sk-container-id-10 input.sk-toggleable__control:checked~label.sk-toggleable__label-arrow:before {content: \"▾\";}#sk-container-id-10 div.sk-estimator input.sk-toggleable__control:checked~label.sk-toggleable__label {background-color: #d4ebff;}#sk-container-id-10 div.sk-label input.sk-toggleable__control:checked~label.sk-toggleable__label {background-color: #d4ebff;}#sk-container-id-10 input.sk-hidden--visually {border: 0;clip: rect(1px 1px 1px 1px);clip: rect(1px, 1px, 1px, 1px);height: 1px;margin: -1px;overflow: hidden;padding: 0;position: absolute;width: 1px;}#sk-container-id-10 div.sk-estimator {font-family: monospace;background-color: #f0f8ff;border: 1px dotted black;border-radius: 0.25em;box-sizing: border-box;margin-bottom: 0.5em;}#sk-container-id-10 div.sk-estimator:hover {background-color: #d4ebff;}#sk-container-id-10 div.sk-parallel-item::after {content: \"\";width: 100%;border-bottom: 1px solid gray;flex-grow: 1;}#sk-container-id-10 div.sk-label:hover label.sk-toggleable__label {background-color: #d4ebff;}#sk-container-id-10 div.sk-serial::before {content: \"\";position: absolute;border-left: 1px solid gray;box-sizing: border-box;top: 0;bottom: 0;left: 50%;z-index: 0;}#sk-container-id-10 div.sk-serial {display: flex;flex-direction: column;align-items: center;background-color: white;padding-right: 0.2em;padding-left: 0.2em;position: relative;}#sk-container-id-10 div.sk-item {position: relative;z-index: 1;}#sk-container-id-10 div.sk-parallel {display: flex;align-items: stretch;justify-content: center;background-color: white;position: relative;}#sk-container-id-10 div.sk-item::before, #sk-container-id-10 div.sk-parallel-item::before {content: \"\";position: absolute;border-left: 1px solid gray;box-sizing: border-box;top: 0;bottom: 0;left: 50%;z-index: -1;}#sk-container-id-10 div.sk-parallel-item {display: flex;flex-direction: column;z-index: 1;position: relative;background-color: white;}#sk-container-id-10 div.sk-parallel-item:first-child::after {align-self: flex-end;width: 50%;}#sk-container-id-10 div.sk-parallel-item:last-child::after {align-self: flex-start;width: 50%;}#sk-container-id-10 div.sk-parallel-item:only-child::after {width: 0;}#sk-container-id-10 div.sk-dashed-wrapped {border: 1px dashed gray;margin: 0 0.4em 0.5em 0.4em;box-sizing: border-box;padding-bottom: 0.4em;background-color: white;}#sk-container-id-10 div.sk-label label {font-family: monospace;font-weight: bold;display: inline-block;line-height: 1.2em;}#sk-container-id-10 div.sk-label-container {text-align: center;}#sk-container-id-10 div.sk-container {/* jupyter's `normalize.less` sets `[hidden] { display: none; }` but bootstrap.min.css set `[hidden] { display: none !important; }` so we also need the `!important` here to be able to override the default hidden behavior on the sphinx rendered scikit-learn.org. See: https://github.com/scikit-learn/scikit-learn/issues/21755 */display: inline-block !important;position: relative;}#sk-container-id-10 div.sk-text-repr-fallback {display: none;}</style><div id=\"sk-container-id-10\" class=\"sk-top-container\"><div class=\"sk-text-repr-fallback\"><pre>DummyClassifier(strategy=&#x27;uniform&#x27;)</pre><b>In a Jupyter environment, please rerun this cell to show the HTML representation or trust the notebook. <br />On GitHub, the HTML representation is unable to render, please try loading this page with nbviewer.org.</b></div><div class=\"sk-container\" hidden><div class=\"sk-item\"><div class=\"sk-estimator sk-toggleable\"><input class=\"sk-toggleable__control sk-hidden--visually\" id=\"sk-estimator-id-10\" type=\"checkbox\" checked><label for=\"sk-estimator-id-10\" class=\"sk-toggleable__label sk-toggleable__label-arrow\">DummyClassifier</label><div class=\"sk-toggleable__content\"><pre>DummyClassifier(strategy=&#x27;uniform&#x27;)</pre></div></div></div></div></div>"
      ],
      "text/plain": [
       "DummyClassifier(strategy='uniform')"
      ]
     },
     "execution_count": 142,
     "metadata": {},
     "output_type": "execute_result"
    }
   ],
   "source": [
    "dummy_clf = DummyClassifier(strategy=\"uniform\")\n",
    "dummy_clf.fit(X_train, y_train)"
   ]
  },
  {
   "cell_type": "code",
   "execution_count": 143,
   "id": "41339c82",
   "metadata": {},
   "outputs": [],
   "source": [
    "y_dummy = dummy_clf.predict(X_val)"
   ]
  },
  {
   "cell_type": "code",
   "execution_count": 144,
   "id": "eb4d3c9b",
   "metadata": {
    "scrolled": true
   },
   "outputs": [
    {
     "data": {
      "text/plain": [
       "0.336864736858505"
      ]
     },
     "execution_count": 144,
     "metadata": {},
     "output_type": "execute_result"
    }
   ],
   "source": [
    "accuracy_score(y_val, y_dummy)"
   ]
  },
  {
   "cell_type": "code",
   "execution_count": 145,
   "id": "2887b95f",
   "metadata": {},
   "outputs": [
    {
     "data": {
      "text/plain": [
       "0.3302881050377469"
      ]
     },
     "execution_count": 145,
     "metadata": {},
     "output_type": "execute_result"
    }
   ],
   "source": [
    "balanced_accuracy_score(y_val, y_dummy)"
   ]
  },
  {
   "cell_type": "code",
   "execution_count": 108,
   "id": "4b922ef7",
   "metadata": {},
   "outputs": [
    {
     "data": {
      "text/plain": [
       "{'mean_fit_time': array([3.08350477]),\n",
       " 'std_fit_time': array([0.20510187]),\n",
       " 'mean_score_time': array([0.07362938]),\n",
       " 'std_score_time': array([0.0124867]),\n",
       " 'params': [{}],\n",
       " 'split0_test_accuracy': array([0.51035584]),\n",
       " 'split1_test_accuracy': array([0.70202827]),\n",
       " 'split2_test_accuracy': array([0.70119408]),\n",
       " 'split3_test_accuracy': array([0.60066974]),\n",
       " 'split4_test_accuracy': array([0.76682993]),\n",
       " 'mean_test_accuracy': array([0.65621557]),\n",
       " 'std_test_accuracy': array([0.09024168]),\n",
       " 'rank_test_accuracy': array([1]),\n",
       " 'split0_test_balanced_accuracy': array([0.52291524]),\n",
       " 'split1_test_balanced_accuracy': array([0.59284658]),\n",
       " 'split2_test_balanced_accuracy': array([0.51163225]),\n",
       " 'split3_test_balanced_accuracy': array([0.5530884]),\n",
       " 'split4_test_balanced_accuracy': array([0.52196062]),\n",
       " 'mean_test_balanced_accuracy': array([0.54048862]),\n",
       " 'std_test_balanced_accuracy': array([0.02961388]),\n",
       " 'rank_test_balanced_accuracy': array([1])}"
      ]
     },
     "execution_count": 108,
     "metadata": {},
     "output_type": "execute_result"
    }
   ],
   "source": [
    "clf.cv_results_\n"
   ]
  },
  {
   "cell_type": "code",
   "execution_count": 109,
   "id": "b2659441",
   "metadata": {},
   "outputs": [
    {
     "data": {
      "text/plain": [
       "{}"
      ]
     },
     "execution_count": 109,
     "metadata": {},
     "output_type": "execute_result"
    }
   ],
   "source": [
    "clf.best_params_"
   ]
  },
  {
   "cell_type": "code",
   "execution_count": null,
   "id": "7b05a233",
   "metadata": {},
   "outputs": [],
   "source": []
  }
 ],
 "metadata": {
  "kernelspec": {
   "display_name": "Python 3 (ipykernel)",
   "language": "python",
   "name": "python3"
  },
  "language_info": {
   "codemirror_mode": {
    "name": "ipython",
    "version": 3
   },
   "file_extension": ".py",
   "mimetype": "text/x-python",
   "name": "python",
   "nbconvert_exporter": "python",
   "pygments_lexer": "ipython3",
   "version": "3.8.5"
  },
  "vscode": {
   "interpreter": {
    "hash": "137ad5de30c222602b906d427f317b23725154a9d2ac1dd9f95e9d3b5697fcc3"
   }
  }
 },
 "nbformat": 4,
 "nbformat_minor": 5
}
