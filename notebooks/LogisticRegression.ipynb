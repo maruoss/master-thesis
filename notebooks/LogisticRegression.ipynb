{
 "cells": [
  {
   "cell_type": "code",
   "execution_count": 9,
   "id": "7352a301",
   "metadata": {},
   "outputs": [],
   "source": [
    "a = [\"Yes\", \"NOeeeeeee\", \"Yes\"]"
   ]
  },
  {
   "cell_type": "code",
   "execution_count": 10,
   "id": "20358eb5",
   "metadata": {},
   "outputs": [
    {
     "name": "stdout",
     "output_type": "stream",
     "text": [
      "Yes...NOeeeeeee...Yes\n"
     ]
    }
   ],
   "source": [
    "print(*a, sep=\"...\")"
   ]
  },
  {
   "cell_type": "code",
   "execution_count": null,
   "id": "005010cf",
   "metadata": {},
   "outputs": [],
   "source": []
  },
  {
   "cell_type": "code",
   "execution_count": null,
   "id": "1faa3e19",
   "metadata": {},
   "outputs": [],
   "source": []
  },
  {
   "cell_type": "code",
   "execution_count": 79,
   "id": "6b61f3f9",
   "metadata": {
    "scrolled": true
   },
   "outputs": [
    {
     "data": {
      "text/plain": [
       "'3.1235'"
      ]
     },
     "execution_count": 79,
     "metadata": {},
     "output_type": "execute_result"
    }
   ],
   "source": [
    "'{{:.{prec}f}}'.format(prec=4).format(3.123456)"
   ]
  },
  {
   "cell_type": "code",
   "execution_count": 51,
   "id": "5f20e850",
   "metadata": {},
   "outputs": [
    {
     "ename": "SyntaxError",
     "evalue": "f-string: single '}' is not allowed (144642880.py, line 3)",
     "output_type": "error",
     "traceback": [
      "\u001b[1;36m  Input \u001b[1;32mIn [51]\u001b[1;36m\u001b[0m\n\u001b[1;33m    f'{{value}:.{prec}}'\u001b[0m\n\u001b[1;37m    ^\u001b[0m\n\u001b[1;31mSyntaxError\u001b[0m\u001b[1;31m:\u001b[0m f-string: single '}' is not allowed\n"
     ]
    }
   ],
   "source": [
    "prec=3\n",
    "value = 3.123456\n",
    "f'{{value}:.{prec}}'"
   ]
  },
  {
   "cell_type": "code",
   "execution_count": 83,
   "id": "c03e9683",
   "metadata": {},
   "outputs": [
    {
     "data": {
      "text/plain": [
       "'1'"
      ]
     },
     "execution_count": 83,
     "metadata": {},
     "output_type": "execute_result"
    }
   ],
   "source": [
    "str(1)"
   ]
  },
  {
   "cell_type": "code",
   "execution_count": 90,
   "id": "b280f7cf",
   "metadata": {},
   "outputs": [
    {
     "name": "stdout",
     "output_type": "stream",
     "text": [
      "1\n",
      "2\n",
      "3\n",
      "4\n",
      "5\n",
      "6\n",
      "7\n",
      "8\n",
      "9\n",
      "10\n",
      "11\n",
      "12\n",
      "13\n"
     ]
    }
   ],
   "source": [
    "for i in range(1, 14):\n",
    "    print(i)"
   ]
  },
  {
   "cell_type": "code",
   "execution_count": 88,
   "id": "3dd19b99",
   "metadata": {},
   "outputs": [
    {
     "data": {
      "text/plain": [
       "'t=1'"
      ]
     },
     "execution_count": 88,
     "metadata": {},
     "output_type": "execute_result"
    }
   ],
   "source": [
    "f\"t={str(1)}\""
   ]
  },
  {
   "cell_type": "code",
   "execution_count": null,
   "id": "bf3964c6",
   "metadata": {},
   "outputs": [],
   "source": []
  },
  {
   "cell_type": "code",
   "execution_count": 30,
   "id": "2cc603b3",
   "metadata": {},
   "outputs": [
    {
     "data": {
      "text/plain": [
       "'{:.3f}'"
      ]
     },
     "execution_count": 30,
     "metadata": {},
     "output_type": "execute_result"
    }
   ],
   "source": [
    "'{{:.{prec}f}}'.format(prec=3)"
   ]
  },
  {
   "cell_type": "code",
   "execution_count": 33,
   "id": "83a6bf79",
   "metadata": {},
   "outputs": [
    {
     "data": {
      "text/plain": [
       "'3.333'"
      ]
     },
     "execution_count": 33,
     "metadata": {},
     "output_type": "execute_result"
    }
   ],
   "source": [
    "\"{:.3f}\".format(3.333333)"
   ]
  },
  {
   "cell_type": "code",
   "execution_count": 77,
   "id": "faae1513",
   "metadata": {},
   "outputs": [
    {
     "ename": "SyntaxError",
     "evalue": "f-string expression part cannot include a backslash (329601540.py, line 1)",
     "output_type": "error",
     "traceback": [
      "\u001b[1;36m  Input \u001b[1;32mIn [77]\u001b[1;36m\u001b[0m\n\u001b[1;33m    f\"{\\\"Eric Idle\\\"}\"\u001b[0m\n\u001b[1;37m    ^\u001b[0m\n\u001b[1;31mSyntaxError\u001b[0m\u001b[1;31m:\u001b[0m f-string expression part cannot include a backslash\n"
     ]
    }
   ],
   "source": [
    "f\"{\\\"Eric Idle\\\"}\""
   ]
  },
  {
   "cell_type": "code",
   "execution_count": null,
   "id": "b4b65a81",
   "metadata": {},
   "outputs": [],
   "source": []
  },
  {
   "cell_type": "code",
   "execution_count": 1,
   "id": "3ba44df2",
   "metadata": {},
   "outputs": [],
   "source": [
    "import pandas as pd"
   ]
  },
  {
   "cell_type": "code",
   "execution_count": 70,
   "id": "151875bd",
   "metadata": {},
   "outputs": [],
   "source": [
    "a = {\"a\": \"albert\", \"b\": \"boris\", \"c\": \"christian\"}"
   ]
  },
  {
   "cell_type": "code",
   "execution_count": 71,
   "id": "300f89ad",
   "metadata": {},
   "outputs": [],
   "source": [
    "def f(x, y, z):\n",
    "    return x + y + z"
   ]
  },
  {
   "cell_type": "code",
   "execution_count": 73,
   "id": "1a86bfcf",
   "metadata": {},
   "outputs": [
    {
     "ename": "TypeError",
     "evalue": "f() got an unexpected keyword argument 'a'",
     "output_type": "error",
     "traceback": [
      "\u001b[1;31m---------------------------------------------------------------------------\u001b[0m",
      "\u001b[1;31mTypeError\u001b[0m                                 Traceback (most recent call last)",
      "Input \u001b[1;32mIn [73]\u001b[0m, in \u001b[0;36m<cell line: 1>\u001b[1;34m()\u001b[0m\n\u001b[1;32m----> 1\u001b[0m \u001b[43mf\u001b[49m\u001b[43m(\u001b[49m\u001b[38;5;241;43m*\u001b[39;49m\u001b[38;5;241;43m*\u001b[39;49m\u001b[43ma\u001b[49m\u001b[43m)\u001b[49m\n",
      "\u001b[1;31mTypeError\u001b[0m: f() got an unexpected keyword argument 'a'"
     ]
    }
   ],
   "source": [
    "f(a)"
   ]
  },
  {
   "cell_type": "code",
   "execution_count": null,
   "id": "a3d94e75",
   "metadata": {},
   "outputs": [],
   "source": []
  },
  {
   "cell_type": "code",
   "execution_count": 3,
   "id": "fd1f234d",
   "metadata": {},
   "outputs": [],
   "source": [
    "b = a.copy()"
   ]
  },
  {
   "cell_type": "code",
   "execution_count": null,
   "id": "9606d999",
   "metadata": {},
   "outputs": [],
   "source": [
    "b[\"4\"] = \"doris\""
   ]
  },
  {
   "cell_type": "code",
   "execution_count": null,
   "id": "a3e77a32",
   "metadata": {},
   "outputs": [],
   "source": [
    "a = [\"one\", \"two\", \"three\"]"
   ]
  },
  {
   "cell_type": "code",
   "execution_count": null,
   "id": "551c880d",
   "metadata": {},
   "outputs": [],
   "source": [
    "a.append(\"four\")"
   ]
  },
  {
   "cell_type": "code",
   "execution_count": null,
   "id": "935c8c24",
   "metadata": {},
   "outputs": [],
   "source": [
    "test = (\"a\", \"b\")"
   ]
  },
  {
   "cell_type": "code",
   "execution_count": null,
   "id": "e7c9b7a6",
   "metadata": {},
   "outputs": [],
   "source": [
    "test = [\"abc\", \"b\", \"c\"]"
   ]
  },
  {
   "cell_type": "code",
   "execution_count": null,
   "id": "1a3aadbd",
   "metadata": {},
   "outputs": [],
   "source": [
    "ls = []"
   ]
  },
  {
   "cell_type": "code",
   "execution_count": null,
   "id": "86c5d46d",
   "metadata": {},
   "outputs": [],
   "source": [
    "ls += test"
   ]
  },
  {
   "cell_type": "code",
   "execution_count": null,
   "id": "f3efde09",
   "metadata": {},
   "outputs": [],
   "source": [
    "ls"
   ]
  },
  {
   "cell_type": "code",
   "execution_count": null,
   "id": "dd17d374",
   "metadata": {},
   "outputs": [],
   "source": []
  },
  {
   "cell_type": "code",
   "execution_count": null,
   "id": "cd3c7f27",
   "metadata": {
    "scrolled": true
   },
   "outputs": [],
   "source": [
    "a, b = *test"
   ]
  },
  {
   "cell_type": "code",
   "execution_count": null,
   "id": "126c69d7",
   "metadata": {},
   "outputs": [],
   "source": []
  },
  {
   "cell_type": "code",
   "execution_count": null,
   "id": "6f13f748",
   "metadata": {},
   "outputs": [],
   "source": [
    "test = pd.DataFrame([a])"
   ]
  },
  {
   "cell_type": "code",
   "execution_count": null,
   "id": "c96ab7ae",
   "metadata": {},
   "outputs": [],
   "source": [
    "test.reindex(columns=[1, 3])"
   ]
  },
  {
   "cell_type": "code",
   "execution_count": null,
   "id": "5fb7e2f0",
   "metadata": {},
   "outputs": [],
   "source": []
  },
  {
   "cell_type": "code",
   "execution_count": null,
   "id": "591dda32",
   "metadata": {},
   "outputs": [],
   "source": []
  },
  {
   "cell_type": "code",
   "execution_count": null,
   "id": "1e2b4a31",
   "metadata": {},
   "outputs": [],
   "source": []
  },
  {
   "cell_type": "code",
   "execution_count": null,
   "id": "cb34db86",
   "metadata": {},
   "outputs": [],
   "source": []
  },
  {
   "cell_type": "code",
   "execution_count": null,
   "id": "6207475a",
   "metadata": {},
   "outputs": [],
   "source": [
    "import numpy as np\n",
    "import pandas as pd\n",
    "import pathlib\n",
    "import time\n",
    "import matplotlib.pyplot as plt"
   ]
  },
  {
   "cell_type": "code",
   "execution_count": null,
   "id": "20b7c858",
   "metadata": {},
   "outputs": [],
   "source": [
    "# Set path\n",
    "path = pathlib.Path(r\"C:\\Users\\Mathiass\\OneDrive - Universität Zürich UZH\\Documents\\mt_literature\\data\")"
   ]
  },
  {
   "cell_type": "code",
   "execution_count": null,
   "id": "ac9d227e",
   "metadata": {},
   "outputs": [],
   "source": [
    "# read dataset\n",
    "data = pd.read_parquet(path/\"final_df_filledmean_small.parquet\")"
   ]
  },
  {
   "cell_type": "code",
   "execution_count": null,
   "id": "65539e8d",
   "metadata": {},
   "outputs": [],
   "source": [
    "# # # create smaller dataset to parquet\n",
    "# X_1 = data.iloc[:, :19]\n",
    "# X_2 = data[[\"cp_flag_C\", \"cp_flag_P\"]]\n",
    "# y = data[\"option_ret\"]\n",
    "# test = pd.concat([X_1, X_2, y], axis=1)\n",
    "# test.to_parquet(fr\"{path}\\final_df_filledmean_small.parquet\")"
   ]
  },
  {
   "cell_type": "code",
   "execution_count": null,
   "id": "6a240229",
   "metadata": {},
   "outputs": [],
   "source": [
    "# FEATURE ENGINEERING\n",
    "# Bid-Ask-Spread\n",
    "data[\"best_bid\"] = (data[\"best_offer\"] - data[\"best_bid\"]) / (data[\"best_offer\"])\n",
    "data = data.rename(columns={\"best_bid\": \"ba_spread_option\"}).drop([\"best_offer\"], axis=1)\n",
    "\n",
    "# Gamma -> multiply by spotprice and divide by 100\n",
    "data[\"gamma\"] = data[\"gamma\"] * data[\"spotprice\"] / 100 #following Bali et al. (2021)\n",
    "\n",
    "# Theta -> scale by spotprice\n",
    "data[\"theta\"] = data[\"theta\"] / data[\"spotprice\"] #following Bali et al. (2021)\n",
    "\n",
    "# Vega -> scale by spotprice\n",
    "data[\"vega\"] = data[\"vega\"] / data[\"spotprice\"] #following Bali et al. (2021)\n",
    "\n",
    "# Time to Maturity -> scale by number of days in year -> 365\n",
    "data[\"days_to_exp\"] = data[\"days_to_exp\"] / 365\n",
    "\n",
    "# Moneyness\n",
    "data[\"strike_price\"] = data[\"strike_price\"] / data[\"spotprice\"] # K / S\n",
    "data = data.rename(columns={\"strike_price\": \"moneyness\"})\n",
    "\n",
    "# Forward Price ratio\n",
    "data[\"forwardprice\"] = data[\"forwardprice\"] / data[\"spotprice\"]\n",
    "\n",
    "# drop cf_adj + days no trading\n",
    "data = data.drop([\"cfadj\", \"days_no_trading\", \"spotprice\", \"adj_spot\"], axis=1)\n"
   ]
  },
  {
   "cell_type": "code",
   "execution_count": null,
   "id": "e802dee3",
   "metadata": {
    "scrolled": true
   },
   "outputs": [],
   "source": [
    "data.describe()"
   ]
  },
  {
   "cell_type": "code",
   "execution_count": null,
   "id": "057b464b",
   "metadata": {},
   "outputs": [],
   "source": [
    "# # multiclass y label function\n",
    "# def binary_categorize(x):\n",
    "#     if x > 0:\n",
    "#         return 1\n",
    "#     else:\n",
    "#         return 0\n",
    "\n",
    "# # apply label function to option returns\n",
    "# data[\"option_ret\"] = data[\"option_ret\"].apply(binary_categorize)\n",
    "\n",
    "# data[data[\"cp_flag_C\"] == 0][\"option_ret\"].plot(kind=\"hist\")\n",
    "\n",
    "# data[data[\"cp_flag_C\"] == 1][\"option_ret\"].plot(kind=\"hist\")\n",
    "\n",
    "# data[\"option_ret\"].plot(kind=\"hist\")\n",
    "\n",
    "# def percent_one(x):\n",
    "#     return np.sum(x) / len(x)\n",
    "\n",
    "# percent_one(data[data[\"cp_flag_C\"] == 1][\"option_ret\"])\n",
    "\n",
    "# percent_one(data[data[\"cp_flag_P\"] == 1][\"option_ret\"])"
   ]
  },
  {
   "cell_type": "code",
   "execution_count": null,
   "id": "03cd4f6a",
   "metadata": {},
   "outputs": [],
   "source": [
    "# drop large outlier\n",
    "\n",
    "# to_drop = []\n",
    "\n",
    "\n",
    "# to_drop += (list(np.where(data[\"moneyness\"] > np.percentile(data[\"moneyness\"], 99))[0]))\n",
    "# to_drop += (list(np.where(data[\"ba_spread_option\"] > np.percentile(data[\"ba_spread_option\"], 99))[0]))\n",
    "# to_drop += (list(np.where(data[\"volume\"] > np.percentile(data[\"volume\"], 99))[0]))\n",
    "# to_drop += (list(np.where(data[\"open_interest\"] > np.percentile(data[\"open_interest\"], 99))[0]))\n",
    "\n",
    "# data = data.drop(set(to_drop)).reset_index(drop=True)"
   ]
  },
  {
   "cell_type": "code",
   "execution_count": null,
   "id": "cabef005",
   "metadata": {},
   "outputs": [],
   "source": [
    "data"
   ]
  },
  {
   "cell_type": "code",
   "execution_count": null,
   "id": "9e82b399",
   "metadata": {},
   "outputs": [],
   "source": [
    "from sklearn.model_selection import TimeSeriesSplit"
   ]
  },
  {
   "cell_type": "code",
   "execution_count": null,
   "id": "132b582c",
   "metadata": {},
   "outputs": [],
   "source": [
    "tscv = TimeSeriesSplit(n_splits=17)"
   ]
  },
  {
   "cell_type": "code",
   "execution_count": null,
   "id": "65c447bd",
   "metadata": {},
   "outputs": [],
   "source": [
    "for train, test in tscv.split(data):\n",
    "    print(\"%s %s\" % (train, test))"
   ]
  },
  {
   "cell_type": "code",
   "execution_count": null,
   "id": "dbb2c7ce",
   "metadata": {},
   "outputs": [],
   "source": [
    "data[:212415]"
   ]
  },
  {
   "cell_type": "code",
   "execution_count": null,
   "id": "aadf11b3",
   "metadata": {},
   "outputs": [],
   "source": [
    "# # DROP MONEYNESS BELOW 0.8 AND ABOVE 1.2\n",
    "# to_drop = []\n",
    "\n",
    "\n",
    "# to_drop += (list(np.where((data[\"moneyness\"] > 1.2) | (data[\"moneyness\"] < 0.8))[0]))\n",
    "# data = data.drop(set(to_drop)).reset_index(drop=True)"
   ]
  },
  {
   "cell_type": "code",
   "execution_count": null,
   "id": "78d35857",
   "metadata": {},
   "outputs": [],
   "source": [
    "# # take log of features where distribution is skewed\n",
    "# # data[\"moneyness\"] = np.log(data[\"moneyness\"])\n",
    "# data[\"ba_spread_option\"] = np.log(data[\"ba_spread_option\"])\n",
    "# data[\"volume\"] = np.log(data[\"volume\"])\n",
    "# data[\"open_interest\"] = np.log(data[\"open_interest\"])\n",
    "# data[\"impl_volatility\"] = np.log(data[\"impl_volatility\"])\n",
    "# # data[\"days_to_exp\"] = np.log(data[\"days_to_exp\"])\n",
    "# data[\"mid_price\"] = np.log(data[\"mid_price\"])\n",
    "\n",
    "# # data[\"forwardprice\"] = np.log(data[\"forwardprice\"])\n",
    "# # data[\"ir_rate\"] = np.log(data[\"ir_rate\"])"
   ]
  },
  {
   "cell_type": "code",
   "execution_count": null,
   "id": "e62d0d95",
   "metadata": {},
   "outputs": [],
   "source": [
    "data"
   ]
  },
  {
   "cell_type": "code",
   "execution_count": null,
   "id": "04a8927c",
   "metadata": {},
   "outputs": [],
   "source": []
  },
  {
   "cell_type": "code",
   "execution_count": null,
   "id": "7587de64",
   "metadata": {},
   "outputs": [],
   "source": [
    "np.where(data[\"ba_spread_option\"] > np.percentile(data[\"ba_spread_option\"], 99))[0]"
   ]
  },
  {
   "cell_type": "code",
   "execution_count": null,
   "id": "d10615e9",
   "metadata": {
    "scrolled": true
   },
   "outputs": [],
   "source": [
    "# Plot each column\n",
    "for i in data.columns:\n",
    "    plt.figure()\n",
    "    plt.hist(data[i], bins=20)\n",
    "    plt.title(i)"
   ]
  },
  {
   "cell_type": "code",
   "execution_count": null,
   "id": "1ca6f011",
   "metadata": {},
   "outputs": [],
   "source": [
    "np.log(data[\"days_to_exp\"]).plot(kind=\"hist\", bins=50)"
   ]
  },
  {
   "cell_type": "code",
   "execution_count": null,
   "id": "9776b576",
   "metadata": {},
   "outputs": [],
   "source": [
    "data.drop(np.where(data[\"ba_spread_option\"] > np.percentile(data[\"ba_spread_option\"], 99))[0])"
   ]
  },
  {
   "cell_type": "code",
   "execution_count": null,
   "id": "0eb45d66",
   "metadata": {},
   "outputs": [],
   "source": [
    "data"
   ]
  },
  {
   "cell_type": "code",
   "execution_count": null,
   "id": "bc6279d6",
   "metadata": {
    "scrolled": true
   },
   "outputs": [],
   "source": [
    "# take out outliers\n",
    "np.where(data[\"moneyness\"] > np.percentile(data[\"moneyness\"], 99))[0]"
   ]
  },
  {
   "cell_type": "code",
   "execution_count": null,
   "id": "1409f850",
   "metadata": {},
   "outputs": [],
   "source": [
    "# drop outliers\n",
    "data[data[\"open_interest\"] > np.percentile(data[\"open_interest\"], 99)]"
   ]
  },
  {
   "cell_type": "code",
   "execution_count": null,
   "id": "803724f6",
   "metadata": {},
   "outputs": [],
   "source": [
    "IQA = np.percentile(data[\"ba_spread_option\"], 75) - np.percentile(data[\"ba_spread_option\"], 25)"
   ]
  },
  {
   "cell_type": "code",
   "execution_count": null,
   "id": "3bac9338",
   "metadata": {},
   "outputs": [],
   "source": [
    "data[data[\"ba_spread_option\"] > 5 * IQA]"
   ]
  },
  {
   "cell_type": "code",
   "execution_count": null,
   "id": "aa99a2a0",
   "metadata": {},
   "outputs": [],
   "source": [
    "np.percentile(data[\"ba_spread_option\"], 99.99)"
   ]
  },
  {
   "cell_type": "code",
   "execution_count": null,
   "id": "13693363",
   "metadata": {},
   "outputs": [],
   "source": [
    "data[data[\"ba_spread_option\"] > np.percentile(data[\"ba_spread_option\"], 99.99)]"
   ]
  },
  {
   "cell_type": "code",
   "execution_count": null,
   "id": "6cf12174",
   "metadata": {},
   "outputs": [],
   "source": []
  },
  {
   "cell_type": "code",
   "execution_count": null,
   "id": "a87822bc",
   "metadata": {},
   "outputs": [],
   "source": []
  },
  {
   "cell_type": "code",
   "execution_count": null,
   "id": "ddf1bdf2",
   "metadata": {},
   "outputs": [],
   "source": []
  },
  {
   "cell_type": "code",
   "execution_count": null,
   "id": "88c45f66",
   "metadata": {},
   "outputs": [],
   "source": []
  },
  {
   "cell_type": "code",
   "execution_count": null,
   "id": "ad8d1728",
   "metadata": {},
   "outputs": [],
   "source": []
  },
  {
   "cell_type": "code",
   "execution_count": null,
   "id": "53186bf5",
   "metadata": {},
   "outputs": [],
   "source": [
    "data[\"theta\"].describe()"
   ]
  },
  {
   "cell_type": "code",
   "execution_count": null,
   "id": "e70b2783",
   "metadata": {
    "scrolled": true
   },
   "outputs": [],
   "source": [
    "np.log(data[\"days_to_exp\"]).plot(kind=\"hist\")"
   ]
  },
  {
   "cell_type": "code",
   "execution_count": null,
   "id": "0583c89b",
   "metadata": {
    "scrolled": true
   },
   "outputs": [],
   "source": [
    "data[\"moneyness\"].describe()"
   ]
  },
  {
   "cell_type": "code",
   "execution_count": null,
   "id": "790f8268",
   "metadata": {},
   "outputs": [],
   "source": [
    "np.percentile(data[\"moneyness\"], 90)"
   ]
  },
  {
   "cell_type": "code",
   "execution_count": null,
   "id": "e7d948c5",
   "metadata": {},
   "outputs": [],
   "source": [
    "data[data[\"moneyness\"] > 40]"
   ]
  },
  {
   "cell_type": "code",
   "execution_count": null,
   "id": "c5b894be",
   "metadata": {},
   "outputs": [],
   "source": [
    "data.describe()"
   ]
  },
  {
   "cell_type": "code",
   "execution_count": null,
   "id": "f1d22ff2",
   "metadata": {},
   "outputs": [],
   "source": [
    "# def standardize(x):\n",
    "#     return (x - np.mean(x)) / np.std(x)\n",
    "\n",
    "# # Plot each column\n",
    "# for i in data.columns[1:]:\n",
    "#     plt.figure()\n",
    "#     plt.hist(standardize(data[i]))\n",
    "#     plt.title(i)"
   ]
  },
  {
   "cell_type": "code",
   "execution_count": null,
   "id": "3c2903d5",
   "metadata": {},
   "outputs": [],
   "source": []
  },
  {
   "cell_type": "code",
   "execution_count": null,
   "id": "85e294de",
   "metadata": {},
   "outputs": [],
   "source": []
  },
  {
   "cell_type": "code",
   "execution_count": null,
   "id": "ec02f438",
   "metadata": {
    "scrolled": true
   },
   "outputs": [],
   "source": [
    "data[(data[\"option_ret\"] > -0.5) & (data[\"option_ret\"] < 2)]"
   ]
  },
  {
   "cell_type": "code",
   "execution_count": null,
   "id": "aa1eae41",
   "metadata": {},
   "outputs": [],
   "source": []
  },
  {
   "cell_type": "code",
   "execution_count": null,
   "id": "55f4f58a",
   "metadata": {},
   "outputs": [],
   "source": []
  },
  {
   "cell_type": "code",
   "execution_count": null,
   "id": "13869af5",
   "metadata": {},
   "outputs": [],
   "source": [
    "# -> moved to data prep file\n",
    "# data = data.drop([\"secid\", \"optionid\", \"date\", \"exdate\", \"sdate\", \"edate\", \"permno\"], axis=1)\n",
    "# -> moved to data prep file. sort values by data! (optionally by secid -> but better to shuffle later)\n",
    "# data = data.sort_values([\"date\", \"secid\"]).reset_index(drop=True)"
   ]
  },
  {
   "cell_type": "code",
   "execution_count": null,
   "id": "09dc7de5",
   "metadata": {
    "scrolled": true
   },
   "outputs": [],
   "source": [
    "# How many % missing values do we have?\n",
    "np.sum(np.sum(data.isnull())) / (data.shape[0] * data.shape[1]) * 100"
   ]
  },
  {
   "cell_type": "code",
   "execution_count": null,
   "id": "dafb7e32",
   "metadata": {},
   "outputs": [],
   "source": []
  },
  {
   "cell_type": "code",
   "execution_count": null,
   "id": "a94658d0",
   "metadata": {},
   "outputs": [],
   "source": [
    "# takes a few mins\n",
    "# data.corr()"
   ]
  },
  {
   "cell_type": "code",
   "execution_count": null,
   "id": "f8e6f772",
   "metadata": {},
   "outputs": [],
   "source": [
    "# create X and y datasets\n",
    "y = data[\"option_ret\"]\n",
    "# drop it for X\n",
    "X = data.drop([\"option_ret\"], axis=1)"
   ]
  },
  {
   "cell_type": "code",
   "execution_count": null,
   "id": "cf5aebfb",
   "metadata": {},
   "outputs": [],
   "source": [
    "len(y[y > 0])"
   ]
  },
  {
   "cell_type": "code",
   "execution_count": null,
   "id": "b25b134a",
   "metadata": {},
   "outputs": [],
   "source": [
    "1393098 / len(y)"
   ]
  },
  {
   "cell_type": "code",
   "execution_count": null,
   "id": "fc52b89f",
   "metadata": {},
   "outputs": [],
   "source": [
    "# multiclass y label function\n",
    "def binary_categorize(y):\n",
    "    if y > 0:\n",
    "        return 1\n",
    "    else:\n",
    "        return 0"
   ]
  },
  {
   "cell_type": "code",
   "execution_count": null,
   "id": "b3d36bd5",
   "metadata": {},
   "outputs": [],
   "source": [
    "# multiclass y label function\n",
    "def multi_categorize(y):\n",
    "    if y > 0.05:\n",
    "        return 1\n",
    "    elif y < -0.05:\n",
    "        return -1\n",
    "    else:\n",
    "        return 0"
   ]
  },
  {
   "cell_type": "code",
   "execution_count": null,
   "id": "3830812d",
   "metadata": {},
   "outputs": [],
   "source": [
    "# apply label function to option returns\n",
    "y = y.apply(multi_categorize)"
   ]
  },
  {
   "cell_type": "code",
   "execution_count": null,
   "id": "0a64c8a1",
   "metadata": {},
   "outputs": [],
   "source": [
    "# from sklearn.model_selection import train_test_split"
   ]
  },
  {
   "cell_type": "code",
   "execution_count": null,
   "id": "32a6b7fd",
   "metadata": {},
   "outputs": [],
   "source": [
    "np.min(X[\"theta\"])"
   ]
  },
  {
   "cell_type": "code",
   "execution_count": null,
   "id": "69a0ab2b",
   "metadata": {},
   "outputs": [],
   "source": [
    "# # Split into train, test\n",
    "# X_train, X_test, y_train, y_test = train_test_split(X, y, test_size = 0.2, shuffle=False, random_state=0)\n",
    "# # Split train into train and val\n",
    "# X_train, X_val, y_train, y_val = train_test_split(X_train, y_train, testsize=0.4, shuffle=False, random_state=0)"
   ]
  },
  {
   "cell_type": "code",
   "execution_count": null,
   "id": "60197e16",
   "metadata": {},
   "outputs": [],
   "source": [
    "# define start years for validation and test periods\n",
    "# start_train = 1996 (fixed)\n",
    "start_val = \"2015\"\n",
    "start_test = \"2016\""
   ]
  },
  {
   "cell_type": "code",
   "execution_count": null,
   "id": "bf881fa4",
   "metadata": {},
   "outputs": [],
   "source": [
    "# extract and save dates column -> needed to sort into train, val, test\n",
    "dates = X[\"date\"]\n",
    "X = X.drop([\"date\"], axis=1)"
   ]
  },
  {
   "cell_type": "code",
   "execution_count": null,
   "id": "fe7e847c",
   "metadata": {
    "scrolled": true
   },
   "outputs": [],
   "source": [
    "# Create train, val, test sets & convert to numpy\n",
    "# Train\n",
    "X_train = X[dates < start_val].values\n",
    "y_train = y[:len(X_train)].values"
   ]
  },
  {
   "cell_type": "code",
   "execution_count": null,
   "id": "566e0258",
   "metadata": {},
   "outputs": [],
   "source": [
    "# Val\n",
    "mask = (dates >= start_val) & (dates < start_test)\n",
    "X_val = X[mask].values\n",
    "y_val = y[len(X_train):len(X_train)+len(X_val)].values"
   ]
  },
  {
   "cell_type": "code",
   "execution_count": null,
   "id": "5d450df4",
   "metadata": {},
   "outputs": [],
   "source": [
    "# Test\n",
    "X_test = X[dates >= start_test].values\n",
    "y_test = y[-len(X_test):].values"
   ]
  },
  {
   "cell_type": "code",
   "execution_count": null,
   "id": "55b48be9",
   "metadata": {},
   "outputs": [],
   "source": [
    "from sklearn.pipeline import Pipeline\n",
    "from sklearn.linear_model import LogisticRegression\n",
    "from sklearn.preprocessing import StandardScaler\n",
    "from sklearn.model_selection import GridSearchCV\n",
    "from sklearn.compose import ColumnTransformer\n",
    "from sklearn.ensemble import RandomForestClassifier\n",
    "from sklearn.ensemble import GradientBoostingClassifier\n",
    "from sklearn.ensemble import HistGradientBoostingClassifier\n",
    "from sklearn.svm import LinearSVC\n",
    "from sklearn.svm import SVC\n",
    "from sklearn.decomposition import PCA"
   ]
  },
  {
   "cell_type": "code",
   "execution_count": null,
   "id": "d9ee87fa",
   "metadata": {},
   "outputs": [],
   "source": [
    "# ONLY SCALE NON-DUMMY CONTINOUS VARIABLES\n",
    "# scaler = ColumnTransformer(\n",
    "#     [(\"scaler\", StandardScaler(), slice(None, -2))],\n",
    "#     remainder=\"passthrough\"\n",
    "# )"
   ]
  },
  {
   "cell_type": "code",
   "execution_count": null,
   "id": "0f36ecf3",
   "metadata": {},
   "outputs": [],
   "source": [
    "scaler = StandardScaler()\n",
    "X_train_pca = scaler.fit_transform(X_train)"
   ]
  },
  {
   "cell_type": "code",
   "execution_count": null,
   "id": "0f4cc1a4",
   "metadata": {},
   "outputs": [],
   "source": [
    "pca = PCA(n_components=10)"
   ]
  },
  {
   "cell_type": "code",
   "execution_count": null,
   "id": "059075f6",
   "metadata": {},
   "outputs": [],
   "source": [
    "pca.fit(X_train_pca)"
   ]
  },
  {
   "cell_type": "code",
   "execution_count": null,
   "id": "025c9e84",
   "metadata": {},
   "outputs": [],
   "source": [
    "plt.plot(np.cumsum(pca.explained_variance_ratio_))\n",
    "plt.xlabel(\"number of components\")\n",
    "plt.ylabel(\"cumulative expl. variance\")"
   ]
  },
  {
   "cell_type": "code",
   "execution_count": null,
   "id": "fb5e24ef",
   "metadata": {},
   "outputs": [],
   "source": [
    "X_train.shape"
   ]
  },
  {
   "cell_type": "code",
   "execution_count": null,
   "id": "e251731b",
   "metadata": {},
   "outputs": [],
   "source": []
  },
  {
   "cell_type": "code",
   "execution_count": null,
   "id": "7fa79ec9",
   "metadata": {},
   "outputs": [],
   "source": [
    "pca = PCA(n_components=10)"
   ]
  },
  {
   "cell_type": "code",
   "execution_count": null,
   "id": "c6e10ca3",
   "metadata": {},
   "outputs": [],
   "source": [
    "scaler = StandardScaler()"
   ]
  },
  {
   "cell_type": "code",
   "execution_count": null,
   "id": "911e61a9",
   "metadata": {},
   "outputs": [],
   "source": [
    "clf = LogisticRegression(random_state=0, \n",
    "                         class_weight=\"balanced\",\n",
    "                           max_iter=1000,\n",
    "#                          n_jobs=-1,\n",
    "#                          C=0.0001,\n",
    "                        )\n",
    "\n",
    "# clf = RandomForestClassifier(random_state=0,\n",
    "#                     class_weight=\"balanced\",\n",
    "#                     max_depth=2,\n",
    "#                     n_jobs=-1,\n",
    "#                 )\n",
    "\n",
    "# clf = HistGradientBoostingClassifier(random_state=0,\n",
    "#                                  max_iter=100000, \n",
    "#                                  max_depth=2,\n",
    "# #                                  learning_rate=1.0,\n",
    "#                                 validation_fraction=None,\n",
    "#                                  verbose=1,\n",
    "#                                 )\n",
    "\n",
    "# clf = LinearSVC(random_state=0,\n",
    "#                class_weight=\"balanced\",\n",
    "#                )\n",
    "\n",
    "# clf = SVC(random_state=0,\n",
    "#          class_weight=\"balanced\",\n",
    "#          )"
   ]
  },
  {
   "cell_type": "code",
   "execution_count": null,
   "id": "e629a35c",
   "metadata": {},
   "outputs": [],
   "source": [
    "len(X_train)"
   ]
  },
  {
   "cell_type": "code",
   "execution_count": null,
   "id": "c06fb765",
   "metadata": {},
   "outputs": [],
   "source": [
    "clf = Pipeline([\n",
    "    ('scaler', scaler),\n",
    "#     ('pca' , pca),\n",
    "    ('clf', clf),\n",
    "])"
   ]
  },
  {
   "cell_type": "code",
   "execution_count": null,
   "id": "51952e52",
   "metadata": {
    "scrolled": true
   },
   "outputs": [],
   "source": [
    "# np.logspace(-2, 2, 5)"
   ]
  },
  {
   "cell_type": "code",
   "execution_count": null,
   "id": "f4960a5c",
   "metadata": {},
   "outputs": [],
   "source": [
    "# train_indices = [[1,3,5,7,9],[2,4,6,8]]\n",
    "# test_indices = [[2,4,6,8],[1,3,5,7,9]]"
   ]
  },
  {
   "cell_type": "code",
   "execution_count": null,
   "id": "fc7a7287",
   "metadata": {},
   "outputs": [],
   "source": [
    "# a = zip(train_indices, test_indices)"
   ]
  },
  {
   "cell_type": "code",
   "execution_count": null,
   "id": "5a76b0f9",
   "metadata": {},
   "outputs": [],
   "source": [
    "# for i, y in a:\n",
    "#     print(i, y)"
   ]
  },
  {
   "cell_type": "code",
   "execution_count": null,
   "id": "0c4363bf",
   "metadata": {},
   "outputs": [],
   "source": [
    "# def cv_gen():\n",
    "#     for i in range(3):\n",
    "#         yield i, i*2"
   ]
  },
  {
   "cell_type": "code",
   "execution_count": null,
   "id": "4ad0734d",
   "metadata": {},
   "outputs": [],
   "source": [
    "param_grid = {\n",
    "#     \"clf__C\": np.logspace(-15, 0, 5),\n",
    "#       \"clf__max_depth\": [2, 3, 4],\n",
    "}\n",
    "clf = GridSearchCV(\n",
    "    clf, \n",
    "    param_grid,\n",
    "    scoring=[\"accuracy\", \"balanced_accuracy\"],\n",
    "    refit=\"balanced_accuracy\",\n",
    "    n_jobs=-1,\n",
    "#     cv=a,\n",
    "    verbose=3,\n",
    ")"
   ]
  },
  {
   "cell_type": "code",
   "execution_count": null,
   "id": "d80ea47b",
   "metadata": {},
   "outputs": [],
   "source": [
    "# sample_weight\n",
    "# sample_weight = 3 * (len(y_train) - np.sum(y_train)) / np.sum(y_train)"
   ]
  },
  {
   "cell_type": "code",
   "execution_count": null,
   "id": "8e6cd660",
   "metadata": {
    "scrolled": true
   },
   "outputs": [],
   "source": [
    "s_time = time.time()\n",
    "clf.fit(X_train, y_train,\n",
    "#        clf__sample_weight=sample_weight\n",
    "       )\n",
    "e_time = time.time()\n",
    "print(\"Time to fit: \", (e_time - s_time), \"seconds\")"
   ]
  },
  {
   "cell_type": "code",
   "execution_count": null,
   "id": "189d94f2",
   "metadata": {},
   "outputs": [],
   "source": []
  },
  {
   "cell_type": "code",
   "execution_count": null,
   "id": "d6729689",
   "metadata": {},
   "outputs": [],
   "source": [
    "from sklearn.metrics import accuracy_score\n",
    "from sklearn.metrics import balanced_accuracy_score"
   ]
  },
  {
   "cell_type": "code",
   "execution_count": null,
   "id": "11921fc3",
   "metadata": {},
   "outputs": [],
   "source": [
    "y_trivial = np.zeros_like(y_val)"
   ]
  },
  {
   "cell_type": "code",
   "execution_count": null,
   "id": "ceb453cd",
   "metadata": {},
   "outputs": [],
   "source": [
    "pd.value_counts(y_val)"
   ]
  },
  {
   "cell_type": "code",
   "execution_count": null,
   "id": "bb3c27f3",
   "metadata": {},
   "outputs": [],
   "source": [
    "np.mean(y_val)"
   ]
  },
  {
   "cell_type": "markdown",
   "id": "f18ae612",
   "metadata": {},
   "source": [
    "##### Trivial prediction"
   ]
  },
  {
   "cell_type": "code",
   "execution_count": null,
   "id": "4baab30d",
   "metadata": {
    "scrolled": true
   },
   "outputs": [],
   "source": [
    "# TRIVIAL prediction\n",
    "accuracy_score(y_val, y_trivial)"
   ]
  },
  {
   "cell_type": "code",
   "execution_count": null,
   "id": "b393b8b8",
   "metadata": {},
   "outputs": [],
   "source": [
    "# TRIVIAL prediction\n",
    "balanced_accuracy_score(y_val, y_trivial)"
   ]
  },
  {
   "cell_type": "markdown",
   "id": "d784ba3f",
   "metadata": {},
   "source": [
    "#### Classifier prediction"
   ]
  },
  {
   "cell_type": "code",
   "execution_count": null,
   "id": "c2fc4516",
   "metadata": {},
   "outputs": [],
   "source": [
    "# CLASSIFIER\n",
    "y_pred = clf.predict(X_val)"
   ]
  },
  {
   "cell_type": "code",
   "execution_count": null,
   "id": "e4b15a47",
   "metadata": {},
   "outputs": [],
   "source": [
    "# CLASSIFIER\n",
    "accuracy_score(y_val, y_pred)"
   ]
  },
  {
   "cell_type": "code",
   "execution_count": null,
   "id": "945fb217",
   "metadata": {},
   "outputs": [],
   "source": [
    "# 0.54"
   ]
  },
  {
   "cell_type": "code",
   "execution_count": null,
   "id": "51940572",
   "metadata": {
    "scrolled": false
   },
   "outputs": [],
   "source": [
    "# CLASSIFIER\n",
    "balanced_accuracy_score(y_val, y_pred)"
   ]
  },
  {
   "cell_type": "code",
   "execution_count": null,
   "id": "bea90cd6",
   "metadata": {},
   "outputs": [],
   "source": [
    "# LR 0.5240759984109695\n",
    "#RF 0.5263639414267005"
   ]
  },
  {
   "cell_type": "code",
   "execution_count": null,
   "id": "14415ad3",
   "metadata": {},
   "outputs": [],
   "source": [
    "# 0.52"
   ]
  },
  {
   "cell_type": "code",
   "execution_count": null,
   "id": "91ccc4fd",
   "metadata": {},
   "outputs": [],
   "source": [
    "pd.value_counts(y_pred)"
   ]
  },
  {
   "cell_type": "code",
   "execution_count": null,
   "id": "de51700e",
   "metadata": {},
   "outputs": [],
   "source": [
    "np.mean(y_pred)"
   ]
  },
  {
   "cell_type": "code",
   "execution_count": null,
   "id": "de772783",
   "metadata": {},
   "outputs": [],
   "source": [
    "np.sum(y_pred) / len(y_pred)"
   ]
  },
  {
   "cell_type": "code",
   "execution_count": null,
   "id": "2bd4906e",
   "metadata": {},
   "outputs": [],
   "source": [
    "from sklearn.dummy import DummyClassifier"
   ]
  },
  {
   "cell_type": "code",
   "execution_count": null,
   "id": "23d40df0",
   "metadata": {},
   "outputs": [],
   "source": [
    "dummy_clf = DummyClassifier(strategy=\"stratified\")\n",
    "dummy_clf.fit(X_train, y_train)"
   ]
  },
  {
   "cell_type": "code",
   "execution_count": null,
   "id": "41339c82",
   "metadata": {},
   "outputs": [],
   "source": [
    "y_dummy = dummy_clf.predict(X_val)"
   ]
  },
  {
   "cell_type": "code",
   "execution_count": null,
   "id": "eb4d3c9b",
   "metadata": {
    "scrolled": true
   },
   "outputs": [],
   "source": [
    "accuracy_score(y_val, y_dummy)"
   ]
  },
  {
   "cell_type": "code",
   "execution_count": null,
   "id": "2887b95f",
   "metadata": {},
   "outputs": [],
   "source": [
    "balanced_accuracy_score(y_val, y_dummy)"
   ]
  },
  {
   "cell_type": "code",
   "execution_count": null,
   "id": "4b922ef7",
   "metadata": {},
   "outputs": [],
   "source": [
    "clf.cv_results_\n"
   ]
  },
  {
   "cell_type": "code",
   "execution_count": null,
   "id": "b2659441",
   "metadata": {},
   "outputs": [],
   "source": [
    "clf.best_params_"
   ]
  },
  {
   "cell_type": "code",
   "execution_count": null,
   "id": "7b05a233",
   "metadata": {},
   "outputs": [],
   "source": []
  }
 ],
 "metadata": {
  "kernelspec": {
   "display_name": "Python 3 (ipykernel)",
   "language": "python",
   "name": "python3"
  },
  "language_info": {
   "codemirror_mode": {
    "name": "ipython",
    "version": 3
   },
   "file_extension": ".py",
   "mimetype": "text/x-python",
   "name": "python",
   "nbconvert_exporter": "python",
   "pygments_lexer": "ipython3",
   "version": "3.8.5"
  },
  "vscode": {
   "interpreter": {
    "hash": "137ad5de30c222602b906d427f317b23725154a9d2ac1dd9f95e9d3b5697fcc3"
   }
  }
 },
 "nbformat": 4,
 "nbformat_minor": 5
}
